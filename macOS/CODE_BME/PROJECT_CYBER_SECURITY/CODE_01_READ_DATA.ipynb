{
 "cells": [
  {
   "cell_type": "code",
   "execution_count": 1,
   "metadata": {},
   "outputs": [],
   "source": [
    "import os\n",
    "import glob\n",
    "\n",
    "# กำหนด path ทั้งสอง\n",
    "benign_path = \"/Users/kunglobster/Documents/Cyber_Security_DATA_SET/Benign\"\n",
    "malware_path = \"/Users/kunglobster/Documents/Cyber_Security_DATA_SET/Malware\"\n",
    "\n",
    "# ใช้ glob เพื่อดึงไฟล์ที่มีรูปแบบ output<number>.txt ในแต่ละ path\n",
    "benign_files = glob.glob(os.path.join(benign_path, \"output*.txt\"))\n",
    "malware_files = glob.glob(os.path.join(malware_path, \"output*.txt\"))\n",
    "\n",
    "# สร้างลิสต์เพื่อเก็บเนื้อหาของไฟล์ Benign และ Malware แยกกัน\n",
    "benign_contents = []\n",
    "malware_contents = []\n",
    "\n",
    "# วนลูปเพื่อเปิดและอ่านเนื้อหาของแต่ละไฟล์ใน Benign\n",
    "for file_path in benign_files:\n",
    "    with open(file_path, \"r\", encoding=\"utf-8\") as file:\n",
    "        content = file.read()\n",
    "        benign_contents.append(content)  # เพิ่มเนื้อหาใน benign_contents\n",
    "\n",
    "# วนลูปเพื่อเปิดและอ่านเนื้อหาของแต่ละไฟล์ใน Malware\n",
    "for file_path in malware_files:\n",
    "    with open(file_path, \"r\", encoding=\"utf-8\") as file:\n",
    "        content = file.read()\n",
    "        malware_contents.append(content)  # เพิ่มเนื้อหาใน malware_contents"
   ]
  }
 ],
 "metadata": {
  "kernelspec": {
   "display_name": ".venv",
   "language": "python",
   "name": "python3"
  },
  "language_info": {
   "codemirror_mode": {
    "name": "ipython",
    "version": 3
   },
   "file_extension": ".py",
   "mimetype": "text/x-python",
   "name": "python",
   "nbconvert_exporter": "python",
   "pygments_lexer": "ipython3",
   "version": "3.13.0"
  }
 },
 "nbformat": 4,
 "nbformat_minor": 2
}
