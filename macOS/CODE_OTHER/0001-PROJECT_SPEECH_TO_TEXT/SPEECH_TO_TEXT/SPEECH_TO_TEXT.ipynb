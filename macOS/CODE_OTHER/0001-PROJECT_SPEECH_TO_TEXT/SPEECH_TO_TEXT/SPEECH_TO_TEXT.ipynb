{
 "cells": [
  {
   "cell_type": "code",
   "execution_count": 7,
   "metadata": {},
   "outputs": [
    {
     "name": "stdout",
     "output_type": "stream",
     "text": [
      "เริ่มบันทึกเสียง...\n",
      "บันทึกเสียงเสร็จสิ้น\n",
      "ไฟล์เสียงถูกบันทึกเป็น 'output.wav'\n"
     ]
    },
    {
     "name": "stderr",
     "output_type": "stream",
     "text": [
      "100%|██████████████████████████████████████| 1.42G/1.42G [27:44<00:00, 918kiB/s]\n"
     ]
    },
    {
     "name": "stdout",
     "output_type": "stream",
     "text": [
      "เริ่มถอดเสียง...\n"
     ]
    },
    {
     "name": "stderr",
     "output_type": "stream",
     "text": [
      "/Users/kunglobster/Documents/GitHub/WORK/macOS/CODE_OTHER/0001-PROJECT_SPEECH_TO_TEXT/SPEECH_TO_TEXT/.venv/lib/python3.11/site-packages/whisper/transcribe.py:132: UserWarning: FP16 is not supported on CPU; using FP32 instead\n",
      "  warnings.warn(\"FP16 is not supported on CPU; using FP32 instead\")\n"
     ]
    },
    {
     "name": "stdout",
     "output_type": "stream",
     "text": [
      "ข้อความที่ถอดเสียงได้:\n",
      " Thanks for watching!\n"
     ]
    }
   ],
   "source": [
    "import sounddevice as sd\n",
    "from scipy.io.wavfile import write\n",
    "import whisper  # นำเข้าโมดูล whisper\n",
    "\n",
    "# กำหนดพารามิเตอร์การบันทึก\n",
    "duration = 5  # ระยะเวลาในการบันทึก (วินาที)\n",
    "sample_rate = 48000  # Sample rate 48 kHz\n",
    "output_file = 'output.wav'  # ชื่อไฟล์ที่ต้องการบันทึก\n",
    "\n",
    "print(\"เริ่มบันทึกเสียง...\")\n",
    "\n",
    "# บันทึกเสียงโดยใช้ฟอร์แมต float32\n",
    "audio_data = sd.rec(int(duration * sample_rate), samplerate=sample_rate, channels=1, dtype='float32')\n",
    "\n",
    "# รอให้การบันทึกเสร็จสิ้น\n",
    "sd.wait()\n",
    "print(\"บันทึกเสียงเสร็จสิ้น\")\n",
    "\n",
    "# บันทึกเสียงเป็นไฟล์ .wav\n",
    "write(output_file, sample_rate, audio_data)\n",
    "print(f\"ไฟล์เสียงถูกบันทึกเป็น '{output_file}'\")\n",
    "\n",
    "# โหลดโมเดล Whisper (ขนาดใหญ่)\n",
    "model = whisper.load_model(\"medium\")\n",
    "\n",
    "# ถอดเสียงจากไฟล์ที่บันทึก\n",
    "print(\"เริ่มถอดเสียง...\")\n",
    "transcription = model.transcribe(output_file, language=\"en\")\n",
    "\n",
    "# แสดงผลลัพธ์การถอดเสียง\n",
    "print(\"ข้อความที่ถอดเสียงได้:\")\n",
    "print(transcription[\"text\"])\n"
   ]
  },
  {
   "cell_type": "code",
   "execution_count": null,
   "metadata": {},
   "outputs": [],
   "source": [
    "pip install sounddevice"
   ]
  },
  {
   "cell_type": "code",
   "execution_count": null,
   "metadata": {},
   "outputs": [],
   "source": [
    "pip install scipy"
   ]
  },
  {
   "cell_type": "code",
   "execution_count": null,
   "metadata": {},
   "outputs": [],
   "source": [
    "pip install -U openai-whisper"
   ]
  },
  {
   "cell_type": "code",
   "execution_count": null,
   "metadata": {},
   "outputs": [],
   "source": [
    "pip install git+https://github.com/openai/whisper.git "
   ]
  },
  {
   "cell_type": "code",
   "execution_count": null,
   "metadata": {},
   "outputs": [],
   "source": [
    "pip install --upgrade --no-deps --force-reinstall git+https://github.com/openai/whisper.git"
   ]
  },
  {
   "cell_type": "code",
   "execution_count": null,
   "metadata": {},
   "outputs": [],
   "source": [
    "pip install \"numpy<2.0\""
   ]
  }
 ],
 "metadata": {
  "kernelspec": {
   "display_name": ".venv",
   "language": "python",
   "name": "python3"
  },
  "language_info": {
   "codemirror_mode": {
    "name": "ipython",
    "version": 3
   },
   "file_extension": ".py",
   "mimetype": "text/x-python",
   "name": "python",
   "nbconvert_exporter": "python",
   "pygments_lexer": "ipython3",
   "version": "3.11.10"
  }
 },
 "nbformat": 4,
 "nbformat_minor": 2
}
