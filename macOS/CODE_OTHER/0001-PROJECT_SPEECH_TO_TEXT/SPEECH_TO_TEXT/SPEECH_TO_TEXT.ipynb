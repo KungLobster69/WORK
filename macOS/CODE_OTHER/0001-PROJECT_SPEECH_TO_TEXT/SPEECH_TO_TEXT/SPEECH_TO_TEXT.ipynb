{
 "cells": [
  {
   "cell_type": "code",
   "execution_count": 1,
   "metadata": {},
   "outputs": [
    {
     "name": "stdout",
     "output_type": "stream",
     "text": [
      "เริ่มบันทึกเสียง...\n",
      "บันทึกเสียงเสร็จสิ้น\n",
      "ไฟล์เสียงถูกบันทึกเป็น 'output.wav'\n"
     ]
    },
    {
     "name": "stderr",
     "output_type": "stream",
     "text": [
      "d:\\WORK\\Windows\\CODE_OTHER\\0001-PROJECT_SPEECH_TO_TEXT\\SPEECH_TO_TEXT\\.venv\\Lib\\site-packages\\whisper\\__init__.py:150: FutureWarning: You are using `torch.load` with `weights_only=False` (the current default value), which uses the default pickle module implicitly. It is possible to construct malicious pickle data which will execute arbitrary code during unpickling (See https://github.com/pytorch/pytorch/blob/main/SECURITY.md#untrusted-models for more details). In a future release, the default value for `weights_only` will be flipped to `True`. This limits the functions that could be executed during unpickling. Arbitrary objects will no longer be allowed to be loaded via this mode unless they are explicitly allowlisted by the user via `torch.serialization.add_safe_globals`. We recommend you start setting `weights_only=True` for any use case where you don't have full control of the loaded file. Please open an issue on GitHub for any issues related to this experimental feature.\n",
      "  checkpoint = torch.load(fp, map_location=device)\n"
     ]
    },
    {
     "name": "stdout",
     "output_type": "stream",
     "text": [
      "เริ่มถอดเสียง...\n"
     ]
    },
    {
     "name": "stderr",
     "output_type": "stream",
     "text": [
      "d:\\WORK\\Windows\\CODE_OTHER\\0001-PROJECT_SPEECH_TO_TEXT\\SPEECH_TO_TEXT\\.venv\\Lib\\site-packages\\whisper\\transcribe.py:132: UserWarning: FP16 is not supported on CPU; using FP32 instead\n",
      "  warnings.warn(\"FP16 is not supported on CPU; using FP32 instead\")\n"
     ]
    },
    {
     "name": "stdout",
     "output_type": "stream",
     "text": [
      "ข้อความที่ถอดเสียงได้:\n",
      " we use python 3.9.9 and pythos 1.10.1\n"
     ]
    }
   ],
   "source": [
    "import sounddevice as sd\n",
    "from scipy.io.wavfile import write\n",
    "import whisper  # นำเข้าโมดูล whisper\n",
    "\n",
    "# กำหนดพารามิเตอร์การบันทึก\n",
    "duration = 10  # ระยะเวลาในการบันทึก (วินาที)\n",
    "sample_rate = 48000  # Sample rate 48 kHz\n",
    "output_file = 'output.wav'  # ชื่อไฟล์ที่ต้องการบันทึก\n",
    "\n",
    "print(\"เริ่มบันทึกเสียง...\")\n",
    "\n",
    "# บันทึกเสียงโดยใช้ฟอร์แมต float32\n",
    "audio_data = sd.rec(int(duration * sample_rate), samplerate=sample_rate, channels=1, dtype='float32')\n",
    "\n",
    "# รอให้การบันทึกเสร็จสิ้น\n",
    "sd.wait()\n",
    "print(\"บันทึกเสียงเสร็จสิ้น\")\n",
    "\n",
    "# บันทึกเสียงเป็นไฟล์ .wav\n",
    "write(output_file, sample_rate, audio_data)\n",
    "print(f\"ไฟล์เสียงถูกบันทึกเป็น '{output_file}'\")\n",
    "\n",
    "# โหลดโมเดล Whisper (ขนาดใหญ่)\n",
    "model = whisper.load_model(\"turbo\")\n",
    "\n",
    "# ถอดเสียงจากไฟล์ที่บันทึก\n",
    "print(\"เริ่มถอดเสียง...\")\n",
    "transcription = model.transcribe(output_file, language=\"en\")\n",
    "\n",
    "# แสดงผลลัพธ์การถอดเสียง\n",
    "print(\"ข้อความที่ถอดเสียงได้:\")\n",
    "print(transcription[\"text\"])\n"
   ]
  }
 ],
 "metadata": {
  "kernelspec": {
   "display_name": ".venv",
   "language": "python",
   "name": "python3"
  },
  "language_info": {
   "codemirror_mode": {
    "name": "ipython",
    "version": 3
   },
   "file_extension": ".py",
   "mimetype": "text/x-python",
   "name": "python",
   "nbconvert_exporter": "python",
   "pygments_lexer": "ipython3",
   "version": "3.12.7"
  }
 },
 "nbformat": 4,
 "nbformat_minor": 2
}
