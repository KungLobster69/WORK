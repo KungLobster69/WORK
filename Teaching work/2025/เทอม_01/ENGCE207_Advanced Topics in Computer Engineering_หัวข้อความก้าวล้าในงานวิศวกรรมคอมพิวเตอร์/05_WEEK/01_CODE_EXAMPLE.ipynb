{
 "cells": [
  {
   "cell_type": "code",
   "execution_count": null,
   "id": "a4531c30",
   "metadata": {},
   "outputs": [],
   "source": [
    "pip install pandas numpy matplotlib seaborn scikit-learn"
   ]
  },
  {
   "cell_type": "code",
   "execution_count": 1,
   "id": "6dbe0e7a",
   "metadata": {},
   "outputs": [],
   "source": [
    "# Import สิ่งที่จำเป็นต้องใช้\n",
    "import pandas as pd\n",
    "import numpy as np\n",
    "import matplotlib.pyplot as plt\n",
    "import seaborn as sns\n",
    "\n",
    "# Import เครื่องมือจาก Scikit-learn\n",
    "from sklearn.model_selection import train_test_split\n",
    "from sklearn.preprocessing import StandardScaler\n",
    "from sklearn.neighbors import KNeighborsClassifier\n",
    "from sklearn.metrics import classification_report, confusion_matrix"
   ]
  },
  {
   "cell_type": "code",
   "execution_count": 2,
   "id": "2fc555cd",
   "metadata": {},
   "outputs": [
    {
     "name": "stdout",
     "output_type": "stream",
     "text": [
      "   sepal length (cm)  sepal width (cm)  petal length (cm)  petal width (cm)  \\\n",
      "0                5.1               3.5                1.4               0.2   \n",
      "1                4.9               3.0                1.4               0.2   \n",
      "2                4.7               3.2                1.3               0.2   \n",
      "3                4.6               3.1                1.5               0.2   \n",
      "4                5.0               3.6                1.4               0.2   \n",
      "\n",
      "   target  \n",
      "0       0  \n",
      "1       0  \n",
      "2       0  \n",
      "3       0  \n",
      "4       0  \n"
     ]
    }
   ],
   "source": [
    "# Scikit-learn มีชุดข้อมูลนี้ให้ใช้ได้เลย\n",
    "from sklearn.datasets import load_iris\n",
    "\n",
    "# โหลดข้อมูล\n",
    "iris = load_iris()\n",
    "\n",
    "# สร้าง DataFrame เพื่อให้ดูง่ายด้วย Pandas\n",
    "# iris.data คือข้อมูล features\n",
    "# iris.feature_names คือชื่อคอลัมน์\n",
    "df = pd.DataFrame(iris.data, columns=iris.feature_names)\n",
    "\n",
    "# เพิ่มคอลัมน์ target (สายพันธุ์)\n",
    "df['target'] = iris.target\n",
    "\n",
    "# แสดง 5 แถวแรก\n",
    "print(df.head())"
   ]
  },
  {
   "cell_type": "code",
   "execution_count": 3,
   "id": "1951512f",
   "metadata": {},
   "outputs": [
    {
     "name": "stdout",
     "output_type": "stream",
     "text": [
      "Train set shape: (105, 4)\n",
      "Test set shape: (45, 4)\n"
     ]
    }
   ],
   "source": [
    "# แยกข้อมูล Features (X) และ Target (y)\n",
    "X = df.drop('target', axis=1)\n",
    "y = df['target']\n",
    "\n",
    "# แบ่งข้อมูลเป็น Train 70% และ Test 30%\n",
    "# random_state=42 เพื่อให้ผลการสุ่มเหมือนกันทุกครั้ง\n",
    "X_train, X_test, y_train, y_test = train_test_split(\n",
    "    X, y, test_size=0.3, random_state=42\n",
    ")\n",
    "\n",
    "print('Train set shape:', X_train.shape)\n",
    "print('Test set shape:', X_test.shape)"
   ]
  },
  {
   "cell_type": "code",
   "execution_count": 5,
   "id": "277cf629",
   "metadata": {},
   "outputs": [
    {
     "name": "stdout",
     "output_type": "stream",
     "text": [
      "       sepal length (cm)  sepal width (cm)  petal length (cm)  \\\n",
      "count       1.050000e+02      1.050000e+02       1.050000e+02   \n",
      "mean        2.541882e-15     -9.755094e-16      -2.706829e-16   \n",
      "std         1.004796e+00      1.004796e+00       1.004796e+00   \n",
      "min        -1.860374e+00     -2.421442e+00      -1.617194e+00   \n",
      "25%        -8.957355e-01     -5.025635e-01      -1.266959e+00   \n",
      "50%        -5.167705e-02     -2.284379e-02       2.507234e-01   \n",
      "75%         6.718016e-01      6.967357e-01       7.177026e-01   \n",
      "max         2.239339e+00      2.855474e+00       1.651661e+00   \n",
      "\n",
      "       petal width (cm)  \n",
      "count      1.050000e+02  \n",
      "mean       1.353415e-16  \n",
      "std        1.004796e+00  \n",
      "min       -1.540971e+00  \n",
      "25%       -1.135113e+00  \n",
      "50%        8.245999e-02  \n",
      "75%        7.588896e-01  \n",
      "max        1.705891e+00  \n"
     ]
    }
   ],
   "source": [
    "# 1. สร้าง object ของ StandardScaler\n",
    "scaler = StandardScaler()\n",
    "\n",
    "# 2. Fit scaler กับข้อมูล train เท่านั้น\n",
    "scaler.fit(X_train)\n",
    "\n",
    "# 3. Transform ทั้ง train และ test set\n",
    "X_train_scaled = scaler.transform(X_train)\n",
    "X_test_scaled = scaler.transform(X_test)\n",
    "\n",
    "# ข้อมูลที่ถูก scale แล้วจะเป็น NumPy array\n",
    "# เราสามารถแปลงกลับเป็น DataFrame เพื่อดูได้\n",
    "df_train_scaled = pd.DataFrame(X_train_scaled, columns=X.columns)\n",
    "print(df_train_scaled.describe())"
   ]
  },
  {
   "cell_type": "code",
   "execution_count": 6,
   "id": "4f28777b",
   "metadata": {},
   "outputs": [
    {
     "name": "stdout",
     "output_type": "stream",
     "text": [
      "โมเดล k-NN ถูกฝึกฝนเรียบร้อยแล้ว!\n"
     ]
    }
   ],
   "source": [
    "# สร้างโมเดล k-NN โดยกำหนด k=3\n",
    "# n_neighbors คือค่า k\n",
    "knn = KNeighborsClassifier(n_neighbors=3)\n",
    "\n",
    "# ฝึกฝนโมเดลด้วยข้อมูล train ที่ผ่านการ scale แล้ว\n",
    "knn.fit(X_train_scaled, y_train)\n",
    "\n",
    "print(\"โมเดล k-NN ถูกฝึกฝนเรียบร้อยแล้ว!\")"
   ]
  },
  {
   "cell_type": "code",
   "execution_count": 8,
   "id": "f126ca5c",
   "metadata": {},
   "outputs": [
    {
     "name": "stdout",
     "output_type": "stream",
     "text": [
      "Predictions: [1 0 2 1 1 0 1 2 1 1 2 0 0 0 0 1 2 1 1 2 0 2 0 2 2 2 2 2 0 0 0 0 1 0 0 2 1\n",
      " 0 0 0 2 1 1 0 0]\n"
     ]
    }
   ],
   "source": [
    "# ทำนายผลกับข้อมูล Test\n",
    "predictions = knn.predict(X_test_scaled)\n",
    "print(\"Predictions:\", predictions)"
   ]
  },
  {
   "cell_type": "code",
   "execution_count": 9,
   "id": "b5ac93e3",
   "metadata": {},
   "outputs": [
    {
     "name": "stdout",
     "output_type": "stream",
     "text": [
      "Confusion Matrix:\n",
      "[[19  0  0]\n",
      " [ 0 13  0]\n",
      " [ 0  0 13]]\n"
     ]
    },
    {
     "data": {
      "image/png": "[encoded data removed]",
      "text/plain": [
       "<Figure size 800x600 with 2 Axes>"
      ]
     },
     "metadata": {},
     "output_type": "display_data"
    }
   ],
   "source": [
    "# Import function\n",
    "from sklearn.metrics import confusion_matrix\n",
    "\n",
    "# สร้าง confusion matrix\n",
    "cm = confusion_matrix(y_test, predictions)\n",
    "\n",
    "print(\"Confusion Matrix:\")\n",
    "print(cm)\n",
    "\n",
    "# แสดงผลแบบสวยงามด้วย Seaborn\n",
    "plt.figure(figsize=(8, 6))\n",
    "sns.heatmap(cm, annot=True, fmt='d', cmap='Blues',\n",
    "            xticklabels=iris.target_names,\n",
    "            yticklabels=iris.target_names)\n",
    "plt.xlabel('Predicted')\n",
    "plt.ylabel('Actual')\n",
    "plt.title('Confusion Matrix for Iris k-NN (k=3)')\n",
    "plt.show()"
   ]
  },
  {
   "cell_type": "code",
   "execution_count": 11,
   "id": "39145d86",
   "metadata": {},
   "outputs": [
    {
     "name": "stdout",
     "output_type": "stream",
     "text": [
      "              precision    recall  f1-score   support\n",
      "\n",
      "      setosa       1.00      1.00      1.00        19\n",
      "  versicolor       1.00      1.00      1.00        13\n",
      "   virginica       1.00      1.00      1.00        13\n",
      "\n",
      "    accuracy                           1.00        45\n",
      "   macro avg       1.00      1.00      1.00        45\n",
      "weighted avg       1.00      1.00      1.00        45\n",
      "\n"
     ]
    }
   ],
   "source": [
    "# Import function\n",
    "from sklearn.metrics import classification_report\n",
    "\n",
    "# พิมพ์รายงานสรุป\n",
    "print(classification_report(y_test, predictions,target_names=iris.target_names))"
   ]
  }
 ],
 "metadata": {
  "kernelspec": {
   "display_name": ".venv",
   "language": "python",
   "name": "python3"
  },
  "language_info": {
   "codemirror_mode": {
    "name": "ipython",
    "version": 3
   },
   "file_extension": ".py",
   "mimetype": "text/x-python",
   "name": "python",
   "nbconvert_exporter": "python",
   "pygments_lexer": "ipython3",
   "version": "3.13.5"
  }
 },
 "nbformat": 4,
 "nbformat_minor": 5
}
