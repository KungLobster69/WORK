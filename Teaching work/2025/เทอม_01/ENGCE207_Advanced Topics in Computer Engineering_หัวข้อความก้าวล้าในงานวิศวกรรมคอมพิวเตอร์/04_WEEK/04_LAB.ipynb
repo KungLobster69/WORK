{
 "cells": [
  {
   "cell_type": "code",
   "execution_count": null,
   "id": "6075c766",
   "metadata": {},
   "outputs": [],
   "source": [
    "import seaborn as sns\n",
    "import matplotlib.pyplot as plt\n",
    "# โหลดข้อมูล (Seaborn มีชุดข้อมูลนี้ให้)\n",
    "tips = sns.load_dataset('tips')"
   ]
  },
  {
   "cell_type": "code",
   "execution_count": null,
   "id": "9e03d882",
   "metadata": {},
   "outputs": [],
   "source": [
    "# --- กราฟที่ 1: การกระจายตัวของยอดรวมใบเสร็จ ---\n",
    "\n",
    "# สร้างพื้นที่สำหรับวาดกราฟ (Figure) ขนาด 10x6 นิ้ว\n",
    "plt.figure(figsize=(10, 6))\n",
    "\n",
    "# สร้างกราฟฮิสโทแกรมด้วย Seaborn\n",
    "# data=tips: ใช้ข้อมูลจาก DataFrame 'tips'\n",
    "# x='total_bill': ใช้ข้อมูลจากคอลัมน์ 'total_bill' เป็นแกน X\n",
    "# kde=True: วาดเส้นประมาณความหนาแน่น (Kernel Density Estimate) ทับลงบนกราฟ\n",
    "sns.histplot(data=tips, x='total_bill', kde=True)\n",
    "\n",
    "# ตั้งชื่อหัวข้อของกราฟ\n",
    "plt.title('Distribution of Total Bill')\n",
    "\n",
    "# แสดงกราฟที่สร้างขึ้น\n",
    "plt.show()"
   ]
  },
  {
   "cell_type": "code",
   "execution_count": null,
   "id": "c20fa469",
   "metadata": {},
   "outputs": [],
   "source": [
    "# --- กราฟที่ 2: จำนวนลูกค้าในแต่ละวัน ---\n",
    "\n",
    "# สร้าง Figure ใหม่สำหรับกราฟถัดไป\n",
    "plt.figure(figsize=(8, 5))\n",
    "\n",
    "# สร้างกราฟแท่งนับความถี่\n",
    "# x='day': ใช้ข้อมูลจากคอลัมน์ 'day'\n",
    "# order=[...]: กำหนดลำดับของแท่งบนแกน X ให้เรียงตามที่เราต้องการ\n",
    "sns.countplot(data=tips, x='day', order=['Thur', 'Fri', 'Sat', 'Sun'])\n",
    "\n",
    "# ตั้งชื่อหัวข้อของกราฟ\n",
    "plt.title('Number of Customers per Day')\n",
    "\n",
    "# แสดงกราฟ\n",
    "plt.show()"
   ]
  },
  {
   "cell_type": "code",
   "execution_count": null,
   "id": "5d8869d8",
   "metadata": {},
   "outputs": [],
   "source": [
    "\n",
    "# --- กราฟที่ 3: การกระจายตัวของเงินทิป ---\n",
    "\n",
    "# สร้าง Figure ใหม่อีกครั้ง\n",
    "plt.figure(figsize=(10, 6))\n",
    "\n",
    "# สร้างกราฟกล่อง (Box Plot) เพื่อดูการกระจายตัวและค่าผิดปกติ (Outliers)\n",
    "# x='tip': ใช้ข้อมูลจากคอลัมน์ 'tip'\n",
    "sns.boxplot(data=tips, x='tip')\n",
    "\n",
    "# ตั้งชื่อหัวข้อของกราฟ\n",
    "plt.title('Distribution of Tip Amount')\n",
    "\n",
    "# แสดงกราฟ\n",
    "plt.show()"
   ]
  },
  {
   "cell_type": "code",
   "execution_count": null,
   "id": "d210c924",
   "metadata": {},
   "outputs": [],
   "source": [
    "import seaborn as sns\n",
    "import matplotlib.pyplot as plt\n",
    "# โหลดข้อมูล (Seaborn มีชุดข้อมูลนี้ให้)\n",
    "titanic = sns.load_dataset('titanic')"
   ]
  },
  {
   "cell_type": "code",
   "execution_count": null,
   "id": "2dff2f14",
   "metadata": {},
   "outputs": [],
   "source": [
    "# --- กราฟที่ 1: อายุ vs ค่าโดยสาร ---\n",
    "\n",
    "# สร้างพื้นที่สำหรับวาดกราฟ (Figure) ขนาด 10x6 นิ้ว\n",
    "plt.figure(figsize=(10, 6))\n",
    "\n",
    "# สร้างกราฟจุด (Scatter Plot) เพื่อดูความสัมพันธ์ระหว่างตัวแปรเชิงปริมาณ 2 ตัว\n",
    "# data=titanic: ใช้ข้อมูลจาก DataFrame 'titanic'\n",
    "# x='age': กำหนดแกน X เป็นอายุ\n",
    "# y='fare': กำหนดแกน Y เป็นค่าโดยสาร\n",
    "# hue='survived': กำหนดให้ \"สี\" ของจุดแตกต่างกันตามค่าในคอลัมน์ 'survived' (0=ตาย, 1=รอด)\n",
    "sns.scatterplot(data=titanic, x='age', y='fare', hue='survived')\n",
    "\n",
    "# ตั้งชื่อหัวข้อของกราฟ\n",
    "plt.title('Relationship between Age, Fare, and Survival')\n",
    "\n",
    "# แสดงกราฟที่สร้างขึ้น\n",
    "plt.show()"
   ]
  },
  {
   "cell_type": "code",
   "execution_count": null,
   "id": "5a862e62",
   "metadata": {},
   "outputs": [],
   "source": [
    "# --- กราฟที่ 2: เพศ vs อัตราการรอดชีวิต ---\n",
    "\n",
    "# สร้าง Figure ใหม่สำหรับกราฟถัดไป\n",
    "plt.figure(figsize=(8, 5))\n",
    "\n",
    "# สร้างกราฟแท่ง (Bar Plot) เพื่อเปรียบเทียบค่าเฉลี่ย\n",
    "# x='sex': แบ่งกลุ่มตามเพศ\n",
    "# y='survived': ค่าที่นำมาคำนวณค่าเฉลี่ย (เนื่องจากค่าคือ 0 กับ 1 ค่าเฉลี่ยจึงเท่ากับอัตราการรอดชีวิต)\n",
    "sns.barplot(data=titanic, x='sex', y='survived')\n",
    "\n",
    "# ตั้งชื่อหัวข้อของกราฟ\n",
    "plt.title('Survival Rate by Sex')\n",
    "\n",
    "# เปลี่ยนชื่อแกน Y ให้อ่านเข้าใจง่าย\n",
    "plt.ylabel('Survival Rate')\n",
    "\n",
    "# แสดงกราฟ\n",
    "plt.show()"
   ]
  },
  {
   "cell_type": "code",
   "execution_count": null,
   "id": "856825a1",
   "metadata": {},
   "outputs": [],
   "source": [
    "\n",
    "# --- กราฟที่ 3: ชั้นโดยสาร vs อายุ ---\n",
    "\n",
    "# สร้าง Figure ใหม่อีกครั้ง\n",
    "plt.figure(figsize=(10, 6))\n",
    "\n",
    "# สร้าง Box Plot เพื่อเปรียบเทียบการกระจายตัวของข้อมูลเชิงปริมาณในแต่ละกลุ่ม\n",
    "# x='pclass': แบ่งกลุ่มตามชั้นโดยสาร\n",
    "# y='age': แสดงการกระจายตัวของอายุในแต่ละกลุ่ม\n",
    "sns.boxplot(data=titanic, x='pclass', y='age')\n",
    "\n",
    "# ตั้งชื่อหัวข้อของกราฟ\n",
    "plt.title('Age Distribution by Passenger Class')\n",
    "\n",
    "# แสดงกราฟ\n",
    "plt.show()"
   ]
  },
  {
   "cell_type": "code",
   "execution_count": null,
   "id": "cce74d5a",
   "metadata": {},
   "outputs": [],
   "source": [
    "# --- กราฟที่ 1: Pair Plot ---\n",
    "\n",
    "# เลือกเฉพาะคอลัมน์ที่สนใจเพื่อสร้าง Pair Plot\n",
    "subset = titanic[['survived', 'pclass', 'age', 'fare', 'sex']]\n",
    "\n",
    "# สร้างตารางของกราฟที่แสดงความสัมพันธ์ของทุกคู่ตัวแปร\n",
    "# data=subset: ใช้ข้อมูลจาก DataFrame 'subset' ที่เราเลือกไว้\n",
    "# hue='survived': แยกสีของจุดและเส้นตามการรอดชีวิต\n",
    "# diag_kind='kde': กำหนดให้กราฟในแนวทแยง (การกระจายตัวของตัวแปรเดียว) เป็นกราฟ KDE\n",
    "sns.pairplot(subset, hue='survived', diag_kind='kde')\n",
    "\n",
    "# แสดงกราฟที่สร้างขึ้น\n",
    "plt.show()"
   ]
  },
  {
   "cell_type": "code",
   "execution_count": null,
   "id": "f88c4f23",
   "metadata": {},
   "outputs": [],
   "source": [
    "# --- กราฟที่ 2: Heatmap ---\n",
    "\n",
    "# สร้างสำเนาของ DataFrame เพื่อป้องกันการเปลี่ยนแปลงข้อมูลต้นฉบับ\n",
    "titanic_corr = titanic.copy()\n",
    "# แปลงข้อมูล 'sex' ที่เป็นข้อความให้เป็นตัวเลข (0, 1) เพื่อให้สามารถนำไปคำนวณ correlation ได้\n",
    "titanic_corr['sex'] = titanic_corr['sex'].map({'male': 0, 'female': 1})\n",
    "\n",
    "# คำนวณค่าสหสัมพันธ์ (Correlation Matrix) ระหว่างคอลัมน์ที่เลือก\n",
    "corr_matrix = titanic_corr[['survived', 'pclass', 'age', 'fare', 'sex']].corr()\n",
    "\n",
    "# สร้าง Figure ใหม่สำหรับ Heatmap\n",
    "plt.figure(figsize=(10, 8))\n",
    "\n",
    "# สร้าง Heatmap จาก Correlation Matrix\n",
    "# data=corr_matrix: ใช้ตาราง correlation ที่คำนวณไว้\n",
    "# annot=True: แสดงตัวเลขค่า Correlation กำกับในแต่ละช่อง\n",
    "# cmap='coolwarm': กำหนดชุดสี (สีร้อน=บวก, สีเย็น=ลบ)\n",
    "# fmt='.2f': กำหนดรูปแบบของตัวเลขที่แสดงเป็นทศนิยม 2 ตำแหน่ง\n",
    "sns.heatmap(corr_matrix, annot=True, cmap='coolwarm', fmt='.2f')\n",
    "\n",
    "# ตั้งชื่อหัวข้อของกราฟ\n",
    "plt.title('Correlation Matrix of Titanic Features')\n",
    "\n",
    "# แสดงกราฟ\n",
    "plt.show()"
   ]
  },
  {
   "cell_type": "code",
   "execution_count": null,
   "id": "b3f20e4d",
   "metadata": {},
   "outputs": [],
   "source": [
    "sns.violinplot(data=titanic, x='pclass', y='age', hue='survived', split=True)\n",
    "plt.title('Age Distribution by Class and Survival')\n",
    "plt.show()"
   ]
  },
  {
   "cell_type": "code",
   "execution_count": null,
   "id": "679669ab",
   "metadata": {},
   "outputs": [],
   "source": [
    "# สร้างตารางกราฟด้วย catplot\n",
    "# x='sex', y='survived': คือความสัมพันธ์หลักที่สนใจในแต่ละกราฟย่อย\n",
    "# col='pclass': สั่งให้สร้างกราฟแยก \"คอลัมน์\" โดยแบ่งตามค่าใน 'pclass'\n",
    "# kind='bar': กำหนดให้ชนิดของกราฟในแต่ละช่องเป็น bar plot\n",
    "sns.catplot(data=titanic, x='sex', y='survived', col='pclass', kind='bar')\n",
    "plt.show()"
   ]
  },
  {
   "cell_type": "code",
   "execution_count": null,
   "id": "3b75e05b",
   "metadata": {},
   "outputs": [],
   "source": [
    "# โค้ดสำหรับหลักฐาน #1: Bar Plot\n",
    "plt.figure(figsize=(8, 5))\n",
    "sns.barplot(data=titanic, x='pclass', y='survived', palette='viridis')\n",
    "plt.title('Survival Rate by Passenger Class')\n",
    "plt.ylabel('Survival Rate')\n",
    "plt.xlabel('Passenger Class')\n",
    "plt.show()\n",
    "\n",
    "# โค้ดสำหรับหลักฐาน #2: Violin Plot\n",
    "plt.figure(figsize=(10, 6))\n",
    "sns.violinplot(data=titanic, x='pclass', y='age', hue='survived', split=True, palette='muted')\n",
    "plt.title('Age Distribution by Class and Survival')\n",
    "plt.ylabel('Age')\n",
    "plt.xlabel('Passenger Class')\n",
    "plt.show()"
   ]
  }
 ],
 "metadata": {
  "kernelspec": {
   "display_name": ".venv",
   "language": "python",
   "name": "python3"
  },
  "language_info": {
   "codemirror_mode": {
    "name": "ipython",
    "version": 3
   },
   "file_extension": ".py",
   "mimetype": "text/x-python",
   "name": "python",
   "nbconvert_exporter": "python",
   "pygments_lexer": "ipython3",
   "version": "3.13.5"
  }
 },
 "nbformat": 4,
 "nbformat_minor": 5
}
