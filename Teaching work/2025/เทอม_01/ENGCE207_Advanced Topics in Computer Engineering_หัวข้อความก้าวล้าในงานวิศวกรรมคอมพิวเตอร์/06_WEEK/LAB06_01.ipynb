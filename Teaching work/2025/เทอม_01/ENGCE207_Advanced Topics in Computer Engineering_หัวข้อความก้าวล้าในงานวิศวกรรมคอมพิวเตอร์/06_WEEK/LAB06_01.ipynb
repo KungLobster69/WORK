{
 "cells": [
  {
   "cell_type": "code",
   "execution_count": null,
   "id": "ecfaea4d",
   "metadata": {},
   "outputs": [],
   "source": [
    "# 1. นำเข้าไลบรารี\n",
    "import pandas as pd\n",
    "import matplotlib.pyplot as plt\n",
    "from sklearn.cluster import KMeans\n",
    "\n",
    "# 2. โหลดข้อมูล\n",
    "df = pd.read_csv('Mall_Customers.csv')\n",
    "\n",
    "# 3. เลือกคุณลักษณะ\n",
    "X = df.iloc[:, [3, 4]].values\n",
    "\n",
    "# 4. พล็อตข้อมูลเบื้องต้น\n",
    "plt.figure(figsize=(10, 6))\n",
    "plt.scatter(X[:,0], X[:,1], s=15)\n",
    "plt.title('Customer Data Distribution')\n",
    "plt.xlabel('Annual Income (k$)')\n",
    "plt.ylabel('Spending Score (1-100)')\n",
    "plt.legend()\n",
    "plt.grid(True)\n",
    "plt.show()"
   ]
  }
 ],
 "metadata": {
  "kernelspec": {
   "display_name": ".venv",
   "language": "python",
   "name": "python3"
  },
  "language_info": {
   "codemirror_mode": {
    "name": "ipython",
    "version": 3
   },
   "file_extension": ".py",
   "mimetype": "text/x-python",
   "name": "python",
   "nbconvert_exporter": "python",
   "pygments_lexer": "ipython3",
   "version": "3.13.5"
  }
 },
 "nbformat": 4,
 "nbformat_minor": 5
}
