{
 "cells": [
  {
   "cell_type": "code",
   "execution_count": null,
   "id": "67a509a4",
   "metadata": {},
   "outputs": [],
   "source": [
    "import pandas as pd\n",
    "import numpy as np\n",
    "\n",
    "# สร้าง Series จาก List\n",
    "s1 = pd.Series([10, 20, 30, 40], name='MyGrades')\n",
    "print(s1)\n",
    "\n",
    "# สร้าง Series พร้อมกำหนด Index เอง\n",
    "s2 = pd.Series([170, 165, 180], index=['John', 'Jane', 'Peter'])\n",
    "print(s2)"
   ]
  },
  {
   "cell_type": "code",
   "execution_count": null,
   "id": "18a6b0e2",
   "metadata": {},
   "outputs": [],
   "source": [
    "import pandas as pd\n",
    "\n",
    "data = {\n",
    "    'ชื่อ': ['สมชาย', 'สมศรี', 'มานะ', 'ชูใจ'],\n",
    "    'อายุ': [32, 28, 45, 39],\n",
    "    'แผนก': ['การตลาด', 'บุคคล', 'ขาย', 'การตลาด']\n",
    "}\n",
    "\n",
    "df = pd.DataFrame(data)\n",
    "\n",
    "print(\"--- DataFrame ที่สร้างจาก Dictionary ---\")\n",
    "print(df)\n",
    "\n",
    "print(\"\\n--- ประเภทข้อมูลของแต่ละคอลัมน์ ---\")\n",
    "print(df.info())"
   ]
  },
  {
   "cell_type": "code",
   "execution_count": null,
   "id": "2c2bdc37",
   "metadata": {},
   "outputs": [],
   "source": [
    "import pandas as pd\n",
    "\n",
    "data_list = [\n",
    "    {'ชื่อ': 'สมชาย', 'อายุ': 32, 'แผนก': 'การตลาด'},\n",
    "    {'ชื่อ': 'สมศรี', 'อายุ': 28, 'แผนก': 'บุคคล'},\n",
    "    {'ชื่อ': 'มานะ', 'อายุ': 45, 'แผนก': 'ขาย'},\n",
    "    {'ชื่อ': 'ชูใจ', 'อายุ': 39, 'แผนก': 'การตลาด'}\n",
    "]\n",
    "\n",
    "df_from_list = pd.DataFrame(data_list)\n",
    "\n",
    "print(\"--- DataFrame ที่สร้างจาก List ของ Dictionaries ---\")\n",
    "print(df_from_list)\n",
    "\n",
    "print(\"\\n--- ประเภทข้อมูลของแต่ละคอลัมน์ ---\")\n",
    "print(df_from_list.info())"
   ]
  },
  {
   "cell_type": "code",
   "execution_count": null,
   "id": "57cc478d",
   "metadata": {},
   "outputs": [],
   "source": [
    "# -*- coding: utf-8 -*-\n",
    "import pandas as pd\n",
    "import numpy as np\n",
    "\n",
    "# --- 1. สร้าง DataFrame ตัวอย่าง ---\n",
    "# สร้างข้อมูลตัวอย่างเกี่ยวกับนักเรียน\n",
    "data = {\n",
    "    'ชื่อ': ['สมชาย', 'สมหญิง', 'มานี', 'ปิติ', 'วีระ', 'ชูใจ', 'จันดี', 'มานะ', 'เพชร', 'ไพลิน'],\n",
    "    'อายุ': [18, 19, 18, 20, 21, 19, 22, 18, 20, 21],\n",
    "    'คะแนน': [85, 92, 78, 88, 95, 76, 89, 91, 82, 93],\n",
    "    'เมือง': ['กรุงเทพ', 'เชียงใหม่', 'กรุงเทพ', 'ขอนแก่น', 'ภูเก็ต', 'เชียงใหม่', 'กรุงเทพ', 'เชียงใหม่', 'ขอนแก่น', 'ภูเก็ต']\n",
    "}\n",
    "df = pd.DataFrame(data)\n",
    "\n",
    "print(\"--- DataFrame ทั้งหมด ---\")\n",
    "print(df)\n",
    "print(\"\\n\" + \"=\"*30 + \"\\n\")"
   ]
  },
  {
   "cell_type": "code",
   "execution_count": null,
   "id": "246b225d",
   "metadata": {},
   "outputs": [],
   "source": [
    "# --- 2. การสำรวจข้อมูลเบื้องต้น (Initial Inspection) ---\n",
    "\n",
    "# 2.1 df.head(n): แสดงข้อมูล n แถวแรก\n",
    "# ถ้าไม่ระบุ n จะแสดง 5 แถวแรกเป็นค่าเริ่มต้น\n",
    "print(\"--- 1. df.head(): แสดง 5 แถวแรก ---\")\n",
    "print(df.head())\n",
    "print(\"\\n\")"
   ]
  },
  {
   "cell_type": "code",
   "execution_count": null,
   "id": "993c1e32",
   "metadata": {},
   "outputs": [],
   "source": [
    "# แสดงข้อมูล 3 แถวแรก\n",
    "print(\"--- 2. df.head(3): แสดง 3 แถวแรก ---\")\n",
    "print(df.head(3))\n",
    "print(\"\\n\" + \"=\"*30 + \"\\n\")"
   ]
  },
  {
   "cell_type": "code",
   "execution_count": null,
   "id": "86312269",
   "metadata": {},
   "outputs": [],
   "source": [
    "# 2.2 df.tail(n): แสดงข้อมูล n แถวสุดท้าย\n",
    "# ถ้าไม่ระบุ n จะแสดง 5 แถวสุดท้ายเป็นค่าเริ่มต้น\n",
    "print(\"--- 3. df.tail(): แสดง 5 แถวสุดท้าย ---\")\n",
    "print(df.tail())\n",
    "print(\"\\n\")"
   ]
  },
  {
   "cell_type": "code",
   "execution_count": null,
   "id": "04fde194",
   "metadata": {},
   "outputs": [],
   "source": [
    "# แสดงข้อมูล 2 แถวสุดท้าย\n",
    "print(\"--- 4. df.tail(2): แสดง 2 แถวสุดท้าย ---\")\n",
    "print(df.tail(2))\n",
    "print(\"\\n\" + \"=\"*30 + \"\\n\")"
   ]
  },
  {
   "cell_type": "code",
   "execution_count": null,
   "id": "289679c3",
   "metadata": {},
   "outputs": [],
   "source": [
    "# 2.3 df.sample(n): สุ่มแสดงข้อมูล n แถว\n",
    "# การใช้ sample() จะได้ผลลัพธ์ไม่เหมือนกันทุกครั้งที่รัน\n",
    "print(\"--- 5. df.sample(4): สุ่มแสดงข้อมูล 4 แถว ---\")\n",
    "print(df.sample(4))\n",
    "print(\"\\n\")"
   ]
  },
  {
   "cell_type": "code",
   "execution_count": null,
   "id": "0fe274aa",
   "metadata": {},
   "outputs": [],
   "source": [
    "# 3.1 df.shape: บอกมิติของ DataFrame (จำนวนแถว, จำนวนคอลัมน์)\n",
    "print(\"--- 6. df.shape: ตรวจสอบมิติของ DataFrame ---\")\n",
    "# .shape จะคืนค่าเป็น tuple (จำนวนแถว, จำนวนคอลัมน์)\n",
    "print(f\"มิติของ DataFrame คือ: {df.shape}\") \n",
    "rows, cols = df.shape\n",
    "print(f\"จำนวนแถว: {rows}\")\n",
    "print(f\"จำนวนคอลัมน์: {cols}\")\n",
    "print(\"\\n\" + \"=\"*30 + \"\\n\")"
   ]
  },
  {
   "cell_type": "code",
   "execution_count": null,
   "id": "b20c99c5",
   "metadata": {},
   "outputs": [],
   "source": [
    "# 3.2 df.dtypes: บอกชนิดข้อมูลของแต่ละคอลัมน์\n",
    "print(\"--- 7. df.dtypes: ตรวจสอบชนิดข้อมูล ---\")\n",
    "# .dtypes จะแสดงรายการของคอลัมน์และชนิดข้อมูลของคอลัมน์นั้นๆ\n",
    "# object หมายถึง ข้อความ (string)\n",
    "# int64 หมายถึง เลขจำนวนเต็ม\n",
    "print(df.dtypes)\n",
    "print(\"\\n\")\n"
   ]
  },
  {
   "cell_type": "code",
   "execution_count": null,
   "id": "032434a7",
   "metadata": {},
   "outputs": [],
   "source": [
    "# --- 4. df.info() - ภาพรวมที่สมบูรณ์ ---\n",
    "# ให้ข้อมูลสรุปที่สำคัญ:\n",
    "# - จำนวนแถวและ Index range\n",
    "# - จำนวนคอลัมน์ทั้งหมด\n",
    "# - ชื่อ, จำนวนข้อมูลที่ไม่ใช่ค่าว่าง (Non-Null Count), และชนิดข้อมูล (Dtype) ของแต่ละคอลัมน์\n",
    "# - ปริมาณหน่วยความจำที่ใช้\n",
    "print(\"--- 8. df.info(): แสดงข้อมูลสรุปของ DataFrame ---\")\n",
    "df.info()\n",
    "print(\"\\n\")"
   ]
  },
  {
   "cell_type": "code",
   "execution_count": null,
   "id": "494e7317",
   "metadata": {},
   "outputs": [],
   "source": [
    "# --- 5. df.describe() - สรุปเชิงสถิติ ---\n",
    "# ให้ข้อมูลสรุปเชิงสถิติสำหรับคอลัมน์ที่เป็น \"ตัวเลข\" (Numeric) เท่านั้น\n",
    "# แสดงค่า: count, mean, std, min, 25%, 50% (median), 75%, max\n",
    "print(\"--- 9. df.describe(): แสดงข้อมูลสรุปเชิงสถิติ ---\")\n",
    "print(df.describe())\n",
    "print(\"\\n\")"
   ]
  },
  {
   "cell_type": "code",
   "execution_count": null,
   "id": "01e85ab5",
   "metadata": {},
   "outputs": [],
   "source": [
    "# --- 6. การเขียนข้อมูลลงไฟล์ (Writing Data) ---\n",
    "# บันทึก DataFrame ลงไฟล์ CSV\n",
    "# index=False คือ parameter ที่สำคัญ เพื่อไม่ให้บันทึก index (0, 1, 2, ...) ลงไปในไฟล์ด้วย\n",
    "output_filename = 'students_output.csv'\n",
    "df.to_csv(output_filename, index=False)\n",
    "\n",
    "print(f\"--- 10. df.to_csv(): บันทึกข้อมูลลงไฟล์ ---\")\n",
    "print(f\"ข้อมูลได้ถูกบันทึกเรียบร้อยแล้วในไฟล์ชื่อ '{output_filename}'\")\n",
    "\n",
    "# (Optional) แสดง path ของไฟล์ที่บันทึก\n",
    "# print(f\"ไฟล์ถูกบันทึกที่: {os.path.abspath(output_filename)}\")\n",
    "print(\"\\n\")"
   ]
  },
  {
   "cell_type": "code",
   "execution_count": null,
   "id": "31deb66e",
   "metadata": {},
   "outputs": [],
   "source": [
    "# --- 7. การเลือกคอลัมน์ (Column Selection) ---\n",
    "\n",
    "# 7.1 เลือก 1 คอลัมน์ (ผลลัพธ์เป็น Pandas Series)\n",
    "print(\"--- 9. การเลือก 1 คอลัมน์ ('ชื่อ') ---\")\n",
    "names_series = df['ชื่อ']\n",
    "print(names_series)\n",
    "print(f\"\\nชนิดข้อมูลของผลลัพธ์: {type(names_series)}\")\n",
    "print(\"\\n\" + \"=\"*30 + \"\\n\")"
   ]
  },
  {
   "cell_type": "code",
   "execution_count": null,
   "id": "189eb81b",
   "metadata": {},
   "outputs": [],
   "source": [
    "# 7.2 เลือกหลายคอลัมน์ (ผลลัพธ์เป็น Pandas DataFrame)\n",
    "# สังเกตการใช้ [[]] เพื่อส่ง list ของชื่อคอลัมน์เข้าไป\n",
    "print(\"--- 10. การเลือกหลายคอลัมน์ ('ชื่อ', 'คะแนน') ---\")\n",
    "subset_df = df[['ชื่อ', 'คะแนน']]\n",
    "print(subset_df)\n",
    "print(f\"\\nชนิดข้อมูลของผลลัพธ์: {type(subset_df)}\")\n",
    "print(\"\\n\")"
   ]
  },
  {
   "cell_type": "code",
   "execution_count": null,
   "id": "5da0d814",
   "metadata": {},
   "outputs": [],
   "source": [
    "# --- 8. การเลือกแถวด้วย .loc[] (Label-based Selection) ---\n",
    "# ใช้สำหรับเลือกข้อมูลโดยอ้างอิงจาก \"ป้ายกำกับ\" (Label) ของ Index และชื่อคอลัมน์\n",
    "\n",
    "# 8.1 เลือกแถวเดียวตามป้ายกำกับ (Label)\n",
    "print(\"--- 11. การเลือกแถวด้วย .loc[3] ---\")\n",
    "row_3 = df.loc[3]\n",
    "print(row_3)\n",
    "print(f\"\\nชนิดข้อมูลของผลลัพธ์: {type(row_3)}\")\n",
    "print(\"\\n\" + \"=\"*30 + \"\\n\")"
   ]
  },
  {
   "cell_type": "code",
   "execution_count": null,
   "id": "c52dc9e1",
   "metadata": {},
   "outputs": [],
   "source": [
    "# 8.2 เลือกหลายแถวด้วย List ของป้ายกำกับ\n",
    "print(\"--- 12. การเลือกหลายแถวด้วย .loc[[0, 5, 8]] ---\")\n",
    "rows_multiple = df.loc[[0, 5, 8]]\n",
    "print(rows_multiple)\n",
    "print(f\"\\nชนิดข้อมูลของผลลัพธ์: {type(rows_multiple)}\")\n",
    "print(\"\\n\" + \"=\"*30 + \"\\n\")"
   ]
  },
  {
   "cell_type": "code",
   "execution_count": null,
   "id": "7466e7e2",
   "metadata": {},
   "outputs": [],
   "source": [
    "# 8.3 เลือกแถวแบบช่วง (Slicing) - .loc จะ \"รวม\" ค่าสุดท้ายด้วย\n",
    "print(\"--- 13. การเลือกแถวแบบช่วง .loc[2:5] (รวมแถว index 5) ---\")\n",
    "slice_rows_loc = df.loc[2:5]\n",
    "print(slice_rows_loc)\n",
    "print(f\"\\nชนิดข้อมูลของผลลัพธ์: {type(slice_rows_loc)}\")\n",
    "print(\"\\n\" + \"=\"*30 + \"\\n\")"
   ]
  },
  {
   "cell_type": "code",
   "execution_count": null,
   "id": "31c56f1c",
   "metadata": {},
   "outputs": [],
   "source": [
    "# 8.4 เลือกทั้งแถวและคอลัมน์ด้วย .loc\n",
    "print(\"--- 14. การเลือกแถว 2-5 และคอลัมน์ 'ชื่อ', 'คะแนน' ---\")\n",
    "subset_loc = df.loc[2:5, ['ชื่อ', 'คะแนน']]\n",
    "print(subset_loc)\n",
    "print(f\"\\nชนิดข้อมูลของผลลัพธ์: {type(subset_loc)}\")\n",
    "print(\"\\n\")\n"
   ]
  },
  {
   "cell_type": "code",
   "execution_count": null,
   "id": "0c20417f",
   "metadata": {},
   "outputs": [],
   "source": [
    "# --- 9. การเลือกแถวด้วย .iloc[] (Integer-based Selection) ---\n",
    "# ใช้สำหรับเลือกข้อมูลโดยอ้างอิงจาก \"ตำแหน่ง\" (Integer Position) ที่เริ่มต้นที่ 0\n",
    "\n",
    "# 9.1 เลือกแถวเดียวตามตำแหน่ง\n",
    "print(\"--- 15. การเลือกแถวด้วย .iloc[3] (แถวที่ 4) ---\")\n",
    "row_iloc_3 = df.iloc[3]\n",
    "print(row_iloc_3)\n",
    "print(f\"\\nชนิดข้อมูลของผลลัพธ์: {type(row_iloc_3)}\")\n",
    "print(\"\\n\" + \"=\"*30 + \"\\n\")"
   ]
  },
  {
   "cell_type": "code",
   "execution_count": null,
   "id": "606c5e6c",
   "metadata": {},
   "outputs": [],
   "source": [
    "# 9.2 เลือกหลายแถวด้วย List ของตำแหน่ง\n",
    "print(\"--- 16. การเลือกหลายแถวด้วย .iloc[[0, 5, 8]] ---\")\n",
    "rows_iloc_multiple = df.iloc[[0, 5, 8]]\n",
    "print(rows_iloc_multiple)\n",
    "print(f\"\\nชนิดข้อมูลของผลลัพธ์: {type(rows_iloc_multiple)}\")\n",
    "print(\"\\n\" + \"=\"*30 + \"\\n\")"
   ]
  },
  {
   "cell_type": "code",
   "execution_count": null,
   "id": "3816c1b6",
   "metadata": {},
   "outputs": [],
   "source": [
    "# 9.3 เลือกแถวแบบช่วง (Slicing) - .iloc จะ \"ไม่รวม\" ค่าสุดท้าย\n",
    "print(\"--- 17. การเลือกแถวแบบช่วง .iloc[2:5] (แถวตำแหน่ง 2, 3, 4) ---\")\n",
    "slice_rows_iloc = df.iloc[2:5]\n",
    "print(slice_rows_iloc)\n",
    "print(f\"\\nชนิดข้อมูลของผลลัพธ์: {type(slice_rows_iloc)}\")\n",
    "print(\"\\n\" + \"=\"*30 + \"\\n\")"
   ]
  },
  {
   "cell_type": "code",
   "execution_count": null,
   "id": "0b70eb14",
   "metadata": {},
   "outputs": [],
   "source": [
    "# 9.4 เลือกทั้งแถวและคอลัมน์ด้วย .iloc\n",
    "# เลือกแถวตำแหน่ง 2-4 และคอลัมน์ตำแหน่ง 0 ('ชื่อ') และ 2 ('คะแนน')\n",
    "print(\"--- 18. การเลือกแถว 2-4 และคอลัมน์ 0, 2 ---\")\n",
    "subset_iloc = df.iloc[2:5, [0, 2]]\n",
    "print(subset_iloc)\n",
    "print(f\"\\nชนิดข้อมูลของผลลัพธ์: {type(subset_iloc)}\")\n",
    "print(\"\\n\")"
   ]
  },
  {
   "cell_type": "code",
   "execution_count": null,
   "id": "b1105c4f",
   "metadata": {},
   "outputs": [],
   "source": [
    "# --- 10. การคัดกรองข้อมูลตามเงื่อนไข (Conditional Filtering) ---\n",
    "# หัวใจของการเตรียมข้อมูล คือการเลือกเฉพาะข้อมูลที่ตรงตามเงื่อนไข\n",
    "\n",
    "# 10.1 สร้างเงื่อนไข (Condition) ที่ให้ผลลัพธ์เป็น Boolean Series\n",
    "print(\"--- 19. สร้าง Boolean Series จากเงื่อนไข (อายุ > 20) ---\")\n",
    "condition = df['อายุ'] > 20\n",
    "print(condition)\n",
    "print(f\"\\nชนิดข้อมูลของผลลัพธ์: {type(condition)}\")\n",
    "print(\"\\n\" + \"=\"*30 + \"\\n\")"
   ]
  },
  {
   "cell_type": "code",
   "execution_count": null,
   "id": "28caba86",
   "metadata": {},
   "outputs": [],
   "source": [
    "# 10.2 นำ Boolean Series ไปใช้เลือกข้อมูลใน DataFrame\n",
    "print(\"--- 20. คัดกรองนักเรียนที่อายุมากกว่า 20 ปี ---\")\n",
    "students_over_20 = df[condition] # หรือ df[df['อายุ'] > 20]\n",
    "print(students_over_20)\n",
    "print(\"\\n\" + \"=\"*30 + \"\\n\")"
   ]
  },
  {
   "cell_type": "code",
   "execution_count": null,
   "id": "687af6f9",
   "metadata": {},
   "outputs": [],
   "source": [
    "# 10.3 การใช้หลายเงื่อนไข\n",
    "# ใช้ & สำหรับ \"และ\" (AND) และ | สำหรับ \"หรือ\" (OR)\n",
    "# แต่ละเงื่อนไขต้องอยู่ในวงเล็บ ()\n",
    "print(\"--- 21. คัดกรองนักเรียนที่คะแนนมากกว่า 90 และมาจากเชียงใหม่ ---\")\n",
    "complex_condition = (df['คะแนน'] > 90) & (df['เมือง'] == 'เชียงใหม่')\n",
    "print(df[complex_condition])\n",
    "print(\"\\n\" + \"=\"*30 + \"\\n\")\n",
    "\n",
    "print(\"--- 22. คัดกรองนักเรียนที่อายุต่ำกว่า 19 หรือมาจากภูเก็ต ---\")\n",
    "another_condition = (df['อายุ'] < 19) | (df['เมือง'] == 'ภูเก็ต')\n",
    "print(df[another_condition])\n",
    "print(\"\\n\")"
   ]
  },
  {
   "cell_type": "code",
   "execution_count": null,
   "id": "f5e34638",
   "metadata": {},
   "outputs": [],
   "source": [
    "# 10.4 การกรองด้วย .isin()\n",
    "# ใช้เมื่อต้องการกรองข้อมูลที่ค่าในคอลัมน์ต้องเป็นหนึ่งในค่าที่ระบุใน List\n",
    "print(\"--- 23. คัดกรองนักเรียนที่มาจากกรุงเทพหรือภูเก็ตด้วย .isin() ---\")\n",
    "target_cities = ['กรุงเทพ', 'ภูเก็ต']\n",
    "isin_condition = df['เมือง'].isin(target_cities)\n",
    "print(df[isin_condition])\n",
    "print(\"\\n\")"
   ]
  },
  {
   "cell_type": "code",
   "execution_count": 6,
   "id": "859e7f1e",
   "metadata": {},
   "outputs": [
    {
     "name": "stdout",
     "output_type": "stream",
     "text": [
      "--- DataFrame ที่มีค่าขาดหาย (NaN) เพื่อการสาธิต ---\n",
      "     ชื่อ  อายุ  คะแนน      เมือง\n",
      "0   สมชาย  18.0   85.0    กรุงเทพ\n",
      "1  สมหญิง   NaN   92.0  เชียงใหม่\n",
      "2    มานี  18.0   78.0    กรุงเทพ\n",
      "3    ปิติ  20.0    NaN    ขอนแก่น\n",
      "4    วีระ  21.0   95.0        NaN\n",
      "5    ชูใจ  19.0   76.0  เชียงใหม่\n",
      "6   จันดี   NaN   89.0    กรุงเทพ\n",
      "7    มานะ  18.0   91.0  เชียงใหม่\n",
      "8    เพชร  20.0   82.0    ขอนแก่น\n",
      "9   ไพลิน  21.0   93.0     ภูเก็ต\n",
      "\n",
      "==============================\n",
      "\n"
     ]
    }
   ],
   "source": [
    "# -*- coding: utf-8 -*-\n",
    "import pandas as pd\n",
    "import numpy as np\n",
    "\n",
    "# --- 11. การตรวจหาค่าที่ขาดหาย (Missing Values) ---\n",
    "\n",
    "# หมายเหตุ: โค้ดส่วนนี้ต้องใช้ไลบรารี NumPy (ที่ import เข้ามาเป็น np)\n",
    "# กรุณาตรวจสอบให้แน่ใจว่าได้รันเซลล์ที่มี `import numpy as np` ก่อนรันส่วนนี้\n",
    "# เพื่อการสาธิต เราจะสร้าง DataFrame ใหม่ที่มีค่าขาดหาย (NaN)\n",
    "data_with_nan = {\n",
    "    'ชื่อ': ['สมชาย', 'สมหญิง', 'มานี', 'ปิติ', 'วีระ', 'ชูใจ', 'จันดี', 'มานะ', 'เพชร', 'ไพลิน'],\n",
    "    'อายุ': [18, np.nan, 18, 20, 21, 19, np.nan, 18, 20, 21],\n",
    "    'คะแนน': [85, 92, 78, np.nan, 95, 76, 89, 91, 82, 93],\n",
    "    'เมือง': ['กรุงเทพ', 'เชียงใหม่', 'กรุงเทพ', 'ขอนแก่น', np.nan, 'เชียงใหม่', 'กรุงเทพ', 'เชียงใหม่', 'ขอนแก่น', 'ภูเก็ต']\n",
    "}\n",
    "df_nan = pd.DataFrame(data_with_nan)\n",
    "print(\"--- DataFrame ที่มีค่าขาดหาย (NaN) เพื่อการสาธิต ---\")\n",
    "print(df_nan)\n",
    "print(\"\\n\" + \"=\"*30 + \"\\n\")"
   ]
  },
  {
   "cell_type": "code",
   "execution_count": null,
   "id": "1e6d3b94",
   "metadata": {},
   "outputs": [
    {
     "name": "stdout",
     "output_type": "stream",
     "text": [
      "--- 24. ตรวจหาค่าที่ขาดหายด้วย .isnull() ---\n",
      "    ชื่อ   อายุ  คะแนน  เมือง\n",
      "0  False  False  False  False\n",
      "1  False   True  False  False\n",
      "2  False  False  False  False\n",
      "3  False  False   True  False\n",
      "4  False  False  False   True\n",
      "5  False  False  False  False\n",
      "6  False   True  False  False\n",
      "7  False  False  False  False\n",
      "8  False  False  False  False\n",
      "9  False  False  False  False\n",
      "\n",
      "==============================\n",
      "\n"
     ]
    }
   ],
   "source": [
    "# 11.1 df.isnull() หรือ df.isna(): สร้าง DataFrame ที่มีค่าเป็น Boolean (True ถ้าเป็น NaN)\n",
    "print(\"--- 24. ตรวจหาค่าที่ขาดหายด้วย .isnull() ---\")\n",
    "print(df_nan.isnull())\n",
    "print(\"\\n\" + \"=\"*30 + \"\\n\")\n"
   ]
  },
  {
   "cell_type": "code",
   "execution_count": 8,
   "id": "2f0b7192",
   "metadata": {},
   "outputs": [
    {
     "name": "stdout",
     "output_type": "stream",
     "text": [
      "--- 25. ตรวจหาค่าที่ไม่ขาดหายด้วย .notnull() ---\n",
      "   ชื่อ   อายุ  คะแนน  เมือง\n",
      "0  True   True   True   True\n",
      "1  True  False   True   True\n",
      "2  True   True   True   True\n",
      "3  True   True  False   True\n",
      "4  True   True   True  False\n",
      "5  True   True   True   True\n",
      "6  True  False   True   True\n",
      "7  True   True   True   True\n",
      "8  True   True   True   True\n",
      "9  True   True   True   True\n",
      "\n",
      "==============================\n",
      "\n"
     ]
    }
   ],
   "source": [
    "# 11.2 df.notnull(): ตรงกันข้ามกับ isnull()\n",
    "print(\"--- 25. ตรวจหาค่าที่ไม่ขาดหายด้วย .notnull() ---\")\n",
    "print(df_nan.notnull())\n",
    "print(\"\\n\" + \"=\"*30 + \"\\n\")"
   ]
  },
  {
   "cell_type": "code",
   "execution_count": 9,
   "id": "b593ef55",
   "metadata": {},
   "outputs": [
    {
     "name": "stdout",
     "output_type": "stream",
     "text": [
      "--- 26. นับจำนวนค่าที่ขาดหายในแต่ละคอลัมน์ด้วย .isnull().sum() ---\n",
      "ชื่อ     0\n",
      "อายุ     2\n",
      "คะแนน    1\n",
      "เมือง    1\n",
      "dtype: int64\n",
      "\n",
      "\n"
     ]
    }
   ],
   "source": [
    "# 11.3 ใช้ .sum() เพื่อนับจำนวนค่าที่ขาดหายในแต่ละคอลัมน์ (วิธีที่ใช้บ่อยที่สุด)\n",
    "print(\"--- 26. นับจำนวนค่าที่ขาดหายในแต่ละคอลัมน์ด้วย .isnull().sum() ---\")\n",
    "print(df_nan.isnull().sum())\n",
    "print(\"\\n\")"
   ]
  }
 ],
 "metadata": {
  "kernelspec": {
   "display_name": ".venv",
   "language": "python",
   "name": "python3"
  },
  "language_info": {
   "codemirror_mode": {
    "name": "ipython",
    "version": 3
   },
   "file_extension": ".py",
   "mimetype": "text/x-python",
   "name": "python",
   "nbconvert_exporter": "python",
   "pygments_lexer": "ipython3",
   "version": "3.13.5"
  }
 },
 "nbformat": 4,
 "nbformat_minor": 5
}
