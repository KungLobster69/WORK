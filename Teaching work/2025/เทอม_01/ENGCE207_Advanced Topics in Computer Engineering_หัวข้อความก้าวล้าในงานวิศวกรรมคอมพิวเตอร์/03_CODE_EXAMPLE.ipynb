{
 "cells": [
  {
   "cell_type": "code",
   "execution_count": 1,
   "id": "67a509a4",
   "metadata": {},
   "outputs": [
    {
     "name": "stdout",
     "output_type": "stream",
     "text": [
      "0    10\n",
      "1    20\n",
      "2    30\n",
      "3    40\n",
      "Name: MyGrades, dtype: int64\n",
      "John     170\n",
      "Jane     165\n",
      "Peter    180\n",
      "dtype: int64\n"
     ]
    }
   ],
   "source": [
    "import pandas as pd\n",
    "import numpy as np\n",
    "\n",
    "# สร้าง Series จาก List\n",
    "s1 = pd.Series([10, 20, 30, 40], name='MyGrades')\n",
    "print(s1)\n",
    "\n",
    "# สร้าง Series พร้อมกำหนด Index เอง\n",
    "s2 = pd.Series([170, 165, 180], index=['John', 'Jane', 'Peter'])\n",
    "print(s2)"
   ]
  },
  {
   "cell_type": "code",
   "execution_count": 2,
   "id": "18a6b0e2",
   "metadata": {},
   "outputs": [
    {
     "name": "stdout",
     "output_type": "stream",
     "text": [
      "--- DataFrame ที่สร้างจาก Dictionary ---\n",
      "    ชื่อ  อายุ     แผนก\n",
      "0  สมชาย    32  การตลาด\n",
      "1  สมศรี    28    บุคคล\n",
      "2   มานะ    45      ขาย\n",
      "3   ชูใจ    39  การตลาด\n",
      "\n",
      "--- ประเภทข้อมูลของแต่ละคอลัมน์ ---\n",
      "<class 'pandas.core.frame.DataFrame'>\n",
      "RangeIndex: 4 entries, 0 to 3\n",
      "Data columns (total 3 columns):\n",
      " #   Column  Non-Null Count  Dtype \n",
      "---  ------  --------------  ----- \n",
      " 0   ชื่อ    4 non-null      object\n",
      " 1   อายุ    4 non-null      int64 \n",
      " 2   แผนก    4 non-null      object\n",
      "dtypes: int64(1), object(2)\n",
      "memory usage: 228.0+ bytes\n",
      "None\n"
     ]
    }
   ],
   "source": [
    "import pandas as pd\n",
    "\n",
    "data = {\n",
    "    'ชื่อ': ['สมชาย', 'สมศรี', 'มานะ', 'ชูใจ'],\n",
    "    'อายุ': [32, 28, 45, 39],\n",
    "    'แผนก': ['การตลาด', 'บุคคล', 'ขาย', 'การตลาด']\n",
    "}\n",
    "\n",
    "df = pd.DataFrame(data)\n",
    "\n",
    "print(\"--- DataFrame ที่สร้างจาก Dictionary ---\")\n",
    "print(df)\n",
    "\n",
    "print(\"\\n--- ประเภทข้อมูลของแต่ละคอลัมน์ ---\")\n",
    "print(df.info())"
   ]
  },
  {
   "cell_type": "code",
   "execution_count": 3,
   "id": "2c2bdc37",
   "metadata": {},
   "outputs": [
    {
     "name": "stdout",
     "output_type": "stream",
     "text": [
      "--- DataFrame ที่สร้างจาก List ของ Dictionaries ---\n",
      "    ชื่อ  อายุ     แผนก\n",
      "0  สมชาย    32  การตลาด\n",
      "1  สมศรี    28    บุคคล\n",
      "2   มานะ    45      ขาย\n",
      "3   ชูใจ    39  การตลาด\n",
      "\n",
      "--- ประเภทข้อมูลของแต่ละคอลัมน์ ---\n",
      "<class 'pandas.core.frame.DataFrame'>\n",
      "RangeIndex: 4 entries, 0 to 3\n",
      "Data columns (total 3 columns):\n",
      " #   Column  Non-Null Count  Dtype \n",
      "---  ------  --------------  ----- \n",
      " 0   ชื่อ    4 non-null      object\n",
      " 1   อายุ    4 non-null      int64 \n",
      " 2   แผนก    4 non-null      object\n",
      "dtypes: int64(1), object(2)\n",
      "memory usage: 228.0+ bytes\n",
      "None\n"
     ]
    }
   ],
   "source": [
    "import pandas as pd\n",
    "\n",
    "data_list = [\n",
    "    {'ชื่อ': 'สมชาย', 'อายุ': 32, 'แผนก': 'การตลาด'},\n",
    "    {'ชื่อ': 'สมศรี', 'อายุ': 28, 'แผนก': 'บุคคล'},\n",
    "    {'ชื่อ': 'มานะ', 'อายุ': 45, 'แผนก': 'ขาย'},\n",
    "    {'ชื่อ': 'ชูใจ', 'อายุ': 39, 'แผนก': 'การตลาด'}\n",
    "]\n",
    "\n",
    "df_from_list = pd.DataFrame(data_list)\n",
    "\n",
    "print(\"--- DataFrame ที่สร้างจาก List ของ Dictionaries ---\")\n",
    "print(df_from_list)\n",
    "\n",
    "print(\"\\n--- ประเภทข้อมูลของแต่ละคอลัมน์ ---\")\n",
    "print(df_from_list.info())"
   ]
  },
  {
   "cell_type": "code",
   "execution_count": 4,
   "id": "57cc478d",
   "metadata": {},
   "outputs": [
    {
     "name": "stdout",
     "output_type": "stream",
     "text": [
      "--- DataFrame ทั้งหมด ---\n",
      "     ชื่อ  อายุ  คะแนน      เมือง\n",
      "0   สมชาย    18     85    กรุงเทพ\n",
      "1  สมหญิง    19     92  เชียงใหม่\n",
      "2    มานี    18     78    กรุงเทพ\n",
      "3    ปิติ    20     88    ขอนแก่น\n",
      "4    วีระ    21     95     ภูเก็ต\n",
      "5    ชูใจ    19     76  เชียงใหม่\n",
      "6   จันดี    22     89    กรุงเทพ\n",
      "7    มานะ    18     91  เชียงใหม่\n",
      "8    เพชร    20     82    ขอนแก่น\n",
      "9   ไพลิน    21     93     ภูเก็ต\n",
      "\n",
      "==============================\n",
      "\n"
     ]
    }
   ],
   "source": [
    "# -*- coding: utf-8 -*-\n",
    "import pandas as pd\n",
    "import numpy as np\n",
    "\n",
    "# --- 1. สร้าง DataFrame ตัวอย่าง ---\n",
    "# สร้างข้อมูลตัวอย่างเกี่ยวกับนักเรียน\n",
    "data = {\n",
    "    'ชื่อ': ['สมชาย', 'สมหญิง', 'มานี', 'ปิติ', 'วีระ', 'ชูใจ', 'จันดี', 'มานะ', 'เพชร', 'ไพลิน'],\n",
    "    'อายุ': [18, 19, 18, 20, 21, 19, 22, 18, 20, 21],\n",
    "    'คะแนน': [85, 92, 78, 88, 95, 76, 89, 91, 82, 93],\n",
    "    'เมือง': ['กรุงเทพ', 'เชียงใหม่', 'กรุงเทพ', 'ขอนแก่น', 'ภูเก็ต', 'เชียงใหม่', 'กรุงเทพ', 'เชียงใหม่', 'ขอนแก่น', 'ภูเก็ต']\n",
    "}\n",
    "df = pd.DataFrame(data)\n",
    "\n",
    "print(\"--- DataFrame ทั้งหมด ---\")\n",
    "print(df)\n",
    "print(\"\\n\" + \"=\"*30 + \"\\n\")"
   ]
  },
  {
   "cell_type": "code",
   "execution_count": 5,
   "id": "246b225d",
   "metadata": {},
   "outputs": [
    {
     "name": "stdout",
     "output_type": "stream",
     "text": [
      "--- 1. df.head(): แสดง 5 แถวแรก ---\n",
      "     ชื่อ  อายุ  คะแนน      เมือง\n",
      "0   สมชาย    18     85    กรุงเทพ\n",
      "1  สมหญิง    19     92  เชียงใหม่\n",
      "2    มานี    18     78    กรุงเทพ\n",
      "3    ปิติ    20     88    ขอนแก่น\n",
      "4    วีระ    21     95     ภูเก็ต\n",
      "\n",
      "\n"
     ]
    }
   ],
   "source": [
    "# --- 2. การสำรวจข้อมูลเบื้องต้น (Initial Inspection) ---\n",
    "\n",
    "# 2.1 df.head(n): แสดงข้อมูล n แถวแรก\n",
    "# ถ้าไม่ระบุ n จะแสดง 5 แถวแรกเป็นค่าเริ่มต้น\n",
    "print(\"--- 1. df.head(): แสดง 5 แถวแรก ---\")\n",
    "print(df.head())\n",
    "print(\"\\n\")"
   ]
  },
  {
   "cell_type": "code",
   "execution_count": 6,
   "id": "993c1e32",
   "metadata": {},
   "outputs": [
    {
     "name": "stdout",
     "output_type": "stream",
     "text": [
      "--- 2. df.head(3): แสดง 3 แถวแรก ---\n",
      "     ชื่อ  อายุ  คะแนน      เมือง\n",
      "0   สมชาย    18     85    กรุงเทพ\n",
      "1  สมหญิง    19     92  เชียงใหม่\n",
      "2    มานี    18     78    กรุงเทพ\n",
      "\n",
      "==============================\n",
      "\n"
     ]
    }
   ],
   "source": [
    "# แสดงข้อมูล 3 แถวแรก\n",
    "print(\"--- 2. df.head(3): แสดง 3 แถวแรก ---\")\n",
    "print(df.head(3))\n",
    "print(\"\\n\" + \"=\"*30 + \"\\n\")"
   ]
  },
  {
   "cell_type": "code",
   "execution_count": 7,
   "id": "86312269",
   "metadata": {},
   "outputs": [
    {
     "name": "stdout",
     "output_type": "stream",
     "text": [
      "--- 3. df.tail(): แสดง 5 แถวสุดท้าย ---\n",
      "    ชื่อ  อายุ  คะแนน      เมือง\n",
      "5   ชูใจ    19     76  เชียงใหม่\n",
      "6  จันดี    22     89    กรุงเทพ\n",
      "7   มานะ    18     91  เชียงใหม่\n",
      "8   เพชร    20     82    ขอนแก่น\n",
      "9  ไพลิน    21     93     ภูเก็ต\n",
      "\n",
      "\n"
     ]
    }
   ],
   "source": [
    "# 2.2 df.tail(n): แสดงข้อมูล n แถวสุดท้าย\n",
    "# ถ้าไม่ระบุ n จะแสดง 5 แถวสุดท้ายเป็นค่าเริ่มต้น\n",
    "print(\"--- 3. df.tail(): แสดง 5 แถวสุดท้าย ---\")\n",
    "print(df.tail())\n",
    "print(\"\\n\")"
   ]
  },
  {
   "cell_type": "code",
   "execution_count": 8,
   "id": "04fde194",
   "metadata": {},
   "outputs": [
    {
     "name": "stdout",
     "output_type": "stream",
     "text": [
      "--- 4. df.tail(2): แสดง 2 แถวสุดท้าย ---\n",
      "    ชื่อ  อายุ  คะแนน    เมือง\n",
      "8   เพชร    20     82  ขอนแก่น\n",
      "9  ไพลิน    21     93   ภูเก็ต\n",
      "\n",
      "==============================\n",
      "\n"
     ]
    }
   ],
   "source": [
    "# แสดงข้อมูล 2 แถวสุดท้าย\n",
    "print(\"--- 4. df.tail(2): แสดง 2 แถวสุดท้าย ---\")\n",
    "print(df.tail(2))\n",
    "print(\"\\n\" + \"=\"*30 + \"\\n\")"
   ]
  },
  {
   "cell_type": "code",
   "execution_count": 9,
   "id": "289679c3",
   "metadata": {},
   "outputs": [
    {
     "name": "stdout",
     "output_type": "stream",
     "text": [
      "--- 5. df.sample(4): สุ่มแสดงข้อมูล 4 แถว ---\n",
      "     ชื่อ  อายุ  คะแนน      เมือง\n",
      "2    มานี    18     78    กรุงเทพ\n",
      "6   จันดี    22     89    กรุงเทพ\n",
      "1  สมหญิง    19     92  เชียงใหม่\n",
      "4    วีระ    21     95     ภูเก็ต\n",
      "\n",
      "\n"
     ]
    }
   ],
   "source": [
    "# 2.3 df.sample(n): สุ่มแสดงข้อมูล n แถว\n",
    "# การใช้ sample() จะได้ผลลัพธ์ไม่เหมือนกันทุกครั้งที่รัน\n",
    "print(\"--- 5. df.sample(4): สุ่มแสดงข้อมูล 4 แถว ---\")\n",
    "print(df.sample(4))\n",
    "print(\"\\n\")"
   ]
  },
  {
   "cell_type": "code",
   "execution_count": 10,
   "id": "0fe274aa",
   "metadata": {},
   "outputs": [
    {
     "name": "stdout",
     "output_type": "stream",
     "text": [
      "--- 6. df.shape: ตรวจสอบมิติของ DataFrame ---\n",
      "มิติของ DataFrame คือ: (10, 4)\n",
      "จำนวนแถว: 10\n",
      "จำนวนคอลัมน์: 4\n",
      "\n",
      "==============================\n",
      "\n"
     ]
    }
   ],
   "source": [
    "# 3.1 df.shape: บอกมิติของ DataFrame (จำนวนแถว, จำนวนคอลัมน์)\n",
    "print(\"--- 6. df.shape: ตรวจสอบมิติของ DataFrame ---\")\n",
    "# .shape จะคืนค่าเป็น tuple (จำนวนแถว, จำนวนคอลัมน์)\n",
    "print(f\"มิติของ DataFrame คือ: {df.shape}\") \n",
    "rows, cols = df.shape\n",
    "print(f\"จำนวนแถว: {rows}\")\n",
    "print(f\"จำนวนคอลัมน์: {cols}\")\n",
    "print(\"\\n\" + \"=\"*30 + \"\\n\")"
   ]
  },
  {
   "cell_type": "code",
   "execution_count": 11,
   "id": "b20c99c5",
   "metadata": {},
   "outputs": [
    {
     "name": "stdout",
     "output_type": "stream",
     "text": [
      "--- 7. df.dtypes: ตรวจสอบชนิดข้อมูล ---\n",
      "ชื่อ     object\n",
      "อายุ      int64\n",
      "คะแนน     int64\n",
      "เมือง    object\n",
      "dtype: object\n",
      "\n",
      "\n"
     ]
    }
   ],
   "source": [
    "# 3.2 df.dtypes: บอกชนิดข้อมูลของแต่ละคอลัมน์\n",
    "print(\"--- 7. df.dtypes: ตรวจสอบชนิดข้อมูล ---\")\n",
    "# .dtypes จะแสดงรายการของคอลัมน์และชนิดข้อมูลของคอลัมน์นั้นๆ\n",
    "# object หมายถึง ข้อความ (string)\n",
    "# int64 หมายถึง เลขจำนวนเต็ม\n",
    "print(df.dtypes)\n",
    "print(\"\\n\")\n"
   ]
  },
  {
   "cell_type": "code",
   "execution_count": 12,
   "id": "032434a7",
   "metadata": {},
   "outputs": [
    {
     "name": "stdout",
     "output_type": "stream",
     "text": [
      "--- 8. df.info(): แสดงข้อมูลสรุปของ DataFrame ---\n",
      "<class 'pandas.core.frame.DataFrame'>\n",
      "RangeIndex: 10 entries, 0 to 9\n",
      "Data columns (total 4 columns):\n",
      " #   Column  Non-Null Count  Dtype \n",
      "---  ------  --------------  ----- \n",
      " 0   ชื่อ    10 non-null     object\n",
      " 1   อายุ    10 non-null     int64 \n",
      " 2   คะแนน   10 non-null     int64 \n",
      " 3   เมือง   10 non-null     object\n",
      "dtypes: int64(2), object(2)\n",
      "memory usage: 452.0+ bytes\n",
      "\n",
      "\n"
     ]
    }
   ],
   "source": [
    "# --- 4. df.info() - ภาพรวมที่สมบูรณ์ ---\n",
    "# ให้ข้อมูลสรุปที่สำคัญ:\n",
    "# - จำนวนแถวและ Index range\n",
    "# - จำนวนคอลัมน์ทั้งหมด\n",
    "# - ชื่อ, จำนวนข้อมูลที่ไม่ใช่ค่าว่าง (Non-Null Count), และชนิดข้อมูล (Dtype) ของแต่ละคอลัมน์\n",
    "# - ปริมาณหน่วยความจำที่ใช้\n",
    "print(\"--- 8. df.info(): แสดงข้อมูลสรุปของ DataFrame ---\")\n",
    "df.info()\n",
    "print(\"\\n\")"
   ]
  },
  {
   "cell_type": "code",
   "execution_count": 13,
   "id": "494e7317",
   "metadata": {},
   "outputs": [
    {
     "name": "stdout",
     "output_type": "stream",
     "text": [
      "--- 9. df.describe(): แสดงข้อมูลสรุปเชิงสถิติ ---\n",
      "            อายุ      คะแนน\n",
      "count  10.000000  10.000000\n",
      "mean   19.600000  86.900000\n",
      "std     1.429841   6.471304\n",
      "min    18.000000  76.000000\n",
      "25%    18.250000  82.750000\n",
      "50%    19.500000  88.500000\n",
      "75%    20.750000  91.750000\n",
      "max    22.000000  95.000000\n",
      "\n",
      "\n"
     ]
    }
   ],
   "source": [
    "# --- 5. df.describe() - สรุปเชิงสถิติ ---\n",
    "# ให้ข้อมูลสรุปเชิงสถิติสำหรับคอลัมน์ที่เป็น \"ตัวเลข\" (Numeric) เท่านั้น\n",
    "# แสดงค่า: count, mean, std, min, 25%, 50% (median), 75%, max\n",
    "print(\"--- 9. df.describe(): แสดงข้อมูลสรุปเชิงสถิติ ---\")\n",
    "print(df.describe())\n",
    "print(\"\\n\")"
   ]
  },
  {
   "cell_type": "code",
   "execution_count": 14,
   "id": "01e85ab5",
   "metadata": {},
   "outputs": [
    {
     "name": "stdout",
     "output_type": "stream",
     "text": [
      "--- 10. df.to_csv(): บันทึกข้อมูลลงไฟล์ ---\n",
      "ข้อมูลได้ถูกบันทึกเรียบร้อยแล้วในไฟล์ชื่อ 'students_output.csv'\n",
      "\n",
      "\n"
     ]
    }
   ],
   "source": [
    "# --- 6. การเขียนข้อมูลลงไฟล์ (Writing Data) ---\n",
    "# บันทึก DataFrame ลงไฟล์ CSV\n",
    "# index=False คือ parameter ที่สำคัญ เพื่อไม่ให้บันทึก index (0, 1, 2, ...) ลงไปในไฟล์ด้วย\n",
    "output_filename = 'students_output.csv'\n",
    "df.to_csv(output_filename, index=False)\n",
    "\n",
    "print(f\"--- 10. df.to_csv(): บันทึกข้อมูลลงไฟล์ ---\")\n",
    "print(f\"ข้อมูลได้ถูกบันทึกเรียบร้อยแล้วในไฟล์ชื่อ '{output_filename}'\")\n",
    "\n",
    "# (Optional) แสดง path ของไฟล์ที่บันทึก\n",
    "# print(f\"ไฟล์ถูกบันทึกที่: {os.path.abspath(output_filename)}\")\n",
    "print(\"\\n\")"
   ]
  },
  {
   "cell_type": "code",
   "execution_count": 15,
   "id": "31deb66e",
   "metadata": {},
   "outputs": [
    {
     "name": "stdout",
     "output_type": "stream",
     "text": [
      "--- 9. การเลือก 1 คอลัมน์ ('ชื่อ') ---\n",
      "0     สมชาย\n",
      "1    สมหญิง\n",
      "2      มานี\n",
      "3      ปิติ\n",
      "4      วีระ\n",
      "5      ชูใจ\n",
      "6     จันดี\n",
      "7      มานะ\n",
      "8      เพชร\n",
      "9     ไพลิน\n",
      "Name: ชื่อ, dtype: object\n",
      "\n",
      "ชนิดข้อมูลของผลลัพธ์: <class 'pandas.core.series.Series'>\n",
      "\n",
      "==============================\n",
      "\n"
     ]
    }
   ],
   "source": [
    "# --- 7. การเลือกคอลัมน์ (Column Selection) ---\n",
    "\n",
    "# 7.1 เลือก 1 คอลัมน์ (ผลลัพธ์เป็น Pandas Series)\n",
    "print(\"--- 9. การเลือก 1 คอลัมน์ ('ชื่อ') ---\")\n",
    "names_series = df['ชื่อ']\n",
    "print(names_series)\n",
    "print(f\"\\nชนิดข้อมูลของผลลัพธ์: {type(names_series)}\")\n",
    "print(\"\\n\" + \"=\"*30 + \"\\n\")"
   ]
  },
  {
   "cell_type": "code",
   "execution_count": 16,
   "id": "189eb81b",
   "metadata": {},
   "outputs": [
    {
     "name": "stdout",
     "output_type": "stream",
     "text": [
      "--- 10. การเลือกหลายคอลัมน์ ('ชื่อ', 'คะแนน') ---\n",
      "     ชื่อ  คะแนน\n",
      "0   สมชาย     85\n",
      "1  สมหญิง     92\n",
      "2    มานี     78\n",
      "3    ปิติ     88\n",
      "4    วีระ     95\n",
      "5    ชูใจ     76\n",
      "6   จันดี     89\n",
      "7    มานะ     91\n",
      "8    เพชร     82\n",
      "9   ไพลิน     93\n",
      "\n",
      "ชนิดข้อมูลของผลลัพธ์: <class 'pandas.core.frame.DataFrame'>\n",
      "\n",
      "\n"
     ]
    }
   ],
   "source": [
    "# 7.2 เลือกหลายคอลัมน์ (ผลลัพธ์เป็น Pandas DataFrame)\n",
    "# สังเกตการใช้ [[]] เพื่อส่ง list ของชื่อคอลัมน์เข้าไป\n",
    "print(\"--- 10. การเลือกหลายคอลัมน์ ('ชื่อ', 'คะแนน') ---\")\n",
    "subset_df = df[['ชื่อ', 'คะแนน']]\n",
    "print(subset_df)\n",
    "print(f\"\\nชนิดข้อมูลของผลลัพธ์: {type(subset_df)}\")\n",
    "print(\"\\n\")"
   ]
  },
  {
   "cell_type": "code",
   "execution_count": 17,
   "id": "5da0d814",
   "metadata": {},
   "outputs": [
    {
     "name": "stdout",
     "output_type": "stream",
     "text": [
      "--- 11. การเลือกแถวด้วย .loc[3] ---\n",
      "ชื่อ        ปิติ\n",
      "อายุ          20\n",
      "คะแนน         88\n",
      "เมือง    ขอนแก่น\n",
      "Name: 3, dtype: object\n",
      "\n",
      "ชนิดข้อมูลของผลลัพธ์: <class 'pandas.core.series.Series'>\n",
      "\n",
      "==============================\n",
      "\n"
     ]
    }
   ],
   "source": [
    "# --- 8. การเลือกแถวด้วย .loc[] (Label-based Selection) ---\n",
    "# ใช้สำหรับเลือกข้อมูลโดยอ้างอิงจาก \"ป้ายกำกับ\" (Label) ของ Index และชื่อคอลัมน์\n",
    "\n",
    "# 8.1 เลือกแถวเดียวตามป้ายกำกับ (Label)\n",
    "print(\"--- 11. การเลือกแถวด้วย .loc[3] ---\")\n",
    "row_3 = df.loc[3]\n",
    "print(row_3)\n",
    "print(f\"\\nชนิดข้อมูลของผลลัพธ์: {type(row_3)}\")\n",
    "print(\"\\n\" + \"=\"*30 + \"\\n\")"
   ]
  },
  {
   "cell_type": "code",
   "execution_count": 18,
   "id": "c52dc9e1",
   "metadata": {},
   "outputs": [
    {
     "name": "stdout",
     "output_type": "stream",
     "text": [
      "--- 12. การเลือกหลายแถวด้วย .loc[[0, 5, 8]] ---\n",
      "    ชื่อ  อายุ  คะแนน      เมือง\n",
      "0  สมชาย    18     85    กรุงเทพ\n",
      "5   ชูใจ    19     76  เชียงใหม่\n",
      "8   เพชร    20     82    ขอนแก่น\n",
      "\n",
      "ชนิดข้อมูลของผลลัพธ์: <class 'pandas.core.frame.DataFrame'>\n",
      "\n",
      "==============================\n",
      "\n"
     ]
    }
   ],
   "source": [
    "# 8.2 เลือกหลายแถวด้วย List ของป้ายกำกับ\n",
    "print(\"--- 12. การเลือกหลายแถวด้วย .loc[[0, 5, 8]] ---\")\n",
    "rows_multiple = df.loc[[0, 5, 8]]\n",
    "print(rows_multiple)\n",
    "print(f\"\\nชนิดข้อมูลของผลลัพธ์: {type(rows_multiple)}\")\n",
    "print(\"\\n\" + \"=\"*30 + \"\\n\")"
   ]
  },
  {
   "cell_type": "code",
   "execution_count": 19,
   "id": "7466e7e2",
   "metadata": {},
   "outputs": [
    {
     "name": "stdout",
     "output_type": "stream",
     "text": [
      "--- 13. การเลือกแถวแบบช่วง .loc[2:5] (รวมแถว index 5) ---\n",
      "   ชื่อ  อายุ  คะแนน      เมือง\n",
      "2  มานี    18     78    กรุงเทพ\n",
      "3  ปิติ    20     88    ขอนแก่น\n",
      "4  วีระ    21     95     ภูเก็ต\n",
      "5  ชูใจ    19     76  เชียงใหม่\n",
      "\n",
      "ชนิดข้อมูลของผลลัพธ์: <class 'pandas.core.frame.DataFrame'>\n",
      "\n",
      "==============================\n",
      "\n"
     ]
    }
   ],
   "source": [
    "# 8.3 เลือกแถวแบบช่วง (Slicing) - .loc จะ \"รวม\" ค่าสุดท้ายด้วย\n",
    "print(\"--- 13. การเลือกแถวแบบช่วง .loc[2:5] (รวมแถว index 5) ---\")\n",
    "slice_rows_loc = df.loc[2:5]\n",
    "print(slice_rows_loc)\n",
    "print(f\"\\nชนิดข้อมูลของผลลัพธ์: {type(slice_rows_loc)}\")\n",
    "print(\"\\n\" + \"=\"*30 + \"\\n\")"
   ]
  },
  {
   "cell_type": "code",
   "execution_count": 20,
   "id": "31c56f1c",
   "metadata": {},
   "outputs": [
    {
     "name": "stdout",
     "output_type": "stream",
     "text": [
      "--- 14. การเลือกแถว 2-5 และคอลัมน์ 'ชื่อ', 'คะแนน' ---\n",
      "   ชื่อ  คะแนน\n",
      "2  มานี     78\n",
      "3  ปิติ     88\n",
      "4  วีระ     95\n",
      "5  ชูใจ     76\n",
      "\n",
      "ชนิดข้อมูลของผลลัพธ์: <class 'pandas.core.frame.DataFrame'>\n",
      "\n",
      "\n"
     ]
    }
   ],
   "source": [
    "# 8.4 เลือกทั้งแถวและคอลัมน์ด้วย .loc\n",
    "print(\"--- 14. การเลือกแถว 2-5 และคอลัมน์ 'ชื่อ', 'คะแนน' ---\")\n",
    "subset_loc = df.loc[2:5, ['ชื่อ', 'คะแนน']]\n",
    "print(subset_loc)\n",
    "print(f\"\\nชนิดข้อมูลของผลลัพธ์: {type(subset_loc)}\")\n",
    "print(\"\\n\")\n"
   ]
  },
  {
   "cell_type": "code",
   "execution_count": 21,
   "id": "0c20417f",
   "metadata": {},
   "outputs": [
    {
     "name": "stdout",
     "output_type": "stream",
     "text": [
      "--- 15. การเลือกแถวด้วย .iloc[3] (แถวที่ 4) ---\n",
      "ชื่อ        ปิติ\n",
      "อายุ          20\n",
      "คะแนน         88\n",
      "เมือง    ขอนแก่น\n",
      "Name: 3, dtype: object\n",
      "\n",
      "ชนิดข้อมูลของผลลัพธ์: <class 'pandas.core.series.Series'>\n",
      "\n",
      "==============================\n",
      "\n"
     ]
    }
   ],
   "source": [
    "# --- 9. การเลือกแถวด้วย .iloc[] (Integer-based Selection) ---\n",
    "# ใช้สำหรับเลือกข้อมูลโดยอ้างอิงจาก \"ตำแหน่ง\" (Integer Position) ที่เริ่มต้นที่ 0\n",
    "\n",
    "# 9.1 เลือกแถวเดียวตามตำแหน่ง\n",
    "print(\"--- 15. การเลือกแถวด้วย .iloc[3] (แถวที่ 4) ---\")\n",
    "row_iloc_3 = df.iloc[3]\n",
    "print(row_iloc_3)\n",
    "print(f\"\\nชนิดข้อมูลของผลลัพธ์: {type(row_iloc_3)}\")\n",
    "print(\"\\n\" + \"=\"*30 + \"\\n\")"
   ]
  },
  {
   "cell_type": "code",
   "execution_count": 22,
   "id": "606c5e6c",
   "metadata": {},
   "outputs": [
    {
     "name": "stdout",
     "output_type": "stream",
     "text": [
      "--- 16. การเลือกหลายแถวด้วย .iloc[[0, 5, 8]] ---\n",
      "    ชื่อ  อายุ  คะแนน      เมือง\n",
      "0  สมชาย    18     85    กรุงเทพ\n",
      "5   ชูใจ    19     76  เชียงใหม่\n",
      "8   เพชร    20     82    ขอนแก่น\n",
      "\n",
      "ชนิดข้อมูลของผลลัพธ์: <class 'pandas.core.frame.DataFrame'>\n",
      "\n",
      "==============================\n",
      "\n"
     ]
    }
   ],
   "source": [
    "# 9.2 เลือกหลายแถวด้วย List ของตำแหน่ง\n",
    "print(\"--- 16. การเลือกหลายแถวด้วย .iloc[[0, 5, 8]] ---\")\n",
    "rows_iloc_multiple = df.iloc[[0, 5, 8]]\n",
    "print(rows_iloc_multiple)\n",
    "print(f\"\\nชนิดข้อมูลของผลลัพธ์: {type(rows_iloc_multiple)}\")\n",
    "print(\"\\n\" + \"=\"*30 + \"\\n\")"
   ]
  },
  {
   "cell_type": "code",
   "execution_count": 23,
   "id": "3816c1b6",
   "metadata": {},
   "outputs": [
    {
     "name": "stdout",
     "output_type": "stream",
     "text": [
      "--- 17. การเลือกแถวแบบช่วง .iloc[2:5] (แถวตำแหน่ง 2, 3, 4) ---\n",
      "   ชื่อ  อายุ  คะแนน    เมือง\n",
      "2  มานี    18     78  กรุงเทพ\n",
      "3  ปิติ    20     88  ขอนแก่น\n",
      "4  วีระ    21     95   ภูเก็ต\n",
      "\n",
      "ชนิดข้อมูลของผลลัพธ์: <class 'pandas.core.frame.DataFrame'>\n",
      "\n",
      "==============================\n",
      "\n"
     ]
    }
   ],
   "source": [
    "# 9.3 เลือกแถวแบบช่วง (Slicing) - .iloc จะ \"ไม่รวม\" ค่าสุดท้าย\n",
    "print(\"--- 17. การเลือกแถวแบบช่วง .iloc[2:5] (แถวตำแหน่ง 2, 3, 4) ---\")\n",
    "slice_rows_iloc = df.iloc[2:5]\n",
    "print(slice_rows_iloc)\n",
    "print(f\"\\nชนิดข้อมูลของผลลัพธ์: {type(slice_rows_iloc)}\")\n",
    "print(\"\\n\" + \"=\"*30 + \"\\n\")"
   ]
  },
  {
   "cell_type": "code",
   "execution_count": 24,
   "id": "0b70eb14",
   "metadata": {},
   "outputs": [
    {
     "name": "stdout",
     "output_type": "stream",
     "text": [
      "--- 18. การเลือกแถว 2-4 และคอลัมน์ 0, 2 ---\n",
      "   ชื่อ  คะแนน\n",
      "2  มานี     78\n",
      "3  ปิติ     88\n",
      "4  วีระ     95\n",
      "\n",
      "ชนิดข้อมูลของผลลัพธ์: <class 'pandas.core.frame.DataFrame'>\n",
      "\n",
      "\n"
     ]
    }
   ],
   "source": [
    "# 9.4 เลือกทั้งแถวและคอลัมน์ด้วย .iloc\n",
    "# เลือกแถวตำแหน่ง 2-4 และคอลัมน์ตำแหน่ง 0 ('ชื่อ') และ 2 ('คะแนน')\n",
    "print(\"--- 18. การเลือกแถว 2-4 และคอลัมน์ 0, 2 ---\")\n",
    "subset_iloc = df.iloc[2:5, [0, 2]]\n",
    "print(subset_iloc)\n",
    "print(f\"\\nชนิดข้อมูลของผลลัพธ์: {type(subset_iloc)}\")\n",
    "print(\"\\n\")"
   ]
  },
  {
   "cell_type": "code",
   "execution_count": 25,
   "id": "b1105c4f",
   "metadata": {},
   "outputs": [
    {
     "name": "stdout",
     "output_type": "stream",
     "text": [
      "--- 19. สร้าง Boolean Series จากเงื่อนไข (อายุ > 20) ---\n",
      "0    False\n",
      "1    False\n",
      "2    False\n",
      "3    False\n",
      "4     True\n",
      "5    False\n",
      "6     True\n",
      "7    False\n",
      "8    False\n",
      "9     True\n",
      "Name: อายุ, dtype: bool\n",
      "\n",
      "ชนิดข้อมูลของผลลัพธ์: <class 'pandas.core.series.Series'>\n",
      "\n",
      "==============================\n",
      "\n"
     ]
    }
   ],
   "source": [
    "# --- 10. การคัดกรองข้อมูลตามเงื่อนไข (Conditional Filtering) ---\n",
    "# หัวใจของการเตรียมข้อมูล คือการเลือกเฉพาะข้อมูลที่ตรงตามเงื่อนไข\n",
    "\n",
    "# 10.1 สร้างเงื่อนไข (Condition) ที่ให้ผลลัพธ์เป็น Boolean Series\n",
    "print(\"--- 19. สร้าง Boolean Series จากเงื่อนไข (อายุ > 20) ---\")\n",
    "condition = df['อายุ'] > 20\n",
    "print(condition)\n",
    "print(f\"\\nชนิดข้อมูลของผลลัพธ์: {type(condition)}\")\n",
    "print(\"\\n\" + \"=\"*30 + \"\\n\")"
   ]
  },
  {
   "cell_type": "code",
   "execution_count": 26,
   "id": "28caba86",
   "metadata": {},
   "outputs": [
    {
     "name": "stdout",
     "output_type": "stream",
     "text": [
      "--- 20. คัดกรองนักเรียนที่อายุมากกว่า 20 ปี ---\n",
      "    ชื่อ  อายุ  คะแนน    เมือง\n",
      "4   วีระ    21     95   ภูเก็ต\n",
      "6  จันดี    22     89  กรุงเทพ\n",
      "9  ไพลิน    21     93   ภูเก็ต\n",
      "\n",
      "==============================\n",
      "\n"
     ]
    }
   ],
   "source": [
    "# 10.2 นำ Boolean Series ไปใช้เลือกข้อมูลใน DataFrame\n",
    "print(\"--- 20. คัดกรองนักเรียนที่อายุมากกว่า 20 ปี ---\")\n",
    "students_over_20 = df[condition] # หรือ df[df['อายุ'] > 20]\n",
    "print(students_over_20)\n",
    "print(\"\\n\" + \"=\"*30 + \"\\n\")"
   ]
  },
  {
   "cell_type": "code",
   "execution_count": 27,
   "id": "687af6f9",
   "metadata": {},
   "outputs": [
    {
     "name": "stdout",
     "output_type": "stream",
     "text": [
      "--- 21. คัดกรองนักเรียนที่คะแนนมากกว่า 90 และมาจากเชียงใหม่ ---\n",
      "     ชื่อ  อายุ  คะแนน      เมือง\n",
      "1  สมหญิง    19     92  เชียงใหม่\n",
      "7    มานะ    18     91  เชียงใหม่\n",
      "\n",
      "==============================\n",
      "\n",
      "--- 22. คัดกรองนักเรียนที่อายุต่ำกว่า 19 หรือมาจากภูเก็ต ---\n",
      "    ชื่อ  อายุ  คะแนน      เมือง\n",
      "0  สมชาย    18     85    กรุงเทพ\n",
      "2   มานี    18     78    กรุงเทพ\n",
      "4   วีระ    21     95     ภูเก็ต\n",
      "7   มานะ    18     91  เชียงใหม่\n",
      "9  ไพลิน    21     93     ภูเก็ต\n",
      "\n",
      "\n"
     ]
    }
   ],
   "source": [
    "# 10.3 การใช้หลายเงื่อนไข\n",
    "# ใช้ & สำหรับ \"และ\" (AND) และ | สำหรับ \"หรือ\" (OR)\n",
    "# แต่ละเงื่อนไขต้องอยู่ในวงเล็บ ()\n",
    "print(\"--- 21. คัดกรองนักเรียนที่คะแนนมากกว่า 90 และมาจากเชียงใหม่ ---\")\n",
    "complex_condition = (df['คะแนน'] > 90) & (df['เมือง'] == 'เชียงใหม่')\n",
    "print(df[complex_condition])\n",
    "print(\"\\n\" + \"=\"*30 + \"\\n\")\n",
    "\n",
    "print(\"--- 22. คัดกรองนักเรียนที่อายุต่ำกว่า 19 หรือมาจากภูเก็ต ---\")\n",
    "another_condition = (df['อายุ'] < 19) | (df['เมือง'] == 'ภูเก็ต')\n",
    "print(df[another_condition])\n",
    "print(\"\\n\")"
   ]
  },
  {
   "cell_type": "code",
   "execution_count": 28,
   "id": "f5e34638",
   "metadata": {},
   "outputs": [
    {
     "name": "stdout",
     "output_type": "stream",
     "text": [
      "--- 23. คัดกรองนักเรียนที่มาจากกรุงเทพหรือภูเก็ตด้วย .isin() ---\n",
      "    ชื่อ  อายุ  คะแนน    เมือง\n",
      "0  สมชาย    18     85  กรุงเทพ\n",
      "2   มานี    18     78  กรุงเทพ\n",
      "4   วีระ    21     95   ภูเก็ต\n",
      "6  จันดี    22     89  กรุงเทพ\n",
      "9  ไพลิน    21     93   ภูเก็ต\n",
      "\n",
      "\n"
     ]
    }
   ],
   "source": [
    "# 10.4 การกรองด้วย .isin()\n",
    "# ใช้เมื่อต้องการกรองข้อมูลที่ค่าในคอลัมน์ต้องเป็นหนึ่งในค่าที่ระบุใน List\n",
    "print(\"--- 23. คัดกรองนักเรียนที่มาจากกรุงเทพหรือภูเก็ตด้วย .isin() ---\")\n",
    "target_cities = ['กรุงเทพ', 'ภูเก็ต']\n",
    "isin_condition = df['เมือง'].isin(target_cities)\n",
    "print(df[isin_condition])\n",
    "print(\"\\n\")"
   ]
  },
  {
   "cell_type": "code",
   "execution_count": 29,
   "id": "859e7f1e",
   "metadata": {},
   "outputs": [
    {
     "name": "stdout",
     "output_type": "stream",
     "text": [
      "--- DataFrame ที่มีค่าขาดหาย (NaN) เพื่อการสาธิต ---\n",
      "     ชื่อ  อายุ  คะแนน      เมือง\n",
      "0   สมชาย  18.0   85.0    กรุงเทพ\n",
      "1  สมหญิง   NaN   92.0  เชียงใหม่\n",
      "2    มานี  18.0   78.0    กรุงเทพ\n",
      "3    ปิติ  20.0    NaN    ขอนแก่น\n",
      "4    วีระ  21.0   95.0        NaN\n",
      "5    ชูใจ  19.0   76.0  เชียงใหม่\n",
      "6   จันดี   NaN   89.0    กรุงเทพ\n",
      "7    มานะ  18.0   91.0  เชียงใหม่\n",
      "8    เพชร  20.0   82.0    ขอนแก่น\n",
      "9   ไพลิน  21.0   93.0     ภูเก็ต\n",
      "\n",
      "==============================\n",
      "\n"
     ]
    }
   ],
   "source": [
    "# -*- coding: utf-8 -*-\n",
    "import pandas as pd\n",
    "import numpy as np\n",
    "\n",
    "# --- 11. การตรวจหาค่าที่ขาดหาย (Missing Values) ---\n",
    "\n",
    "# หมายเหตุ: โค้ดส่วนนี้ต้องใช้ไลบรารี NumPy (ที่ import เข้ามาเป็น np)\n",
    "# กรุณาตรวจสอบให้แน่ใจว่าได้รันเซลล์ที่มี `import numpy as np` ก่อนรันส่วนนี้\n",
    "# เพื่อการสาธิต เราจะสร้าง DataFrame ใหม่ที่มีค่าขาดหาย (NaN)\n",
    "data_with_nan = {\n",
    "    'ชื่อ': ['สมชาย', 'สมหญิง', 'มานี', 'ปิติ', 'วีระ', 'ชูใจ', 'จันดี', 'มานะ', 'เพชร', 'ไพลิน'],\n",
    "    'อายุ': [18, np.nan, 18, 20, 21, 19, np.nan, 18, 20, 21],\n",
    "    'คะแนน': [85, 92, 78, np.nan, 95, 76, 89, 91, 82, 93],\n",
    "    'เมือง': ['กรุงเทพ', 'เชียงใหม่', 'กรุงเทพ', 'ขอนแก่น', np.nan, 'เชียงใหม่', 'กรุงเทพ', 'เชียงใหม่', 'ขอนแก่น', 'ภูเก็ต']\n",
    "}\n",
    "df_nan = pd.DataFrame(data_with_nan)\n",
    "print(\"--- DataFrame ที่มีค่าขาดหาย (NaN) เพื่อการสาธิต ---\")\n",
    "print(df_nan)\n",
    "print(\"\\n\" + \"=\"*30 + \"\\n\")"
   ]
  },
  {
   "cell_type": "code",
   "execution_count": 30,
   "id": "1e6d3b94",
   "metadata": {},
   "outputs": [
    {
     "name": "stdout",
     "output_type": "stream",
     "text": [
      "--- 24. ตรวจหาค่าที่ขาดหายด้วย .isnull() ---\n",
      "    ชื่อ   อายุ  คะแนน  เมือง\n",
      "0  False  False  False  False\n",
      "1  False   True  False  False\n",
      "2  False  False  False  False\n",
      "3  False  False   True  False\n",
      "4  False  False  False   True\n",
      "5  False  False  False  False\n",
      "6  False   True  False  False\n",
      "7  False  False  False  False\n",
      "8  False  False  False  False\n",
      "9  False  False  False  False\n",
      "\n",
      "==============================\n",
      "\n"
     ]
    }
   ],
   "source": [
    "# 11.1 df.isnull() หรือ df.isna(): สร้าง DataFrame ที่มีค่าเป็น Boolean (True ถ้าเป็น NaN)\n",
    "print(\"--- 24. ตรวจหาค่าที่ขาดหายด้วย .isnull() ---\")\n",
    "print(df_nan.isnull())\n",
    "print(\"\\n\" + \"=\"*30 + \"\\n\")\n"
   ]
  },
  {
   "cell_type": "code",
   "execution_count": 31,
   "id": "2f0b7192",
   "metadata": {},
   "outputs": [
    {
     "name": "stdout",
     "output_type": "stream",
     "text": [
      "--- 25. ตรวจหาค่าที่ไม่ขาดหายด้วย .notnull() ---\n",
      "   ชื่อ   อายุ  คะแนน  เมือง\n",
      "0  True   True   True   True\n",
      "1  True  False   True   True\n",
      "2  True   True   True   True\n",
      "3  True   True  False   True\n",
      "4  True   True   True  False\n",
      "5  True   True   True   True\n",
      "6  True  False   True   True\n",
      "7  True   True   True   True\n",
      "8  True   True   True   True\n",
      "9  True   True   True   True\n",
      "\n",
      "==============================\n",
      "\n"
     ]
    }
   ],
   "source": [
    "# 11.2 df.notnull(): ตรงกันข้ามกับ isnull()\n",
    "print(\"--- 25. ตรวจหาค่าที่ไม่ขาดหายด้วย .notnull() ---\")\n",
    "print(df_nan.notnull())\n",
    "print(\"\\n\" + \"=\"*30 + \"\\n\")"
   ]
  },
  {
   "cell_type": "code",
   "execution_count": 32,
   "id": "b593ef55",
   "metadata": {},
   "outputs": [
    {
     "name": "stdout",
     "output_type": "stream",
     "text": [
      "--- 26. นับจำนวนค่าที่ขาดหายในแต่ละคอลัมน์ด้วย .isnull().sum() ---\n",
      "ชื่อ     0\n",
      "อายุ     2\n",
      "คะแนน    1\n",
      "เมือง    1\n",
      "dtype: int64\n",
      "\n",
      "\n"
     ]
    }
   ],
   "source": [
    "# 11.3 ใช้ .sum() เพื่อนับจำนวนค่าที่ขาดหายในแต่ละคอลัมน์ (วิธีที่ใช้บ่อยที่สุด)\n",
    "print(\"--- 26. นับจำนวนค่าที่ขาดหายในแต่ละคอลัมน์ด้วย .isnull().sum() ---\")\n",
    "print(df_nan.isnull().sum())\n",
    "print(\"\\n\")"
   ]
  },
  {
   "cell_type": "code",
   "execution_count": 33,
   "id": "8eed2711",
   "metadata": {},
   "outputs": [
    {
     "name": "stdout",
     "output_type": "stream",
     "text": [
      "--- 27. ลบแถวที่มี NaN อย่างน้อยหนึ่งตัว (default) ---\n",
      "    ชื่อ  อายุ  คะแนน      เมือง\n",
      "0  สมชาย  18.0   85.0    กรุงเทพ\n",
      "2   มานี  18.0   78.0    กรุงเทพ\n",
      "5   ชูใจ  19.0   76.0  เชียงใหม่\n",
      "7   มานะ  18.0   91.0  เชียงใหม่\n",
      "8   เพชร  20.0   82.0    ขอนแก่น\n",
      "9  ไพลิน  21.0   93.0     ภูเก็ต\n",
      "\n",
      "==============================\n",
      "\n"
     ]
    }
   ],
   "source": [
    "# --- 12. การจัดการค่าที่ขาดหาย: กลยุทธ์ที่ 1 - การลบด้วย .dropna() ---\n",
    "\n",
    "# 12.1 df.dropna(): ลบ \"แถว\" ที่มี NaN อย่างน้อยหนึ่งตัว (default)\n",
    "print(\"--- 27. ลบแถวที่มี NaN อย่างน้อยหนึ่งตัว (default) ---\")\n",
    "print(df_nan.dropna())\n",
    "print(\"\\n\" + \"=\"*30 + \"\\n\")"
   ]
  },
  {
   "cell_type": "code",
   "execution_count": 34,
   "id": "33809e67",
   "metadata": {},
   "outputs": [
    {
     "name": "stdout",
     "output_type": "stream",
     "text": [
      "--- 28. ลบคอลัมน์ที่มี NaN ---\n",
      "     ชื่อ\n",
      "0   สมชาย\n",
      "1  สมหญิง\n",
      "2    มานี\n",
      "3    ปิติ\n",
      "4    วีระ\n",
      "5    ชูใจ\n",
      "6   จันดี\n",
      "7    มานะ\n",
      "8    เพชร\n",
      "9   ไพลิน\n",
      "\n",
      "==============================\n",
      "\n"
     ]
    }
   ],
   "source": [
    "# 12.2 df.dropna(axis='columns'): ลบ \"คอลัมน์\" ที่มี NaN\n",
    "print(\"--- 28. ลบคอลัมน์ที่มี NaN ---\")\n",
    "print(df_nan.dropna(axis='columns')) # หรือ axis=1\n",
    "print(\"\\n\" + \"=\"*30 + \"\\n\")"
   ]
  },
  {
   "cell_type": "code",
   "execution_count": 35,
   "id": "d859024d",
   "metadata": {},
   "outputs": [
    {
     "name": "stdout",
     "output_type": "stream",
     "text": [
      "--- DataFrame สำหรับสาธิต how='all' (เพิ่มแถวที่เป็น NaN ทั้งหมด) ---\n",
      "     ชื่อ  อายุ  คะแนน      เมือง\n",
      "6   จันดี   NaN   89.0    กรุงเทพ\n",
      "7    มานะ  18.0   91.0  เชียงใหม่\n",
      "8    เพชร  20.0   82.0    ขอนแก่น\n",
      "9   ไพลิน  21.0   93.0     ภูเก็ต\n",
      "10    NaN   NaN    NaN        NaN\n",
      "\n",
      "--- 29. ผลลัพธ์หลังใช้ .dropna(how='all') ---\n",
      "     ชื่อ  อายุ  คะแนน      เมือง\n",
      "0   สมชาย  18.0   85.0    กรุงเทพ\n",
      "1  สมหญิง   NaN   92.0  เชียงใหม่\n",
      "2    มานี  18.0   78.0    กรุงเทพ\n",
      "3    ปิติ  20.0    NaN    ขอนแก่น\n",
      "4    วีระ  21.0   95.0        NaN\n",
      "5    ชูใจ  19.0   76.0  เชียงใหม่\n",
      "6   จันดี   NaN   89.0    กรุงเทพ\n",
      "7    มานะ  18.0   91.0  เชียงใหม่\n",
      "8    เพชร  20.0   82.0    ขอนแก่น\n",
      "9   ไพลิน  21.0   93.0     ภูเก็ต\n",
      "\n",
      "==============================\n",
      "\n"
     ]
    }
   ],
   "source": [
    "# 12.3 df.dropna(how='all'): ลบแถวก็ต่อเมื่อ \"ทุกค่า\" ในแถวนั้นเป็น NaN\n",
    "# สร้าง DataFrame สำหรับสาธิต how='all' โดยเพิ่มแถวที่เป็น NaN ทั้งหมดเข้าไป\n",
    "df_how_all_demo = df_nan.copy()\n",
    "all_nan_row = pd.DataFrame([{'ชื่อ': np.nan, 'อายุ': np.nan, 'คะแนน': np.nan, 'เมือง': np.nan}])\n",
    "df_how_all_demo = pd.concat([df_how_all_demo, all_nan_row], ignore_index=True)\n",
    "print(\"--- DataFrame สำหรับสาธิต how='all' (เพิ่มแถวที่เป็น NaN ทั้งหมด) ---\")\n",
    "print(df_how_all_demo.tail()) # แสดงส่วนท้ายเพื่อให้เห็นแถวที่เพิ่มเข้าไป\n",
    "print(\"\\n--- 29. ผลลัพธ์หลังใช้ .dropna(how='all') ---\")\n",
    "print(df_how_all_demo.dropna(how='all'))\n",
    "print(\"\\n\" + \"=\"*30 + \"\\n\")"
   ]
  },
  {
   "cell_type": "code",
   "execution_count": 36,
   "id": "b244e846",
   "metadata": {},
   "outputs": [
    {
     "name": "stdout",
     "output_type": "stream",
     "text": [
      "--- 30. ลบแถวโดยพิจารณา NaN แค่ในคอลัมน์ 'คะแนน' ---\n",
      "     ชื่อ  อายุ  คะแนน      เมือง\n",
      "0   สมชาย  18.0   85.0    กรุงเทพ\n",
      "1  สมหญิง   NaN   92.0  เชียงใหม่\n",
      "2    มานี  18.0   78.0    กรุงเทพ\n",
      "4    วีระ  21.0   95.0        NaN\n",
      "5    ชูใจ  19.0   76.0  เชียงใหม่\n",
      "6   จันดี   NaN   89.0    กรุงเทพ\n",
      "7    มานะ  18.0   91.0  เชียงใหม่\n",
      "8    เพชร  20.0   82.0    ขอนแก่น\n",
      "9   ไพลิน  21.0   93.0     ภูเก็ต\n",
      "\n",
      "\n"
     ]
    }
   ],
   "source": [
    "# 12.4 df.dropna(subset=[...]): พิจารณา NaN แค่ในคอลัมน์ที่ระบุเพื่อตัดสินใจลบแถว\n",
    "print(\"--- 30. ลบแถวโดยพิจารณา NaN แค่ในคอลัมน์ 'คะแนน' ---\")\n",
    "# แถวที่มี NaN ในคอลัมน์ 'คะแนน' จะถูกลบออกไป\n",
    "print(df_nan.dropna(subset=['คะแนน']))\n",
    "print(\"\\n\")"
   ]
  },
  {
   "cell_type": "code",
   "execution_count": 37,
   "id": "b555c4b7",
   "metadata": {},
   "outputs": [
    {
     "name": "stdout",
     "output_type": "stream",
     "text": [
      "--- DataFrame ต้นฉบับสำหรับสาธิต .fillna() ---\n",
      "     ชื่อ  อายุ  คะแนน      เมือง\n",
      "0   สมชาย  18.0   85.0    กรุงเทพ\n",
      "1  สมหญิง   NaN   92.0  เชียงใหม่\n",
      "2    มานี  18.0   78.0    กรุงเทพ\n",
      "3    ปิติ  20.0    NaN    ขอนแก่น\n",
      "4    วีระ  21.0   95.0        NaN\n",
      "5    ชูใจ  19.0   76.0  เชียงใหม่\n",
      "6   จันดี   NaN   89.0    กรุงเทพ\n",
      "7    มานะ  18.0   91.0  เชียงใหม่\n",
      "8    เพชร  20.0   82.0    ขอนแก่น\n",
      "9   ไพลิน  21.0   93.0     ภูเก็ต\n",
      "\n",
      "==============================\n",
      "\n",
      "--- 31. แทนที่ NaN ทั้งหมดด้วย 0 ---\n",
      "     ชื่อ  อายุ  คะแนน      เมือง\n",
      "0   สมชาย  18.0   85.0    กรุงเทพ\n",
      "1  สมหญิง   0.0   92.0  เชียงใหม่\n",
      "2    มานี  18.0   78.0    กรุงเทพ\n",
      "3    ปิติ  20.0    0.0    ขอนแก่น\n",
      "4    วีระ  21.0   95.0          0\n",
      "5    ชูใจ  19.0   76.0  เชียงใหม่\n",
      "6   จันดี   0.0   89.0    กรุงเทพ\n",
      "7    มานะ  18.0   91.0  เชียงใหม่\n",
      "8    เพชร  20.0   82.0    ขอนแก่น\n",
      "9   ไพลิน  21.0   93.0     ภูเก็ต\n",
      "\n",
      "\n"
     ]
    }
   ],
   "source": [
    "# --- 13. การจัดการค่าที่ขาดหาย: กลยุทธ์ที่ 2 - การเติมด้วย .fillna() ---\n",
    "print(\"--- DataFrame ต้นฉบับสำหรับสาธิต .fillna() ---\")\n",
    "print(df_nan)\n",
    "print(\"\\n\" + \"=\"*30 + \"\\n\")\n",
    "\n",
    "# 13.1 แทนที่ด้วยค่าคงที่ (Constant Value)\n",
    "print(\"--- 31. แทนที่ NaN ทั้งหมดด้วย 0 ---\")\n",
    "print(df_nan.fillna(0))\n",
    "print(\"\\n\")"
   ]
  },
  {
   "cell_type": "code",
   "execution_count": 38,
   "id": "6f36759b",
   "metadata": {},
   "outputs": [
    {
     "name": "stdout",
     "output_type": "stream",
     "text": [
      "--- DataFrame ต้นฉบับสำหรับสาธิต .fillna() ---\n",
      "     ชื่อ  อายุ  คะแนน      เมือง\n",
      "0   สมชาย  18.0   85.0    กรุงเทพ\n",
      "1  สมหญิง   NaN   92.0  เชียงใหม่\n",
      "2    มานี  18.0   78.0    กรุงเทพ\n",
      "3    ปิติ  20.0    NaN    ขอนแก่น\n",
      "4    วีระ  21.0   95.0        NaN\n",
      "5    ชูใจ  19.0   76.0  เชียงใหม่\n",
      "6   จันดี   NaN   89.0    กรุงเทพ\n",
      "7    มานะ  18.0   91.0  เชียงใหม่\n",
      "8    เพชร  20.0   82.0    ขอนแก่น\n",
      "9   ไพลิน  21.0   93.0     ภูเก็ต\n",
      "\n",
      "==============================\n",
      "\n",
      "--- 32. แทนที่ NaN ในคอลัมน์ 'เมือง' ด้วย 'ไม่ระบุ' ---\n",
      "     ชื่อ  อายุ  คะแนน      เมือง\n",
      "0   สมชาย  18.0   85.0    กรุงเทพ\n",
      "1  สมหญิง   NaN   92.0  เชียงใหม่\n",
      "2    มานี  18.0   78.0    กรุงเทพ\n",
      "3    ปิติ  20.0    NaN    ขอนแก่น\n",
      "4    วีระ  21.0   95.0    ไม่ระบุ\n",
      "5    ชูใจ  19.0   76.0  เชียงใหม่\n",
      "6   จันดี   NaN   89.0    กรุงเทพ\n",
      "7    มานะ  18.0   91.0  เชียงใหม่\n",
      "8    เพชร  20.0   82.0    ขอนแก่น\n",
      "9   ไพลิน  21.0   93.0     ภูเก็ต\n",
      "\n",
      "==============================\n",
      "\n"
     ]
    }
   ],
   "source": [
    "# --- 13. การจัดการค่าที่ขาดหาย: กลยุทธ์ที่ 2 - การเติมด้วย .fillna() ---\n",
    "print(\"--- DataFrame ต้นฉบับสำหรับสาธิต .fillna() ---\")\n",
    "print(df_nan)\n",
    "print(\"\\n\" + \"=\"*30 + \"\\n\")\n",
    "\n",
    "print(\"--- 32. แทนที่ NaN ในคอลัมน์ 'เมือง' ด้วย 'ไม่ระบุ' ---\")\n",
    "df_filled_city = df_nan.copy() # สร้างสำเนาเพื่อไม่ให้กระทบตัวอย่างอื่น\n",
    "df_filled_city['เมือง'] = df_filled_city['เมือง'].fillna('ไม่ระบุ')\n",
    "print(df_filled_city)\n",
    "print(\"\\n\" + \"=\"*30 + \"\\n\")"
   ]
  },
  {
   "cell_type": "code",
   "execution_count": 39,
   "id": "d9bdb734",
   "metadata": {},
   "outputs": [
    {
     "name": "stdout",
     "output_type": "stream",
     "text": [
      "--- DataFrame ต้นฉบับสำหรับสาธิต .fillna() ---\n",
      "     ชื่อ  อายุ  คะแนน      เมือง\n",
      "0   สมชาย  18.0   85.0    กรุงเทพ\n",
      "1  สมหญิง   NaN   92.0  เชียงใหม่\n",
      "2    มานี  18.0   78.0    กรุงเทพ\n",
      "3    ปิติ  20.0    NaN    ขอนแก่น\n",
      "4    วีระ  21.0   95.0        NaN\n",
      "5    ชูใจ  19.0   76.0  เชียงใหม่\n",
      "6   จันดี   NaN   89.0    กรุงเทพ\n",
      "7    มานะ  18.0   91.0  เชียงใหม่\n",
      "8    เพชร  20.0   82.0    ขอนแก่น\n",
      "9   ไพลิน  21.0   93.0     ภูเก็ต\n",
      "\n",
      "==============================\n",
      "\n",
      "--- 33. แทนที่ NaN ใน 'อายุ' ด้วยค่าเฉลี่ย (mean) ---\n",
      "ค่าเฉลี่ยของอายุ: 19.38\n",
      "0    18.000\n",
      "1    19.375\n",
      "2    18.000\n",
      "3    20.000\n",
      "4    21.000\n",
      "5    19.000\n",
      "6    19.375\n",
      "7    18.000\n",
      "8    20.000\n",
      "9    21.000\n",
      "Name: อายุ, dtype: float64\n",
      "\n",
      "\n"
     ]
    }
   ],
   "source": [
    "# --- 13. การจัดการค่าที่ขาดหาย: กลยุทธ์ที่ 2 - การเติมด้วย .fillna() ---\n",
    "print(\"--- DataFrame ต้นฉบับสำหรับสาธิต .fillna() ---\")\n",
    "print(df_nan)\n",
    "print(\"\\n\" + \"=\"*30 + \"\\n\")\n",
    "\n",
    "# 13.2 แทนที่ด้วยค่าทางสถิติ (Statistical Value)\n",
    "print(\"--- 33. แทนที่ NaN ใน 'อายุ' ด้วยค่าเฉลี่ย (mean) ---\")\n",
    "age_mean = df_nan['อายุ'].mean()\n",
    "print(f\"ค่าเฉลี่ยของอายุ: {age_mean:.2f}\")\n",
    "print(df_nan['อายุ'].fillna(age_mean))\n",
    "print(\"\\n\")"
   ]
  },
  {
   "cell_type": "code",
   "execution_count": 40,
   "id": "333470ce",
   "metadata": {},
   "outputs": [
    {
     "name": "stdout",
     "output_type": "stream",
     "text": [
      "--- DataFrame ต้นฉบับสำหรับสาธิต .fillna() ---\n",
      "     ชื่อ  อายุ  คะแนน      เมือง\n",
      "0   สมชาย  18.0   85.0    กรุงเทพ\n",
      "1  สมหญิง   NaN   92.0  เชียงใหม่\n",
      "2    มานี  18.0   78.0    กรุงเทพ\n",
      "3    ปิติ  20.0    NaN    ขอนแก่น\n",
      "4    วีระ  21.0   95.0        NaN\n",
      "5    ชูใจ  19.0   76.0  เชียงใหม่\n",
      "6   จันดี   NaN   89.0    กรุงเทพ\n",
      "7    มานะ  18.0   91.0  เชียงใหม่\n",
      "8    เพชร  20.0   82.0    ขอนแก่น\n",
      "9   ไพลิน  21.0   93.0     ภูเก็ต\n",
      "\n",
      "==============================\n",
      "\n",
      "--- 34. แทนที่ NaN ใน 'คะแนน' ด้วยค่ามัธยฐาน (median) ---\n",
      "ค่ามัธยฐานของคะแนน: 89.0\n",
      "0    85.0\n",
      "1    92.0\n",
      "2    78.0\n",
      "3    89.0\n",
      "4    95.0\n",
      "5    76.0\n",
      "6    89.0\n",
      "7    91.0\n",
      "8    82.0\n",
      "9    93.0\n",
      "Name: คะแนน, dtype: float64\n",
      "\n",
      "\n"
     ]
    }
   ],
   "source": [
    "# --- 13. การจัดการค่าที่ขาดหาย: กลยุทธ์ที่ 2 - การเติมด้วย .fillna() ---\n",
    "print(\"--- DataFrame ต้นฉบับสำหรับสาธิต .fillna() ---\")\n",
    "print(df_nan)\n",
    "print(\"\\n\" + \"=\"*30 + \"\\n\")\n",
    "\n",
    "print(\"--- 34. แทนที่ NaN ใน 'คะแนน' ด้วยค่ามัธยฐาน (median) ---\")\n",
    "score_median = df_nan['คะแนน'].median()\n",
    "print(f\"ค่ามัธยฐานของคะแนน: {score_median}\")\n",
    "print(df_nan['คะแนน'].fillna(score_median))\n",
    "print(\"\\n\")"
   ]
  },
  {
   "cell_type": "code",
   "execution_count": 41,
   "id": "03429bed",
   "metadata": {},
   "outputs": [
    {
     "name": "stdout",
     "output_type": "stream",
     "text": [
      "--- DataFrame ต้นฉบับสำหรับสาธิต .fillna() ---\n",
      "     ชื่อ  อายุ  คะแนน      เมือง\n",
      "0   สมชาย  18.0   85.0    กรุงเทพ\n",
      "1  สมหญิง   NaN   92.0  เชียงใหม่\n",
      "2    มานี  18.0   78.0    กรุงเทพ\n",
      "3    ปิติ  20.0    NaN    ขอนแก่น\n",
      "4    วีระ  21.0   95.0        NaN\n",
      "5    ชูใจ  19.0   76.0  เชียงใหม่\n",
      "6   จันดี   NaN   89.0    กรุงเทพ\n",
      "7    มานะ  18.0   91.0  เชียงใหม่\n",
      "8    เพชร  20.0   82.0    ขอนแก่น\n",
      "9   ไพลิน  21.0   93.0     ภูเก็ต\n",
      "\n",
      "==============================\n",
      "\n",
      "--- 35. แทนที่ NaN ใน 'เมือง' ด้วยค่าฐานนิยม (mode) ---\n",
      "ค่าฐานนิยมของเมือง: กรุงเทพ\n",
      "0      กรุงเทพ\n",
      "1    เชียงใหม่\n",
      "2      กรุงเทพ\n",
      "3      ขอนแก่น\n",
      "4      กรุงเทพ\n",
      "5    เชียงใหม่\n",
      "6      กรุงเทพ\n",
      "7    เชียงใหม่\n",
      "8      ขอนแก่น\n",
      "9       ภูเก็ต\n",
      "Name: เมือง, dtype: object\n",
      "\n",
      "==============================\n",
      "\n"
     ]
    }
   ],
   "source": [
    "# --- 13. การจัดการค่าที่ขาดหาย: กลยุทธ์ที่ 2 - การเติมด้วย .fillna() ---\n",
    "print(\"--- DataFrame ต้นฉบับสำหรับสาธิต .fillna() ---\")\n",
    "print(df_nan)\n",
    "print(\"\\n\" + \"=\"*30 + \"\\n\")\n",
    "\n",
    "print(\"--- 35. แทนที่ NaN ใน 'เมือง' ด้วยค่าฐานนิยม (mode) ---\")\n",
    "city_mode = df_nan['เมือง'].mode()[0] # .mode() คืนค่าเป็น Series จึงต้องเลือกตัวแรก [0]\n",
    "print(f\"ค่าฐานนิยมของเมือง: {city_mode}\")\n",
    "print(df_nan['เมือง'].fillna(city_mode))\n",
    "print(\"\\n\" + \"=\"*30 + \"\\n\")"
   ]
  },
  {
   "cell_type": "code",
   "execution_count": 42,
   "id": "4ce76382",
   "metadata": {},
   "outputs": [
    {
     "name": "stdout",
     "output_type": "stream",
     "text": [
      "--- DataFrame ต้นฉบับสำหรับสาธิต .fillna() ---\n",
      "     ชื่อ  อายุ  คะแนน      เมือง\n",
      "0   สมชาย  18.0   85.0    กรุงเทพ\n",
      "1  สมหญิง   NaN   92.0  เชียงใหม่\n",
      "2    มานี  18.0   78.0    กรุงเทพ\n",
      "3    ปิติ  20.0    NaN    ขอนแก่น\n",
      "4    วีระ  21.0   95.0        NaN\n",
      "5    ชูใจ  19.0   76.0  เชียงใหม่\n",
      "6   จันดี   NaN   89.0    กรุงเทพ\n",
      "7    มานะ  18.0   91.0  เชียงใหม่\n",
      "8    เพชร  20.0   82.0    ขอนแก่น\n",
      "9   ไพลิน  21.0   93.0     ภูเก็ต\n",
      "\n",
      "==============================\n",
      "\n",
      "--- 36. แทนที่ NaN ด้วยค่าก่อนหน้า (Forward Fill) ---\n",
      "     ชื่อ  อายุ  คะแนน      เมือง\n",
      "0   สมชาย  18.0   85.0    กรุงเทพ\n",
      "1  สมหญิง  18.0   92.0  เชียงใหม่\n",
      "2    มานี  18.0   78.0    กรุงเทพ\n",
      "3    ปิติ  20.0   78.0    ขอนแก่น\n",
      "4    วีระ  21.0   95.0    ขอนแก่น\n",
      "5    ชูใจ  19.0   76.0  เชียงใหม่\n",
      "6   จันดี  19.0   89.0    กรุงเทพ\n",
      "7    มานะ  18.0   91.0  เชียงใหม่\n",
      "8    เพชร  20.0   82.0    ขอนแก่น\n",
      "9   ไพลิน  21.0   93.0     ภูเก็ต\n",
      "\n",
      "\n"
     ]
    },
    {
     "name": "stderr",
     "output_type": "stream",
     "text": [
      "C:\\Users\\LOBSTER69\\AppData\\Local\\Temp\\ipykernel_16916\\570268905.py:8: FutureWarning: DataFrame.fillna with 'method' is deprecated and will raise in a future version. Use obj.ffill() or obj.bfill() instead.\n",
      "  print(df_nan.fillna(method='ffill'))\n"
     ]
    }
   ],
   "source": [
    "# --- 13. การจัดการค่าที่ขาดหาย: กลยุทธ์ที่ 2 - การเติมด้วย .fillna() ---\n",
    "print(\"--- DataFrame ต้นฉบับสำหรับสาธิต .fillna() ---\")\n",
    "print(df_nan)\n",
    "print(\"\\n\" + \"=\"*30 + \"\\n\")\n",
    "\n",
    "# 13.3 แทนที่ด้วยค่าก่อนหน้า/ถัดไป (Propagation)\n",
    "print(\"--- 36. แทนที่ NaN ด้วยค่าก่อนหน้า (Forward Fill) ---\")\n",
    "print(df_nan.fillna(method='ffill'))\n",
    "print(\"\\n\")"
   ]
  },
  {
   "cell_type": "code",
   "execution_count": 43,
   "id": "36613b7b",
   "metadata": {},
   "outputs": [
    {
     "name": "stdout",
     "output_type": "stream",
     "text": [
      "--- DataFrame ต้นฉบับสำหรับสาธิต .fillna() ---\n",
      "     ชื่อ  อายุ  คะแนน      เมือง\n",
      "0   สมชาย  18.0   85.0    กรุงเทพ\n",
      "1  สมหญิง   NaN   92.0  เชียงใหม่\n",
      "2    มานี  18.0   78.0    กรุงเทพ\n",
      "3    ปิติ  20.0    NaN    ขอนแก่น\n",
      "4    วีระ  21.0   95.0        NaN\n",
      "5    ชูใจ  19.0   76.0  เชียงใหม่\n",
      "6   จันดี   NaN   89.0    กรุงเทพ\n",
      "7    มานะ  18.0   91.0  เชียงใหม่\n",
      "8    เพชร  20.0   82.0    ขอนแก่น\n",
      "9   ไพลิน  21.0   93.0     ภูเก็ต\n",
      "\n",
      "==============================\n",
      "\n",
      "--- 37. แทนที่ NaN ด้วยค่าถัดไป (Backward Fill) ---\n",
      "     ชื่อ  อายุ  คะแนน      เมือง\n",
      "0   สมชาย  18.0   85.0    กรุงเทพ\n",
      "1  สมหญิง  18.0   92.0  เชียงใหม่\n",
      "2    มานี  18.0   78.0    กรุงเทพ\n",
      "3    ปิติ  20.0   95.0    ขอนแก่น\n",
      "4    วีระ  21.0   95.0  เชียงใหม่\n",
      "5    ชูใจ  19.0   76.0  เชียงใหม่\n",
      "6   จันดี  18.0   89.0    กรุงเทพ\n",
      "7    มานะ  18.0   91.0  เชียงใหม่\n",
      "8    เพชร  20.0   82.0    ขอนแก่น\n",
      "9   ไพลิน  21.0   93.0     ภูเก็ต\n",
      "\n",
      "\n"
     ]
    },
    {
     "name": "stderr",
     "output_type": "stream",
     "text": [
      "C:\\Users\\LOBSTER69\\AppData\\Local\\Temp\\ipykernel_16916\\145887521.py:7: FutureWarning: DataFrame.fillna with 'method' is deprecated and will raise in a future version. Use obj.ffill() or obj.bfill() instead.\n",
      "  print(df_nan.fillna(method='bfill'))\n"
     ]
    }
   ],
   "source": [
    "# --- 13. การจัดการค่าที่ขาดหาย: กลยุทธ์ที่ 2 - การเติมด้วย .fillna() ---\n",
    "print(\"--- DataFrame ต้นฉบับสำหรับสาธิต .fillna() ---\")\n",
    "print(df_nan)\n",
    "print(\"\\n\" + \"=\"*30 + \"\\n\")\n",
    "\n",
    "print(\"--- 37. แทนที่ NaN ด้วยค่าถัดไป (Backward Fill) ---\")\n",
    "print(df_nan.fillna(method='bfill'))\n",
    "print(\"\\n\")"
   ]
  },
  {
   "cell_type": "code",
   "execution_count": 44,
   "id": "10a40288",
   "metadata": {},
   "outputs": [
    {
     "name": "stdout",
     "output_type": "stream",
     "text": [
      "--- DataFrame ต้นฉบับสำหรับสาธิต .drop() ---\n",
      "     ชื่อ  อายุ  คะแนน      เมือง\n",
      "0   สมชาย    18     85    กรุงเทพ\n",
      "1  สมหญิง    19     92  เชียงใหม่\n",
      "2    มานี    18     78    กรุงเทพ\n",
      "3    ปิติ    20     88    ขอนแก่น\n",
      "4    วีระ    21     95     ภูเก็ต\n",
      "5    ชูใจ    19     76  เชียงใหม่\n",
      "6   จันดี    22     89    กรุงเทพ\n",
      "7    มานะ    18     91  เชียงใหม่\n",
      "8    เพชร    20     82    ขอนแก่น\n",
      "9   ไพลิน    21     93     ภูเก็ต\n",
      "\n",
      "==============================\n",
      "\n",
      "--- 40. ลบคอลัมน์ 'เมือง' ---\n",
      "     ชื่อ  อายุ  คะแนน\n",
      "0   สมชาย    18     85\n",
      "1  สมหญิง    19     92\n",
      "2    มานี    18     78\n",
      "3    ปิติ    20     88\n",
      "4    วีระ    21     95\n",
      "5    ชูใจ    19     76\n",
      "6   จันดี    22     89\n",
      "7    มานะ    18     91\n",
      "8    เพชร    20     82\n",
      "9   ไพลิน    21     93\n",
      "\n",
      "==============================\n",
      "\n"
     ]
    }
   ],
   "source": [
    "# --- 15. การลบคอลัมน์/แถวด้วย .drop() ---\n",
    "# ใช้สำหรับลบคอลัมน์หรือแถวที่ไม่ต้องการ\n",
    "print(\"--- DataFrame ต้นฉบับสำหรับสาธิต .drop() ---\")\n",
    "print(df)\n",
    "print(\"\\n\" + \"=\"*30 + \"\\n\")\n",
    "\n",
    "# 15.1 ลบคอลัมน์ (ต้องระบุ axis=1)\n",
    "print(\"--- 40. ลบคอลัมน์ 'เมือง' ---\")\n",
    "df_dropped_col = df.drop('เมือง', axis=1)\n",
    "print(df_dropped_col)\n",
    "print(\"\\n\" + \"=\"*30 + \"\\n\")"
   ]
  },
  {
   "cell_type": "code",
   "execution_count": 45,
   "id": "6d9cfd3d",
   "metadata": {},
   "outputs": [
    {
     "name": "stdout",
     "output_type": "stream",
     "text": [
      "--- DataFrame ต้นฉบับสำหรับสาธิต .drop() ---\n",
      "     ชื่อ  อายุ  คะแนน      เมือง\n",
      "0   สมชาย    18     85    กรุงเทพ\n",
      "1  สมหญิง    19     92  เชียงใหม่\n",
      "2    มานี    18     78    กรุงเทพ\n",
      "3    ปิติ    20     88    ขอนแก่น\n",
      "4    วีระ    21     95     ภูเก็ต\n",
      "5    ชูใจ    19     76  เชียงใหม่\n",
      "6   จันดี    22     89    กรุงเทพ\n",
      "7    มานะ    18     91  เชียงใหม่\n",
      "8    เพชร    20     82    ขอนแก่น\n",
      "9   ไพลิน    21     93     ภูเก็ต\n",
      "\n",
      "==============================\n",
      "\n",
      "--- 41. ลบแถวที่มี index label เป็น 2 ---\n",
      "     ชื่อ  อายุ  คะแนน      เมือง\n",
      "0   สมชาย    18     85    กรุงเทพ\n",
      "1  สมหญิง    19     92  เชียงใหม่\n",
      "3    ปิติ    20     88    ขอนแก่น\n",
      "4    วีระ    21     95     ภูเก็ต\n",
      "5    ชูใจ    19     76  เชียงใหม่\n",
      "6   จันดี    22     89    กรุงเทพ\n",
      "7    มานะ    18     91  เชียงใหม่\n",
      "8    เพชร    20     82    ขอนแก่น\n",
      "9   ไพลิน    21     93     ภูเก็ต\n",
      "\n",
      "==============================\n",
      "\n"
     ]
    }
   ],
   "source": [
    "# --- 15. การลบคอลัมน์/แถวด้วย .drop() ---\n",
    "# ใช้สำหรับลบคอลัมน์หรือแถวที่ไม่ต้องการ\n",
    "print(\"--- DataFrame ต้นฉบับสำหรับสาธิต .drop() ---\")\n",
    "print(df)\n",
    "print(\"\\n\" + \"=\"*30 + \"\\n\")\n",
    "\n",
    "# 15.2 ลบแถว (axis=0 เป็นค่า default)\n",
    "print(\"--- 41. ลบแถวที่มี index label เป็น 2 ---\")\n",
    "df_dropped_row = df.drop(2, axis=0) # หรือ df.drop(2)\n",
    "print(df_dropped_row)\n",
    "print(\"\\n\" + \"=\"*30 + \"\\n\")"
   ]
  },
  {
   "cell_type": "code",
   "execution_count": 46,
   "id": "6dbecfb4",
   "metadata": {},
   "outputs": [
    {
     "name": "stdout",
     "output_type": "stream",
     "text": [
      "--- DataFrame ต้นฉบับสำหรับสาธิต .drop() ---\n",
      "     ชื่อ  อายุ  คะแนน      เมือง\n",
      "0   สมชาย    18     85    กรุงเทพ\n",
      "1  สมหญิง    19     92  เชียงใหม่\n",
      "2    มานี    18     78    กรุงเทพ\n",
      "3    ปิติ    20     88    ขอนแก่น\n",
      "4    วีระ    21     95     ภูเก็ต\n",
      "5    ชูใจ    19     76  เชียงใหม่\n",
      "6   จันดี    22     89    กรุงเทพ\n",
      "7    มานะ    18     91  เชียงใหม่\n",
      "8    เพชร    20     82    ขอนแก่น\n",
      "9   ไพลิน    21     93     ภูเก็ต\n",
      "\n",
      "==============================\n",
      "\n",
      "--- 42. ลบหลายคอลัมน์ ('อายุ', 'เมือง') ---\n",
      "     ชื่อ  คะแนน\n",
      "0   สมชาย     85\n",
      "1  สมหญิง     92\n",
      "2    มานี     78\n",
      "3    ปิติ     88\n",
      "4    วีระ     95\n",
      "5    ชูใจ     76\n",
      "6   จันดี     89\n",
      "7    มานะ     91\n",
      "8    เพชร     82\n",
      "9   ไพลิน     93\n",
      "\n",
      "\n"
     ]
    }
   ],
   "source": [
    "# --- 15. การลบคอลัมน์/แถวด้วย .drop() ---\n",
    "# ใช้สำหรับลบคอลัมน์หรือแถวที่ไม่ต้องการ\n",
    "print(\"--- DataFrame ต้นฉบับสำหรับสาธิต .drop() ---\")\n",
    "print(df)\n",
    "print(\"\\n\" + \"=\"*30 + \"\\n\")\n",
    "\n",
    "# 15.3 ลบหลายรายการพร้อมกันโดยใส่เป็น List\n",
    "print(\"--- 42. ลบหลายคอลัมน์ ('อายุ', 'เมือง') ---\")\n",
    "df_dropped_multi_cols = df.drop(['อายุ', 'เมือง'], axis=1)\n",
    "print(df_dropped_multi_cols)\n",
    "print(\"\\n\")"
   ]
  },
  {
   "cell_type": "code",
   "execution_count": 47,
   "id": "9e5b966e",
   "metadata": {},
   "outputs": [
    {
     "name": "stdout",
     "output_type": "stream",
     "text": [
      "--- DataFrame ต้นฉบับสำหรับสาธิต .drop() ---\n",
      "     ชื่อ  อายุ  คะแนน      เมือง\n",
      "0   สมชาย    18     85    กรุงเทพ\n",
      "1  สมหญิง    19     92  เชียงใหม่\n",
      "2    มานี    18     78    กรุงเทพ\n",
      "3    ปิติ    20     88    ขอนแก่น\n",
      "4    วีระ    21     95     ภูเก็ต\n",
      "5    ชูใจ    19     76  เชียงใหม่\n",
      "6   จันดี    22     89    กรุงเทพ\n",
      "7    มานะ    18     91  เชียงใหม่\n",
      "8    เพชร    20     82    ขอนแก่น\n",
      "9   ไพลิน    21     93     ภูเก็ต\n",
      "\n",
      "==============================\n",
      "\n",
      "--- 43. ลบหลายแถว (index 0, 3, 5) ---\n",
      "     ชื่อ  อายุ  คะแนน      เมือง\n",
      "1  สมหญิง    19     92  เชียงใหม่\n",
      "2    มานี    18     78    กรุงเทพ\n",
      "4    วีระ    21     95     ภูเก็ต\n",
      "6   จันดี    22     89    กรุงเทพ\n",
      "7    มานะ    18     91  เชียงใหม่\n",
      "8    เพชร    20     82    ขอนแก่น\n",
      "9   ไพลิน    21     93     ภูเก็ต\n",
      "\n",
      "\n"
     ]
    }
   ],
   "source": [
    "# --- 15. การลบคอลัมน์/แถวด้วย .drop() ---\n",
    "# ใช้สำหรับลบคอลัมน์หรือแถวที่ไม่ต้องการ\n",
    "print(\"--- DataFrame ต้นฉบับสำหรับสาธิต .drop() ---\")\n",
    "print(df)\n",
    "print(\"\\n\" + \"=\"*30 + \"\\n\")\n",
    "\n",
    "print(\"--- 43. ลบหลายแถว (index 0, 3, 5) ---\")\n",
    "df_dropped_multi_rows = df.drop([0, 3, 5])\n",
    "print(df_dropped_multi_rows)\n",
    "print(\"\\n\")"
   ]
  },
  {
   "cell_type": "code",
   "execution_count": 48,
   "id": "b18b9561",
   "metadata": {},
   "outputs": [
    {
     "name": "stdout",
     "output_type": "stream",
     "text": [
      "--- DataFrame ต้นฉบับสำหรับสาธิต .sort_values() ---\n",
      "     ชื่อ  อายุ  คะแนน      เมือง\n",
      "0   สมชาย    18     85    กรุงเทพ\n",
      "1  สมหญิง    19     92  เชียงใหม่\n",
      "2    มานี    18     78    กรุงเทพ\n",
      "3    ปิติ    20     88    ขอนแก่น\n",
      "4    วีระ    21     95     ภูเก็ต\n",
      "5    ชูใจ    19     76  เชียงใหม่\n",
      "6   จันดี    22     89    กรุงเทพ\n",
      "7    มานะ    18     91  เชียงใหม่\n",
      "8    เพชร    20     82    ขอนแก่น\n",
      "9   ไพลิน    21     93     ภูเก็ต\n",
      "\n",
      "==============================\n",
      "\n",
      "--- 44. เรียงลำดับตามคะแนน (น้อยไปมาก) ---\n",
      "     ชื่อ  อายุ  คะแนน      เมือง\n",
      "5    ชูใจ    19     76  เชียงใหม่\n",
      "2    มานี    18     78    กรุงเทพ\n",
      "8    เพชร    20     82    ขอนแก่น\n",
      "0   สมชาย    18     85    กรุงเทพ\n",
      "3    ปิติ    20     88    ขอนแก่น\n",
      "6   จันดี    22     89    กรุงเทพ\n",
      "7    มานะ    18     91  เชียงใหม่\n",
      "1  สมหญิง    19     92  เชียงใหม่\n",
      "9   ไพลิน    21     93     ภูเก็ต\n",
      "4    วีระ    21     95     ภูเก็ต\n",
      "\n",
      "==============================\n",
      "\n"
     ]
    }
   ],
   "source": [
    "# --- 16. การเรียงลำดับข้อมูลด้วย .sort_values() ---\n",
    "print(\"--- DataFrame ต้นฉบับสำหรับสาธิต .sort_values() ---\")\n",
    "print(df)\n",
    "print(\"\\n\" + \"=\"*30 + \"\\n\")\n",
    "\n",
    "# 16.1 เรียงตามคอลัมน์เดียว (น้อยไปมาก)\n",
    "print(\"--- 44. เรียงลำดับตามคะแนน (น้อยไปมาก) ---\")\n",
    "sorted_by_score = df.sort_values(by='คะแนน')\n",
    "print(sorted_by_score)\n",
    "print(\"\\n\" + \"=\"*30 + \"\\n\")"
   ]
  },
  {
   "cell_type": "code",
   "execution_count": 49,
   "id": "8e76b681",
   "metadata": {},
   "outputs": [
    {
     "name": "stdout",
     "output_type": "stream",
     "text": [
      "--- DataFrame ต้นฉบับสำหรับสาธิต .sort_values() ---\n",
      "     ชื่อ  อายุ  คะแนน      เมือง\n",
      "0   สมชาย    18     85    กรุงเทพ\n",
      "1  สมหญิง    19     92  เชียงใหม่\n",
      "2    มานี    18     78    กรุงเทพ\n",
      "3    ปิติ    20     88    ขอนแก่น\n",
      "4    วีระ    21     95     ภูเก็ต\n",
      "5    ชูใจ    19     76  เชียงใหม่\n",
      "6   จันดี    22     89    กรุงเทพ\n",
      "7    มานะ    18     91  เชียงใหม่\n",
      "8    เพชร    20     82    ขอนแก่น\n",
      "9   ไพลิน    21     93     ภูเก็ต\n",
      "\n",
      "==============================\n",
      "\n",
      "--- 45. เรียงลำดับตามคะแนน (มากไปน้อย) ---\n",
      "     ชื่อ  อายุ  คะแนน      เมือง\n",
      "4    วีระ    21     95     ภูเก็ต\n",
      "9   ไพลิน    21     93     ภูเก็ต\n",
      "1  สมหญิง    19     92  เชียงใหม่\n",
      "7    มานะ    18     91  เชียงใหม่\n",
      "6   จันดี    22     89    กรุงเทพ\n",
      "3    ปิติ    20     88    ขอนแก่น\n",
      "0   สมชาย    18     85    กรุงเทพ\n",
      "8    เพชร    20     82    ขอนแก่น\n",
      "2    มานี    18     78    กรุงเทพ\n",
      "5    ชูใจ    19     76  เชียงใหม่\n",
      "\n",
      "==============================\n",
      "\n"
     ]
    }
   ],
   "source": [
    "# --- 16. การเรียงลำดับข้อมูลด้วย .sort_values() ---\n",
    "print(\"--- DataFrame ต้นฉบับสำหรับสาธิต .sort_values() ---\")\n",
    "print(df)\n",
    "print(\"\\n\" + \"=\"*30 + \"\\n\")\n",
    "\n",
    "# 16.2 เรียงตามคอลัมน์เดียว (มากไปน้อย)\n",
    "print(\"--- 45. เรียงลำดับตามคะแนน (มากไปน้อย) ---\")\n",
    "sorted_by_score_desc = df.sort_values(by='คะแนน', ascending=False)\n",
    "print(sorted_by_score_desc)\n",
    "print(\"\\n\" + \"=\"*30 + \"\\n\")"
   ]
  },
  {
   "cell_type": "code",
   "execution_count": 50,
   "id": "56382c5f",
   "metadata": {},
   "outputs": [
    {
     "name": "stdout",
     "output_type": "stream",
     "text": [
      "--- DataFrame ต้นฉบับสำหรับสาธิต .sort_values() ---\n",
      "     ชื่อ  อายุ  คะแนน      เมือง\n",
      "0   สมชาย    18     85    กรุงเทพ\n",
      "1  สมหญิง    19     92  เชียงใหม่\n",
      "2    มานี    18     78    กรุงเทพ\n",
      "3    ปิติ    20     88    ขอนแก่น\n",
      "4    วีระ    21     95     ภูเก็ต\n",
      "5    ชูใจ    19     76  เชียงใหม่\n",
      "6   จันดี    22     89    กรุงเทพ\n",
      "7    มานะ    18     91  เชียงใหม่\n",
      "8    เพชร    20     82    ขอนแก่น\n",
      "9   ไพลิน    21     93     ภูเก็ต\n",
      "\n",
      "==============================\n",
      "\n",
      "--- 46. เรียงลำดับตามเมือง (A-Z) และคะแนน (มากไปน้อย) ---\n",
      "     ชื่อ  อายุ  คะแนน      เมือง\n",
      "6   จันดี    22     89    กรุงเทพ\n",
      "0   สมชาย    18     85    กรุงเทพ\n",
      "2    มานี    18     78    กรุงเทพ\n",
      "3    ปิติ    20     88    ขอนแก่น\n",
      "8    เพชร    20     82    ขอนแก่น\n",
      "4    วีระ    21     95     ภูเก็ต\n",
      "9   ไพลิน    21     93     ภูเก็ต\n",
      "1  สมหญิง    19     92  เชียงใหม่\n",
      "7    มานะ    18     91  เชียงใหม่\n",
      "5    ชูใจ    19     76  เชียงใหม่\n",
      "\n",
      "\n"
     ]
    }
   ],
   "source": [
    "# --- 16. การเรียงลำดับข้อมูลด้วย .sort_values() ---\n",
    "print(\"--- DataFrame ต้นฉบับสำหรับสาธิต .sort_values() ---\")\n",
    "print(df)\n",
    "print(\"\\n\" + \"=\"*30 + \"\\n\")\n",
    "\n",
    "# 16.3 เรียงตามหลายคอลัมน์\n",
    "print(\"--- 46. เรียงลำดับตามเมือง (A-Z) และคะแนน (มากไปน้อย) ---\")\n",
    "sorted_multi = df.sort_values(by=['เมือง', 'คะแนน'], ascending=[True, False])\n",
    "print(sorted_multi)\n",
    "print(\"\\n\")"
   ]
  },
  {
   "cell_type": "code",
   "execution_count": 51,
   "id": "cb142587",
   "metadata": {},
   "outputs": [
    {
     "name": "stdout",
     "output_type": "stream",
     "text": [
      "--- DataFrame ต้นฉบับสำหรับสาธิตการสร้างคอลัมน์ใหม่ ---\n",
      "     ชื่อ  อายุ  คะแนน      เมือง\n",
      "0   สมชาย    18     85    กรุงเทพ\n",
      "1  สมหญิง    19     92  เชียงใหม่\n",
      "2    มานี    18     78    กรุงเทพ\n",
      "3    ปิติ    20     88    ขอนแก่น\n",
      "4    วีระ    21     95     ภูเก็ต\n",
      "5    ชูใจ    19     76  เชียงใหม่\n",
      "6   จันดี    22     89    กรุงเทพ\n",
      "7    มานะ    18     91  เชียงใหม่\n",
      "8    เพชร    20     82    ขอนแก่น\n",
      "9   ไพลิน    21     93     ภูเก็ต\n",
      "\n",
      "==============================\n",
      "\n",
      "--- 47. สร้างคอลัมน์ 'คะแนนเต็ม 10' ---\n",
      "     ชื่อ  อายุ  คะแนน      เมือง  คะแนนเต็ม 10\n",
      "0   สมชาย    18     85    กรุงเทพ           8.5\n",
      "1  สมหญิง    19     92  เชียงใหม่           9.2\n",
      "2    มานี    18     78    กรุงเทพ           7.8\n",
      "3    ปิติ    20     88    ขอนแก่น           8.8\n",
      "4    วีระ    21     95     ภูเก็ต           9.5\n",
      "5    ชูใจ    19     76  เชียงใหม่           7.6\n",
      "6   จันดี    22     89    กรุงเทพ           8.9\n",
      "7    มานะ    18     91  เชียงใหม่           9.1\n",
      "8    เพชร    20     82    ขอนแก่น           8.2\n",
      "9   ไพลิน    21     93     ภูเก็ต           9.3\n",
      "\n",
      "==============================\n",
      "\n"
     ]
    }
   ],
   "source": [
    "# --- 17. การสร้างคอลัมน์ใหม่ (Feature Engineering) ---\n",
    "# เราสามารถสร้างคอลัมน์ใหม่จากการคำนวณของคอลัมน์ที่มีอยู่\n",
    "print(\"--- DataFrame ต้นฉบับสำหรับสาธิตการสร้างคอลัมน์ใหม่ ---\")\n",
    "df_new_col = df.copy() # สร้างสำเนาเพื่อไม่ให้กระทบ df เดิม\n",
    "print(df_new_col)\n",
    "print(\"\\n\" + \"=\"*30 + \"\\n\")\n",
    "\n",
    "# 17.1 สร้างคอลัมน์ใหม่จากการคำนวณโดยตรง\n",
    "print(\"--- 47. สร้างคอลัมน์ 'คะแนนเต็ม 10' ---\")\n",
    "df_new_col['คะแนนเต็ม 10'] = df_new_col['คะแนน'] / 10\n",
    "print(df_new_col)\n",
    "print(\"\\n\" + \"=\"*30 + \"\\n\")"
   ]
  },
  {
   "cell_type": "code",
   "execution_count": 52,
   "id": "458a03e2",
   "metadata": {},
   "outputs": [
    {
     "name": "stdout",
     "output_type": "stream",
     "text": [
      "--- DataFrame ต้นฉบับสำหรับสาธิตการสร้างคอลัมน์ใหม่ ---\n",
      "     ชื่อ  อายุ  คะแนน      เมือง\n",
      "0   สมชาย    18     85    กรุงเทพ\n",
      "1  สมหญิง    19     92  เชียงใหม่\n",
      "2    มานี    18     78    กรุงเทพ\n",
      "3    ปิติ    20     88    ขอนแก่น\n",
      "4    วีระ    21     95     ภูเก็ต\n",
      "5    ชูใจ    19     76  เชียงใหม่\n",
      "6   จันดี    22     89    กรุงเทพ\n",
      "7    มานะ    18     91  เชียงใหม่\n",
      "8    เพชร    20     82    ขอนแก่น\n",
      "9   ไพลิน    21     93     ภูเก็ต\n",
      "\n",
      "==============================\n",
      "\n",
      "--- 48. สร้างคอลัมน์ 'ผลการสอบ' (คะแนน >= 80 ถือว่าผ่าน) ---\n",
      "     ชื่อ  อายุ  คะแนน      เมือง ผลการสอบ\n",
      "0   สมชาย    18     85    กรุงเทพ     ผ่าน\n",
      "1  สมหญิง    19     92  เชียงใหม่     ผ่าน\n",
      "2    มานี    18     78    กรุงเทพ  ไม่ผ่าน\n",
      "3    ปิติ    20     88    ขอนแก่น     ผ่าน\n",
      "4    วีระ    21     95     ภูเก็ต     ผ่าน\n",
      "5    ชูใจ    19     76  เชียงใหม่  ไม่ผ่าน\n",
      "6   จันดี    22     89    กรุงเทพ     ผ่าน\n",
      "7    มานะ    18     91  เชียงใหม่     ผ่าน\n",
      "8    เพชร    20     82    ขอนแก่น     ผ่าน\n",
      "9   ไพลิน    21     93     ภูเก็ต     ผ่าน\n",
      "\n",
      "==============================\n",
      "\n"
     ]
    }
   ],
   "source": [
    "# --- 17. การสร้างคอลัมน์ใหม่ (Feature Engineering) ---\n",
    "# เราสามารถสร้างคอลัมน์ใหม่จากการคำนวณของคอลัมน์ที่มีอยู่\n",
    "print(\"--- DataFrame ต้นฉบับสำหรับสาธิตการสร้างคอลัมน์ใหม่ ---\")\n",
    "df_new_col = df.copy() # สร้างสำเนาเพื่อไม่ให้กระทบ df เดิม\n",
    "print(df_new_col)\n",
    "print(\"\\n\" + \"=\"*30 + \"\\n\")\n",
    "\n",
    "# 17.2 สร้างคอลัมน์ใหม่โดยใช้เงื่อนไข (np.where)\n",
    "print(\"--- 48. สร้างคอลัมน์ 'ผลการสอบ' (คะแนน >= 80 ถือว่าผ่าน) ---\")\n",
    "df_new_col['ผลการสอบ'] = np.where(df_new_col['คะแนน'] >= 80, 'ผ่าน', 'ไม่ผ่าน')\n",
    "print(df_new_col)\n",
    "print(\"\\n\" + \"=\"*30 + \"\\n\")"
   ]
  },
  {
   "cell_type": "code",
   "execution_count": 53,
   "id": "46480789",
   "metadata": {},
   "outputs": [
    {
     "name": "stdout",
     "output_type": "stream",
     "text": [
      "--- DataFrame ต้นฉบับสำหรับสาธิตการสร้างคอลัมน์ใหม่ ---\n",
      "     ชื่อ  อายุ  คะแนน      เมือง\n",
      "0   สมชาย    18     85    กรุงเทพ\n",
      "1  สมหญิง    19     92  เชียงใหม่\n",
      "2    มานี    18     78    กรุงเทพ\n",
      "3    ปิติ    20     88    ขอนแก่น\n",
      "4    วีระ    21     95     ภูเก็ต\n",
      "5    ชูใจ    19     76  เชียงใหม่\n",
      "6   จันดี    22     89    กรุงเทพ\n",
      "7    มานะ    18     91  เชียงใหม่\n",
      "8    เพชร    20     82    ขอนแก่น\n",
      "9   ไพลิน    21     93     ภูเก็ต\n",
      "\n",
      "==============================\n",
      "\n",
      "--- 49. สร้างคอลัมน์ 'กลุ่มอายุ' โดยใช้ฟังก์ชัน ---\n",
      "     ชื่อ  อายุ  คะแนน      เมือง กลุ่มอายุ\n",
      "0   สมชาย    18     85    กรุงเทพ   วัยรุ่น\n",
      "1  สมหญิง    19     92  เชียงใหม่   วัยรุ่น\n",
      "2    มานี    18     78    กรุงเทพ   วัยรุ่น\n",
      "3    ปิติ    20     88    ขอนแก่น   ผู้ใหญ่\n",
      "4    วีระ    21     95     ภูเก็ต   ผู้ใหญ่\n",
      "5    ชูใจ    19     76  เชียงใหม่   วัยรุ่น\n",
      "6   จันดี    22     89    กรุงเทพ   ผู้ใหญ่\n",
      "7    มานะ    18     91  เชียงใหม่   วัยรุ่น\n",
      "8    เพชร    20     82    ขอนแก่น   ผู้ใหญ่\n",
      "9   ไพลิน    21     93     ภูเก็ต   ผู้ใหญ่\n",
      "\n",
      "\n"
     ]
    }
   ],
   "source": [
    "# --- 17. การสร้างคอลัมน์ใหม่ (Feature Engineering) ---\n",
    "# เราสามารถสร้างคอลัมน์ใหม่จากการคำนวณของคอลัมน์ที่มีอยู่\n",
    "print(\"--- DataFrame ต้นฉบับสำหรับสาธิตการสร้างคอลัมน์ใหม่ ---\")\n",
    "df_new_col = df.copy() # สร้างสำเนาเพื่อไม่ให้กระทบ df เดิม\n",
    "print(df_new_col)\n",
    "print(\"\\n\" + \"=\"*30 + \"\\n\")\n",
    "\n",
    "# 17.3 สร้างคอลัมน์ใหม่โดยใช้ฟังก์ชันกับ .apply()\n",
    "def categorize_age(age):\n",
    "    if age < 20:\n",
    "        return 'วัยรุ่น'\n",
    "    else:\n",
    "        return 'ผู้ใหญ่'\n",
    "\n",
    "print(\"--- 49. สร้างคอลัมน์ 'กลุ่มอายุ' โดยใช้ฟังก์ชัน ---\")\n",
    "df_new_col['กลุ่มอายุ'] = df_new_col['อายุ'].apply(categorize_age)\n",
    "print(df_new_col)\n",
    "print(\"\\n\")"
   ]
  }
 ],
 "metadata": {
  "kernelspec": {
   "display_name": ".venv",
   "language": "python",
   "name": "python3"
  },
  "language_info": {
   "codemirror_mode": {
    "name": "ipython",
    "version": 3
   },
   "file_extension": ".py",
   "mimetype": "text/x-python",
   "name": "python",
   "nbconvert_exporter": "python",
   "pygments_lexer": "ipython3",
   "version": "3.13.5"
  }
 },
 "nbformat": 4,
 "nbformat_minor": 5
}
