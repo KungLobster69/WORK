{
 "cells": [
  {
   "cell_type": "code",
   "execution_count": 6,
   "id": "0f75922c",
   "metadata": {},
   "outputs": [
    {
     "name": "stdout",
     "output_type": "stream",
     "text": [
      "ค่าดัชนีมวลกาย (BMI) ของคุณคือ: 24.691358024691358\n"
     ]
    }
   ],
   "source": [
    "# 1. รับค่าน้ำหนักและส่วนสูงจากผู้ใช้ (อย่าลืมแปลงชนิดข้อมูล!)\n",
    "weight_kg = float(input(\"กรุณาป้อนน้ำหนัก (kg): \"))\n",
    "height_cm = float(input(\"กรุณาป้อนส่วนสูง (cm): \"))\n",
    "\n",
    "# 2. แปลงส่วนสูงจาก cm เป็น m\n",
    "height_m = height_cm / 100\n",
    "\n",
    "# 3. คำนวณ BMI โดยใช้นิพจน์และตัวดำเนินการ\n",
    "#    ใช้ ** 2 สำหรับการยกกำลังสอง\n",
    "bmi = weight_kg / (height_m ** 2)\n",
    "\n",
    "# 4. แสดงผลลัพธ์\n",
    "print(\"ค่าดัชนีมวลกาย (BMI) ของคุณคือ:\", bmi)"
   ]
  },
  {
   "cell_type": "code",
   "execution_count": 2,
   "id": "487927ef",
   "metadata": {},
   "outputs": [
    {
     "name": "stdout",
     "output_type": "stream",
     "text": [
      "มีสิทธิ์ได้รับรางวัล: True\n"
     ]
    }
   ],
   "source": [
    "# กำหนดค่าตัวแปรเพื่อทดสอบ\n",
    "score = 85\n",
    "homework_submitted = True\n",
    "\n",
    "# ใช้ตัวดำเนินการ 'and' เพื่อตรวจสอบว่าทั้งสองเงื่อนไขเป็นจริงหรือไม่\n",
    "is_eligible = (score > 80) and (homework_submitted == True)\n",
    "\n",
    "# แสดงผลลัพธ์ (จะเป็น True หรือ False)\n",
    "print(\"มีสิทธิ์ได้รับรางวัล:\", is_eligible)\n",
    "\n",
    "# คำถาม: ถ้าเปลี่ยน and เป็น or จะเกิดอะไรขึ้น?\n",
    "# ตอบ: โปรแกรมจะตรวจสอบว่า \"ได้คะแนนเกิน 80\" หรือ \"ส่งการบ้านครบ\" อย่างใดอย่างหนึ่ง\n",
    "#      ซึ่งจะทำให้เงื่อนไขเป็นจริงได้ง่ายขึ้น\n"
   ]
  },
  {
   "cell_type": "code",
   "execution_count": 7,
   "id": "0d848906",
   "metadata": {},
   "outputs": [
    {
     "name": "stdout",
     "output_type": "stream",
     "text": [
      "ราคาตั๋วของคุณคือ: 100 บาท\n"
     ]
    }
   ],
   "source": [
    "# 1. รับอายุจากผู้ใช้\n",
    "age = int(input(\"กรุณาป้อนอายุของคุณ: \"))\n",
    "\n",
    "# 2. สร้างตัวแปร Boolean เพื่อตรวจสอบว่าเป็นเด็กหรือไม่\n",
    "#    is_child จะเป็น True (1) ถ้า age <= 12 และเป็น False (0) ถ้าไม่ใช่\n",
    "is_child = age <= 12\n",
    "\n",
    "# 3. คำนวณราคาโดยใช้หลักการ True=1, False=0\n",
    "#    - ถ้าเป็นผู้ใหญ่: (not is_child) จะเป็น True (1) -> 1 * 100 = 100\n",
    "#    - ถ้าเป็นเด็ก: (not is_child) จะเป็น False (0) -> 0 * 100 = 0\n",
    "#    - ถ้าเป็นเด็ก: is_child จะเป็น True (1) -> 1 * 50 = 50\n",
    "#    - ถ้าเป็นผู้ใหญ่: is_child จะเป็น False (0) -> 0 * 50 = 0\n",
    "#    ดังนั้น ราคา = (ส่วนของผู้ใหญ่) + (ส่วนของเด็ก)\n",
    "price = (not is_child) * 100 + is_child * 50\n",
    "\n",
    "# 4. แสดงผลราคา\n",
    "print(\"ราคาตั๋วของคุณคือ:\", int(price), \"บาท\")"
   ]
  },
  {
   "cell_type": "code",
   "execution_count": 8,
   "id": "c151fe18",
   "metadata": {},
   "outputs": [
    {
     "name": "stdout",
     "output_type": "stream",
     "text": [
      "\n",
      "--- ใบเสร็จอย่างย่อ ---\n",
      "รายการ: 1\n",
      "จำนวน: 2 ชิ้น\n",
      "ราคาต่อชิ้น: 50.00 บาท\n",
      "ยอดรวมสุทธิ: 100.00 บาท\n",
      "----------------------\n"
     ]
    }
   ],
   "source": [
    "# 1. รับข้อมูลจากผู้ใช้\n",
    "item_name = input(\"ชื่อสินค้า: \")\n",
    "price = float(input(\"ราคาสินค้าต่อชิ้น: \"))\n",
    "quantity = int(input(\"จำนวน: \"))\n",
    "\n",
    "# 2. คำนวณราคารวม\n",
    "total = price * quantity\n",
    "\n",
    "# 3. แสดงผลด้วย f-string เพื่อจัดรูปแบบให้สวยงาม\n",
    "print(f\"\\n--- ใบเสร็จอย่างย่อ ---\")\n",
    "print(f\"รายการ: {item_name}\")\n",
    "print(f\"จำนวน: {quantity} ชิ้น\")\n",
    "print(f\"ราคาต่อชิ้น: {price:.2f} บาท\")\n",
    "print(f\"ยอดรวมสุทธิ: {total:.2f} บาท\")\n",
    "print(f\"----------------------\")"
   ]
  },
  {
   "cell_type": "code",
   "execution_count": 5,
   "id": "f3937db3",
   "metadata": {},
   "outputs": [
    {
     "name": "stdout",
     "output_type": "stream",
     "text": [
      "ชื่อผู้ใช้ที่แนะนำสำหรับคุณคือ: k96\n"
     ]
    }
   ],
   "source": [
    "# 1. รับข้อมูลจากผู้ใช้\n",
    "first_name = input(\"ป้อนชื่อจริง (ภาษาอังกฤษ): \")\n",
    "birth_year = input(\"ป้อนปีเกิด (ค.ศ.): \")\n",
    "\n",
    "# 2. ใช้ Slicing ตัดเอาอักษร 3 ตัวแรก และใช้ .lower() ทำให้เป็นตัวพิมพ์เล็ก\n",
    "#    first_name[0:3] -> หมายถึงเอาตัวอักษรตำแหน่งที่ 0, 1, และ 2\n",
    "name_part = first_name[0:3].lower()\n",
    "\n",
    "# 3. ใช้ Slicing ตัดเอาเลข 2 ตัวท้ายของปีเกิด\n",
    "#    birth_year[2:4] -> หมายถึงเอาตัวอักษรตำแหน่งที่ 2 และ 3\n",
    "year_part = birth_year[2:4]\n",
    "\n",
    "# 4. นำทั้งสองส่วนมาต่อกันด้วยเครื่องหมาย +\n",
    "username = name_part + year_part\n",
    "\n",
    "# 5. แสดงผลด้วย f-string\n",
    "print(f\"ชื่อผู้ใช้ที่แนะนำสำหรับคุณคือ: {username}\")"
   ]
  }
 ],
 "metadata": {
  "kernelspec": {
   "display_name": ".venv (3.13.5)",
   "language": "python",
   "name": "python3"
  },
  "language_info": {
   "codemirror_mode": {
    "name": "ipython",
    "version": 3
   },
   "file_extension": ".py",
   "mimetype": "text/x-python",
   "name": "python",
   "nbconvert_exporter": "python",
   "pygments_lexer": "ipython3",
   "version": "3.13.5"
  }
 },
 "nbformat": 4,
 "nbformat_minor": 5
}
