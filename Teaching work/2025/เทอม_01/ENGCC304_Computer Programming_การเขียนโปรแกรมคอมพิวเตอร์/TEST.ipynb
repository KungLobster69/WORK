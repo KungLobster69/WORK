{
 "cells": [
  {
   "cell_type": "code",
   "execution_count": null,
   "id": "a552162f",
   "metadata": {},
   "outputs": [],
   "source": [
    "print(\"Hello! World\")"
   ]
  },
  {
   "cell_type": "code",
   "execution_count": null,
   "id": "67681b88",
   "metadata": {},
   "outputs": [],
   "source": [
    "name = \"สมชาย\"\n",
    "age = 30\n",
    "print(name)\n",
    "print(age)"
   ]
  },
  {
   "cell_type": "code",
   "execution_count": null,
   "id": "d8209a3a",
   "metadata": {},
   "outputs": [],
   "source": [
    "name = \"สมศรี\"\n",
    "age = 25\n",
    "print(\"ชื่อ:\", name, \"อายุ:\", age, \"ปี\")"
   ]
  },
  {
   "cell_type": "code",
   "execution_count": null,
   "id": "ff371eeb",
   "metadata": {},
   "outputs": [],
   "source": [
    "# เปลี่ยนตัวคั่นจากเว้นวรรคเป็น \"---\" \n",
    "print(\"Apple\", \"Banana\", \"Cherry\", sep=\"---\")"
   ]
  },
  {
   "cell_type": "code",
   "execution_count": null,
   "id": "ae2449c4",
   "metadata": {},
   "outputs": [],
   "source": [
    "# ไม่ต้องการให้ขึ้นบรรทัดใหม่หลัง print จบ\n",
    "print(\"สวัสดี\", end=\" \")\n",
    "print(\"ครับ\")"
   ]
  },
  {
   "cell_type": "code",
   "execution_count": null,
   "id": "319b2f44",
   "metadata": {},
   "outputs": [],
   "source": [
    "name = \"จินตนา\"\n",
    "score = 95.5\n",
    "\n",
    "print(f\"ยินดีด้วยคุณ {name}! คุณได้คะแนน {score} คะแนน\")"
   ]
  },
  {
   "cell_type": "code",
   "execution_count": null,
   "id": "e6378b10",
   "metadata": {},
   "outputs": [],
   "source": [
    "# แสดงข้อความ \"ป้อนชื่อของคุณ: \" แล้วรอรับข้อมูล\n",
    "name = input(\"ป้อนชื่อของคุณ: \")\n",
    "\n",
    "# แสดงผลข้อมูลที่รับเข้ามา\n",
    "print(f\"สวัสดี, คุณ {name}!\")"
   ]
  },
  {
   "cell_type": "code",
   "execution_count": null,
   "id": "9c9d8912",
   "metadata": {},
   "outputs": [],
   "source": [
    "# รับอายุเป็น string แล้วแปลงเป็น integer (ตัวเลขจำนวนเต็ม)\n",
    "age = int(input(\"คุณอายุเท่าไหร่?: \"))\n",
    "\n",
    "# ตอนนี้สามารถนำ age ไปคำนวณได้แล้ว\n",
    "age_in_ten_years = age + 10\n",
    "print(f\"ในอีก 10 ปีข้างหน้า คุณจะอายุ {age_in_ten_years} ปี\")"
   ]
  },
  {
   "cell_type": "code",
   "execution_count": null,
   "id": "f7483d98",
   "metadata": {},
   "outputs": [],
   "source": [
    "# ตัวแปรชนิดข้อความ (String)\n",
    "first_name = \"สมชาย\"\n",
    "\n",
    "# ตัวแปรชนิดตัวเลขจำนวนเต็ม (Integer)\n",
    "age = 35\n",
    "\n",
    "# ตัวแปรชนิดตัวเลขทศนิยม (Float)\n",
    "score = 88.5\n",
    "\n",
    "# การเรียกใช้งานตัวแปร\n",
    "print(f\"ชื่อ: {first_name}\")\n",
    "print(f\"อายุ: {age} ปี\")\n",
    "print(f\"คะแนน: {score}\")\n",
    "\n",
    "# ค่าของตัวแปรสามารถเปลี่ยนแปลงได้\n",
    "age = 36\n",
    "print(f\"ตอนนี้อายุ: {age} ปี\")"
   ]
  },
  {
   "cell_type": "code",
   "execution_count": null,
   "id": "4d298a4b",
   "metadata": {},
   "outputs": [],
   "source": [
    "str_number = \"100\"\n",
    "int_number = int(str_number) # ผลลัพธ์คือ 100 (Integer)\n",
    "print(str_number,type(str_number))\n",
    "print(int_number,type(int_number))"
   ]
  },
  {
   "cell_type": "code",
   "execution_count": null,
   "id": "8fe9202a",
   "metadata": {},
   "outputs": [],
   "source": [
    "str_number = \"100\"\n",
    "float_number = float(str_number) # ผลลัพธ์คือ 100 (float)\n",
    "print(str_number,type(str_number))\n",
    "print(float_number,type(float_number))"
   ]
  },
  {
   "cell_type": "code",
   "execution_count": null,
   "id": "9d7ffcc2",
   "metadata": {},
   "outputs": [],
   "source": [
    "age = 30\n",
    "message = \"Your age is \" + str(age) # ผลลัพธ์คือ \"Your age is 30\" (String)\n",
    "print(message,type(message))"
   ]
  },
  {
   "cell_type": "code",
   "execution_count": null,
   "id": "b81679ad",
   "metadata": {},
   "outputs": [],
   "source": [
    "text = \"500a\"\n",
    "if text.isdigit(): # isdigit() ใช้ตรวจสอบว่าเป็นตัวเลขหรือไม่\n",
    "    number = int(text)\n",
    "    print(number)\n",
    "else:\n",
    "    print(\"ไม่สามารถแปลงเป็นตัวเลขได้\")"
   ]
  },
  {
   "cell_type": "code",
   "execution_count": null,
   "id": "b6aab384",
   "metadata": {},
   "outputs": [],
   "source": [
    "text_input = \"four\"\n",
    "try:\n",
    "    value = int(text_input)\n",
    "    print(f\"Success: {value}\")\n",
    "except ValueError:\n",
    "    print(\"Invalid input, please enter a number.\")"
   ]
  },
  {
   "cell_type": "code",
   "execution_count": null,
   "id": "cbd81856",
   "metadata": {},
   "outputs": [],
   "source": [
    "name = \"\"\n",
    "if name: # bool(name) จะเป็น False\n",
    "    print(f\"Hello, {name}\")\n",
    "else:\n",
    "    print(\"Name is empty.\")"
   ]
  },
  {
   "cell_type": "code",
   "execution_count": null,
   "id": "4306af8a",
   "metadata": {},
   "outputs": [],
   "source": [
    "# --- Main Program ---\n",
    "student_scores = [88, 95, 74]\n",
    "target_index = 5 # ตำแหน่งที่ไม่มีอยู่จริง\n",
    "\n",
    "print(\"เริ่มต้นการทำงานของโปรแกรม...\")\n",
    "print(f\"กำลังดึงข้อมูลที่ตำแหน่ง: {target_index}\")\n",
    "\n",
    "# พยายามเข้าถึงข้อมูลโดยตรง ซึ่งเป็นจุดที่เกิด Error\n",
    "score = student_scores[target_index] \n",
    "\n",
    "print(f\"คะแนนที่ได้คือ: {score}\")\n",
    "print(\"จบการทำงาน\")"
   ]
  },
  {
   "cell_type": "code",
   "execution_count": null,
   "id": "4382cd2b",
   "metadata": {},
   "outputs": [],
   "source": [
    "try:\n",
    "    age_str = input(\"ป้อนอายุ: \")\n",
    "    age = int(age_str)\n",
    "    print(f\"อายุของคุณคือ {age} ปี\")\n",
    "except ValueError: # ระบุ Error ที่ต้องการดักจับ\n",
    "    print(\"ข้อมูลไม่ถูกต้อง! กรุณาป้อนอายุเป็นตัวเลขเท่านั้น\")"
   ]
  },
  {
   "cell_type": "code",
   "execution_count": null,
   "id": "7e62c689",
   "metadata": {},
   "outputs": [],
   "source": [
    "my_list = [1, 2, 3, 0]\n",
    "try:\n",
    "    index = int(input(\"ป้อนตำแหน่ง: \"))\n",
    "    result = 10 / my_list[index]\n",
    "    print(f\"ผลลัพธ์คือ {result}\")\n",
    "# 1. จัดการหลาย Error แยกกัน\n",
    "except ValueError:\n",
    "    print(\"ต้องป้อนเป็นตัวเลขเท่านั้น\")\n",
    "except IndexError:\n",
    "    print(\"ตำแหน่งที่เลือกไม่มีในรายการ\")\n",
    "# 2. จัดการหลาย Error ในบล็อกเดียว\n",
    "except (ZeroDivisionError, TypeError) as e:\n",
    "    print(f\"เกิดข้อผิดพลาดในการคำนวณ: {e}\")\n",
    "# 3. ดักจับ Error ทั่วไป (ควรไว้ท้ายสุด)\n",
    "except Exception as e:\n",
    "    print(f\"เกิดข้อผิดพลาดที่ไม่คาดคิด: {e}\")"
   ]
  },
  {
   "cell_type": "code",
   "execution_count": 5,
   "id": "b46d8bce",
   "metadata": {},
   "outputs": [
    {
     "name": "stdout",
     "output_type": "stream",
     "text": [
      "อ่านไฟล์สำเร็จ! เนื้อหาคือ:\n",
      "ABCDE\n",
      "--- ไฟล์ถูกปิดแล้ว ---\n"
     ]
    }
   ],
   "source": [
    "f = None\n",
    "try:\n",
    "    f = open('my_data.txt', 'r', encoding='utf-8')\n",
    "except FileNotFoundError:\n",
    "    print(\"ไม่พบไฟล์ที่ระบุ\")\n",
    "else:\n",
    "    # ทำงานเมื่อ try สำเร็จ\n",
    "    print(\"อ่านไฟล์สำเร็จ! เนื้อหาคือ:\")\n",
    "    print(f.read())\n",
    "finally:\n",
    "    # ทำงานเสมอเพื่อปิดไฟล์\n",
    "    if f:\n",
    "        f.close()\n",
    "        print(\"--- ไฟล์ถูกปิดแล้ว ---\")"
   ]
  },
  {
   "cell_type": "code",
   "execution_count": null,
   "id": "6d801195",
   "metadata": {},
   "outputs": [],
   "source": [
    "user_database = {\n",
    "    \"user01\": {\"name\": \"สมชาย\", \"role\": \"admin\"},\n",
    "    \"user02\": {\"name\": \"สมศรี\", \"role\": \"editor\"}\n",
    "}\n",
    "try:\n",
    "    username = input(\"ป้อนชื่อผู้ใช้ที่ต้องการค้นหา: \")\n",
    "    user_info = user_database[username] # อาจเกิด KeyError ที่นี่\n",
    "except KeyError:\n",
    "    print(f\"ไม่พบผู้ใช้ที่ชื่อ '{username}' ในระบบ\")\n",
    "else:\n",
    "    # ทำงานเมื่อ try สำเร็จ (ไม่เกิด KeyError)\n",
    "    print(\"ค้นหาผู้ใช้สำเร็จ!\")\n",
    "    print(f\"  ชื่อ: {user_info['name']}, บทบาท: {user_info['role']}\")\n",
    "finally:\n",
    "    # ทำงานเสมอ ไม่ว่าจะค้นหาเจอหรือไม่\n",
    "    print(\"--- สิ้นสุดกระบวนการค้นหา ---\")"
   ]
  },
  {
   "cell_type": "code",
   "execution_count": null,
   "id": "826f3c98",
   "metadata": {},
   "outputs": [],
   "source": [
    "try:\n",
    "    password = input(\"กรุณาตั้งรหัสผ่าน: \")\n",
    "    \n",
    "    if len(password) < 8:\n",
    "        # สร้าง Error ขึ้นมาเองถ้ารหัสผ่านสั้นเกินไป\n",
    "        raise ValueError(\"รหัสผ่านต้องมีความยาวอย่างน้อย 8 ตัวอักษร\")\n",
    "\n",
    "    if password.isalpha():\n",
    "        # สร้าง Error ถ้ามีแต่ตัวอักษร ไม่มีตัวเลขหรือสัญลักษณ์\n",
    "        raise ValueError(\"รหัสผ่านควรมีทั้งตัวอักษรและตัวเลขผสมกัน\")\n",
    "\n",
    "    print(\"รหัสผ่านแข็งแรงและบันทึกเรียบร้อย!\")\n",
    "\n",
    "except ValueError as e:\n",
    "    # except บล็อกนี้จะจัดการ ValueError ที่เราสร้างขึ้นเอง\n",
    "    print(f\"ตั้งรหัสผ่านไม่สำเร็จ: {e}\")"
   ]
  },
  {
   "cell_type": "code",
   "execution_count": null,
   "id": "0061a55b",
   "metadata": {},
   "outputs": [],
   "source": [
    "try:\n",
    "    with open(\"my_data.txt\", 'r', encoding='utf-8') as f:\n",
    "        print(f.read())\n",
    "except FileNotFoundError:\n",
    "    print(\"ไม่พบไฟล์\")"
   ]
  },
  {
   "cell_type": "code",
   "execution_count": 1,
   "id": "d9186573",
   "metadata": {},
   "outputs": [
    {
     "name": "stdout",
     "output_type": "stream",
     "text": [
      "ผลบวก: 15 + 4 = 19\n",
      "ผลลบ: 15 - 4 = 11\n",
      "ผลคูณ: 15 * 4 = 60\n"
     ]
    }
   ],
   "source": [
    "# Cell In[1]\n",
    "x = 15\n",
    "y = 4\n",
    "\n",
    "addition_result = x + y\n",
    "subtraction_result = x - y\n",
    "multiplication_result = x * y\n",
    "\n",
    "print(f\"ผลบวก: {x} + {y} = {addition_result}\")\n",
    "print(f\"ผลลบ: {x} - {y} = {subtraction_result}\")\n",
    "print(f\"ผลคูณ: {x} * {y} = {multiplication_result}\")"
   ]
  },
  {
   "cell_type": "code",
   "execution_count": 2,
   "id": "c1eee226",
   "metadata": {},
   "outputs": [
    {
     "name": "stdout",
     "output_type": "stream",
     "text": [
      "ผลหาร: 10 / 4 = 2.5\n",
      "ชนิดข้อมูลของผลลัพธ์: <class 'float'>\n"
     ]
    }
   ],
   "source": [
    "# Cell In[2]\n",
    "x = 10\n",
    "y = 4\n",
    "\n",
    "division_result = x / y\n",
    "print(f\"ผลหาร: {x} / {y} = {division_result}\")\n",
    "print(f\"ชนิดข้อมูลของผลลัพธ์: {type(division_result)}\")"
   ]
  },
  {
   "cell_type": "code",
   "execution_count": 3,
   "id": "bb0b9b16",
   "metadata": {},
   "outputs": [
    {
     "name": "stdout",
     "output_type": "stream",
     "text": [
      "130 นาที คิดเป็น 2 นาที กับอีก 10 วินาที\n"
     ]
    }
   ],
   "source": [
    "# Cell In[3]\n",
    "minutes = 130\n",
    "seconds_per_minute = 60\n",
    "\n",
    "# หาว่า 130 นาที คิดเป็นกี่นาที (ปัดเศษลง)\n",
    "calculated_minutes = minutes // seconds_per_minute\n",
    "\n",
    "# หาว่าเหลือเศษกี่วินาที\n",
    "remaining_seconds = minutes % seconds_per_minute\n",
    "\n",
    "print(f\"{minutes} นาที คิดเป็น {calculated_minutes} นาที กับอีก {remaining_seconds} วินาที\")"
   ]
  },
  {
   "cell_type": "code",
   "execution_count": 1,
   "id": "167fdf7d",
   "metadata": {},
   "outputs": [
    {
     "name": "stdout",
     "output_type": "stream",
     "text": [
      "ข้อมูลหลังทำความสะอาด: 'product id: 1001, name: laptop, price: 25000'\n",
      "ข้อมูลหลังอัปเดต: 'product id: 1001, name: gaming laptop, price: 25000'\n",
      "ข้อมูลที่ถูกแยกส่วน: ['product id: 1001', ' name: gaming laptop', ' price: 25000']\n",
      "ตำแหน่งของคำว่า 'price': 39\n"
     ]
    }
   ],
   "source": [
    "# Cell In[1]\n",
    "raw_data = \"  Product ID: 1001, Name: Laptop, Price: 25000  \"\n",
    "\n",
    "# 1. ทำความสะอาดข้อมูล: ตัดช่องว่างและแปลงเป็นตัวพิมพ์เล็ก\n",
    "clean_data = raw_data.strip().lower()\n",
    "print(f\"ข้อมูลหลังทำความสะอาด: '{clean_data}'\")\n",
    "\n",
    "# 2. แทนที่ข้อความ\n",
    "updated_data = clean_data.replace(\"laptop\", \"gaming laptop\")\n",
    "print(f\"ข้อมูลหลังอัปเดต: '{updated_data}'\")\n",
    "\n",
    "# 3. แยกข้อมูลแต่ละส่วนออกจากกัน\n",
    "parts = updated_data.split(',')\n",
    "print(f\"ข้อมูลที่ถูกแยกส่วน: {parts}\")\n",
    "\n",
    "# 4. ค้นหาตำแหน่งของคำว่า 'price'\n",
    "price_position = updated_data.find(\"price\")\n",
    "print(f\"ตำแหน่งของคำว่า 'price': {price_position}\")"
   ]
  },
  {
   "cell_type": "code",
   "execution_count": 2,
   "id": "4d52e99e",
   "metadata": {},
   "outputs": [
    {
     "name": "stdout",
     "output_type": "stream",
     "text": [
      "มีนักเรียนทั้งหมด: 5 คน\n",
      "คะแนนสูงสุด: 99\n",
      "คะแนนต่ำสุด: 74\n",
      "คะแนนรวม: 441\n",
      "คะแนนเฉลี่ย: 88.2\n",
      "คะแนนเฉลี่ย (ปัดเศษ): 88.2\n"
     ]
    }
   ],
   "source": [
    "# Cell In[2]\n",
    "student_scores = [88, 95, 74, 99, 85]\n",
    "\n",
    "# 1. หาจำนวนนักเรียนทั้งหมด\n",
    "num_students = len(student_scores)\n",
    "print(f\"มีนักเรียนทั้งหมด: {num_students} คน\")\n",
    "\n",
    "# 2. หาคะแนนสูงสุดและต่ำสุด\n",
    "highest_score = max(student_scores)\n",
    "lowest_score = min(student_scores)\n",
    "print(f\"คะแนนสูงสุด: {highest_score}\")\n",
    "print(f\"คะแนนต่ำสุด: {lowest_score}\")\n",
    "\n",
    "# 3. หาคะแนนรวมและค่าเฉลี่ย\n",
    "total_score = sum(student_scores)\n",
    "average_score = total_score / num_students\n",
    "print(f\"คะแนนรวม: {total_score}\")\n",
    "print(f\"คะแนนเฉลี่ย: {average_score}\")\n",
    "\n",
    "# 4. ปัดเศษค่าเฉลี่ยให้เหลือทศนิยม 2 ตำแหน่ง\n",
    "rounded_average = round(average_score, 2)\n",
    "print(f\"คะแนนเฉลี่ย (ปัดเศษ): {rounded_average}\")"
   ]
  },
  {
   "cell_type": "code",
   "execution_count": 3,
   "id": "aa4f9401",
   "metadata": {},
   "outputs": [
    {
     "name": "stdout",
     "output_type": "stream",
     "text": [
      "ข้อความดั้งเดิม: '  rMUtL-CeNteR  '\n",
      "ข้อความที่จัดรูปแบบแล้ว: 'RMUTL CENTER'\n"
     ]
    }
   ],
   "source": [
    "# Cell In[3]\n",
    "# ตัวอย่าง: ผู้ใช้ป้อนข้อมูลพร้อมช่องว่างและตัวพิมพ์ใหญ่-เล็กปนกัน\n",
    "user_input = \"  rMUtL-CeNteR  \"\n",
    "\n",
    "# ทำความสะอาดและจัดรูปแบบในบรรทัดเดียว\n",
    "# 1. .strip() -> \"rMUtL-CeNteR\"\n",
    "# 2. .upper() -> \"RMUTL-CENTER\"\n",
    "# 3. .replace('-', ' ') -> \"RMUTL CENTER\"\n",
    "formatted_text = user_input.strip().upper().replace('-', ' ')\n",
    "\n",
    "print(f\"ข้อความดั้งเดิม: '{user_input}'\")\n",
    "print(f\"ข้อความที่จัดรูปแบบแล้ว: '{formatted_text}'\")"
   ]
  }
 ],
 "metadata": {
  "kernelspec": {
   "display_name": ".venv",
   "language": "python",
   "name": "python3"
  },
  "language_info": {
   "codemirror_mode": {
    "name": "ipython",
    "version": 3
   },
   "file_extension": ".py",
   "mimetype": "text/x-python",
   "name": "python",
   "nbconvert_exporter": "python",
   "pygments_lexer": "ipython3",
   "version": "3.13.5"
  }
 },
 "nbformat": 4,
 "nbformat_minor": 5
}
