{
 "cells": [
  {
   "cell_type": "code",
   "execution_count": 36,
   "id": "a552162f",
   "metadata": {},
   "outputs": [
    {
     "name": "stdout",
     "output_type": "stream",
     "text": [
      "Hello! World\n"
     ]
    }
   ],
   "source": [
    "print(\"Hello! World\")"
   ]
  },
  {
   "cell_type": "code",
   "execution_count": 35,
   "id": "67681b88",
   "metadata": {},
   "outputs": [
    {
     "name": "stdout",
     "output_type": "stream",
     "text": [
      "สมชาย\n",
      "30\n"
     ]
    }
   ],
   "source": [
    "name = \"สมชาย\"\n",
    "age = 30\n",
    "print(name)\n",
    "print(age)"
   ]
  },
  {
   "cell_type": "code",
   "execution_count": 34,
   "id": "d8209a3a",
   "metadata": {},
   "outputs": [
    {
     "name": "stdout",
     "output_type": "stream",
     "text": [
      "ชื่อ: สมศรี อายุ: 25 ปี\n"
     ]
    }
   ],
   "source": [
    "name = \"สมศรี\"\n",
    "age = 25\n",
    "print(\"ชื่อ:\", name, \"อายุ:\", age, \"ปี\")"
   ]
  },
  {
   "cell_type": "code",
   "execution_count": 33,
   "id": "ff371eeb",
   "metadata": {},
   "outputs": [
    {
     "name": "stdout",
     "output_type": "stream",
     "text": [
      "Apple---Banana---Cherry\n"
     ]
    }
   ],
   "source": [
    "# เปลี่ยนตัวคั่นจากเว้นวรรคเป็น \"---\" \n",
    "print(\"Apple\", \"Banana\", \"Cherry\", sep=\"---\")"
   ]
  },
  {
   "cell_type": "code",
   "execution_count": 32,
   "id": "ae2449c4",
   "metadata": {},
   "outputs": [
    {
     "name": "stdout",
     "output_type": "stream",
     "text": [
      "สวัสดี ครับ\n"
     ]
    }
   ],
   "source": [
    "# ไม่ต้องการให้ขึ้นบรรทัดใหม่หลัง print จบ\n",
    "print(\"สวัสดี\", end=\" \")\n",
    "print(\"ครับ\")"
   ]
  },
  {
   "cell_type": "code",
   "execution_count": 31,
   "id": "319b2f44",
   "metadata": {},
   "outputs": [
    {
     "name": "stdout",
     "output_type": "stream",
     "text": [
      "ยินดีด้วยคุณ จินตนา! คุณได้คะแนน 95.5 คะแนน\n"
     ]
    }
   ],
   "source": [
    "name = \"จินตนา\"\n",
    "score = 95.5\n",
    "\n",
    "print(f\"ยินดีด้วยคุณ {name}! คุณได้คะแนน {score} คะแนน\")"
   ]
  },
  {
   "cell_type": "code",
   "execution_count": 28,
   "id": "e6378b10",
   "metadata": {},
   "outputs": [
    {
     "name": "stdout",
     "output_type": "stream",
     "text": [
      "สวัสดี, คุณ 20!\n"
     ]
    }
   ],
   "source": [
    "# แสดงข้อความ \"ป้อนชื่อของคุณ: \" แล้วรอรับข้อมูล\n",
    "name = input(\"ป้อนชื่อของคุณ: \")\n",
    "\n",
    "# แสดงผลข้อมูลที่รับเข้ามา\n",
    "print(f\"สวัสดี, คุณ {name}!\")"
   ]
  },
  {
   "cell_type": "code",
   "execution_count": 27,
   "id": "9c9d8912",
   "metadata": {},
   "outputs": [
    {
     "name": "stdout",
     "output_type": "stream",
     "text": [
      "ในอีก 10 ปีข้างหน้า คุณจะอายุ 30 ปี\n"
     ]
    }
   ],
   "source": [
    "# รับอายุเป็น string แล้วแปลงเป็น integer (ตัวเลขจำนวนเต็ม)\n",
    "age = int(input(\"คุณอายุเท่าไหร่?: \"))\n",
    "\n",
    "# ตอนนี้สามารถนำ age ไปคำนวณได้แล้ว\n",
    "age_in_ten_years = age + 10\n",
    "print(f\"ในอีก 10 ปีข้างหน้า คุณจะอายุ {age_in_ten_years} ปี\")"
   ]
  },
  {
   "cell_type": "code",
   "execution_count": 29,
   "id": "f7483d98",
   "metadata": {},
   "outputs": [
    {
     "name": "stdout",
     "output_type": "stream",
     "text": [
      "ชื่อ: สมชาย\n",
      "อายุ: 35 ปี\n",
      "คะแนน: 88.5\n",
      "ตอนนี้อายุ: 36 ปี\n"
     ]
    }
   ],
   "source": [
    "# ตัวแปรชนิดข้อความ (String)\n",
    "first_name = \"สมชาย\"\n",
    "\n",
    "# ตัวแปรชนิดตัวเลขจำนวนเต็ม (Integer)\n",
    "age = 35\n",
    "\n",
    "# ตัวแปรชนิดตัวเลขทศนิยม (Float)\n",
    "score = 88.5\n",
    "\n",
    "# การเรียกใช้งานตัวแปร\n",
    "print(f\"ชื่อ: {first_name}\")\n",
    "print(f\"อายุ: {age} ปี\")\n",
    "print(f\"คะแนน: {score}\")\n",
    "\n",
    "# ค่าของตัวแปรสามารถเปลี่ยนแปลงได้\n",
    "age = 36\n",
    "print(f\"ตอนนี้อายุ: {age} ปี\")"
   ]
  },
  {
   "cell_type": "code",
   "execution_count": 30,
   "id": "4d298a4b",
   "metadata": {},
   "outputs": [
    {
     "name": "stdout",
     "output_type": "stream",
     "text": [
      "100 <class 'str'>\n",
      "100 <class 'int'>\n"
     ]
    }
   ],
   "source": [
    "str_number = \"100\"\n",
    "int_number = int(str_number) # ผลลัพธ์คือ 100 (Integer)\n",
    "print(str_number,type(str_number))\n",
    "print(int_number,type(int_number))"
   ]
  },
  {
   "cell_type": "code",
   "execution_count": null,
   "id": "8fe9202a",
   "metadata": {},
   "outputs": [
    {
     "name": "stdout",
     "output_type": "stream",
     "text": [
      "100 <class 'str'>\n",
      "100.0 <class 'float'>\n"
     ]
    }
   ],
   "source": [
    "str_number = \"100\"\n",
    "float_number = float(str_number) # ผลลัพธ์คือ 100 (float)\n",
    "print(str_number,type(str_number))\n",
    "print(float_number,type(float_number))"
   ]
  },
  {
   "cell_type": "code",
   "execution_count": 23,
   "id": "9d7ffcc2",
   "metadata": {},
   "outputs": [
    {
     "name": "stdout",
     "output_type": "stream",
     "text": [
      "Your age is 30 <class 'str'>\n"
     ]
    }
   ],
   "source": [
    "age = 30\n",
    "message = \"Your age is \" + str(age) # ผลลัพธ์คือ \"Your age is 30\" (String)\n",
    "print(message,type(message))"
   ]
  },
  {
   "cell_type": "code",
   "execution_count": 37,
   "id": "b81679ad",
   "metadata": {},
   "outputs": [
    {
     "name": "stdout",
     "output_type": "stream",
     "text": [
      "ไม่สามารถแปลงเป็นตัวเลขได้\n"
     ]
    }
   ],
   "source": [
    "text = \"500a\"\n",
    "if text.isdigit(): # isdigit() ใช้ตรวจสอบว่าเป็นตัวเลขหรือไม่\n",
    "    number = int(text)\n",
    "    print(number)\n",
    "else:\n",
    "    print(\"ไม่สามารถแปลงเป็นตัวเลขได้\")"
   ]
  },
  {
   "cell_type": "code",
   "execution_count": 25,
   "id": "b6aab384",
   "metadata": {},
   "outputs": [
    {
     "name": "stdout",
     "output_type": "stream",
     "text": [
      "Invalid input, please enter a number.\n"
     ]
    }
   ],
   "source": [
    "text_input = \"four\"\n",
    "try:\n",
    "    value = int(text_input)\n",
    "    print(f\"Success: {value}\")\n",
    "except ValueError:\n",
    "    print(\"Invalid input, please enter a number.\")"
   ]
  },
  {
   "cell_type": "code",
   "execution_count": 38,
   "id": "cbd81856",
   "metadata": {},
   "outputs": [
    {
     "name": "stdout",
     "output_type": "stream",
     "text": [
      "Name is empty.\n"
     ]
    }
   ],
   "source": [
    "name = \"\"\n",
    "if name: # bool(name) จะเป็น False\n",
    "    print(f\"Hello, {name}\")\n",
    "else:\n",
    "    print(\"Name is empty.\")"
   ]
  },
  {
   "cell_type": "code",
   "execution_count": 40,
   "id": "4306af8a",
   "metadata": {},
   "outputs": [
    {
     "name": "stdout",
     "output_type": "stream",
     "text": [
      "เริ่มต้นการทำงานของโปรแกรม...\n",
      "กำลังดึงข้อมูลที่ตำแหน่ง: 5\n"
     ]
    },
    {
     "ename": "IndexError",
     "evalue": "list index out of range",
     "output_type": "error",
     "traceback": [
      "\u001b[31m---------------------------------------------------------------------------\u001b[39m",
      "\u001b[31mIndexError\u001b[39m                                Traceback (most recent call last)",
      "\u001b[36mCell\u001b[39m\u001b[36m \u001b[39m\u001b[32mIn[40]\u001b[39m\u001b[32m, line 9\u001b[39m\n\u001b[32m      6\u001b[39m \u001b[38;5;28mprint\u001b[39m(\u001b[33mf\u001b[39m\u001b[33m\"\u001b[39m\u001b[33mกำลังดึงข้อมูลที่ตำแหน่ง: \u001b[39m\u001b[38;5;132;01m{\u001b[39;00mtarget_index\u001b[38;5;132;01m}\u001b[39;00m\u001b[33m\"\u001b[39m)\n\u001b[32m      8\u001b[39m \u001b[38;5;66;03m# พยายามเข้าถึงข้อมูลโดยตรง ซึ่งเป็นจุดที่เกิด Error\u001b[39;00m\n\u001b[32m----> \u001b[39m\u001b[32m9\u001b[39m score = \u001b[43mstudent_scores\u001b[49m\u001b[43m[\u001b[49m\u001b[43mtarget_index\u001b[49m\u001b[43m]\u001b[49m \n\u001b[32m     11\u001b[39m \u001b[38;5;28mprint\u001b[39m(\u001b[33mf\u001b[39m\u001b[33m\"\u001b[39m\u001b[33mคะแนนที่ได้คือ: \u001b[39m\u001b[38;5;132;01m{\u001b[39;00mscore\u001b[38;5;132;01m}\u001b[39;00m\u001b[33m\"\u001b[39m)\n\u001b[32m     12\u001b[39m \u001b[38;5;28mprint\u001b[39m(\u001b[33m\"\u001b[39m\u001b[33mจบการทำงาน\u001b[39m\u001b[33m\"\u001b[39m)\n",
      "\u001b[31mIndexError\u001b[39m: list index out of range"
     ]
    }
   ],
   "source": [
    "# --- Main Program ---\n",
    "student_scores = [88, 95, 74]\n",
    "target_index = 5 # ตำแหน่งที่ไม่มีอยู่จริง\n",
    "\n",
    "print(\"เริ่มต้นการทำงานของโปรแกรม...\")\n",
    "print(f\"กำลังดึงข้อมูลที่ตำแหน่ง: {target_index}\")\n",
    "\n",
    "# พยายามเข้าถึงข้อมูลโดยตรง ซึ่งเป็นจุดที่เกิด Error\n",
    "score = student_scores[target_index] \n",
    "\n",
    "print(f\"คะแนนที่ได้คือ: {score}\")\n",
    "print(\"จบการทำงาน\")"
   ]
  }
 ],
 "metadata": {
  "kernelspec": {
   "display_name": "Python 3",
   "language": "python",
   "name": "python3"
  },
  "language_info": {
   "codemirror_mode": {
    "name": "ipython",
    "version": 3
   },
   "file_extension": ".py",
   "mimetype": "text/x-python",
   "name": "python",
   "nbconvert_exporter": "python",
   "pygments_lexer": "ipython3",
   "version": "3.13.5"
  }
 },
 "nbformat": 4,
 "nbformat_minor": 5
}
