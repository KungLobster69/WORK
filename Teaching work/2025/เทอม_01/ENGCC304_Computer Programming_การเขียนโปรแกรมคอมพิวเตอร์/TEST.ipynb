{
 "cells": [
  {
   "cell_type": "code",
   "execution_count": 2,
   "id": "689adef6",
   "metadata": {},
   "outputs": [
    {
     "name": "stdout",
     "output_type": "stream",
     "text": [
      "Hello, Engineering Student!\n"
     ]
    }
   ],
   "source": [
    "print(\"Hello, Engineering Student!\")"
   ]
  },
  {
   "cell_type": "code",
   "execution_count": 3,
   "id": "d3913caf",
   "metadata": {},
   "outputs": [
    {
     "data": {
      "text/plain": [
       "'กุ้ง'"
      ]
     },
     "execution_count": 3,
     "metadata": {},
     "output_type": "execute_result"
    }
   ],
   "source": [
    "input(\"กรุณาระบุชื่อผู้ใช้: \")"
   ]
  },
  {
   "cell_type": "code",
   "execution_count": 4,
   "id": "1f4c02b9",
   "metadata": {},
   "outputs": [
    {
     "name": "stdout",
     "output_type": "stream",
     "text": [
      "สวัสดี, คุณ กุ้ง\n"
     ]
    }
   ],
   "source": [
    "# 1. รับข้อมูลจากผู้ใช้ และเก็บไว้ในตัวแปร user_name\n",
    "user_name = input(\"กรุณาระบุชื่อของท่าน: \")\n",
    "# 2. นำค่าที่เก็บในตัวแปร user_name มาแสดงผล\n",
    "print(\"สวัสดี, คุณ\", user_name)"
   ]
  }
 ],
 "metadata": {
  "kernelspec": {
   "display_name": ".venv",
   "language": "python",
   "name": "python3"
  },
  "language_info": {
   "codemirror_mode": {
    "name": "ipython",
    "version": 3
   },
   "file_extension": ".py",
   "mimetype": "text/x-python",
   "name": "python",
   "nbconvert_exporter": "python",
   "pygments_lexer": "ipython3",
   "version": "3.13.5"
  }
 },
 "nbformat": 4,
 "nbformat_minor": 5
}
