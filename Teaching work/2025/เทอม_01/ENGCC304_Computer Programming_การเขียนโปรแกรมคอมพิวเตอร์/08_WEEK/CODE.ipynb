{
 "cells": [
  {
   "cell_type": "code",
   "execution_count": null,
   "id": "cb3535c7",
   "metadata": {},
   "outputs": [],
   "source": [
    "scores = [88, 92, 75, 95, 80]\n",
    "# การเข้าถึงข้อมูล\n",
    "print(scores[0])  # ผลลัพธ์: 88\n",
    "print(scores[2])  # ผลลัพธ์: 75"
   ]
  },
  {
   "cell_type": "code",
   "execution_count": null,
   "id": "99b69fd7",
   "metadata": {},
   "outputs": [],
   "source": [
    "list_2d = [\n",
    "    #  col 0,   col 1,   col 2\n",
    "    [\"Apple\",  \"Red\",      50],  # row 0\n",
    "    [\"Banana\", \"Yellow\",   30],  # row 1\n",
    "    [\"Grape\",  \"Purple\",   100]  # row 2\n",
    "]"
   ]
  },
  {
   "cell_type": "code",
   "execution_count": null,
   "id": "f827ac05",
   "metadata": {},
   "outputs": [],
   "source": [
    "data = [ [1, 2, 3], [4, 5, 6] ]\n",
    "\n",
    "# หาจำนวนแถว (Number of rows)\n",
    "num_rows = len(data)  # ผลลัพธ์: 2\n",
    "\n",
    "# หาจำนวนคอลัมน์ (Number of columns)\n",
    "# (ต้องมั่นใจว่าทุกแถวมีจำนวนคอลัมน์เท่ากัน)\n",
    "num_cols = len(data[0]) # ผลลัพธ์: 3\n",
    "\n",
    "print(f\"This is a {num_rows}x{num_cols} list.\")"
   ]
  },
  {
   "cell_type": "code",
   "execution_count": null,
   "id": "fc1044bf",
   "metadata": {},
   "outputs": [],
   "source": [
    "# ตัวอย่าง: Matrix ขนาด 3x3\n",
    "matrix = [\n",
    "    [1, 2, 3],\n",
    "    [4, 5, 6],\n",
    "    [7, 8, 9]\n",
    "]\n",
    "\n",
    "# ตัวอย่าง: ตารางข้อมูลสินค้า\n",
    "products = [\n",
    "    [\"Keyboard\", 500, 10],\n",
    "    [\"Mouse\", 300, 15],\n",
    "]"
   ]
  },
  {
   "cell_type": "code",
   "execution_count": null,
   "id": "308cb5af",
   "metadata": {},
   "outputs": [],
   "source": [
    "student_scores = [] # 1. สร้าง List ว่าง\n",
    "\n",
    "# 2. รับข้อมูลและสร้างแถว\n",
    "student1 = [\"Alice\", 88, 92]\n",
    "student2 = [\"Bob\", 75, 80]\n",
    "\n",
    "# 3. เพิ่มแถวเข้าไปใน List หลัก\n",
    "student_scores.append(student1)\n",
    "student_scores.append(student2)\n",
    "\n",
    "print(student_scores)\n",
    "# ผลลัพธ์: [['Alice', 88, 92], ['Bob', 75, 80]]"
   ]
  },
  {
   "cell_type": "code",
   "execution_count": null,
   "id": "2603516a",
   "metadata": {},
   "outputs": [],
   "source": [
    "rows, cols = (5, 5) # ต้องการตารางขนาด 5x5\n",
    "grid = []\n",
    "\n",
    "for r in range(rows):\n",
    "    row_list = []\n",
    "    for c in range(cols):\n",
    "        row_list.append(0) # เพิ่ม 0 เข้าไปในแถว\n",
    "    grid.append(row_list) # เพิ่มแถวที่สร้างเสร็จเข้าตารางหลัก\n",
    "\n",
    "# วิธีลัด (List Comprehension)\n",
    "# grid = [[0 for c in range(cols)] for r in range(rows)]\n",
    "\n",
    "print(grid)"
   ]
  },
  {
   "cell_type": "code",
   "execution_count": null,
   "id": "d57895e3",
   "metadata": {},
   "outputs": [],
   "source": [
    "# แบบนี้ผิด!\n",
    "wrong_grid = [[0] * 3] * 3\n",
    "# wrong_grid คือ [[0, 0, 0], [0, 0, 0], [0, 0, 0]]\n",
    "\n",
    "wrong_grid[0][0] = 99\n",
    "print(wrong_grid)\n",
    "# ผลลัพธ์: [[99, 0, 0], [99, 0, 0], [99, 0, 0]]\n",
    "# แก้ไขที่เดียว แต่เปลี่ยนทุกแถว!"
   ]
  },
  {
   "cell_type": "code",
   "execution_count": null,
   "id": "271395d7",
   "metadata": {},
   "outputs": [],
   "source": [
    "matrix = [\n",
    "    [1, 2, 3],  # แถว 0\n",
    "    [4, 5, 6],  # แถว 1\n",
    "    [7, 8, 9]   # แถว 2\n",
    "]\n",
    "\n",
    "# เข้าถึงเลข 5 (แถว 1, คอลัมน์ 1)\n",
    "element = matrix[1][1]\n",
    "print(element)  # ผลลัพธ์: 5\n",
    "\n",
    "# เข้าถึงแถวที่ 0 ทั้งแถว\n",
    "row0 = matrix[0]\n",
    "print(row0) # ผลลัพธ์: [1, 2, 3]\n",
    "\n",
    "# เข้าถึงข้อมูลตัวสุดท้ายของแถวที่ 2\n",
    "last_element = matrix[2][2]\n",
    "print(last_element) # ผลลัพธ์: 9"
   ]
  },
  {
   "cell_type": "code",
   "execution_count": null,
   "id": "1799d938",
   "metadata": {},
   "outputs": [],
   "source": [
    "# Wokeshop_01\n",
    "# List products ที่ให้มา\n",
    "products = [\n",
    "    [\"Keyboard\", 500, 10],\n",
    "    [\"Mouse\", 300, 15],\n",
    "    [\"Monitor\", 4500, 8]\n",
    "]\n",
    "\n",
    "# 1. ราคาของ Mouse (ควรได้ 300)\n",
    "# - products[1] คือการเข้าถึง list ของ Mouse (index ที่ 1)\n",
    "# - [1] ตัวที่สอง คือการเข้าถึงราคา (index ที่ 1 ใน list ของ Mouse)\n",
    "price_of_mouse = products[1][1]\n",
    "print(f\"ราคาของ Mouse: {price_of_mouse}\")\n",
    "\n",
    "# 2. ชื่อของสินค้าชิ้นสุดท้าย (ควรได้ \"Monitor\")\n",
    "# - products[-1] คือการเข้าถึง list ตัวสุดท้าย (Monitor)\n",
    "# - [0] คือการเข้าถึงชื่อสินค้า (index ที่ 0 ใน list ของ Monitor)\n",
    "last_product_name = products[-1][0]\n",
    "print(f\"ชื่อของสินค้าชิ้นสุดท้าย: {last_product_name}\")\n",
    "\n",
    "# 3. จำนวนคงเหลือของ Keyboard (ควรได้ 10)\n",
    "# - products[0] คือการเข้าถึง list ของ Keyboard (index ที่ 0)\n",
    "# - [2] คือการเข้าถึงจำนวนคงเหลือ (index ที่ 2 ใน list ของ Keyboard)\n",
    "keyboard_stock = products[0][2]\n",
    "print(f\"จำนวนคงเหลือของ Keyboard: {keyboard_stock}\")"
   ]
  },
  {
   "cell_type": "code",
   "execution_count": null,
   "id": "443dc8e8",
   "metadata": {},
   "outputs": [],
   "source": [
    "matrix = [ [1, 2, 3], [4, 5, 6], [7, 8, 9] ]\n",
    "\n",
    "print(\"Before:\", matrix)\n",
    "# เปลี่ยนเลข 5 (แถว 1, คอลัมน์ 1) ให้เป็น 99\n",
    "matrix[1][1] = 99\n",
    "print(\"After:\", matrix)\n",
    "# ผลลัพธ์ After: [[1, 2, 3], [4, 99, 6], [7, 8, 9]]"
   ]
  },
  {
   "cell_type": "code",
   "execution_count": null,
   "id": "27d9531e",
   "metadata": {},
   "outputs": [],
   "source": [
    "matrix = [ [1, 2, 3], [4, 5, 6] ] # มี index แถวแค่ 0, 1\n",
    "\n",
    "# พยายามเข้าถึงแถวที่ 2 (index 2)\n",
    "# print(matrix[2][0]) # -> IndexError: list index out of range\n",
    "\n",
    "# พยายามเข้าถึงคอลัมน์ที่ 3 (index 3)\n",
    "# print(matrix[0][3]) # -> IndexError: list index out of range"
   ]
  },
  {
   "cell_type": "code",
   "execution_count": null,
   "id": "178c4ed4",
   "metadata": {},
   "outputs": [],
   "source": [
    "matrix = [ [1, 2, 3], [4, 5, 6], [7, 8, 9] ]\n",
    "\n",
    "for row_list in matrix:\n",
    "    for item in row_list:\n",
    "        print(item, end=\" \") # แสดงผลและเว้นวรรค\n",
    "    print() # ขึ้นบรรทัดใหม่เมื่อจบแถว"
   ]
  },
  {
   "cell_type": "code",
   "execution_count": null,
   "id": "c0726a01",
   "metadata": {},
   "outputs": [],
   "source": [
    "matrix = [ [1, 2, 3], [4, 5, 6] ]\n",
    "num_rows = len(matrix)\n",
    "num_cols = len(matrix[0])\n",
    "\n",
    "for r in range(num_rows):\n",
    "    for c in range(num_cols):\n",
    "        print(f\"Value at ({r},{c}) is {matrix[r][c]}\")"
   ]
  },
  {
   "cell_type": "code",
   "execution_count": null,
   "id": "8ab8fe3a",
   "metadata": {},
   "outputs": [],
   "source": [
    "scores = [\n",
    "    [85, 90],  # คะแนนของนักเรียนคนที่ 1\n",
    "    [78, 88],  # คะแนนของนักเรียนคนที่ 2\n",
    "    [92, 95]   # คะแนนของนักเรียนคนที่ 3\n",
    "]"
   ]
  },
  {
   "cell_type": "code",
   "execution_count": null,
   "id": "e1bca7cb",
   "metadata": {},
   "outputs": [],
   "source": [
    "# คำนวณคะแนนเฉลี่ยของนักเรียนแต่ละคน\n",
    "student_index = 0\n",
    "for student_scores in scores:\n",
    "    # student_scores คือ list 1 มิติ เช่น [85, 90]\n",
    "    average = sum(student_scores) / len(student_scores)\n",
    "    print(f\"Student {student_index + 1} average score: {average:.2f}\")\n",
    "    student_index += 1"
   ]
  },
  {
   "cell_type": "code",
   "execution_count": null,
   "id": "e9b5c4c0",
   "metadata": {},
   "outputs": [],
   "source": [
    "num_subjects = len(scores[0]) # 2\n",
    "\n",
    "for c in range(num_subjects): # วนตามคอลัมน์ (วิชา)\n",
    "    max_score = 0\n",
    "    for r in range(len(scores)): # วนตามแถว (นักเรียน)\n",
    "        if scores[r][c] > max_score:\n",
    "            max_score = scores[r][c]\n",
    "    print(f\"Max score for subject {c+1} is {max_score}\")"
   ]
  },
  {
   "cell_type": "code",
   "execution_count": 1,
   "id": "442a9cf8",
   "metadata": {},
   "outputs": [
    {
     "name": "stdout",
     "output_type": "stream",
     "text": [
      "Result: [[6, 8], [10, 12]]\n"
     ]
    }
   ],
   "source": [
    "matrix_a = [ [1, 2], [3, 4] ]\n",
    "matrix_b = [ [5, 6], [7, 8] ]\n",
    "result = [ [0, 0], [0, 0] ]\n",
    "\n",
    "for r in range(len(matrix_a)):\n",
    "    for c in range(len(matrix_a[0])):\n",
    "        result[r][c] = matrix_a[r][c] + matrix_b[r][c]\n",
    "\n",
    "print(\"Result:\", result)\n",
    "# ผลลัพธ์ที่คาดหวัง: Result: [[6, 8], [10, 12]]"
   ]
  },
  {
   "cell_type": "code",
   "execution_count": null,
   "id": "2c998388",
   "metadata": {},
   "outputs": [],
   "source": [
    "# Workshop_02\n",
    "# List 2 มิติ เพื่อเก็บข้อมูลพนักงาน\n",
    "# [ชื่อพนักงาน, ชั่วโมงทำงาน, อัตราค่าจ้างต่อชั่วโมง]\n",
    "employees = [\n",
    "    [\"Alice\", 40, 150],\n",
    "    [\"Bob\", 35, 160],\n",
    "    [\"Charlie\", 45, 155],\n",
    "    [\"David\", 50, 140],\n",
    "    [\"Eve\", 38, 175],\n",
    "    [\"Frank\", 42, 165]\n",
    "]\n",
    "\n",
    "print(\"--- เงินเดือนพนักงาน ---\")\n",
    "\n",
    "# วนลูปใน List ของพนักงานแต่ละคน\n",
    "for employee in employees:\n",
    "    # ดึงข้อมูลจาก list ของพนักงานแต่ละคน\n",
    "    name = employee[0]\n",
    "    hours_worked = employee[1]\n",
    "    hourly_rate = employee[2]\n",
    "    \n",
    "    # คำนวณเงินเดือน\n",
    "    salary = hours_worked * hourly_rate\n",
    "    \n",
    "    # แสดงผลลัพธ์\n",
    "    print(f\"{name}: {salary} บาท\")\n",
    "\n",
    "print(\"----------------------\")"
   ]
  }
 ],
 "metadata": {
  "kernelspec": {
   "display_name": ".venv (3.13.5)",
   "language": "python",
   "name": "python3"
  },
  "language_info": {
   "codemirror_mode": {
    "name": "ipython",
    "version": 3
   },
   "file_extension": ".py",
   "mimetype": "text/x-python",
   "name": "python",
   "nbconvert_exporter": "python",
   "pygments_lexer": "ipython3",
   "version": "3.13.7"
  }
 },
 "nbformat": 4,
 "nbformat_minor": 5
}
