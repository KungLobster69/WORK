{
 "cells": [
  {
   "cell_type": "code",
   "execution_count": null,
   "id": "a1f9929e",
   "metadata": {},
   "outputs": [],
   "source": [
    "# สร้าง List ว่าง\n",
    "empty_list = []\n",
    "\n",
    "# สร้าง List ของตัวเลข\n",
    "scores = [88, 92, 75, 95, 80]\n",
    "\n",
    "# สร้าง List ของข้อความ\n",
    "fruits = [\"apple\", \"banana\", \"cherry\"]\n",
    "\n",
    "# สร้าง List ที่มีข้อมูลหลายชนิดปนกัน\n",
    "mixed_list = [\"John\", 25, 175.5, True]\n",
    "\n",
    "print(scores)\n",
    "print(fruits)\n",
    "print(mixed_list)"
   ]
  },
  {
   "cell_type": "code",
   "execution_count": null,
   "id": "086f583a",
   "metadata": {},
   "outputs": [],
   "source": [
    "fruits = [\"apple\", \"banana\", \"cherry\"]\n",
    "\n",
    "# เข้าถึงข้อมูลตัวสุดท้าย\n",
    "last_fruit = fruits[-1] # ได้ค่า \"cherry\"\n",
    "\n",
    "# เข้าถึงข้อมูลตัวรองสุดท้าย\n",
    "second_last_fruit = fruits[-2] # ได้ค่า \"banana\"\n",
    "\n",
    "print(last_fruit)\n",
    "print(second_last_fruit)"
   ]
  },
  {
   "cell_type": "code",
   "execution_count": null,
   "id": "5c6aaa14",
   "metadata": {},
   "outputs": [],
   "source": [
    "numbers = [0, 1, 2, 3, 4, 5, 6, 7, 8, 9]\n",
    "\n",
    "# ดึงข้อมูลตั้งแต่ index 2 ถึง 4 (ก่อน 5)\n",
    "subset1 = numbers[2:5] # ผลลัพธ์: [2, 3, 4]\n",
    "\n",
    "# ดึงข้อมูลตั้งแต่เริ่มต้นถึง index 3 (ก่อน 4)\n",
    "subset2 = numbers[:4] # ผลลัพธ์: [0, 1, 2, 3]\n",
    "\n",
    "# ดึงข้อมูลตั้งแต่ index 6 จนถึงสุดท้าย\n",
    "subset3 = numbers[6:] # ผลลัพธ์: [6, 7, 8, 9]\n",
    "\n",
    "print(subset1)\n",
    "print(subset2)\n",
    "print(subset3)"
   ]
  },
  {
   "cell_type": "code",
   "execution_count": null,
   "id": "51d880cf",
   "metadata": {},
   "outputs": [],
   "source": [
    "colors = [\"red\", \"green\", \"blue\"]\n",
    "print(\"Original:\", colors) # Original: ['red', 'green', 'blue']\n",
    "\n",
    "# เปลี่ยนค่าที่ index 1 จาก \"green\" เป็น \"yellow\"\n",
    "colors[1] = \"yellow\"\n",
    "print(\"Updated:\", colors) # Updated: ['red', 'yellow', 'blue']"
   ]
  },
  {
   "cell_type": "code",
   "execution_count": null,
   "id": "823e4311",
   "metadata": {},
   "outputs": [],
   "source": [
    "fruits = [\"apple\", \"banana\"]\n",
    "print(fruits) # ['apple', 'banana']\n",
    "\n",
    "last_fruit = fruits.pop()\n",
    "print(\"Popped item:\", last_fruit) # Popped item: banana\n",
    "print(\"List now:\", fruits) # List now: ['apple', 'orange', 'cherry']"
   ]
  },
  {
   "cell_type": "code",
   "execution_count": null,
   "id": "02b4515f",
   "metadata": {},
   "outputs": [],
   "source": [
    "numbers = [4, 1, 7, 3, 2]\n",
    "numbers.sort()\n",
    "print(numbers) # [1, 2, 3, 4, 7]\n",
    "\n",
    "# เรียงจากมากไปน้อย\n",
    "numbers.sort(reverse=True)\n",
    "print(numbers) # [7, 4, 3, 2, 1]"
   ]
  },
  {
   "cell_type": "code",
   "execution_count": null,
   "id": "12d095a7",
   "metadata": {},
   "outputs": [],
   "source": [
    "names = [\"A\", \"B\", \"C\"]\n",
    "names.reverse()\n",
    "print(names) # ['C', 'B', 'A']"
   ]
  },
  {
   "cell_type": "code",
   "execution_count": null,
   "id": "41216171",
   "metadata": {},
   "outputs": [],
   "source": [
    "scores = [88, 92, 75, 95, 80]\n",
    "\n",
    "print(\"Count:\", len(scores))     # Count: 5\n",
    "print(\"Max score:\", max(scores)) # Max score: 95\n",
    "print(\"Min score:\", min(scores)) # Min score: 75\n",
    "print(\"Total:\", sum(scores))     # Total: 430"
   ]
  },
  {
   "cell_type": "code",
   "execution_count": null,
   "id": "2ac07846",
   "metadata": {},
   "outputs": [],
   "source": [
    "fruits = [\"apple\", \"banana\", \"cherry\"]\n",
    "\n",
    "# วนลูปเพื่อพิมพ์ชื่อผลไม้แต่ละชนิด\n",
    "for fruit in fruits:\n",
    "  print(f\"I like {fruit}\")\n",
    "\n",
    "# ผลลัพธ์:\n",
    "# I like apple\n",
    "# I like banana\n",
    "# I like cherry"
   ]
  },
  {
   "cell_type": "code",
   "execution_count": null,
   "id": "89b3f8fb",
   "metadata": {},
   "outputs": [],
   "source": [
    "scores = []\n",
    "num_students = 5\n",
    "\n",
    "print(f\"Please enter scores for {num_students} students.\")\n",
    "\n",
    "for i in range(num_students):\n",
    "    score = float(input(f\"Enter score for student {i+1}: \"))\n",
    "    scores.append(score)\n",
    "\n",
    "print(\"\\n--- Results ---\")\n",
    "print(f\"All scores: {scores}\")\n",
    "print(f\"Highest score: {max(scores)}\")\n",
    "print(f\"Lowest score: {min(scores)}\")\n",
    "print(f\"Average score: {sum(scores) / len(scores)}\")"
   ]
  },
  {
   "cell_type": "code",
   "execution_count": null,
   "id": "5a5542b8",
   "metadata": {},
   "outputs": [],
   "source": [
    "# สร้าง Tuple ว่าง\n",
    "empty_tuple = ()\n",
    "\n",
    "# สร้าง Tuple ของพิกัด\n",
    "point = (10, 20)\n",
    "\n",
    "# สร้าง Tuple ของสี RGB\n",
    "color = (255, 128, 0)\n",
    "\n",
    "# Tuple ที่มีข้อมูลหลายชนิด\n",
    "person = (\"Alice\", 30, \"Engineer\")\n",
    "\n",
    "# การสร้าง Tuple ที่มีสมาชิกตัวเดียว (ต้องมี comma)\n",
    "single_tuple = (\"hello\",)"
   ]
  },
  {
   "cell_type": "code",
   "execution_count": null,
   "id": "25a2928b",
   "metadata": {},
   "outputs": [],
   "source": [
    "person = (\"Alice\", 30, \"Engineer\")\n",
    "\n",
    "# เข้าถึงข้อมูลตัวแรก\n",
    "name = person[0] # \"Alice\"\n",
    "\n",
    "# เข้าถึงข้อมูลตัวสุดท้าย\n",
    "job = person[-1] # \"Engineer\"\n",
    "\n",
    "# Slicing\n",
    "info = person[0:2] # (\"Alice\", 30)"
   ]
  },
  {
   "cell_type": "code",
   "execution_count": null,
   "id": "3492d12e",
   "metadata": {},
   "outputs": [],
   "source": [
    "point = (10, 20)\n",
    "\n",
    "# ลองเปลี่ยนค่าใน Tuple\n",
    "point[0] = 15 # บรรทัดนี้จะทำให้โปรแกรม Error!\n",
    "\n",
    "# TypeError: 'tuple' object does not support item assignment"
   ]
  },
  {
   "cell_type": "code",
   "execution_count": null,
   "id": "80f19c46",
   "metadata": {},
   "outputs": [],
   "source": [
    "grades = ('A', 'B', 'A', 'C', 'B', 'A')\n",
    "\n",
    "# นับว่ามีเกรด 'A' กี่ตัว\n",
    "count_a = grades.count('A') # ผลลัพธ์: 3\n",
    "\n",
    "# หาตำแหน่งแรกที่เจอเกรด 'B'\n",
    "index_b = grades.index('B') # ผลลัพธ์: 1"
   ]
  },
  {
   "cell_type": "code",
   "execution_count": null,
   "id": "730e1945",
   "metadata": {},
   "outputs": [],
   "source": [
    "# ข้อมูลสินค้า (รหัส, ชื่อ, ราคา)\n",
    "product = (\"P001\", \"Laptop\", 35000)\n",
    "\n",
    "# Unpacking\n",
    "(product_id, name, price) = product\n",
    "\n",
    "print(f\"ID: {product_id}\")   # ID: P001\n",
    "print(f\"Name: {name}\")       # Name: Laptop\n",
    "print(f\"Price: {price}\")     # Price: 35000"
   ]
  },
  {
   "cell_type": "code",
   "execution_count": null,
   "id": "197feb0c",
   "metadata": {},
   "outputs": [],
   "source": [
    "# List of Tuples\n",
    "inventory = [\n",
    "    (\"P001\", \"Keyboard\", 50),\n",
    "    (\"P002\", \"Mouse\", 75),\n",
    "    (\"P003\", \"Monitor\", 30)\n",
    "]\n",
    "\n",
    "print(\"--- Current Inventory ---\")\n",
    "print(\"ID\\tName\\t\\tStock\")\n",
    "print(\"---------------------------\")\n",
    "\n",
    "for item in inventory:\n",
    "    # Unpacking a tuple inside a loop\n",
    "    (pid, name, stock) = item\n",
    "    print(f\"{pid}\\t{name}\\t\\t{stock}\")"
   ]
  },
  {
   "cell_type": "code",
   "execution_count": null,
   "id": "9342c18f",
   "metadata": {},
   "outputs": [],
   "source": [
    "# รายชื่อนักศึกษา (รหัสนักศึกษา, ชื่อ, GPA)\n",
    "students = [\n",
    "    (\"6501001\", \"John Doe\", 3.50),\n",
    "    (\"6501002\", \"Jane Smith\", 3.85),\n",
    "    # สามารถ .append() นักศึกษาใหม่ที่เป็น Tuple เข้ามาได้\n",
    "]"
   ]
  }
 ],
 "metadata": {
  "kernelspec": {
   "display_name": ".venv",
   "language": "python",
   "name": "python3"
  },
  "language_info": {
   "codemirror_mode": {
    "name": "ipython",
    "version": 3
   },
   "file_extension": ".py",
   "mimetype": "text/x-python",
   "name": "python",
   "nbconvert_exporter": "python",
   "pygments_lexer": "ipython3",
   "version": "3.13.7"
  }
 },
 "nbformat": 4,
 "nbformat_minor": 5
}
