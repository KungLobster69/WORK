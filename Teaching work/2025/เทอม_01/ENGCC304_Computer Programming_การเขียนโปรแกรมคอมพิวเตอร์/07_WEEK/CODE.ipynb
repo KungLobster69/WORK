{
 "cells": [
  {
   "cell_type": "code",
   "execution_count": null,
   "id": "4e5fc4eb",
   "metadata": {},
   "outputs": [],
   "source": [
    "num1_str = input(\"ป้อนตัวเลขที่หนึ่ง: \") # ผู้ใช้ป้อน '9'\n",
    "num2_str = input(\"ป้อนตัวเลขที่สอง: \") # ผู้ใช้ป้อน '11'\n",
    "\n",
    "result = num1_str + num2_str\n",
    "print(f\"ผลลัพธ์คือ: {result}\")"
   ]
  },
  {
   "cell_type": "code",
   "execution_count": null,
   "id": "87071a6b",
   "metadata": {},
   "outputs": [],
   "source": [
    "score = 85\n",
    "\n",
    "if score >= 50:\n",
    "    grade = \"D\"\n",
    "elif score >= 60:\n",
    "    grade = \"C\"\n",
    "elif score >= 70:\n",
    "    grade = \"B\"\n",
    "elif score >= 80:\n",
    "    grade = \"A\"\n",
    "else:\n",
    "    grade = \"F\"\n",
    "\n",
    "print(f\"คุณได้เกรด: {grade}\")"
   ]
  },
  {
   "cell_type": "code",
   "execution_count": null,
   "id": "0318bf31",
   "metadata": {},
   "outputs": [],
   "source": [
    "age = 20\n",
    "has_ticket = False\n",
    "is_vip = True\n",
    "\n",
    "can_enter = (age >= 18 and has_ticket) or is_vip\n",
    "print(can_enter)"
   ]
  },
  {
   "cell_type": "code",
   "execution_count": null,
   "id": "3387cde0",
   "metadata": {},
   "outputs": [],
   "source": [
    "total_sum = 0\n",
    "for i in range(1, 11):\n",
    "    if i % 3 == 0:\n",
    "        continue\n",
    "    total_sum += i"
   ]
  },
  {
   "cell_type": "code",
   "execution_count": null,
   "id": "18b7dca7",
   "metadata": {},
   "outputs": [],
   "source": [
    "for i in range(4):\n",
    "    for j in range(i):\n",
    "        print('*', end='')\n",
    "    print() # ขึ้นบรรทัดใหม่"
   ]
  }
 ],
 "metadata": {
  "language_info": {
   "name": "python"
  }
 },
 "nbformat": 4,
 "nbformat_minor": 5
}
