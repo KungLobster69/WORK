{
 "cells": [
  {
   "cell_type": "code",
   "execution_count": null,
   "id": "a552162f",
   "metadata": {},
   "outputs": [],
   "source": [
    "print(\"Hello! World\")"
   ]
  },
  {
   "cell_type": "code",
   "execution_count": null,
   "id": "67681b88",
   "metadata": {},
   "outputs": [],
   "source": [
    "name = \"สมชาย\"\n",
    "age = 30\n",
    "print(name)\n",
    "print(age)"
   ]
  },
  {
   "cell_type": "code",
   "execution_count": null,
   "id": "d8209a3a",
   "metadata": {},
   "outputs": [],
   "source": [
    "name = \"สมศรี\"\n",
    "age = 25\n",
    "print(\"ชื่อ:\", name, \"อายุ:\", age, \"ปี\")"
   ]
  },
  {
   "cell_type": "code",
   "execution_count": null,
   "id": "ff371eeb",
   "metadata": {},
   "outputs": [],
   "source": [
    "# เปลี่ยนตัวคั่นจากเว้นวรรคเป็น \"---\" \n",
    "print(\"Apple\", \"Banana\", \"Cherry\", sep=\"---\")"
   ]
  },
  {
   "cell_type": "code",
   "execution_count": null,
   "id": "ae2449c4",
   "metadata": {},
   "outputs": [],
   "source": [
    "# ไม่ต้องการให้ขึ้นบรรทัดใหม่หลัง print จบ\n",
    "print(\"สวัสดี\", end=\" \")\n",
    "print(\"ครับ\")"
   ]
  },
  {
   "cell_type": "code",
   "execution_count": null,
   "id": "319b2f44",
   "metadata": {},
   "outputs": [],
   "source": [
    "name = \"จินตนา\"\n",
    "score = 95.5\n",
    "\n",
    "print(f\"ยินดีด้วยคุณ {name}! คุณได้คะแนน {score} คะแนน\")"
   ]
  },
  {
   "cell_type": "code",
   "execution_count": null,
   "id": "e6378b10",
   "metadata": {},
   "outputs": [],
   "source": [
    "# แสดงข้อความ \"ป้อนชื่อของคุณ: \" แล้วรอรับข้อมูล\n",
    "name = input(\"ป้อนชื่อของคุณ: \")\n",
    "\n",
    "# แสดงผลข้อมูลที่รับเข้ามา\n",
    "print(f\"สวัสดี, คุณ {name}!\")"
   ]
  },
  {
   "cell_type": "code",
   "execution_count": null,
   "id": "9c9d8912",
   "metadata": {},
   "outputs": [],
   "source": [
    "# รับอายุเป็น string แล้วแปลงเป็น integer (ตัวเลขจำนวนเต็ม)\n",
    "age = int(input(\"คุณอายุเท่าไหร่?: \"))\n",
    "\n",
    "# ตอนนี้สามารถนำ age ไปคำนวณได้แล้ว\n",
    "age_in_ten_years = age + 10\n",
    "print(f\"ในอีก 10 ปีข้างหน้า คุณจะอายุ {age_in_ten_years} ปี\")"
   ]
  },
  {
   "cell_type": "code",
   "execution_count": null,
   "id": "f7483d98",
   "metadata": {},
   "outputs": [],
   "source": [
    "# ตัวแปรชนิดข้อความ (String)\n",
    "first_name = \"สมชาย\"\n",
    "\n",
    "# ตัวแปรชนิดตัวเลขจำนวนเต็ม (Integer)\n",
    "age = 35\n",
    "\n",
    "# ตัวแปรชนิดตัวเลขทศนิยม (Float)\n",
    "score = 88.5\n",
    "\n",
    "# การเรียกใช้งานตัวแปร\n",
    "print(f\"ชื่อ: {first_name}\")\n",
    "print(f\"อายุ: {age} ปี\")\n",
    "print(f\"คะแนน: {score}\")\n",
    "\n",
    "# ค่าของตัวแปรสามารถเปลี่ยนแปลงได้\n",
    "age = 36\n",
    "print(f\"ตอนนี้อายุ: {age} ปี\")"
   ]
  },
  {
   "cell_type": "code",
   "execution_count": null,
   "id": "4d298a4b",
   "metadata": {},
   "outputs": [],
   "source": [
    "str_number = \"100\"\n",
    "int_number = int(str_number) # ผลลัพธ์คือ 100 (Integer)\n",
    "print(str_number,type(str_number))\n",
    "print(int_number,type(int_number))"
   ]
  },
  {
   "cell_type": "code",
   "execution_count": null,
   "id": "8fe9202a",
   "metadata": {},
   "outputs": [],
   "source": [
    "str_number = \"100\"\n",
    "float_number = float(str_number) # ผลลัพธ์คือ 100 (float)\n",
    "print(str_number,type(str_number))\n",
    "print(float_number,type(float_number))"
   ]
  },
  {
   "cell_type": "code",
   "execution_count": null,
   "id": "9d7ffcc2",
   "metadata": {},
   "outputs": [],
   "source": [
    "age = 30\n",
    "message = \"Your age is \" + str(age) # ผลลัพธ์คือ \"Your age is 30\" (String)\n",
    "print(message,type(message))"
   ]
  },
  {
   "cell_type": "code",
   "execution_count": null,
   "id": "b81679ad",
   "metadata": {},
   "outputs": [],
   "source": [
    "text = \"500a\"\n",
    "if text.isdigit(): # isdigit() ใช้ตรวจสอบว่าเป็นตัวเลขหรือไม่\n",
    "    number = int(text)\n",
    "    print(number)\n",
    "else:\n",
    "    print(\"ไม่สามารถแปลงเป็นตัวเลขได้\")"
   ]
  },
  {
   "cell_type": "code",
   "execution_count": null,
   "id": "b6aab384",
   "metadata": {},
   "outputs": [],
   "source": [
    "text_input = \"four\"\n",
    "try:\n",
    "    value = int(text_input)\n",
    "    print(f\"Success: {value}\")\n",
    "except ValueError:\n",
    "    print(\"Invalid input, please enter a number.\")"
   ]
  },
  {
   "cell_type": "code",
   "execution_count": null,
   "id": "cbd81856",
   "metadata": {},
   "outputs": [],
   "source": [
    "name = \"\"\n",
    "if name: # bool(name) จะเป็น False\n",
    "    print(f\"Hello, {name}\")\n",
    "else:\n",
    "    print(\"Name is empty.\")"
   ]
  },
  {
   "cell_type": "code",
   "execution_count": null,
   "id": "4306af8a",
   "metadata": {},
   "outputs": [],
   "source": [
    "# --- Main Program ---\n",
    "student_scores = [88, 95, 74]\n",
    "target_index = 5 # ตำแหน่งที่ไม่มีอยู่จริง\n",
    "\n",
    "print(\"เริ่มต้นการทำงานของโปรแกรม...\")\n",
    "print(f\"กำลังดึงข้อมูลที่ตำแหน่ง: {target_index}\")\n",
    "\n",
    "# พยายามเข้าถึงข้อมูลโดยตรง ซึ่งเป็นจุดที่เกิด Error\n",
    "score = student_scores[target_index] \n",
    "\n",
    "print(f\"คะแนนที่ได้คือ: {score}\")\n",
    "print(\"จบการทำงาน\")"
   ]
  },
  {
   "cell_type": "code",
   "execution_count": null,
   "id": "4382cd2b",
   "metadata": {},
   "outputs": [],
   "source": [
    "try:\n",
    "    age_str = input(\"ป้อนอายุ: \")\n",
    "    age = int(age_str)\n",
    "    print(f\"อายุของคุณคือ {age} ปี\")\n",
    "except ValueError: # ระบุ Error ที่ต้องการดักจับ\n",
    "    print(\"ข้อมูลไม่ถูกต้อง! กรุณาป้อนอายุเป็นตัวเลขเท่านั้น\")"
   ]
  },
  {
   "cell_type": "code",
   "execution_count": null,
   "id": "7e62c689",
   "metadata": {},
   "outputs": [],
   "source": [
    "my_list = [1, 2, 3, 0]\n",
    "try:\n",
    "    index = int(input(\"ป้อนตำแหน่ง: \"))\n",
    "    result = 10 / my_list[index]\n",
    "    print(f\"ผลลัพธ์คือ {result}\")\n",
    "# 1. จัดการหลาย Error แยกกัน\n",
    "except ValueError:\n",
    "    print(\"ต้องป้อนเป็นตัวเลขเท่านั้น\")\n",
    "except IndexError:\n",
    "    print(\"ตำแหน่งที่เลือกไม่มีในรายการ\")\n",
    "# 2. จัดการหลาย Error ในบล็อกเดียว\n",
    "except (ZeroDivisionError, TypeError) as e:\n",
    "    print(f\"เกิดข้อผิดพลาดในการคำนวณ: {e}\")\n",
    "# 3. ดักจับ Error ทั่วไป (ควรไว้ท้ายสุด)\n",
    "except Exception as e:\n",
    "    print(f\"เกิดข้อผิดพลาดที่ไม่คาดคิด: {e}\")"
   ]
  },
  {
   "cell_type": "code",
   "execution_count": 5,
   "id": "b46d8bce",
   "metadata": {},
   "outputs": [
    {
     "name": "stdout",
     "output_type": "stream",
     "text": [
      "อ่านไฟล์สำเร็จ! เนื้อหาคือ:\n",
      "ABCDE\n",
      "--- ไฟล์ถูกปิดแล้ว ---\n"
     ]
    }
   ],
   "source": [
    "f = None\n",
    "try:\n",
    "    f = open('my_data.txt', 'r', encoding='utf-8')\n",
    "except FileNotFoundError:\n",
    "    print(\"ไม่พบไฟล์ที่ระบุ\")\n",
    "else:\n",
    "    # ทำงานเมื่อ try สำเร็จ\n",
    "    print(\"อ่านไฟล์สำเร็จ! เนื้อหาคือ:\")\n",
    "    print(f.read())\n",
    "finally:\n",
    "    # ทำงานเสมอเพื่อปิดไฟล์\n",
    "    if f:\n",
    "        f.close()\n",
    "        print(\"--- ไฟล์ถูกปิดแล้ว ---\")"
   ]
  },
  {
   "cell_type": "code",
   "execution_count": null,
   "id": "6d801195",
   "metadata": {},
   "outputs": [],
   "source": [
    "user_database = {\n",
    "    \"user01\": {\"name\": \"สมชาย\", \"role\": \"admin\"},\n",
    "    \"user02\": {\"name\": \"สมศรี\", \"role\": \"editor\"}\n",
    "}\n",
    "try:\n",
    "    username = input(\"ป้อนชื่อผู้ใช้ที่ต้องการค้นหา: \")\n",
    "    user_info = user_database[username] # อาจเกิด KeyError ที่นี่\n",
    "except KeyError:\n",
    "    print(f\"ไม่พบผู้ใช้ที่ชื่อ '{username}' ในระบบ\")\n",
    "else:\n",
    "    # ทำงานเมื่อ try สำเร็จ (ไม่เกิด KeyError)\n",
    "    print(\"ค้นหาผู้ใช้สำเร็จ!\")\n",
    "    print(f\"  ชื่อ: {user_info['name']}, บทบาท: {user_info['role']}\")\n",
    "finally:\n",
    "    # ทำงานเสมอ ไม่ว่าจะค้นหาเจอหรือไม่\n",
    "    print(\"--- สิ้นสุดกระบวนการค้นหา ---\")"
   ]
  },
  {
   "cell_type": "code",
   "execution_count": null,
   "id": "826f3c98",
   "metadata": {},
   "outputs": [],
   "source": [
    "try:\n",
    "    password = input(\"กรุณาตั้งรหัสผ่าน: \")\n",
    "    \n",
    "    if len(password) < 8:\n",
    "        # สร้าง Error ขึ้นมาเองถ้ารหัสผ่านสั้นเกินไป\n",
    "        raise ValueError(\"รหัสผ่านต้องมีความยาวอย่างน้อย 8 ตัวอักษร\")\n",
    "\n",
    "    if password.isalpha():\n",
    "        # สร้าง Error ถ้ามีแต่ตัวอักษร ไม่มีตัวเลขหรือสัญลักษณ์\n",
    "        raise ValueError(\"รหัสผ่านควรมีทั้งตัวอักษรและตัวเลขผสมกัน\")\n",
    "\n",
    "    print(\"รหัสผ่านแข็งแรงและบันทึกเรียบร้อย!\")\n",
    "\n",
    "except ValueError as e:\n",
    "    # except บล็อกนี้จะจัดการ ValueError ที่เราสร้างขึ้นเอง\n",
    "    print(f\"ตั้งรหัสผ่านไม่สำเร็จ: {e}\")"
   ]
  },
  {
   "cell_type": "code",
   "execution_count": null,
   "id": "0061a55b",
   "metadata": {},
   "outputs": [],
   "source": [
    "try:\n",
    "    with open(\"my_data.txt\", 'r', encoding='utf-8') as f:\n",
    "        print(f.read())\n",
    "except FileNotFoundError:\n",
    "    print(\"ไม่พบไฟล์\")"
   ]
  },
  {
   "cell_type": "code",
   "execution_count": 1,
   "id": "d9186573",
   "metadata": {},
   "outputs": [
    {
     "name": "stdout",
     "output_type": "stream",
     "text": [
      "ผลบวก: 15 + 4 = 19\n",
      "ผลลบ: 15 - 4 = 11\n",
      "ผลคูณ: 15 * 4 = 60\n"
     ]
    }
   ],
   "source": [
    "# Cell In[1]\n",
    "x = 15\n",
    "y = 4\n",
    "\n",
    "addition_result = x + y\n",
    "subtraction_result = x - y\n",
    "multiplication_result = x * y\n",
    "\n",
    "print(f\"ผลบวก: {x} + {y} = {addition_result}\")\n",
    "print(f\"ผลลบ: {x} - {y} = {subtraction_result}\")\n",
    "print(f\"ผลคูณ: {x} * {y} = {multiplication_result}\")"
   ]
  },
  {
   "cell_type": "code",
   "execution_count": 2,
   "id": "c1eee226",
   "metadata": {},
   "outputs": [
    {
     "name": "stdout",
     "output_type": "stream",
     "text": [
      "ผลหาร: 10 / 4 = 2.5\n",
      "ชนิดข้อมูลของผลลัพธ์: <class 'float'>\n"
     ]
    }
   ],
   "source": [
    "# Cell In[2]\n",
    "x = 10\n",
    "y = 4\n",
    "\n",
    "division_result = x / y\n",
    "print(f\"ผลหาร: {x} / {y} = {division_result}\")\n",
    "print(f\"ชนิดข้อมูลของผลลัพธ์: {type(division_result)}\")"
   ]
  },
  {
   "cell_type": "code",
   "execution_count": 3,
   "id": "bb0b9b16",
   "metadata": {},
   "outputs": [
    {
     "name": "stdout",
     "output_type": "stream",
     "text": [
      "130 นาที คิดเป็น 2 นาที กับอีก 10 วินาที\n"
     ]
    }
   ],
   "source": [
    "# Cell In[3]\n",
    "minutes = 130\n",
    "seconds_per_minute = 60\n",
    "\n",
    "# หาว่า 130 นาที คิดเป็นกี่นาที (ปัดเศษลง)\n",
    "calculated_minutes = minutes // seconds_per_minute\n",
    "\n",
    "# หาว่าเหลือเศษกี่วินาที\n",
    "remaining_seconds = minutes % seconds_per_minute\n",
    "\n",
    "print(f\"{minutes} นาที คิดเป็น {calculated_minutes} นาที กับอีก {remaining_seconds} วินาที\")"
   ]
  },
  {
   "cell_type": "code",
   "execution_count": 4,
   "id": "997b1c9a",
   "metadata": {},
   "outputs": [
    {
     "name": "stdout",
     "output_type": "stream",
     "text": [
      "สี่เหลี่ยมจัตุรัสมีด้านยาว 5 หน่วย จะมีพื้นที่ 25 ตารางหน่วย\n"
     ]
    }
   ],
   "source": [
    "# Cell In[4]\n",
    "side_length = 5\n",
    "\n",
    "# คำนวณพื้นที่ของสี่เหลี่ยมจัตุรัส (ด้าน * ด้าน หรือ ด้าน^2)\n",
    "area = side_length ** 2\n",
    "\n",
    "print(f\"สี่เหลี่ยมจัตุรัสมีด้านยาว {side_length} หน่วย จะมีพื้นที่ {area} ตารางหน่วย\")"
   ]
  },
  {
   "cell_type": "code",
   "execution_count": 5,
   "id": "8f2adfe4",
   "metadata": {},
   "outputs": [
    {
     "name": "stdout",
     "output_type": "stream",
     "text": [
      "ผลลัพธ์ของ 5 + 2 * 3 - 8 / 4 คือ 9.0\n",
      "ผลลัพธ์ของ (5 + 2) * (3 - 8 / 4) คือ 7.0\n"
     ]
    }
   ],
   "source": [
    "# Cell In[5]\n",
    "result = 5 + 2 * 3 - 8 / 4\n",
    "\n",
    "# ลำดับการคำนวณ:\n",
    "# 1. คูณ: 2 * 3  -> 6\n",
    "# 2. หาร: 8 / 4  -> 2.0\n",
    "# 3. บวก: 5 + 6  -> 11\n",
    "# 4. ลบ: 11 - 2.0 -> 9.0\n",
    "\n",
    "print(f\"ผลลัพธ์ของ 5 + 2 * 3 - 8 / 4 คือ {result}\")\n",
    "\n",
    "# ใช้วงเล็บเพื่อบังคับลำดับ\n",
    "result_with_parentheses = (5 + 2) * (3 - 8 / 4)\n",
    "print(f\"ผลลัพธ์ของ (5 + 2) * (3 - 8 / 4) คือ {result_with_parentheses}\")"
   ]
  },
  {
   "cell_type": "code",
   "execution_count": 6,
   "id": "2253361d",
   "metadata": {},
   "outputs": [
    {
     "name": "stdout",
     "output_type": "stream",
     "text": [
      "คะแนนเริ่มต้น: 100\n",
      "คะแนนหลังทำผิดพลาด: 80\n",
      "คะแนนหลังได้โบนัส: 120.0\n"
     ]
    }
   ],
   "source": [
    "# Cell In[6]\n",
    "score = 100\n",
    "print(f\"คะแนนเริ่มต้น: {score}\")\n",
    "\n",
    "# ผู้เล่นทำผิดพลาด คะแนนลดลง 20\n",
    "score -= 20\n",
    "print(f\"คะแนนหลังทำผิดพลาด: {score}\")\n",
    "\n",
    "# ผู้เล่นเก็บไอเทมโบนัส คะแนนคูณ 1.5\n",
    "score *= 1.5\n",
    "print(f\"คะแนนหลังได้โบนัส: {score}\")"
   ]
  },
  {
   "cell_type": "code",
   "execution_count": 1,
   "id": "60934630",
   "metadata": {},
   "outputs": [],
   "source": [
    "# Cell In[1]\n",
    "def calculate_grade_point(score: float) -> float:\n",
    "    \"\"\"คำนวณเกรดเฉลี่ยจากคะแนนที่ได้รับ\n",
    "\n",
    "    ฟังก์ชันนี้จะแปลงคะแนนดิบ (0-100) ให้เป็นเกรดพอยต์ (0.0-4.0)\n",
    "    ตามเกณฑ์มาตรฐาน\n",
    "\n",
    "    Args:\n",
    "        score (float): คะแนนดิบที่ต้องการแปลง มีค่าระหว่าง 0 ถึง 100\n",
    "\n",
    "    Returns:\n",
    "        float: ค่าเกรดพอยต์ที่คำนวณได้\n",
    "    \"\"\"\n",
    "    if score >= 80:\n",
    "        return 4.0\n",
    "    elif score >= 70:\n",
    "        return 3.0\n",
    "    # ... (เงื่อนไขอื่นๆ) ...\n",
    "    else:\n",
    "        return 0.0"
   ]
  },
  {
   "cell_type": "code",
   "execution_count": 3,
   "id": "f91a7dd7",
   "metadata": {},
   "outputs": [
    {
     "name": "stdout",
     "output_type": "stream",
     "text": [
      "หนึ่งวันมี 86400 วินาที\n"
     ]
    }
   ],
   "source": [
    "# Cell In[2]\n",
    "SECONDS_IN_A_DAY = 86400\n",
    "MAX_LOGIN_ATTEMPTS = 5\n",
    "\n",
    "print(f\"หนึ่งวันมี {SECONDS_IN_A_DAY} วินาที\")"
   ]
  },
  {
   "cell_type": "code",
   "execution_count": null,
   "id": "875a137d",
   "metadata": {},
   "outputs": [],
   "source": [
    "# คำนวณส่วนลดสำหรับ user 1\n",
    "price1 = 1000\n",
    "discount1 = price1 * 0.1\n",
    "final_price1 = price1 - discount1\n",
    "\n",
    "# คำนวณส่วนลดสำหรับ user 2\n",
    "price2 = 500\n",
    "discount2 = price2 * 0.1\n",
    "final_price2 = price2 - discount2"
   ]
  },
  {
   "cell_type": "code",
   "execution_count": 6,
   "id": "dcc16987",
   "metadata": {},
   "outputs": [],
   "source": [
    "def calculate_final_price(price: float, discount_rate: float = 0.1) -> float:\n",
    "    \"\"\"คำนวณราคาสุทธิหลังหักส่วนลด\"\"\"\n",
    "    discount = price * discount_rate\n",
    "    return price - discount\n",
    "\n",
    "final_price1 = calculate_final_price(1000)\n",
    "final_price2 = calculate_final_price(500)"
   ]
  },
  {
   "cell_type": "code",
   "execution_count": 4,
   "id": "92243550",
   "metadata": {},
   "outputs": [
    {
     "name": "stdout",
     "output_type": "stream",
     "text": [
      "สวัสดี, สมศรี! ปีหน้าคุณจะอายุ 26 ปี\n"
     ]
    }
   ],
   "source": [
    "# Cell In[3]\n",
    "def format_user_greeting(name: str, age: int) -> str:\n",
    "    \"\"\"สร้างข้อความทักทายผู้ใช้พร้อมแสดงอายุ\"\"\"\n",
    "    greeting = f\"สวัสดี, {name.upper()}! ปีหน้าคุณจะอายุ {age + 1} ปี\"\n",
    "    return greeting\n",
    "\n",
    "# เรียกใช้งาน\n",
    "message = format_user_greeting(\"สมศรี\", 25)\n",
    "print(message)"
   ]
  }
 ],
 "metadata": {
  "kernelspec": {
   "display_name": ".venv",
   "language": "python",
   "name": "python3"
  },
  "language_info": {
   "codemirror_mode": {
    "name": "ipython",
    "version": 3
   },
   "file_extension": ".py",
   "mimetype": "text/x-python",
   "name": "python",
   "nbconvert_exporter": "python",
   "pygments_lexer": "ipython3",
   "version": "3.13.5"
  }
 },
 "nbformat": 4,
 "nbformat_minor": 5
}
