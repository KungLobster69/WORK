{
 "cells": [
  {
   "cell_type": "code",
   "execution_count": 1,
   "id": "4ff1c084",
   "metadata": {},
   "outputs": [
    {
     "name": "stdout",
     "output_type": "stream",
     "text": [
      "--- โปรแกรมทักทายอัจฉริยะ ---\n",
      "ยอดเยี่ยม! คุณกุ้งเกิดปี 2538, ปีนี้คุณจะมีอายุประมาณ 29 ปี!\n"
     ]
    }
   ],
   "source": [
    "print(\"--- โปรแกรมทักทายอัจฉริยะ ---\")\n",
    "\n",
    "# 1. รับชื่อ\n",
    "name = input(\"สวัสดี! ผมคือ AI ผู้ช่วย, ขอทราบชื่อเล่นของคุณได้ไหมครับ: \")\n",
    "\n",
    "# 2. รับปีเกิด\n",
    "birth_year_str = input(f\"ขอบคุณครับคุณ{name}, คุณเกิดปี พ.ศ. อะไรครับ: \")\n",
    "\n",
    "# 3. แปลงชนิดข้อมูล\n",
    "birth_year_int = int(birth_year_str)\n",
    "\n",
    "# 4. คำนวณอายุ\n",
    "current_year = 2567\n",
    "age = current_year - birth_year_int\n",
    "\n",
    "# 5. แสดงผลลัพธ์\n",
    "print(f\"ยอดเยี่ยม! คุณ{name}เกิดปี {birth_year_int}, ปีนี้คุณจะมีอายุประมาณ {age} ปี!\")"
   ]
  },
  {
   "cell_type": "code",
   "execution_count": null,
   "id": "d50b3758",
   "metadata": {},
   "outputs": [],
   "source": [
    "print(\"--- โปรแกรมหารบิลค่าอาหาร ---\")\n",
    "\n",
    "# 1, 2, 3. รับข้อมูลและแปลงชนิด\n",
    "total_bill = float(input(\"ยอดรวมค่าอาหารทั้งหมด: \"))\n",
    "tip_percent = float(input(\"ต้องการให้ทิปกี่เปอร์เซ็นต์: \"))\n",
    "num_people = int(input(\"ต้องการหารกันกี่คน: \"))\n",
    "\n",
    "# 4. คำนวณยอดรวมสุทธิ\n",
    "final_bill = total_bill * (1 + tip_percent / 100)\n",
    "\n",
    "# 5. คำนวณยอดต่อคน\n",
    "bill_per_person = final_bill / num_people\n",
    "\n",
    "# 6. ปัดเศษและแสดงผล\n",
    "amount_to_pay = round(bill_per_person, 2)\n",
    "print(f\"แต่ละคนต้องจ่าย: {amount_to_pay} บาท\")"
   ]
  },
  {
   "cell_type": "code",
   "execution_count": null,
   "id": "5f74c67b",
   "metadata": {},
   "outputs": [],
   "source": [
    "print(\"--- ระบบสร้างรหัสนักศึกษา ---\")\n",
    "\n",
    "# 1. รับอีเมล\n",
    "email = input(\"ป้อนอีเมลของนักศึกษา: \")\n",
    "\n",
    "# 2. แยกส่วนหน้า @\n",
    "username_part = email.split('@')[0]\n",
    "\n",
    "# 3. ทำความสะอาดข้อมูล (ใช้ Method Chaining)\n",
    "cleaned_username = username_part.strip().upper().replace('.', '_')\n",
    "\n",
    "# 4. สร้าง ID\n",
    "id_length = len(cleaned_username)\n",
    "student_id = f\"{cleaned_username}#{id_length}\"\n",
    "\n",
    "# 5. แสดงผล\n",
    "print(f\"รหัสนักศึกษาของคุณคือ: {student_id}\")\n"
   ]
  },
  {
   "cell_type": "code",
   "execution_count": null,
   "id": "8cb033e4",
   "metadata": {},
   "outputs": [],
   "source": [
    "print(\"--- โปรแกรมแปลงหน่วยเวลา ---\")\n",
    "\n",
    "# 1. รับข้อมูล\n",
    "total_seconds = int(input(\"ป้อนเวลาที่ใช้ในการแข่งขัน (วินาที): \"))\n",
    "\n",
    "# 2. คำนวณ\n",
    "# 1 ชั่วโมง = 3600 วินาที\n",
    "hours = total_seconds // 3600\n",
    "remaining_seconds = total_seconds % 3600\n",
    "\n",
    "# 1 นาที = 60 วินาที\n",
    "minutes = remaining_seconds // 60\n",
    "seconds = remaining_seconds % 60\n",
    "\n",
    "# 3. แสดงผล\n",
    "print(f\"เวลาที่ใช้ไปคือ {hours} ชั่วโมง {minutes} นาที {seconds} วินาที\")"
   ]
  },
  {
   "cell_type": "code",
   "execution_count": null,
   "id": "c24018a9",
   "metadata": {},
   "outputs": [],
   "source": [
    "try:\n",
    "    # 2. ลองรับและแปลงข้อมูล\n",
    "    score_str = input(\"กรุณาป้อนคะแนนสอบ: \")\n",
    "    score = float(score_str)\n",
    "\n",
    "    # 3. ถ้าสำเร็จ ให้ตรวจสอบและแสดงผล\n",
    "    is_passed = score >= 50\n",
    "    print(f\"ผลการสอบ (ผ่าน=True): {is_passed}\")\n",
    "\n",
    "except ValueError:\n",
    "    # 4. ถ้าเกิด Error ในบล็อก try ให้ทำงานส่วนนี้แทน\n",
    "    print(\"ข้อมูลผิดพลาด: กรุณาป้อนเป็นตัวเลขเท่านั้น\")"
   ]
  },
  {
   "cell_type": "code",
   "execution_count": null,
   "id": "f0edd0cb",
   "metadata": {},
   "outputs": [],
   "source": [
    "# --- โปรแกรมทักทายและคำนวณอายุ ---\n",
    "\n",
    "# 1. รับข้อมูลจากผู้ใช้\n",
    "nickname = input(\"กรุณาใส่ชื่อเล่นของคุณ: \")\n",
    "birth_year_str = input(f\"สวัสดีคุณ {nickname}, คุณเกิดปี พ.ศ. อะไรครับ: \")\n",
    "\n",
    "# 2. แปลงข้อมูลและคำนวณ\n",
    "current_year = 2567\n",
    "birth_year = int(birth_year_str)\n",
    "age = current_year - birth_year\n",
    "\n",
    "# 3. แสดงผล\n",
    "print(f\"เยี่ยมเลย! ปีนี้คุณอายุประมาณ {age} ปีแล้ว\")"
   ]
  },
  {
   "cell_type": "code",
   "execution_count": null,
   "id": "36f9b1c4",
   "metadata": {},
   "outputs": [],
   "source": [
    "# --- โปรแกรมคำนวณค่าอาหาร ---\n",
    "\n",
    "# 1. รับข้อมูล\n",
    "total_cost = float(input(\"ราคารวมของอาหารทั้งหมด: \"))\n",
    "tip_pct = int(input(\"ต้องการให้ทิปกี่เปอร์เซ็นต์: \"))\n",
    "num_people = int(input(\"หารกันทั้งหมดกี่คน: \"))\n",
    "\n",
    "# 2. คำนวณ\n",
    "tip_amount = total_cost * (tip_pct / 100)\n",
    "final_bill = total_cost + tip_amount\n",
    "cost_per_person = final_bill / num_people\n",
    "\n",
    "# 3. แสดงผล (ปัดเศษ 2 ตำแหน่ง)\n",
    "print(f\"แต่ละคนต้องจ่าย: {round(cost_per_person, 2)} บาท\")"
   ]
  },
  {
   "cell_type": "code",
   "execution_count": null,
   "id": "77790477",
   "metadata": {},
   "outputs": [],
   "source": [
    "# --- โปรแกรมสร้างชื่อเล่นเท่ๆ ---\n",
    "\n",
    "# 1. รับข้อมูล\n",
    "first_name = input(\"ชื่อจริงของคุณคืออะไร: \")\n",
    "birth_month = input(\"คุณเกิดเดือนอะไร: \")\n",
    "\n",
    "# 2. ประมวลผลข้อมูล\n",
    "name_part = first_name[0:3].upper()\n",
    "month_part = str(len(birth_month)) # แปลงเป็น string เพื่อนำไปต่อ\n",
    "\n",
    "# 3. สร้างชื่อเล่น\n",
    "cool_nickname = name_part + month_part\n",
    "\n",
    "print(f\"ชื่อเล่นสุดเท่ของคุณคือ: {cool_nickname}\")"
   ]
  },
  {
   "cell_type": "code",
   "execution_count": null,
   "id": "c29df9a3",
   "metadata": {},
   "outputs": [],
   "source": [
    "# --- โปรแกรมแปลงหน่วยเวลา ---\n",
    "\n",
    "# 1. รับข้อมูล\n",
    "total_seconds = int(input(\"กรุณาป้อนจำนวนวินาทีทั้งหมด: \"))\n",
    "\n",
    "# 2. คำนวณ\n",
    "# 1 ชั่วโมง = 3600 วินาที\n",
    "hours = total_seconds // 3600\n",
    "remaining_seconds = total_seconds % 3600\n",
    "\n",
    "# 1 นาที = 60 วินาที\n",
    "minutes = remaining_seconds // 60\n",
    "seconds = remaining_seconds % 60\n",
    "\n",
    "# 3. แสดงผล\n",
    "print(f\"เวลาที่ได้คือ: {hours} ชั่วโมง {minutes} นาที {seconds} วินาที\")"
   ]
  },
  {
   "cell_type": "code",
   "execution_count": null,
   "id": "245fe7b7",
   "metadata": {},
   "outputs": [],
   "source": [
    "# --- โปรแกรมตรวจสอบคะแนนสอบ ---\n",
    "\n",
    "score_input = input(\"กรุณาป้อนคะแนนสอบของคุณ: \")\n",
    "\n",
    "try:\n",
    "    score = float(score_input)\n",
    "    \n",
    "    # สร้างตัวแปรแบบบูลีนจากผลการเปรียบเทียบโดยตรง\n",
    "    is_passed = score >= 50\n",
    "    \n",
    "    # แสดงผลลัพธ์ True หรือ False\n",
    "    print(f\"ผลการสอบ (ผ่าน=True): {is_passed}\")\n",
    "\n",
    "except ValueError:\n",
    "    print(\"เกิดข้อผิดพลาด: กรุณาป้อนคะแนนเป็นตัวเลขเท่านั้น\")"
   ]
  },
  {
   "cell_type": "code",
   "execution_count": null,
   "id": "020a8157",
   "metadata": {},
   "outputs": [],
   "source": [
    "# --- โปรแกรมคำนวณ BMI ---\n",
    "try:\n",
    "    weight_kg = float(input(\"กรุณาป้อนน้ำหนัก (กิโลกรัม): \"))\n",
    "    height_cm = float(input(\"กรุณาป้อนส่วนสูง (เซนติเมตร): \"))\n",
    "\n",
    "    # แปลง ซม. เป็น เมตร\n",
    "    height_m = height_cm / 100\n",
    "\n",
    "    # คำนวณ BMI\n",
    "    bmi = weight_kg / (height_m ** 2)\n",
    "\n",
    "    print(f\"ค่าดัชนีมวลกาย (BMI) ของคุณคือ: {round(bmi, 1)}\")\n",
    "\n",
    "except ValueError:\n",
    "    print(\"เกิดข้อผิดพลาด: กรุณาป้อนข้อมูลเป็นตัวเลขเท่านั้น\")"
   ]
  },
  {
   "cell_type": "code",
   "execution_count": null,
   "id": "173fd714",
   "metadata": {},
   "outputs": [],
   "source": [
    "# --- โปรแกรมสร้างรหัสผ่านแนะนำ ---\n",
    "\n",
    "pet_name = input(\"ชื่อสัตว์เลี้ยงของคุณคืออะไร: \")\n",
    "phone_digits = input(\"เลข 2 ตัวสุดท้ายของเบอร์โทรศัพท์คุณคืออะไร: \")\n",
    "\n",
    "# นำ 4 ตัวอักษรแรกของชื่อสัตว์เลี้ยง\n",
    "pass_part1 = pet_name[0:4]\n",
    "\n",
    "# สร้างรหัสผ่าน\n",
    "password = pass_part1 + phone_digits + \"_X\"\n",
    "\n",
    "print(f\"รหัสผ่านที่แนะนำ: {password}\")"
   ]
  },
  {
   "cell_type": "code",
   "execution_count": null,
   "id": "b29baa3a",
   "metadata": {},
   "outputs": [],
   "source": [
    "# --- โปรแกรมวิเคราะห์ประโยค ---\n",
    "\n",
    "sentence = input(\"กรุณาป้อน 1 ประโยค: \")\n",
    "\n",
    "# 1. นับจำนวนอักขระ\n",
    "char_count = len(sentence)\n",
    "\n",
    "# 2. นับจำนวนคำ\n",
    "words = sentence.split()\n",
    "word_count = len(words)\n",
    "\n",
    "# 3. แสดงผล\n",
    "print(f\"ประโยคของคุณมี {char_count} อักขระ\")\n",
    "print(f\"ประโยคของคุณมี {word_count} คำ\")"
   ]
  },
  {
   "cell_type": "code",
   "execution_count": null,
   "id": "025d1c80",
   "metadata": {},
   "outputs": [],
   "source": [
    "# --- โปรแกรมคำนวณส่วนลด ---\n",
    "try:\n",
    "    price = float(input(\"ราคารวมของสินค้าคือ: \"))\n",
    "    \n",
    "    if price >= 500:\n",
    "        print(\"คุณได้รับส่วนลด 10%!\")\n",
    "        discount = price * 0.10\n",
    "        final_price = price - discount\n",
    "    else:\n",
    "        print(\"ยอดซื้อไม่ถึง 500 บาท ไม่มีส่วนลด\")\n",
    "        final_price = price\n",
    "        \n",
    "    print(f\"ยอดที่ต้องชำระสุทธิ: {final_price:.2f} บาท\")\n",
    "\n",
    "except ValueError:\n",
    "    print(\"เกิดข้อผิดพลาด: กรุณาป้อนราคาเป็นตัวเลข\")"
   ]
  },
  {
   "cell_type": "code",
   "execution_count": null,
   "id": "346b8424",
   "metadata": {},
   "outputs": [],
   "source": [
    "# --- โปรแกรมสลับชื่อ-นามสกุล ---\n",
    "\n",
    "full_name = input(\"กรุณาป้อนชื่อและนามสกุล (เช่น สมชาย ใจดี): \")\n",
    "\n",
    "# แยกชื่อและนามสกุล\n",
    "name_parts = full_name.split()\n",
    "\n",
    "if len(name_parts) >= 2:\n",
    "    first_name = name_parts[0]\n",
    "    last_name = name_parts[1]\n",
    "    \n",
    "    # จัดรูปแบบใหม่\n",
    "    formatted_name = f\"{last_name} {first_name}\"\n",
    "    \n",
    "    print(f\"รูปแบบสลับ: {formatted_name}\")\n",
    "else:\n",
    "    print(\"รูปแบบไม่ถูกต้อง กรุณาป้อนทั้งชื่อและนามสกุล\")"
   ]
  }
 ],
 "metadata": {
  "kernelspec": {
   "display_name": ".venv",
   "language": "python",
   "name": "python3"
  },
  "language_info": {
   "codemirror_mode": {
    "name": "ipython",
    "version": 3
   },
   "file_extension": ".py",
   "mimetype": "text/x-python",
   "name": "python",
   "nbconvert_exporter": "python",
   "pygments_lexer": "ipython3",
   "version": "3.13.5"
  }
 },
 "nbformat": 4,
 "nbformat_minor": 5
}
