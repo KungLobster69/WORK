{
 "cells": [
  {
   "cell_type": "code",
   "execution_count": 1,
   "id": "4ff1c084",
   "metadata": {},
   "outputs": [
    {
     "name": "stdout",
     "output_type": "stream",
     "text": [
      "--- โปรแกรมทักทายอัจฉริยะ ---\n",
      "ยอดเยี่ยม! คุณกุ้งเกิดปี 2538, ปีนี้คุณจะมีอายุประมาณ 29 ปี!\n"
     ]
    }
   ],
   "source": [
    "print(\"--- โปรแกรมทักทายอัจฉริยะ ---\")\n",
    "\n",
    "# 1. รับชื่อ\n",
    "name = input(\"สวัสดี! ผมคือ AI ผู้ช่วย, ขอทราบชื่อเล่นของคุณได้ไหมครับ: \")\n",
    "\n",
    "# 2. รับปีเกิด\n",
    "birth_year_str = input(f\"ขอบคุณครับคุณ{name}, คุณเกิดปี พ.ศ. อะไรครับ: \")\n",
    "\n",
    "# 3. แปลงชนิดข้อมูล\n",
    "birth_year_int = int(birth_year_str)\n",
    "\n",
    "# 4. คำนวณอายุ\n",
    "current_year = 2567\n",
    "age = current_year - birth_year_int\n",
    "\n",
    "# 5. แสดงผลลัพธ์\n",
    "print(f\"ยอดเยี่ยม! คุณ{name}เกิดปี {birth_year_int}, ปีนี้คุณจะมีอายุประมาณ {age} ปี!\")"
   ]
  },
  {
   "cell_type": "code",
   "execution_count": null,
   "id": "d50b3758",
   "metadata": {},
   "outputs": [],
   "source": [
    "print(\"--- โปรแกรมหารบิลค่าอาหาร ---\")\n",
    "\n",
    "# 1, 2, 3. รับข้อมูลและแปลงชนิด\n",
    "total_bill = float(input(\"ยอดรวมค่าอาหารทั้งหมด: \"))\n",
    "tip_percent = float(input(\"ต้องการให้ทิปกี่เปอร์เซ็นต์: \"))\n",
    "num_people = int(input(\"ต้องการหารกันกี่คน: \"))\n",
    "\n",
    "# 4. คำนวณยอดรวมสุทธิ\n",
    "final_bill = total_bill * (1 + tip_percent / 100)\n",
    "\n",
    "# 5. คำนวณยอดต่อคน\n",
    "bill_per_person = final_bill / num_people\n",
    "\n",
    "# 6. ปัดเศษและแสดงผล\n",
    "amount_to_pay = round(bill_per_person, 2)\n",
    "print(f\"แต่ละคนต้องจ่าย: {amount_to_pay} บาท\")"
   ]
  },
  {
   "cell_type": "code",
   "execution_count": null,
   "id": "5f74c67b",
   "metadata": {},
   "outputs": [],
   "source": [
    "print(\"--- ระบบสร้างรหัสนักศึกษา ---\")\n",
    "\n",
    "# 1. รับอีเมล\n",
    "email = input(\"ป้อนอีเมลของนักศึกษา: \")\n",
    "\n",
    "# 2. แยกส่วนหน้า @\n",
    "username_part = email.split('@')[0]\n",
    "\n",
    "# 3. ทำความสะอาดข้อมูล (ใช้ Method Chaining)\n",
    "cleaned_username = username_part.strip().upper().replace('.', '_')\n",
    "\n",
    "# 4. สร้าง ID\n",
    "id_length = len(cleaned_username)\n",
    "student_id = f\"{cleaned_username}#{id_length}\"\n",
    "\n",
    "# 5. แสดงผล\n",
    "print(f\"รหัสนักศึกษาของคุณคือ: {student_id}\")\n"
   ]
  },
  {
   "cell_type": "code",
   "execution_count": null,
   "id": "8cb033e4",
   "metadata": {},
   "outputs": [],
   "source": [
    "print(\"--- โปรแกรมแปลงหน่วยเวลา ---\")\n",
    "\n",
    "# 1. รับข้อมูล\n",
    "total_seconds = int(input(\"ป้อนเวลาที่ใช้ในการแข่งขัน (วินาที): \"))\n",
    "\n",
    "# 2. คำนวณ\n",
    "# 1 ชั่วโมง = 3600 วินาที\n",
    "hours = total_seconds // 3600\n",
    "remaining_seconds = total_seconds % 3600\n",
    "\n",
    "# 1 นาที = 60 วินาที\n",
    "minutes = remaining_seconds // 60\n",
    "seconds = remaining_seconds % 60\n",
    "\n",
    "# 3. แสดงผล\n",
    "print(f\"เวลาที่ใช้ไปคือ {hours} ชั่วโมง {minutes} นาที {seconds} วินาที\")"
   ]
  },
  {
   "cell_type": "code",
   "execution_count": null,
   "id": "c24018a9",
   "metadata": {},
   "outputs": [],
   "source": [
    "try:\n",
    "    # 2. ลองรับและแปลงข้อมูล\n",
    "    score_str = input(\"กรุณาป้อนคะแนนสอบ: \")\n",
    "    score = float(score_str)\n",
    "\n",
    "    # 3. ถ้าสำเร็จ ให้ตรวจสอบและแสดงผล\n",
    "    is_passed = score >= 50\n",
    "    print(f\"ผลการสอบ (ผ่าน=True): {is_passed}\")\n",
    "\n",
    "except ValueError:\n",
    "    # 4. ถ้าเกิด Error ในบล็อก try ให้ทำงานส่วนนี้แทน\n",
    "    print(\"ข้อมูลผิดพลาด: กรุณาป้อนเป็นตัวเลขเท่านั้น\")"
   ]
  }
 ],
 "metadata": {
  "kernelspec": {
   "display_name": ".venv",
   "language": "python",
   "name": "python3"
  },
  "language_info": {
   "codemirror_mode": {
    "name": "ipython",
    "version": 3
   },
   "file_extension": ".py",
   "mimetype": "text/x-python",
   "name": "python",
   "nbconvert_exporter": "python",
   "pygments_lexer": "ipython3",
   "version": "3.13.5"
  }
 },
 "nbformat": 4,
 "nbformat_minor": 5
}
