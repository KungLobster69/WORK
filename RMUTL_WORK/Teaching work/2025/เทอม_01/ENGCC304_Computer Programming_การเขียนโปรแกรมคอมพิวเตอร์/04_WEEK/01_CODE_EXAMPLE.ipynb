{
 "cells": [
  {
   "cell_type": "code",
   "execution_count": 1,
   "id": "fea74fb9",
   "metadata": {},
   "outputs": [
    {
     "name": "stdout",
     "output_type": "stream",
     "text": [
      "สามเหลี่ยมนี้มีพื้นที่เท่ากับ: 25.0\n"
     ]
    }
   ],
   "source": [
    "# 1. รับค่าจากผู้ใช้\n",
    "base = float(input(\"กรุณาป้อนความยาวฐานของสามเหลี่ยม: \"))\n",
    "height = float(input(\"กรุณาป้อนความสูงของสามเหลี่ยม: \"))\n",
    "\n",
    "# 2. คำนวณพื้นที่\n",
    "area = 0.5 * base * height\n",
    "\n",
    "# 3. แสดงผลลัพธ์\n",
    "print(f\"สามเหลี่ยมนี้มีพื้นที่เท่ากับ: {area}\")"
   ]
  },
  {
   "cell_type": "code",
   "execution_count": null,
   "id": "9387c483",
   "metadata": {},
   "outputs": [],
   "source": [
    "# 1. แสดงข้อความและรับค่าความกว้าง\n",
    "print(\"Enter width:\")\n",
    "width_str = input()\n",
    "width = float(width_str) # แปลงเป็นตัวเลข\n",
    "\n",
    "# 2. แสดงข้อความและรับค่าความยาว\n",
    "print(\"Enter length:\")\n",
    "length_str = input()\n",
    "length = float(length_str) # แปลงเป็นตัวเลข\n",
    "\n",
    "# 3. คำนวณพื้นที่\n",
    "area = width * length\n",
    "\n",
    "# 4. แสดงผลลัพธ์\n",
    "print(\"The area is:\", area)"
   ]
  }
 ],
 "metadata": {
  "kernelspec": {
   "display_name": ".venv",
   "language": "python",
   "name": "python3"
  },
  "language_info": {
   "codemirror_mode": {
    "name": "ipython",
    "version": 3
   },
   "file_extension": ".py",
   "mimetype": "text/x-python",
   "name": "python",
   "nbconvert_exporter": "python",
   "pygments_lexer": "ipython3",
   "version": "3.13.5"
  }
 },
 "nbformat": 4,
 "nbformat_minor": 5
}
