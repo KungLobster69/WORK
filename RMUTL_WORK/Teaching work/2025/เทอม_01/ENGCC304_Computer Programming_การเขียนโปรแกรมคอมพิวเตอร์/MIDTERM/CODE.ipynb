{
 "cells": [
  {
   "cell_type": "code",
   "execution_count": null,
   "id": "675d05fa",
   "metadata": {},
   "outputs": [],
   "source": [
    "x = 10\n",
    "y = 4\n",
    "p = True\n",
    "q = False\n",
    "\n",
    "# 2.1)\n",
    "r1 = (x + y) * 2 // y - (x % y)\n",
    "\n",
    "# 2.2)\n",
    "r2 = (x // y == 2) and (x - 6 > y)\n",
    "\n",
    "# 2.3)\n",
    "r3 = not p or (x / y > 2 and q)\n",
    "\n",
    "# 2.4)\n",
    "r4 = (not q or p) and (x % 3 > y)"
   ]
  }
 ],
 "metadata": {
  "language_info": {
   "name": "python"
  }
 },
 "nbformat": 4,
 "nbformat_minor": 5
}
