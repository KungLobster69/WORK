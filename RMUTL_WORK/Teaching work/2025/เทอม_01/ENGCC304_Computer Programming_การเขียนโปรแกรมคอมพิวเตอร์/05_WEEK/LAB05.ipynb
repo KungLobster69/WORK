{
 "cells": [
  {
   "cell_type": "code",
   "execution_count": 1,
   "id": "4a9351b5",
   "metadata": {},
   "outputs": [
    {
     "name": "stdout",
     "output_type": "stream",
     "text": [
      "คะแนน 80.0 ได้เกรด: A\n"
     ]
    }
   ],
   "source": [
    "# เฉลย Workshop (โจทย์ท้าทาย): โปรแกรมคำนวณเกรดพร้อม Input Validation\n",
    "# รายวิชา: ENGCC304 การเขียนโปรแกรมคอมพิวเตอร์\n",
    "\n",
    "# --- ส่วนที่ 1: รับข้อมูลและแปลงชนิดข้อมูล ---\n",
    "score_input = float(input(\"กรุณาป้อนคะแนนของคุณ (0-100): \"))\n",
    "\n",
    "\n",
    "# --- ส่วนที่ 2: การตรวจสอบข้อมูลนำเข้า (Input Validation) ---\n",
    "# ใช้ if-else เพื่อตรวจสอบว่าคะแนนอยู่ในช่วง 0-100 หรือไม่\n",
    "grade = \"\"\n",
    "\n",
    "if score_input >= 80:\n",
    "    grade = \"A\"\n",
    "elif score_input >= 70:\n",
    "    grade = \"B\"\n",
    "elif score_input >= 60:\n",
    "    grade = \"C\"\n",
    "elif score_input >= 50:\n",
    "    grade = \"D\"\n",
    "else:\n",
    "    grade = \"F\"\n",
    "\n",
    "# --- ส่วนที่ 3: แสดงผลลัพธ์ ---\n",
    "print(f\"คะแนน {score_input} ได้เกรด: {grade}\")"
   ]
  },
  {
   "cell_type": "code",
   "execution_count": 2,
   "id": "f724222a",
   "metadata": {},
   "outputs": [
    {
     "name": "stdout",
     "output_type": "stream",
     "text": [
      "Error: คะแนน '101.0' ไม่ถูกต้อง กรุณาป้อนคะแนนในช่วง 0-100 เท่านั้น\n"
     ]
    }
   ],
   "source": [
    "# เฉลย Workshop (โจทย์ท้าทาย): โปรแกรมคำนวณเกรดพร้อม Input Validation\n",
    "# รายวิชา: ENGCC304 การเขียนโปรแกรมคอมพิวเตอร์\n",
    "\n",
    "# --- ส่วนที่ 1: รับข้อมูลและแปลงชนิดข้อมูล ---\n",
    "score_input = float(input(\"กรุณาป้อนคะแนนของคุณ (0-100): \"))\n",
    "\n",
    "\n",
    "# --- ส่วนที่ 2: การตรวจสอบข้อมูลนำเข้า (Input Validation) ---\n",
    "# ใช้ if-else เพื่อตรวจสอบว่าคะแนนอยู่ในช่วง 0-100 หรือไม่\n",
    "if score_input >= 0 and score_input <= 100:\n",
    "    \n",
    "    # --- ส่วนที่ 3: การคำนวณเกรด (จะทำงานเมื่อข้อมูลถูกต้องเท่านั้น) ---\n",
    "    grade = \"\"\n",
    "\n",
    "    if score_input >= 80:\n",
    "        grade = \"A\"\n",
    "    elif score_input >= 70:\n",
    "        grade = \"B\"\n",
    "    elif score_input >= 60:\n",
    "        grade = \"C\"\n",
    "    elif score_input >= 50:\n",
    "        grade = \"D\"\n",
    "    else:\n",
    "        grade = \"F\"\n",
    "\n",
    "    # --- ส่วนที่ 4: แสดงผลลัพธ์ ---\n",
    "    print(f\"คะแนน {score_input} ได้เกรด: {grade}\")\n",
    "\n",
    "else:\n",
    "    # ถ้าข้อมูลไม่ถูกต้อง จะทำงานในบล็อกนี้\n",
    "    print(f\"Error: คะแนน '{score_input}' ไม่ถูกต้อง กรุณาป้อนคะแนนในช่วง 0-100 เท่านั้น\")"
   ]
  }
 ],
 "metadata": {
  "kernelspec": {
   "display_name": ".venv",
   "language": "python",
   "name": "python3"
  },
  "language_info": {
   "codemirror_mode": {
    "name": "ipython",
    "version": 3
   },
   "file_extension": ".py",
   "mimetype": "text/x-python",
   "name": "python",
   "nbconvert_exporter": "python",
   "pygments_lexer": "ipython3",
   "version": "3.13.5"
  }
 },
 "nbformat": 4,
 "nbformat_minor": 5
}
