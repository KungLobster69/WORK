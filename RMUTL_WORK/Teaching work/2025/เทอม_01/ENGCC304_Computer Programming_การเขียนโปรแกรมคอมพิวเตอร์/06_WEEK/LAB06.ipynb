{
 "cells": [
  {
   "cell_type": "code",
   "execution_count": null,
   "id": "f069270c",
   "metadata": {},
   "outputs": [],
   "source": [
    "# ENGCC304 - Computer Programming\n",
    "# Week 6 Workshop: Guessing Game Solution\n",
    "\n",
    "# 1. สุ่มตัวเลข\n",
    "# Import a 'random' module to use random number generation functionality.\n",
    "import random\n",
    "\n",
    "# Generate a random integer between 1 and 100. This will be the secret number.\n",
    "answer = random.randint(1, 100)\n",
    "# A counter for the number of guesses\n",
    "guess_count = 0\n",
    "\n",
    "print(\"I'm thinking of a number between 1 and 100.\")\n",
    "print(\"Let's see if you can guess it!\")\n",
    "\n",
    "# 2. วนรับค่า\n",
    "# Start an infinite loop. The loop will only be exited by the 'break' command.\n",
    "while True:\n",
    "    try:\n",
    "        # Prompt the user to enter their guess and convert it to an integer.\n",
    "        guess = int(input(\"Guess the number: \"))\n",
    "        \n",
    "        # Increment the guess counter\n",
    "        guess_count += 1\n",
    "\n",
    "        # 3. เปรียบเทียบและให้คำใบ้\n",
    "        # Check if the guess is lower than the answer.\n",
    "        if guess < answer:\n",
    "            print(f\"Guess the number: {guess}\")\n",
    "            print(\"Too low! Try again.\")\n",
    "        # Check if the guess is higher than the answer.\n",
    "        elif guess > answer:\n",
    "            print(f\"Guess the number: {guess}\")\n",
    "            print(\"Too high! Try again.\")\n",
    "        # If the guess is neither lower nor higher, it must be correct.\n",
    "        else:\n",
    "            print(f\"Congratulations! You guessed it right. The number was {answer}.\")\n",
    "            print(f\"It took you {guess_count} guesses.\")\n",
    "            # Exit the loop since the game is over.\n",
    "            break\n",
    "            \n",
    "    # Handle cases where the user enters non-numeric input.\n",
    "    except ValueError:\n",
    "        print(\"Invalid input. Please enter a valid number.\")\n",
    "\n"
   ]
  }
 ],
 "metadata": {
  "kernelspec": {
   "display_name": ".venv",
   "language": "python",
   "name": "python3"
  },
  "language_info": {
   "codemirror_mode": {
    "name": "ipython",
    "version": 3
   },
   "file_extension": ".py",
   "mimetype": "text/x-python",
   "name": "python",
   "nbconvert_exporter": "python",
   "pygments_lexer": "ipython3",
   "version": "3.13.5"
  }
 },
 "nbformat": 4,
 "nbformat_minor": 5
}
