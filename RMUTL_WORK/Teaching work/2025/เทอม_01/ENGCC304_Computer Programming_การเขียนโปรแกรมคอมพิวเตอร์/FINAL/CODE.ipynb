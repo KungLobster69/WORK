{
 "cells": [
  {
   "cell_type": "code",
   "execution_count": null,
   "id": "f90d407f",
   "metadata": {},
   "outputs": [],
   "source": [
    "width = 20\n",
    "height = \"2.5\"\n",
    "area = width * height  <- สมมติว่าไม่มี float()"
   ]
  },
  {
   "cell_type": "code",
   "execution_count": null,
   "id": "c0aa4be2",
   "metadata": {},
   "outputs": [],
   "source": [
    "score = int(input(\"Enter your score: \"))\n",
    "if score >= 90:\n",
    "    print(\"Grade: A\")\n",
    "elif score >= 80:\n",
    "    print(\"Grade: B\")\n",
    "elif score >= 70:\n",
    "    print(\"Grade: C\")\n",
    "else:\n",
    "    print(\"Grade: F\")"
   ]
  },
  {
   "cell_type": "code",
   "execution_count": null,
   "id": "09701e83",
   "metadata": {},
   "outputs": [],
   "source": [
    "# โค้ดตั้งต้น\n",
    "total = 0\n",
    "for i in range(1, 8):\n",
    "    total += i\n",
    "print(total)"
   ]
  },
  {
   "cell_type": "code",
   "execution_count": null,
   "id": "41352b72",
   "metadata": {},
   "outputs": [],
   "source": [
    "count = 6\n",
    "while count > 0:\n",
    "    if count == 4:\n",
    "        count -= 1\n",
    "        continue  # <--- เปลี่ยนตรงนี้เป็น break ในข้อ 5.2)\n",
    "    print(count)\n",
    "    count -= 1"
   ]
  },
  {
   "cell_type": "code",
   "execution_count": null,
   "id": "3d5e2848",
   "metadata": {},
   "outputs": [],
   "source": [
    "# โค้ดตั้งต้น\n",
    "def calculate_vat(price):\n",
    "    vat = price * 0.07\n",
    "    return price + vat"
   ]
  },
  {
   "cell_type": "code",
   "execution_count": null,
   "id": "ad5bf900",
   "metadata": {},
   "outputs": [],
   "source": [
    "scores = [91, 85, 72, 65, 99, 80, 75]\n",
    "# เมื่อเรียกใช้ analyze_grades(scores) ควรจะได้ค่า\n",
    "# {'A': 2, 'B': 2, 'C': 2, 'F': 1}"
   ]
  }
 ],
 "metadata": {
  "kernelspec": {
   "display_name": ".venv",
   "language": "python",
   "name": "python3"
  },
  "language_info": {
   "codemirror_mode": {
    "name": "ipython",
    "version": 3
   },
   "file_extension": ".py",
   "mimetype": "text/x-python",
   "name": "python",
   "nbconvert_exporter": "python",
   "pygments_lexer": "ipython3",
   "version": "3.13.7"
  }
 },
 "nbformat": 4,
 "nbformat_minor": 5
}
