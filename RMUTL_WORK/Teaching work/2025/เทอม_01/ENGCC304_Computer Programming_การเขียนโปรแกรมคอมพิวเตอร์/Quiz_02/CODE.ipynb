{
 "cells": [
  {
   "cell_type": "code",
   "execution_count": 3,
   "id": "a93d5510",
   "metadata": {},
   "outputs": [
    {
     "name": "stdout",
     "output_type": "stream",
     "text": [
      "['mango', 'grape', 'cherry', 'orange']\n"
     ]
    }
   ],
   "source": [
    "# 1. สร้าง List\n",
    "fruits = [\"apple\", \"banana\", \"cherry\"]\n",
    "\n",
    "# 2. เพิ่ม \"orange\"\n",
    "fruits.append(\"orange\")\n",
    "\n",
    "# 3. แทรก \"grape\"\n",
    "fruits.insert(1, \"grape\")\n",
    "\n",
    "# 4. เปลี่ยน \"apple\" เป็น \"mango\"\n",
    "fruits[0] = \"mango\"\n",
    "\n",
    "# 5. ลบ \"banana\"\n",
    "fruits.remove(\"banana\")\n",
    "\n",
    "# 6. พิมพ์ผลลัพธ์\n",
    "print(fruits)\n",
    "# ผลลัพธ์ที่คาดหวัง: ['mango', 'grape', 'cherry', 'orange']"
   ]
  },
  {
   "cell_type": "code",
   "execution_count": null,
   "id": "9b5bf0cc",
   "metadata": {},
   "outputs": [],
   "source": [
    "# 1. สร้าง List 2 มิติ\n",
    "multiplication_table = [\n",
    "    [2, 4, 6],\n",
    "    [3, 6, 9],\n",
    "    [4, 8, 12]\n",
    "]\n",
    "\n",
    "# 2. พิมพ์หัวข้อ\n",
    "print(\"ตารางสูตรคูณ:\")\n",
    "\n",
    "# 3. ใช้ Nested Loops พิมพ์ข้อมูล\n",
    "for row in multiplication_table:\n",
    "    for number in row:\n",
    "        print(number, end=\" \")\n",
    "    print() # ขึ้นบรรทัดใหม่เมื่อจบแต่ละแถว"
   ]
  },
  {
   "cell_type": "code",
   "execution_count": null,
   "id": "ca845ca0",
   "metadata": {},
   "outputs": [],
   "source": [
    "def display_student_info(name, student_id, major):\n",
    "    print(\"--- Student Information ---\")\n",
    "    print(f\"Name: {name}\")\n",
    "    print(f\"ID: {student_id}\")\n",
    "    print(f\"Major: {major}\")\n",
    "\n",
    "# ตัวอย่างการเรียกใช้\n",
    "display_student_info(\"Somsak Jaidee\", \"66012345\", \"Computer Engineering\")"
   ]
  },
  {
   "cell_type": "code",
   "execution_count": null,
   "id": "5b99eb20",
   "metadata": {},
   "outputs": [],
   "source": [
    "def calculate_vat(price):\n",
    "    vat_rate = 0.07\n",
    "    vat_amount = price * vat_rate\n",
    "    return vat_amount\n",
    "\n",
    "# ตัวอย่างการใช้งาน\n",
    "price1 = 100\n",
    "vat1 = calculate_vat(price1)\n",
    "print(f\"ภาษีของสินค้า ราคา {price1} บาท คือ {vat1:.2f} บาท\") # แก้ไขตรงนี้\n",
    "\n",
    "price2 = 500\n",
    "vat2 = calculate_vat(price2)\n",
    "print(f\"ภาษีของสินค้า ราคา {price2} บาท คือ {vat2:.2f} บาท\") # แก้ไขตรงนี้"
   ]
  },
  {
   "cell_type": "markdown",
   "id": "11ee2c62",
   "metadata": {},
   "source": [
    "ข้อที่ 5:\n",
    "5.1) คะแนนในฟังก์ชัน: 50\n",
    "5.2) คะแนน นอกฟังก์ชัน: 100\n",
    "5.3) เหตุผล: เพราะตัวแปร player_score ที่ถูกกำหนดค่าใหม่ ภายในฟังก์ชัน update_score จะถูกมองว่าเป็น Local Variable (ตัวแปรท้องถิ่น) ซึ่งเป็นคนละตัวกับ Global Variable (ตัวแปรส่วนกลาง) ที่อยู่ข้างนอก การเปลี่ยนแปลงค่าจึงไม่ส่งผลกระทบถึงกัน"
   ]
  },
  {
   "cell_type": "code",
   "execution_count": null,
   "id": "a98c4ab7",
   "metadata": {},
   "outputs": [],
   "source": [
    "player_score = 100  # Global variable\n",
    "\n",
    "def update_score():\n",
    "    player_score = 50  # Local variable\n",
    "    print(\"คะแนนในฟังก์ชัน:\", player_score)\n",
    "\n",
    "update_score()\n",
    "print(\"คะแนน นอกฟังก์ชัน:\", player_score)\n"
   ]
  }
 ],
 "metadata": {
  "kernelspec": {
   "display_name": ".venv (3.13.7)",
   "language": "python",
   "name": "python3"
  },
  "language_info": {
   "codemirror_mode": {
    "name": "ipython",
    "version": 3
   },
   "file_extension": ".py",
   "mimetype": "text/x-python",
   "name": "python",
   "nbconvert_exporter": "python",
   "pygments_lexer": "ipython3",
   "version": "3.13.7"
  }
 },
 "nbformat": 4,
 "nbformat_minor": 5
}
