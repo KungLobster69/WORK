{
 "cells": [
  {
   "cell_type": "code",
   "execution_count": 6,
   "metadata": {},
   "outputs": [],
   "source": [
    "import pyaudio\n",
    "import speech_recognition as sr"
   ]
  },
  {
   "cell_type": "code",
   "execution_count": 7,
   "metadata": {},
   "outputs": [
    {
     "data": {
      "text/plain": [
       "['Microsoft Sound Mapper - Input',\n",
       " 'Headset (2- AirPods Pro à¸‚à¸\\xadà¸‡ Kam',\n",
       " 'Microsoft Sound Mapper - Output',\n",
       " 'Headphones (2- AirPods Pro à¸‚à¸\\xadà¸‡ ',\n",
       " 'Realtek Digital Output (Realtek',\n",
       " 'Speakers (JBL Flip 3 SE)',\n",
       " 'Mi Monitor (NVIDIA High Definit',\n",
       " 'Primary Sound Capture Driver',\n",
       " 'Headset (2- AirPods Pro à¸‚à¸\\xadà¸‡ Kampanat)',\n",
       " 'Primary Sound Driver',\n",
       " 'Headphones (2- AirPods Pro à¸‚à¸\\xadà¸‡ Kampanat)',\n",
       " 'Realtek Digital Output (Realtek(R) Audio)',\n",
       " 'Speakers (JBL Flip 3 SE)',\n",
       " 'Mi Monitor (NVIDIA High Definition Audio)',\n",
       " 'Realtek Digital Output (Realtek(R) Audio)',\n",
       " 'Speakers (JBL Flip 3 SE)',\n",
       " 'Headphones (2- AirPods Pro à¸‚à¸\\xadà¸‡ Kampanat)',\n",
       " 'Mi Monitor (NVIDIA High Definition Audio)',\n",
       " 'Headset (2- AirPods Pro à¸‚à¸\\xadà¸‡ Kampanat)',\n",
       " 'Line In (Realtek HD Audio Line input)',\n",
       " 'Microphone (Realtek HD Audio Mic input)',\n",
       " 'SPDIF Out (Realtek HDA SPDIF Out)',\n",
       " 'Headphones (Realtek HD Audio 2nd output)',\n",
       " 'Speakers (Realtek HD Audio output)',\n",
       " 'Stereo Mix (Realtek HD Audio Stereo input)',\n",
       " 'Output (NVIDIA High Definition Audio)',\n",
       " 'Speakers ()',\n",
       " 'Headset (@System32\\\\drivers\\\\bthhfenum.sys,#2;%1 Hands-Free%0\\r\\n;(AirPods Pro à¸‚à¸\\xadà¸‡ Kampanat))',\n",
       " 'Headset (@System32\\\\drivers\\\\bthhfenum.sys,#2;%1 Hands-Free%0\\r\\n;(AirPods Pro à¸‚à¸\\xadà¸‡ Kampanat))',\n",
       " 'Headphones ()']"
      ]
     },
     "execution_count": 7,
     "metadata": {},
     "output_type": "execute_result"
    }
   ],
   "source": [
    "sr.Microphone.list_microphone_names()"
   ]
  },
  {
   "cell_type": "code",
   "execution_count": 8,
   "metadata": {},
   "outputs": [
    {
     "data": {
      "text/plain": [
       "<speech_recognition.Microphone at 0x24b900619a0>"
      ]
     },
     "execution_count": 8,
     "metadata": {},
     "output_type": "execute_result"
    }
   ],
   "source": [
    "mic = sr.Microphone(1)\n",
    "mic"
   ]
  },
  {
   "cell_type": "code",
   "execution_count": 9,
   "metadata": {},
   "outputs": [],
   "source": [
    "recog = sr.Recognizer()"
   ]
  },
  {
   "cell_type": "code",
   "execution_count": null,
   "metadata": {},
   "outputs": [],
   "source": [
    "with mic as source:\n",
    " while True:\n",
    "    audio = recog.listen(source)\n",
    "    print(recog.recognize_google(audio,language='th'))"
   ]
  }
 ],
 "metadata": {
  "kernelspec": {
   "display_name": ".venv",
   "language": "python",
   "name": "python3"
  },
  "language_info": {
   "codemirror_mode": {
    "name": "ipython",
    "version": 3
   },
   "file_extension": ".py",
   "mimetype": "text/x-python",
   "name": "python",
   "nbconvert_exporter": "python",
   "pygments_lexer": "ipython3",
   "version": "3.12.7"
  }
 },
 "nbformat": 4,
 "nbformat_minor": 2
}
