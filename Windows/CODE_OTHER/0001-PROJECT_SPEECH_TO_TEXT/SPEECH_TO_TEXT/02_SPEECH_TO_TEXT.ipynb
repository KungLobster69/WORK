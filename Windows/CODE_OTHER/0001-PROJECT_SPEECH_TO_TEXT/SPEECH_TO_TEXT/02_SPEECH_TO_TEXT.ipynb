{
 "cells": [
  {
   "cell_type": "code",
   "execution_count": 1,
   "metadata": {},
   "outputs": [],
   "source": [
    "import warnings\n",
    "import pyaudio\n",
    "import wave\n",
    "import os\n",
    "import pyttsx3\n",
    "import whisper\n",
    "import numpy as np"
   ]
  },
  {
   "cell_type": "code",
   "execution_count": 2,
   "metadata": {},
   "outputs": [],
   "source": [
    "# Suppress specific warnings\n",
    "warnings.filterwarnings(\"ignore\", category=FutureWarning)\n",
    "warnings.filterwarnings(\"ignore\", category=UserWarning)"
   ]
  },
  {
   "cell_type": "code",
   "execution_count": 3,
   "metadata": {},
   "outputs": [],
   "source": [
    "# Text-to-speech function\n",
    "def text_to_speech(message, rate=150):\n",
    "    engine = pyttsx3.init()\n",
    "    engine.setProperty('rate', rate)\n",
    "    engine.say(message)\n",
    "    engine.runAndWait()"
   ]
  },
  {
   "cell_type": "code",
   "execution_count": 4,
   "metadata": {},
   "outputs": [],
   "source": [
    "# Find specific microphone\n",
    "def find_microphone():\n",
    "    microphone_names = [\"Microphone (BY Y02)\", \"USB Audio Device\", \"Built-in Microphone\"]\n",
    "    audio = pyaudio.PyAudio()\n",
    "    device_info = None\n",
    "\n",
    "    try:\n",
    "        for i in range(audio.get_device_count()):\n",
    "            info = audio.get_device_info_by_index(i)\n",
    "            for mic_name in microphone_names:\n",
    "                if mic_name.lower() in info.get('name', '').lower():\n",
    "                    device_info = info\n",
    "                    break\n",
    "            if device_info:\n",
    "                break\n",
    "\n",
    "        if device_info:\n",
    "            text_to_speech(\"Microphone connected. The system is ready to use.\") \n",
    "            return device_info\n",
    "        else:\n",
    "            message = \"No predefined microphone found. Please check your device.\"\n",
    "            text_to_speech(message)\n",
    "            return None\n",
    "    finally:\n",
    "        audio.terminate()\n"
   ]
  },
  {
   "cell_type": "code",
   "execution_count": 5,
   "metadata": {},
   "outputs": [],
   "source": [
    "# Check microphone status\n",
    "def check_microphone_status(input_device_index=None, threshold=100):\n",
    "    audio = pyaudio.PyAudio()\n",
    "    try:\n",
    "        rate = int(audio.get_device_info_by_index(input_device_index)[\"defaultSampleRate\"])\n",
    "        stream = audio.open(format=pyaudio.paInt16,\n",
    "                            channels=1,\n",
    "                            rate=rate,\n",
    "                            input=True,\n",
    "                            input_device_index=input_device_index,\n",
    "                            frames_per_buffer=1024)\n",
    "        \n",
    "        data = stream.read(1024, exception_on_overflow=False)\n",
    "        audio_data = np.frombuffer(data, dtype=np.int16)\n",
    "\n",
    "        if np.max(np.abs(audio_data)) > threshold:\n",
    "            status = True\n",
    "        else:\n",
    "            status = False\n",
    "        \n",
    "        stream.close()\n",
    "        return status\n",
    "    except Exception as e:\n",
    "        return False\n",
    "    finally:\n",
    "        audio.terminate()"
   ]
  },
  {
   "cell_type": "code",
   "execution_count": 6,
   "metadata": {},
   "outputs": [],
   "source": [
    "# check_speech_presence\n",
    "def check_speech_presence(input_device_index=None, threshold=400, chunk=1024, duration=None):\n",
    "    audio = pyaudio.PyAudio()\n",
    "    try:\n",
    "        rate = int(audio.get_device_info_by_index(input_device_index)[\"defaultSampleRate\"])\n",
    "        stream = audio.open(format=pyaudio.paInt16,\n",
    "                            channels=1,\n",
    "                            rate=rate,\n",
    "                            input=True,\n",
    "                            input_device_index=input_device_index,\n",
    "                            frames_per_buffer=chunk)\n",
    "\n",
    "        for _ in range(0, int(44100 / chunk * duration)):\n",
    "            data = stream.read(chunk, exception_on_overflow=False)\n",
    "            audio_data = np.frombuffer(data, dtype=np.int16)\n",
    "            if np.max(np.abs(audio_data)) > threshold:\n",
    "                return True  \n",
    "        return False \n",
    "    except Exception as e:\n",
    "        return False\n",
    "    finally:\n",
    "        stream.close()\n",
    "        audio.terminate()"
   ]
  },
  {
   "cell_type": "code",
   "execution_count": 7,
   "metadata": {},
   "outputs": [],
   "source": [
    "# Audio recording function\n",
    "def record_audio(filename=\"temp_audio.wav\", duration=None, chunk=1024, input_device_index=None):\n",
    "    audio = pyaudio.PyAudio()\n",
    "    if input_device_index is None:\n",
    "        input_device_index = audio.get_default_input_device_info()[\"index\"]\n",
    "\n",
    "    rate = int(audio.get_device_info_by_index(input_device_index)[\"defaultSampleRate\"])\n",
    "    stream = audio.open(format=pyaudio.paInt16,\n",
    "                        channels=1,\n",
    "                        rate=rate,\n",
    "                        input=True,\n",
    "                        input_device_index=input_device_index,\n",
    "                        frames_per_buffer=chunk)\n",
    "\n",
    "    frames = []\n",
    "    for _ in range(0, int(rate / chunk * duration)):\n",
    "        data = stream.read(chunk)\n",
    "        frames.append(data)\n",
    "\n",
    "    stream.stop_stream()\n",
    "    stream.close()\n",
    "    audio.terminate()\n",
    "\n",
    "    with wave.open(filename, 'wb') as wf:\n",
    "        wf.setnchannels(1)\n",
    "        wf.setsampwidth(audio.get_sample_size(pyaudio.paInt16))\n",
    "        wf.setframerate(rate)\n",
    "        wf.writeframes(b''.join(frames))"
   ]
  },
  {
   "cell_type": "code",
   "execution_count": 8,
   "metadata": {},
   "outputs": [],
   "source": [
    "# Transcribe audio using Whisper\n",
    "def transcribe_audio(filename, model):\n",
    "    result = model.transcribe(filename, language=\"en\")\n",
    "    text = result.get(\"text\", \"\").strip().lower()\n",
    "    print(f\"Transcribed Text: {text}\")  \n",
    "    os.remove(filename)\n",
    "    return text"
   ]
  },
  {
   "cell_type": "code",
   "execution_count": 9,
   "metadata": {},
   "outputs": [],
   "source": [
    "# Save command to .txt file\n",
    "def save_command_to_file(command, output_file):\n",
    "    with open(output_file, 'w') as f: \n",
    "        f.write(f\"{command}\\n\")\n"
   ]
  },
  {
   "cell_type": "code",
   "execution_count": 10,
   "metadata": {},
   "outputs": [],
   "source": [
    "def listen_for_commands(wake_word, model, output_file=\"command_output.txt\", input_device_index=None, duration=2):\n",
    "\n",
    "    last_microphone_status = True  \n",
    "    \n",
    "    while True:\n",
    "        current_status = check_microphone_status(input_device_index=input_device_index)\n",
    "        \n",
    "        if not current_status:\n",
    "            if last_microphone_status:\n",
    "                text_to_speech(\"Microphone is not ready or no sound detected. Please check your microphone.\")\n",
    "            last_microphone_status = False\n",
    "            continue \n",
    "        else:\n",
    "            if not last_microphone_status:\n",
    "                text_to_speech(\"Microphone is now ready.\")\n",
    "            last_microphone_status = True\n",
    "\n",
    "        if not check_speech_presence(input_device_index=input_device_index, duration=1):\n",
    "            continue  \n",
    "\n",
    "        # Record short audio clip for the specified duration\n",
    "        record_audio(duration=duration, input_device_index=input_device_index)\n",
    "        audio_text = transcribe_audio(\"temp_audio.wav\", model)\n",
    "\n",
    "        # Check for wake word\n",
    "        if wake_word in audio_text:\n",
    "            response = f\"Yse sir!. I'm ready for your command.\"\n",
    "            text_to_speech(response)\n",
    "\n",
    "            while True:\n",
    "                # Listen for command\n",
    "                record_audio(duration=duration, input_device_index=input_device_index)\n",
    "                command_text = transcribe_audio(\"temp_audio.wav\", model)\n",
    "\n",
    "                # Check for specific commands\n",
    "                if \"turn on\" in command_text:\n",
    "                    response = \"Turning on the system.\"\n",
    "                    text_to_speech(response)\n",
    "                    save_command_to_file(\"turn on\", output_file)\n",
    "                    break  \n",
    "\n",
    "                elif \"turn off\" in command_text:\n",
    "                    response = \"Turning off the system.\"\n",
    "                    text_to_speech(response)\n",
    "                    save_command_to_file(\"turn off\", output_file)\n",
    "                    break  \n",
    "\n",
    "                else:\n",
    "                    response = \"Sorry! Command not recognized. Please try again.\"\n",
    "                    text_to_speech(response)\n",
    "        else:\n",
    "            response = \"Sorry!. Please say it again.\"\n",
    "            text_to_speech(response)\n"
   ]
  },
  {
   "cell_type": "code",
   "execution_count": null,
   "metadata": {},
   "outputs": [
    {
     "name": "stdout",
     "output_type": "stream",
     "text": [
      "Transcribed Text: thank you.\n",
      "Transcribed Text: computer\n",
      "Transcribed Text: turn on.\n",
      "Transcribed Text: copy that.\n",
      "Transcribed Text: computer.\n",
      "Transcribed Text: off.\n",
      "Transcribed Text: turn off.\n"
     ]
    }
   ],
   "source": [
    "# Load Whisper model\n",
    "whisper_model = whisper.load_model(\"small\")\n",
    "\n",
    "# Find microphone\n",
    "mic_info = find_microphone()\n",
    "if mic_info:\n",
    "    listen_for_commands(wake_word=\"computer\", model=whisper_model, input_device_index=mic_info[\"index\"])\n",
    "else:\n",
    "    text_to_speech(\"No suitable microphone found. Please check your device settings.\")\n",
    "    print(\"No microphone found. Exiting program.\")"
   ]
  }
 ],
 "metadata": {
  "kernelspec": {
   "display_name": ".venv",
   "language": "python",
   "name": "python3"
  },
  "language_info": {
   "codemirror_mode": {
    "name": "ipython",
    "version": 3
   },
   "file_extension": ".py",
   "mimetype": "text/x-python",
   "name": "python",
   "nbconvert_exporter": "python",
   "pygments_lexer": "ipython3",
   "version": "3.12.7"
  }
 },
 "nbformat": 4,
 "nbformat_minor": 2
}
