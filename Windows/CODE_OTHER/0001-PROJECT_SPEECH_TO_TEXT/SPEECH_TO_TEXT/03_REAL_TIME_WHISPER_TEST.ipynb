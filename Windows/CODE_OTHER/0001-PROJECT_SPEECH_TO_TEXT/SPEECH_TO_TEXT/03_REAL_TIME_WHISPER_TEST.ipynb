{
 "cells": [
  {
   "cell_type": "code",
   "execution_count": null,
   "metadata": {},
   "outputs": [],
   "source": [
    "from vosk import Model, KaldiRecognizer\n",
    "import sounddevice as sd\n",
    "import json\n",
    "\n",
    "# โหลดโมเดล (ดาวน์โหลดโมเดลภาษาไทยจาก https://alphacephei.com/vosk/models)\n",
    "model_path = r\"C:\\Users\\KUNG_LOBSTER69\\Downloads\\vosk-model-en-us-0.22\"\n",
    "model = Model(model_path)\n",
    "recognizer = KaldiRecognizer(model, 48000)\n",
    "\n",
    "def callback(indata, frames, time, status):\n",
    "    \"\"\"Callback สำหรับบันทึกเสียงและถอดข้อความ\"\"\"\n",
    "    if status:\n",
    "        print(f\"สถานะผิดพลาด: {status}\")\n",
    "    # แปลง numpy.ndarray เป็น bytes\n",
    "    audio_data = indata.tobytes()  \n",
    "    if recognizer.AcceptWaveform(audio_data):\n",
    "        result = json.loads(recognizer.Result())\n",
    "        print(f\"ข้อความที่ถอดเสียง: {result.get('text', '')}\")\n",
    "\n",
    "# ตั้งค่าการบันทึกเสียง\n",
    "print(\"เริ่มถอดเสียง (กด Ctrl+C เพื่อหยุด)...\")\n",
    "with sd.InputStream(samplerate=48000, channels=1, callback=callback, dtype=\"int16\"):\n",
    "    try:\n",
    "        while True:\n",
    "            pass  # รันไปเรื่อยๆ\n",
    "    except KeyboardInterrupt:\n",
    "        print(\"\\nหยุดการถอดเสียง\")"
   ]
  }
 ],
 "metadata": {
  "kernelspec": {
   "display_name": ".venv",
   "language": "python",
   "name": "python3"
  },
  "language_info": {
   "codemirror_mode": {
    "name": "ipython",
    "version": 3
   },
   "file_extension": ".py",
   "mimetype": "text/x-python",
   "name": "python",
   "nbconvert_exporter": "python",
   "pygments_lexer": "ipython3",
   "version": "3.12.7"
  }
 },
 "nbformat": 4,
 "nbformat_minor": 2
}
