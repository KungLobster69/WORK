{
 "cells": [
  {
   "cell_type": "code",
   "execution_count": null,
   "metadata": {},
   "outputs": [],
   "source": [
    "import sounddevice as sd\n",
    "from scipy.io.wavfile import write\n",
    "import whisper\n",
    "\n",
    "def record_and_transcribe(duration=10, sample_rate=48000, output_file='output.wav', language=\"en\"):\n",
    "    # บันทึกเสียง\n",
    "    print(\"เริ่มบันทึกเสียง...\")\n",
    "    audio_data = sd.rec(int(duration * sample_rate), samplerate=sample_rate, channels=1, dtype='float32')\n",
    "    sd.wait()  # รอให้การบันทึกเสร็จสิ้น\n",
    "    print(\"บันทึกเสียงเสร็จสิ้น\")\n",
    "    \n",
    "    # บันทึกเสียงเป็นไฟล์ .wav\n",
    "    write(output_file, sample_rate, audio_data)\n",
    "    print(f\"ไฟล์เสียงถูกบันทึกเป็น '{output_file}'\")\n",
    "    \n",
    "    # โหลดโมเดล Whisper\n",
    "    model = whisper.load_model(\"turbo\")\n",
    "    \n",
    "    # ถอดเสียงจากไฟล์ที่บันทึก\n",
    "    print(\"เริ่มถอดเสียง...\")\n",
    "    transcription = model.transcribe(output_file, language=language)\n",
    "    \n",
    "    # แสดงผลลัพธ์การถอดเสียง\n",
    "    print(\"ข้อความที่ถอดเสียงได้:\")\n",
    "    print(transcription[\"text\"])\n",
    "    \n",
    "# เรียกใช้งานฟังก์ชัน\n",
    "record_and_transcribe()\n"
   ]
  },
  {
   "cell_type": "code",
   "execution_count": null,
   "metadata": {},
   "outputs": [],
   "source": [
    "pip install sounddevice"
   ]
  },
  {
   "cell_type": "code",
   "execution_count": null,
   "metadata": {},
   "outputs": [],
   "source": [
    "pip install scipy"
   ]
  },
  {
   "cell_type": "code",
   "execution_count": null,
   "metadata": {},
   "outputs": [],
   "source": [
    "pip install -U openai-whisper"
   ]
  },
  {
   "cell_type": "code",
   "execution_count": null,
   "metadata": {},
   "outputs": [],
   "source": [
    "pip install git+https://github.com/openai/whisper.git "
   ]
  },
  {
   "cell_type": "code",
   "execution_count": null,
   "metadata": {},
   "outputs": [],
   "source": [
    "pip install --upgrade --no-deps --force-reinstall git+https://github.com/openai/whisper.git"
   ]
  }
 ],
 "metadata": {
  "kernelspec": {
   "display_name": ".venv",
   "language": "python",
   "name": "python3"
  },
  "language_info": {
   "codemirror_mode": {
    "name": "ipython",
    "version": 3
   },
   "file_extension": ".py",
   "mimetype": "text/x-python",
   "name": "python",
   "nbconvert_exporter": "python",
   "pygments_lexer": "ipython3",
   "version": "3.11.9"
  }
 },
 "nbformat": 4,
 "nbformat_minor": 2
}
