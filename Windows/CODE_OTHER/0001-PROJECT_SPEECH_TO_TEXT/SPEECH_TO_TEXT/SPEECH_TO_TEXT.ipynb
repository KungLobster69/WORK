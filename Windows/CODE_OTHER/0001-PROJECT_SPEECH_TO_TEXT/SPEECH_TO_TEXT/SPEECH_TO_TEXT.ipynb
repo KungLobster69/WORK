{
 "cells": [
  {
   "cell_type": "code",
   "execution_count": null,
   "metadata": {},
   "outputs": [],
   "source": [
    "import sounddevice as sd\n",
    "from scipy.io.wavfile import write\n",
    "import whisper  # นำเข้าโมดูล whisper\n",
    "\n",
    "# กำหนดพารามิเตอร์การบันทึก\n",
    "duration = 10  # ระยะเวลาในการบันทึก (วินาที)\n",
    "sample_rate = 48000  # Sample rate 48 kHz\n",
    "output_file = 'output.wav'  # ชื่อไฟล์ที่ต้องการบันทึก\n",
    "\n",
    "print(\"เริ่มบันทึกเสียง...\")\n",
    "\n",
    "# บันทึกเสียงโดยใช้ฟอร์แมต float32\n",
    "audio_data = sd.rec(int(duration * sample_rate), samplerate=sample_rate, channels=1, dtype='float32')\n",
    "\n",
    "# รอให้การบันทึกเสร็จสิ้น\n",
    "sd.wait()\n",
    "print(\"บันทึกเสียงเสร็จสิ้น\")\n",
    "\n",
    "# บันทึกเสียงเป็นไฟล์ .wav\n",
    "write(output_file, sample_rate, audio_data)\n",
    "print(f\"ไฟล์เสียงถูกบันทึกเป็น '{output_file}'\")\n",
    "\n",
    "# โหลดโมเดล Whisper (ขนาดใหญ่)\n",
    "model = whisper.load_model(\"turbo\")\n",
    "\n",
    "# ถอดเสียงจากไฟล์ที่บันทึก\n",
    "print(\"เริ่มถอดเสียง...\")\n",
    "transcription = model.transcribe(output_file, language=\"en\")\n",
    "\n",
    "# แสดงผลลัพธ์การถอดเสียง\n",
    "print(\"ข้อความที่ถอดเสียงได้:\")\n",
    "print(transcription[\"text\"])\n"
   ]
  }
 ],
 "metadata": {
  "kernelspec": {
   "display_name": ".venv",
   "language": "python",
   "name": "python3"
  },
  "language_info": {
   "codemirror_mode": {
    "name": "ipython",
    "version": 3
   },
   "file_extension": ".py",
   "mimetype": "text/x-python",
   "name": "python",
   "nbconvert_exporter": "python",
   "pygments_lexer": "ipython3",
   "version": "3.12.7"
  }
 },
 "nbformat": 4,
 "nbformat_minor": 2
}
