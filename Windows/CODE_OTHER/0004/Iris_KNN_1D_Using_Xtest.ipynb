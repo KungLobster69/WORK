{
 "cells": [
  {
   "cell_type": "markdown",
   "id": "3396db53",
   "metadata": {},
   "source": [
    "# 🌸 วิเคราะห์ข้อมูลชุด Iris และสร้างโมเดล KNN อย่างละเอียด\n",
    "## 📘 จุดประสงค์: เรียนรู้วิธีการวิเคราะห์ข้อมูลและสร้างโมเดล Machine Learning เบื้องต้นด้วย K-Nearest Neighbors (KNN)"
   ]
  },
  {
   "cell_type": "markdown",
   "id": "b90f139c",
   "metadata": {},
   "source": [
    "## 1. 🔍 ข้อมูลชุด Iris คืออะไร?\n",
    "ชุดข้อมูล Iris ถูกใช้ครั้งแรกโดยนักสถิติชื่อว่า **Ronald A. Fisher** ในปี 1936 เพื่อแสดงตัวอย่างการจำแนกประเภท (Classification)\n",
    "\n",
    "ในชุดข้อมูลประกอบด้วยข้อมูลของดอกไม้ 3 สายพันธุ์ ได้แก่:\n",
    "- Iris setosa (ไอริสเซโทซา)\n",
    "- Iris versicolor (ไอริสเวอร์สิคัลเลอร์)\n",
    "- Iris virginica (ไอริสเวอร์จินิกา)\n",
    "\n",
    "แต่ละตัวอย่างจะมีคุณลักษณะ (Feature) จำนวน 4 ตัว คือ:\n",
    "- **sepal_length** (ความยาวกลีบเลี้ยง) - วัดเป็นหน่วยเซนติเมตร\n",
    "- **sepal_width** (ความกว้างกลีบเลี้ยง) - วัดเป็นหน่วยเซนติเมตร\n",
    "- **petal_length** (ความยาวกลีบดอก) - วัดเป็นหน่วยเซนติเมตร\n",
    "- **petal_width** (ความกว้างกลีบดอก\t) - วัดเป็นหน่วยเซนติเมตร\n",
    "\n",
    "และมี **label** หรือ target class เป็นชื่อสายพันธุ์ของดอกไม้"
   ]
  },
  {
   "cell_type": "markdown",
   "id": "6e76acef",
   "metadata": {},
   "source": [
    "## 2. 📂 โหลดข้อมูลจากไฟล์\n",
    "เราจะโหลดข้อมูลจากไฟล์ `.data` ที่ไม่มีชื่อคอลัมน์ (header) และเราต้องตั้งชื่อคอลัมน์เองเพื่อความสะดวกในการใช้งาน"
   ]
  },
  {
   "cell_type": "code",
   "execution_count": 1,
   "id": "a8fcf272",
   "metadata": {},
   "outputs": [
    {
     "name": "stdout",
     "output_type": "stream",
     "text": [
      "Requirement already satisfied: pandas in c:\\users\\kung_lobster69\\documents\\github\\work\\windows\\code_other\\0004\\.venv\\lib\\site-packages (from -r library_name.txt (line 1)) (2.2.3)\n",
      "Requirement already satisfied: numpy in c:\\users\\kung_lobster69\\documents\\github\\work\\windows\\code_other\\0004\\.venv\\lib\\site-packages (from -r library_name.txt (line 2)) (2.2.4)\n",
      "Requirement already satisfied: matplotlib in c:\\users\\kung_lobster69\\documents\\github\\work\\windows\\code_other\\0004\\.venv\\lib\\site-packages (from -r library_name.txt (line 3)) (3.10.1)\n",
      "Requirement already satisfied: seaborn in c:\\users\\kung_lobster69\\documents\\github\\work\\windows\\code_other\\0004\\.venv\\lib\\site-packages (from -r library_name.txt (line 4)) (0.13.2)\n",
      "Requirement already satisfied: scikit-learn in c:\\users\\kung_lobster69\\documents\\github\\work\\windows\\code_other\\0004\\.venv\\lib\\site-packages (from -r library_name.txt (line 5)) (1.6.1)\n",
      "Requirement already satisfied: ipywidgets in c:\\users\\kung_lobster69\\documents\\github\\work\\windows\\code_other\\0004\\.venv\\lib\\site-packages (from -r library_name.txt (line 6)) (8.1.5)\n",
      "Requirement already satisfied: plotly in c:\\users\\kung_lobster69\\documents\\github\\work\\windows\\code_other\\0004\\.venv\\lib\\site-packages (from -r library_name.txt (line 7)) (6.0.1)\n",
      "Requirement already satisfied: nbformat in c:\\users\\kung_lobster69\\documents\\github\\work\\windows\\code_other\\0004\\.venv\\lib\\site-packages (from -r library_name.txt (line 8)) (5.10.4)\n",
      "Requirement already satisfied: python-dateutil>=2.8.2 in c:\\users\\kung_lobster69\\documents\\github\\work\\windows\\code_other\\0004\\.venv\\lib\\site-packages (from pandas->-r library_name.txt (line 1)) (2.9.0.post0)\n",
      "Requirement already satisfied: pytz>=2020.1 in c:\\users\\kung_lobster69\\documents\\github\\work\\windows\\code_other\\0004\\.venv\\lib\\site-packages (from pandas->-r library_name.txt (line 1)) (2025.2)\n",
      "Requirement already satisfied: tzdata>=2022.7 in c:\\users\\kung_lobster69\\documents\\github\\work\\windows\\code_other\\0004\\.venv\\lib\\site-packages (from pandas->-r library_name.txt (line 1)) (2025.2)\n",
      "Requirement already satisfied: contourpy>=1.0.1 in c:\\users\\kung_lobster69\\documents\\github\\work\\windows\\code_other\\0004\\.venv\\lib\\site-packages (from matplotlib->-r library_name.txt (line 3)) (1.3.1)\n",
      "Requirement already satisfied: cycler>=0.10 in c:\\users\\kung_lobster69\\documents\\github\\work\\windows\\code_other\\0004\\.venv\\lib\\site-packages (from matplotlib->-r library_name.txt (line 3)) (0.12.1)\n",
      "Requirement already satisfied: fonttools>=4.22.0 in c:\\users\\kung_lobster69\\documents\\github\\work\\windows\\code_other\\0004\\.venv\\lib\\site-packages (from matplotlib->-r library_name.txt (line 3)) (4.57.0)\n",
      "Requirement already satisfied: kiwisolver>=1.3.1 in c:\\users\\kung_lobster69\\documents\\github\\work\\windows\\code_other\\0004\\.venv\\lib\\site-packages (from matplotlib->-r library_name.txt (line 3)) (1.4.8)\n",
      "Requirement already satisfied: packaging>=20.0 in c:\\users\\kung_lobster69\\documents\\github\\work\\windows\\code_other\\0004\\.venv\\lib\\site-packages (from matplotlib->-r library_name.txt (line 3)) (24.2)\n",
      "Requirement already satisfied: pillow>=8 in c:\\users\\kung_lobster69\\documents\\github\\work\\windows\\code_other\\0004\\.venv\\lib\\site-packages (from matplotlib->-r library_name.txt (line 3)) (11.1.0)\n",
      "Requirement already satisfied: pyparsing>=2.3.1 in c:\\users\\kung_lobster69\\documents\\github\\work\\windows\\code_other\\0004\\.venv\\lib\\site-packages (from matplotlib->-r library_name.txt (line 3)) (3.2.3)\n",
      "Requirement already satisfied: scipy>=1.6.0 in c:\\users\\kung_lobster69\\documents\\github\\work\\windows\\code_other\\0004\\.venv\\lib\\site-packages (from scikit-learn->-r library_name.txt (line 5)) (1.15.2)\n",
      "Requirement already satisfied: joblib>=1.2.0 in c:\\users\\kung_lobster69\\documents\\github\\work\\windows\\code_other\\0004\\.venv\\lib\\site-packages (from scikit-learn->-r library_name.txt (line 5)) (1.4.2)\n",
      "Requirement already satisfied: threadpoolctl>=3.1.0 in c:\\users\\kung_lobster69\\documents\\github\\work\\windows\\code_other\\0004\\.venv\\lib\\site-packages (from scikit-learn->-r library_name.txt (line 5)) (3.6.0)\n",
      "Requirement already satisfied: comm>=0.1.3 in c:\\users\\kung_lobster69\\documents\\github\\work\\windows\\code_other\\0004\\.venv\\lib\\site-packages (from ipywidgets->-r library_name.txt (line 6)) (0.2.2)\n",
      "Requirement already satisfied: ipython>=6.1.0 in c:\\users\\kung_lobster69\\documents\\github\\work\\windows\\code_other\\0004\\.venv\\lib\\site-packages (from ipywidgets->-r library_name.txt (line 6)) (9.0.2)\n",
      "Requirement already satisfied: traitlets>=4.3.1 in c:\\users\\kung_lobster69\\documents\\github\\work\\windows\\code_other\\0004\\.venv\\lib\\site-packages (from ipywidgets->-r library_name.txt (line 6)) (5.14.3)\n",
      "Requirement already satisfied: widgetsnbextension~=4.0.12 in c:\\users\\kung_lobster69\\documents\\github\\work\\windows\\code_other\\0004\\.venv\\lib\\site-packages (from ipywidgets->-r library_name.txt (line 6)) (4.0.13)\n",
      "Requirement already satisfied: jupyterlab-widgets~=3.0.12 in c:\\users\\kung_lobster69\\documents\\github\\work\\windows\\code_other\\0004\\.venv\\lib\\site-packages (from ipywidgets->-r library_name.txt (line 6)) (3.0.13)\n",
      "Requirement already satisfied: narwhals>=1.15.1 in c:\\users\\kung_lobster69\\documents\\github\\work\\windows\\code_other\\0004\\.venv\\lib\\site-packages (from plotly->-r library_name.txt (line 7)) (1.34.0)\n",
      "Requirement already satisfied: fastjsonschema>=2.15 in c:\\users\\kung_lobster69\\documents\\github\\work\\windows\\code_other\\0004\\.venv\\lib\\site-packages (from nbformat->-r library_name.txt (line 8)) (2.21.1)\n",
      "Requirement already satisfied: jsonschema>=2.6 in c:\\users\\kung_lobster69\\documents\\github\\work\\windows\\code_other\\0004\\.venv\\lib\\site-packages (from nbformat->-r library_name.txt (line 8)) (4.23.0)\n",
      "Requirement already satisfied: jupyter-core!=5.0.*,>=4.12 in c:\\users\\kung_lobster69\\documents\\github\\work\\windows\\code_other\\0004\\.venv\\lib\\site-packages (from nbformat->-r library_name.txt (line 8)) (5.7.2)\n",
      "Requirement already satisfied: colorama in c:\\users\\kung_lobster69\\documents\\github\\work\\windows\\code_other\\0004\\.venv\\lib\\site-packages (from ipython>=6.1.0->ipywidgets->-r library_name.txt (line 6)) (0.4.6)\n",
      "Requirement already satisfied: decorator in c:\\users\\kung_lobster69\\documents\\github\\work\\windows\\code_other\\0004\\.venv\\lib\\site-packages (from ipython>=6.1.0->ipywidgets->-r library_name.txt (line 6)) (5.2.1)\n",
      "Requirement already satisfied: ipython-pygments-lexers in c:\\users\\kung_lobster69\\documents\\github\\work\\windows\\code_other\\0004\\.venv\\lib\\site-packages (from ipython>=6.1.0->ipywidgets->-r library_name.txt (line 6)) (1.1.1)\n",
      "Requirement already satisfied: jedi>=0.16 in c:\\users\\kung_lobster69\\documents\\github\\work\\windows\\code_other\\0004\\.venv\\lib\\site-packages (from ipython>=6.1.0->ipywidgets->-r library_name.txt (line 6)) (0.19.2)\n",
      "Requirement already satisfied: matplotlib-inline in c:\\users\\kung_lobster69\\documents\\github\\work\\windows\\code_other\\0004\\.venv\\lib\\site-packages (from ipython>=6.1.0->ipywidgets->-r library_name.txt (line 6)) (0.1.7)\n",
      "Requirement already satisfied: prompt_toolkit<3.1.0,>=3.0.41 in c:\\users\\kung_lobster69\\documents\\github\\work\\windows\\code_other\\0004\\.venv\\lib\\site-packages (from ipython>=6.1.0->ipywidgets->-r library_name.txt (line 6)) (3.0.50)\n",
      "Requirement already satisfied: pygments>=2.4.0 in c:\\users\\kung_lobster69\\documents\\github\\work\\windows\\code_other\\0004\\.venv\\lib\\site-packages (from ipython>=6.1.0->ipywidgets->-r library_name.txt (line 6)) (2.19.1)\n",
      "Requirement already satisfied: stack_data in c:\\users\\kung_lobster69\\documents\\github\\work\\windows\\code_other\\0004\\.venv\\lib\\site-packages (from ipython>=6.1.0->ipywidgets->-r library_name.txt (line 6)) (0.6.3)\n",
      "Requirement already satisfied: attrs>=22.2.0 in c:\\users\\kung_lobster69\\documents\\github\\work\\windows\\code_other\\0004\\.venv\\lib\\site-packages (from jsonschema>=2.6->nbformat->-r library_name.txt (line 8)) (25.3.0)\n",
      "Requirement already satisfied: jsonschema-specifications>=2023.03.6 in c:\\users\\kung_lobster69\\documents\\github\\work\\windows\\code_other\\0004\\.venv\\lib\\site-packages (from jsonschema>=2.6->nbformat->-r library_name.txt (line 8)) (2024.10.1)\n",
      "Requirement already satisfied: referencing>=0.28.4 in c:\\users\\kung_lobster69\\documents\\github\\work\\windows\\code_other\\0004\\.venv\\lib\\site-packages (from jsonschema>=2.6->nbformat->-r library_name.txt (line 8)) (0.36.2)\n",
      "Requirement already satisfied: rpds-py>=0.7.1 in c:\\users\\kung_lobster69\\documents\\github\\work\\windows\\code_other\\0004\\.venv\\lib\\site-packages (from jsonschema>=2.6->nbformat->-r library_name.txt (line 8)) (0.24.0)\n",
      "Requirement already satisfied: platformdirs>=2.5 in c:\\users\\kung_lobster69\\documents\\github\\work\\windows\\code_other\\0004\\.venv\\lib\\site-packages (from jupyter-core!=5.0.*,>=4.12->nbformat->-r library_name.txt (line 8)) (4.3.7)\n",
      "Requirement already satisfied: pywin32>=300 in c:\\users\\kung_lobster69\\documents\\github\\work\\windows\\code_other\\0004\\.venv\\lib\\site-packages (from jupyter-core!=5.0.*,>=4.12->nbformat->-r library_name.txt (line 8)) (310)\n",
      "Requirement already satisfied: six>=1.5 in c:\\users\\kung_lobster69\\documents\\github\\work\\windows\\code_other\\0004\\.venv\\lib\\site-packages (from python-dateutil>=2.8.2->pandas->-r library_name.txt (line 1)) (1.17.0)\n",
      "Requirement already satisfied: parso<0.9.0,>=0.8.4 in c:\\users\\kung_lobster69\\documents\\github\\work\\windows\\code_other\\0004\\.venv\\lib\\site-packages (from jedi>=0.16->ipython>=6.1.0->ipywidgets->-r library_name.txt (line 6)) (0.8.4)\n",
      "Requirement already satisfied: wcwidth in c:\\users\\kung_lobster69\\documents\\github\\work\\windows\\code_other\\0004\\.venv\\lib\\site-packages (from prompt_toolkit<3.1.0,>=3.0.41->ipython>=6.1.0->ipywidgets->-r library_name.txt (line 6)) (0.2.13)\n",
      "Requirement already satisfied: executing>=1.2.0 in c:\\users\\kung_lobster69\\documents\\github\\work\\windows\\code_other\\0004\\.venv\\lib\\site-packages (from stack_data->ipython>=6.1.0->ipywidgets->-r library_name.txt (line 6)) (2.2.0)\n",
      "Requirement already satisfied: asttokens>=2.1.0 in c:\\users\\kung_lobster69\\documents\\github\\work\\windows\\code_other\\0004\\.venv\\lib\\site-packages (from stack_data->ipython>=6.1.0->ipywidgets->-r library_name.txt (line 6)) (3.0.0)\n",
      "Requirement already satisfied: pure-eval in c:\\users\\kung_lobster69\\documents\\github\\work\\windows\\code_other\\0004\\.venv\\lib\\site-packages (from stack_data->ipython>=6.1.0->ipywidgets->-r library_name.txt (line 6)) (0.2.3)\n",
      "Note: you may need to restart the kernel to use updated packages.\n"
     ]
    }
   ],
   "source": [
    "pip install --upgrade -r library_name.txt"
   ]
  },
  {
   "cell_type": "code",
   "execution_count": 2,
   "id": "5f426952",
   "metadata": {},
   "outputs": [
    {
     "data": {
      "application/vnd.microsoft.datawrangler.viewer.v0+json": {
       "columns": [
        {
         "name": "index",
         "rawType": "int64",
         "type": "integer"
        },
        {
         "name": "sepal_length",
         "rawType": "float64",
         "type": "float"
        },
        {
         "name": "sepal_width",
         "rawType": "float64",
         "type": "float"
        },
        {
         "name": "petal_length",
         "rawType": "float64",
         "type": "float"
        },
        {
         "name": "petal_width",
         "rawType": "float64",
         "type": "float"
        },
        {
         "name": "class",
         "rawType": "object",
         "type": "string"
        }
       ],
       "conversionMethod": "pd.DataFrame",
       "ref": "9c08ed9c-107c-46cf-8134-1b95d8313878",
       "rows": [
        [
         "0",
         "5.1",
         "3.5",
         "1.4",
         "0.2",
         "Iris-setosa"
        ],
        [
         "1",
         "4.9",
         "3.0",
         "1.4",
         "0.2",
         "Iris-setosa"
        ],
        [
         "2",
         "4.7",
         "3.2",
         "1.3",
         "0.2",
         "Iris-setosa"
        ],
        [
         "3",
         "4.6",
         "3.1",
         "1.5",
         "0.2",
         "Iris-setosa"
        ],
        [
         "4",
         "5.0",
         "3.6",
         "1.4",
         "0.2",
         "Iris-setosa"
        ]
       ],
       "shape": {
        "columns": 5,
        "rows": 5
       }
      },
      "text/html": [
       "<div>\n",
       "<style scoped>\n",
       "    .dataframe tbody tr th:only-of-type {\n",
       "        vertical-align: middle;\n",
       "    }\n",
       "\n",
       "    .dataframe tbody tr th {\n",
       "        vertical-align: top;\n",
       "    }\n",
       "\n",
       "    .dataframe thead th {\n",
       "        text-align: right;\n",
       "    }\n",
       "</style>\n",
       "<table border=\"1\" class=\"dataframe\">\n",
       "  <thead>\n",
       "    <tr style=\"text-align: right;\">\n",
       "      <th></th>\n",
       "      <th>sepal_length</th>\n",
       "      <th>sepal_width</th>\n",
       "      <th>petal_length</th>\n",
       "      <th>petal_width</th>\n",
       "      <th>class</th>\n",
       "    </tr>\n",
       "  </thead>\n",
       "  <tbody>\n",
       "    <tr>\n",
       "      <th>0</th>\n",
       "      <td>5.1</td>\n",
       "      <td>3.5</td>\n",
       "      <td>1.4</td>\n",
       "      <td>0.2</td>\n",
       "      <td>Iris-setosa</td>\n",
       "    </tr>\n",
       "    <tr>\n",
       "      <th>1</th>\n",
       "      <td>4.9</td>\n",
       "      <td>3.0</td>\n",
       "      <td>1.4</td>\n",
       "      <td>0.2</td>\n",
       "      <td>Iris-setosa</td>\n",
       "    </tr>\n",
       "    <tr>\n",
       "      <th>2</th>\n",
       "      <td>4.7</td>\n",
       "      <td>3.2</td>\n",
       "      <td>1.3</td>\n",
       "      <td>0.2</td>\n",
       "      <td>Iris-setosa</td>\n",
       "    </tr>\n",
       "    <tr>\n",
       "      <th>3</th>\n",
       "      <td>4.6</td>\n",
       "      <td>3.1</td>\n",
       "      <td>1.5</td>\n",
       "      <td>0.2</td>\n",
       "      <td>Iris-setosa</td>\n",
       "    </tr>\n",
       "    <tr>\n",
       "      <th>4</th>\n",
       "      <td>5.0</td>\n",
       "      <td>3.6</td>\n",
       "      <td>1.4</td>\n",
       "      <td>0.2</td>\n",
       "      <td>Iris-setosa</td>\n",
       "    </tr>\n",
       "  </tbody>\n",
       "</table>\n",
       "</div>"
      ],
      "text/plain": [
       "   sepal_length  sepal_width  petal_length  petal_width        class\n",
       "0           5.1          3.5           1.4          0.2  Iris-setosa\n",
       "1           4.9          3.0           1.4          0.2  Iris-setosa\n",
       "2           4.7          3.2           1.3          0.2  Iris-setosa\n",
       "3           4.6          3.1           1.5          0.2  Iris-setosa\n",
       "4           5.0          3.6           1.4          0.2  Iris-setosa"
      ]
     },
     "execution_count": 2,
     "metadata": {},
     "output_type": "execute_result"
    }
   ],
   "source": [
    "import pandas as pd\n",
    "\n",
    "# ตั้งชื่อคอลัมน์เอง\n",
    "column_names = [\"sepal_length\", \"sepal_width\", \"petal_length\", \"petal_width\", \"class\"]\n",
    "df = pd.read_csv(r\"C:\\Users\\KUNG_LOBSTER69\\Documents\\GitHub\\WORK\\Windows\\CODE_OTHER\\0004\\iris\\bezdekIris.data\", header=None, names=column_names)\n",
    "df.head()"
   ]
  },
  {
   "cell_type": "markdown",
   "id": "4552c221",
   "metadata": {},
   "source": [
    "## 3. 🧼 ตรวจสอบข้อมูลเบื้องต้น\n",
    "เราจะดูโครงสร้างข้อมูล เช่น จำนวนแถว-คอลัมน์, ประเภทข้อมูล, และสถิติเบื้องต้น\n",
    "สิ่งนี้ช่วยให้เราเข้าใจว่าข้อมูลพร้อมใช้หรือไม่ และต้องเตรียมอะไรเพิ่มเติมหรือไม่"
   ]
  },
  {
   "cell_type": "code",
   "execution_count": 3,
   "id": "c861ff2c",
   "metadata": {},
   "outputs": [
    {
     "name": "stdout",
     "output_type": "stream",
     "text": [
      "<class 'pandas.core.frame.DataFrame'>\n",
      "RangeIndex: 150 entries, 0 to 149\n",
      "Data columns (total 5 columns):\n",
      " #   Column        Non-Null Count  Dtype  \n",
      "---  ------        --------------  -----  \n",
      " 0   sepal_length  150 non-null    float64\n",
      " 1   sepal_width   150 non-null    float64\n",
      " 2   petal_length  150 non-null    float64\n",
      " 3   petal_width   150 non-null    float64\n",
      " 4   class         150 non-null    object \n",
      "dtypes: float64(4), object(1)\n",
      "memory usage: 6.0+ KB\n"
     ]
    }
   ],
   "source": [
    "df.info()"
   ]
  },
  {
   "cell_type": "code",
   "execution_count": 4,
   "id": "5ac2db07",
   "metadata": {},
   "outputs": [
    {
     "data": {
      "application/vnd.microsoft.datawrangler.viewer.v0+json": {
       "columns": [
        {
         "name": "index",
         "rawType": "object",
         "type": "string"
        },
        {
         "name": "sepal_length",
         "rawType": "float64",
         "type": "float"
        },
        {
         "name": "sepal_width",
         "rawType": "float64",
         "type": "float"
        },
        {
         "name": "petal_length",
         "rawType": "float64",
         "type": "float"
        },
        {
         "name": "petal_width",
         "rawType": "float64",
         "type": "float"
        }
       ],
       "conversionMethod": "pd.DataFrame",
       "ref": "65d658d4-7d13-4f51-be10-86cc808e4f51",
       "rows": [
        [
         "count",
         "150.0",
         "150.0",
         "150.0",
         "150.0"
        ],
        [
         "mean",
         "5.843333333333334",
         "3.0573333333333337",
         "3.7580000000000005",
         "1.1993333333333336"
        ],
        [
         "std",
         "0.828066127977863",
         "0.4358662849366982",
         "1.7652982332594662",
         "0.7622376689603465"
        ],
        [
         "min",
         "4.3",
         "2.0",
         "1.0",
         "0.1"
        ],
        [
         "25%",
         "5.1",
         "2.8",
         "1.6",
         "0.3"
        ],
        [
         "50%",
         "5.8",
         "3.0",
         "4.35",
         "1.3"
        ],
        [
         "75%",
         "6.4",
         "3.3",
         "5.1",
         "1.8"
        ],
        [
         "max",
         "7.9",
         "4.4",
         "6.9",
         "2.5"
        ]
       ],
       "shape": {
        "columns": 4,
        "rows": 8
       }
      },
      "text/html": [
       "<div>\n",
       "<style scoped>\n",
       "    .dataframe tbody tr th:only-of-type {\n",
       "        vertical-align: middle;\n",
       "    }\n",
       "\n",
       "    .dataframe tbody tr th {\n",
       "        vertical-align: top;\n",
       "    }\n",
       "\n",
       "    .dataframe thead th {\n",
       "        text-align: right;\n",
       "    }\n",
       "</style>\n",
       "<table border=\"1\" class=\"dataframe\">\n",
       "  <thead>\n",
       "    <tr style=\"text-align: right;\">\n",
       "      <th></th>\n",
       "      <th>sepal_length</th>\n",
       "      <th>sepal_width</th>\n",
       "      <th>petal_length</th>\n",
       "      <th>petal_width</th>\n",
       "    </tr>\n",
       "  </thead>\n",
       "  <tbody>\n",
       "    <tr>\n",
       "      <th>count</th>\n",
       "      <td>150.000000</td>\n",
       "      <td>150.000000</td>\n",
       "      <td>150.000000</td>\n",
       "      <td>150.000000</td>\n",
       "    </tr>\n",
       "    <tr>\n",
       "      <th>mean</th>\n",
       "      <td>5.843333</td>\n",
       "      <td>3.057333</td>\n",
       "      <td>3.758000</td>\n",
       "      <td>1.199333</td>\n",
       "    </tr>\n",
       "    <tr>\n",
       "      <th>std</th>\n",
       "      <td>0.828066</td>\n",
       "      <td>0.435866</td>\n",
       "      <td>1.765298</td>\n",
       "      <td>0.762238</td>\n",
       "    </tr>\n",
       "    <tr>\n",
       "      <th>min</th>\n",
       "      <td>4.300000</td>\n",
       "      <td>2.000000</td>\n",
       "      <td>1.000000</td>\n",
       "      <td>0.100000</td>\n",
       "    </tr>\n",
       "    <tr>\n",
       "      <th>25%</th>\n",
       "      <td>5.100000</td>\n",
       "      <td>2.800000</td>\n",
       "      <td>1.600000</td>\n",
       "      <td>0.300000</td>\n",
       "    </tr>\n",
       "    <tr>\n",
       "      <th>50%</th>\n",
       "      <td>5.800000</td>\n",
       "      <td>3.000000</td>\n",
       "      <td>4.350000</td>\n",
       "      <td>1.300000</td>\n",
       "    </tr>\n",
       "    <tr>\n",
       "      <th>75%</th>\n",
       "      <td>6.400000</td>\n",
       "      <td>3.300000</td>\n",
       "      <td>5.100000</td>\n",
       "      <td>1.800000</td>\n",
       "    </tr>\n",
       "    <tr>\n",
       "      <th>max</th>\n",
       "      <td>7.900000</td>\n",
       "      <td>4.400000</td>\n",
       "      <td>6.900000</td>\n",
       "      <td>2.500000</td>\n",
       "    </tr>\n",
       "  </tbody>\n",
       "</table>\n",
       "</div>"
      ],
      "text/plain": [
       "       sepal_length  sepal_width  petal_length  petal_width\n",
       "count    150.000000   150.000000    150.000000   150.000000\n",
       "mean       5.843333     3.057333      3.758000     1.199333\n",
       "std        0.828066     0.435866      1.765298     0.762238\n",
       "min        4.300000     2.000000      1.000000     0.100000\n",
       "25%        5.100000     2.800000      1.600000     0.300000\n",
       "50%        5.800000     3.000000      4.350000     1.300000\n",
       "75%        6.400000     3.300000      5.100000     1.800000\n",
       "max        7.900000     4.400000      6.900000     2.500000"
      ]
     },
     "execution_count": 4,
     "metadata": {},
     "output_type": "execute_result"
    }
   ],
   "source": [
    "df.describe()"
   ]
  },
  {
   "cell_type": "markdown",
   "id": "75b08e11",
   "metadata": {},
   "source": [
    "## 4. ✂️ เตรียมข้อมูลสำหรับ Machine Learning\n",
    "Machine Learning ต้องการข้อมูลในรูปแบบตัวเลข\n",
    "- เราจะแยก feature (X) และ target class (y)\n",
    "- แล้วแปลง label จากข้อความ (ชื่อสายพันธุ์) เป็นตัวเลข (0, 1, 2)\n",
    "- จากนั้นแบ่งข้อมูลออกเป็นชุด train (ฝึกสอน) และ test (ทดสอบ)"
   ]
  },
  {
   "cell_type": "markdown",
   "id": "2622356a",
   "metadata": {},
   "source": [
    "### 🔄 การแบ่งข้อมูลออกเป็นชุดฝึก (Train set) และชุดทดสอบ (Test set)\n",
    "หลังจากที่เราเตรียมข้อมูล X และ y แล้ว ขั้นตอนต่อไปคือการแบ่งข้อมูลออกเป็น 2 ส่วน:\n",
    "\n",
    "- **Train set**: ใช้สำหรับฝึกโมเดล (เรียนรู้จากข้อมูล)\n",
    "- **Test set**: ใช้สำหรับทดสอบความสามารถของโมเดลที่เรียนรู้แล้ว\n",
    "\n",
    "โดยทั่วไปนิยมแบ่งข้อมูลเป็น **80% สำหรับ Train และ 20% สำหรับ Test**\n",
    "\n",
    "📌 ทั้งสองชุดจะยังคงมี **ฟีเจอร์ 4 ตัวเท่ากัน** ได้แก่:\n",
    "`sepal_length`, `sepal_width`, `petal_length`, `petal_width`"
   ]
  },
  {
   "cell_type": "code",
   "execution_count": 5,
   "id": "cc8d1506",
   "metadata": {},
   "outputs": [],
   "source": [
    "from sklearn.model_selection import train_test_split\n",
    "from sklearn.preprocessing import LabelEncoder\n",
    "\n",
    "# แยกข้อมูล features และ labels\n",
    "X = df.iloc[:, :-1]  # คอลัมน์ 0-3 เป็น features\n",
    "y = df['class']     # คอลัมน์สุดท้ายเป็น label\n",
    "\n",
    "# แปลง label เป็นตัวเลข\n",
    "encoder = LabelEncoder()\n",
    "y = encoder.fit_transform(y)\n",
    "\n",
    "# แบ่งข้อมูลเป็น train (80%) และ test (20%)\n",
    "X_train, X_test, y_train, y_test = train_test_split(X, y, test_size=0.2, random_state=42)"
   ]
  },
  {
   "cell_type": "code",
   "execution_count": 6,
   "id": "30aa7492",
   "metadata": {},
   "outputs": [
    {
     "name": "stdout",
     "output_type": "stream",
     "text": [
      "Training set size: 120 samples\n",
      "Test set size: 30 samples\n"
     ]
    }
   ],
   "source": [
    "# แสดงจำนวนข้อมูลในแต่ละชุด\n",
    "print(f\"Training set size: {X_train.shape[0]} samples\")\n",
    "print(f\"Test set size: {X_test.shape[0]} samples\")"
   ]
  },
  {
   "cell_type": "code",
   "execution_count": 7,
   "id": "80c07481",
   "metadata": {},
   "outputs": [
    {
     "name": "stdout",
     "output_type": "stream",
     "text": [
      "🔹 Train set:\n"
     ]
    },
    {
     "data": {
      "application/vnd.microsoft.datawrangler.viewer.v0+json": {
       "columns": [
        {
         "name": "index",
         "rawType": "int64",
         "type": "integer"
        },
        {
         "name": "sepal_length",
         "rawType": "float64",
         "type": "float"
        },
        {
         "name": "sepal_width",
         "rawType": "float64",
         "type": "float"
        },
        {
         "name": "petal_length",
         "rawType": "float64",
         "type": "float"
        },
        {
         "name": "petal_width",
         "rawType": "float64",
         "type": "float"
        }
       ],
       "conversionMethod": "pd.DataFrame",
       "ref": "918e0121-2b22-436f-a40a-08dbcde25469",
       "rows": [
        [
         "22",
         "4.6",
         "3.6",
         "1.0",
         "0.2"
        ],
        [
         "15",
         "5.7",
         "4.4",
         "1.5",
         "0.4"
        ],
        [
         "65",
         "6.7",
         "3.1",
         "4.4",
         "1.4"
        ],
        [
         "11",
         "4.8",
         "3.4",
         "1.6",
         "0.2"
        ],
        [
         "42",
         "4.4",
         "3.2",
         "1.3",
         "0.2"
        ]
       ],
       "shape": {
        "columns": 4,
        "rows": 5
       }
      },
      "text/html": [
       "<div>\n",
       "<style scoped>\n",
       "    .dataframe tbody tr th:only-of-type {\n",
       "        vertical-align: middle;\n",
       "    }\n",
       "\n",
       "    .dataframe tbody tr th {\n",
       "        vertical-align: top;\n",
       "    }\n",
       "\n",
       "    .dataframe thead th {\n",
       "        text-align: right;\n",
       "    }\n",
       "</style>\n",
       "<table border=\"1\" class=\"dataframe\">\n",
       "  <thead>\n",
       "    <tr style=\"text-align: right;\">\n",
       "      <th></th>\n",
       "      <th>sepal_length</th>\n",
       "      <th>sepal_width</th>\n",
       "      <th>petal_length</th>\n",
       "      <th>petal_width</th>\n",
       "    </tr>\n",
       "  </thead>\n",
       "  <tbody>\n",
       "    <tr>\n",
       "      <th>22</th>\n",
       "      <td>4.6</td>\n",
       "      <td>3.6</td>\n",
       "      <td>1.0</td>\n",
       "      <td>0.2</td>\n",
       "    </tr>\n",
       "    <tr>\n",
       "      <th>15</th>\n",
       "      <td>5.7</td>\n",
       "      <td>4.4</td>\n",
       "      <td>1.5</td>\n",
       "      <td>0.4</td>\n",
       "    </tr>\n",
       "    <tr>\n",
       "      <th>65</th>\n",
       "      <td>6.7</td>\n",
       "      <td>3.1</td>\n",
       "      <td>4.4</td>\n",
       "      <td>1.4</td>\n",
       "    </tr>\n",
       "    <tr>\n",
       "      <th>11</th>\n",
       "      <td>4.8</td>\n",
       "      <td>3.4</td>\n",
       "      <td>1.6</td>\n",
       "      <td>0.2</td>\n",
       "    </tr>\n",
       "    <tr>\n",
       "      <th>42</th>\n",
       "      <td>4.4</td>\n",
       "      <td>3.2</td>\n",
       "      <td>1.3</td>\n",
       "      <td>0.2</td>\n",
       "    </tr>\n",
       "  </tbody>\n",
       "</table>\n",
       "</div>"
      ],
      "text/plain": [
       "    sepal_length  sepal_width  petal_length  petal_width\n",
       "22           4.6          3.6           1.0          0.2\n",
       "15           5.7          4.4           1.5          0.4\n",
       "65           6.7          3.1           4.4          1.4\n",
       "11           4.8          3.4           1.6          0.2\n",
       "42           4.4          3.2           1.3          0.2"
      ]
     },
     "metadata": {},
     "output_type": "display_data"
    },
    {
     "name": "stdout",
     "output_type": "stream",
     "text": [
      "\n",
      "🔹 Test set:\n"
     ]
    },
    {
     "data": {
      "application/vnd.microsoft.datawrangler.viewer.v0+json": {
       "columns": [
        {
         "name": "index",
         "rawType": "int64",
         "type": "integer"
        },
        {
         "name": "sepal_length",
         "rawType": "float64",
         "type": "float"
        },
        {
         "name": "sepal_width",
         "rawType": "float64",
         "type": "float"
        },
        {
         "name": "petal_length",
         "rawType": "float64",
         "type": "float"
        },
        {
         "name": "petal_width",
         "rawType": "float64",
         "type": "float"
        }
       ],
       "conversionMethod": "pd.DataFrame",
       "ref": "69631c85-b50f-4fed-9b32-69276456507c",
       "rows": [
        [
         "73",
         "6.1",
         "2.8",
         "4.7",
         "1.2"
        ],
        [
         "18",
         "5.7",
         "3.8",
         "1.7",
         "0.3"
        ],
        [
         "118",
         "7.7",
         "2.6",
         "6.9",
         "2.3"
        ],
        [
         "78",
         "6.0",
         "2.9",
         "4.5",
         "1.5"
        ],
        [
         "76",
         "6.8",
         "2.8",
         "4.8",
         "1.4"
        ]
       ],
       "shape": {
        "columns": 4,
        "rows": 5
       }
      },
      "text/html": [
       "<div>\n",
       "<style scoped>\n",
       "    .dataframe tbody tr th:only-of-type {\n",
       "        vertical-align: middle;\n",
       "    }\n",
       "\n",
       "    .dataframe tbody tr th {\n",
       "        vertical-align: top;\n",
       "    }\n",
       "\n",
       "    .dataframe thead th {\n",
       "        text-align: right;\n",
       "    }\n",
       "</style>\n",
       "<table border=\"1\" class=\"dataframe\">\n",
       "  <thead>\n",
       "    <tr style=\"text-align: right;\">\n",
       "      <th></th>\n",
       "      <th>sepal_length</th>\n",
       "      <th>sepal_width</th>\n",
       "      <th>petal_length</th>\n",
       "      <th>petal_width</th>\n",
       "    </tr>\n",
       "  </thead>\n",
       "  <tbody>\n",
       "    <tr>\n",
       "      <th>73</th>\n",
       "      <td>6.1</td>\n",
       "      <td>2.8</td>\n",
       "      <td>4.7</td>\n",
       "      <td>1.2</td>\n",
       "    </tr>\n",
       "    <tr>\n",
       "      <th>18</th>\n",
       "      <td>5.7</td>\n",
       "      <td>3.8</td>\n",
       "      <td>1.7</td>\n",
       "      <td>0.3</td>\n",
       "    </tr>\n",
       "    <tr>\n",
       "      <th>118</th>\n",
       "      <td>7.7</td>\n",
       "      <td>2.6</td>\n",
       "      <td>6.9</td>\n",
       "      <td>2.3</td>\n",
       "    </tr>\n",
       "    <tr>\n",
       "      <th>78</th>\n",
       "      <td>6.0</td>\n",
       "      <td>2.9</td>\n",
       "      <td>4.5</td>\n",
       "      <td>1.5</td>\n",
       "    </tr>\n",
       "    <tr>\n",
       "      <th>76</th>\n",
       "      <td>6.8</td>\n",
       "      <td>2.8</td>\n",
       "      <td>4.8</td>\n",
       "      <td>1.4</td>\n",
       "    </tr>\n",
       "  </tbody>\n",
       "</table>\n",
       "</div>"
      ],
      "text/plain": [
       "     sepal_length  sepal_width  petal_length  petal_width\n",
       "73            6.1          2.8           4.7          1.2\n",
       "18            5.7          3.8           1.7          0.3\n",
       "118           7.7          2.6           6.9          2.3\n",
       "78            6.0          2.9           4.5          1.5\n",
       "76            6.8          2.8           4.8          1.4"
      ]
     },
     "metadata": {},
     "output_type": "display_data"
    }
   ],
   "source": [
    "# แสดงตัวอย่างข้อมูลใน train/test set เพื่อยืนยันว่าแต่ละชุดมี 4 ฟีเจอร์\n",
    "print(\"🔹 Train set:\")\n",
    "display(X_train.head())\n",
    "print(\"\\n🔹 Test set:\")\n",
    "display(X_test.head())"
   ]
  },
  {
   "cell_type": "markdown",
   "id": "14be81c9",
   "metadata": {},
   "source": [
    "## 5. 🧠 สร้างโมเดล K-Nearest Neighbors (KNN)\n",
    "**KNN** เป็นโมเดลแบบง่ายที่ใช้การวัด \"ระยะทาง\" ระหว่างจุดข้อมูลเพื่อทำนายคลาสของข้อมูลใหม่\n",
    "- เราเลือก `k = 3` หมายถึงให้ดูเพื่อนบ้านที่ใกล้ที่สุด 3 จุด แล้วใช้ผลโหวต\n",
    "- สุดท้ายเราจะวัดความแม่นยำของโมเดลด้วย `score()`"
   ]
  },
  {
   "cell_type": "code",
   "execution_count": 8,
   "id": "df1b954c",
   "metadata": {},
   "outputs": [
    {
     "name": "stdout",
     "output_type": "stream",
     "text": [
      "Accuracy: 100.00%\n"
     ]
    }
   ],
   "source": [
    "from sklearn.neighbors import KNeighborsClassifier\n",
    "\n",
    "# สร้างโมเดลและฝึกกับข้อมูล\n",
    "model = KNeighborsClassifier(n_neighbors=3)\n",
    "model.fit(X_train, y_train)\n",
    "\n",
    "# วัดความแม่นยำ\n",
    "accuracy = model.score(X_test, y_test)\n",
    "print(f\"Accuracy: {accuracy * 100:.2f}%\")"
   ]
  },
  {
   "cell_type": "markdown",
   "id": "f5ca79fa",
   "metadata": {},
   "source": [
    "# 🧠 แสดงการทำงานของ KNN ด้วยภาพและคำอธิบาย"
   ]
  },
  {
   "cell_type": "markdown",
   "id": "8270a920",
   "metadata": {},
   "source": [
    "### 🧪 การใช้ข้อมูลจริงทดลองใน 1D\n",
    "**KNN แบบ 1 มิติ (1D)** คือการเลือกฟีเจอร์เพียงหนึ่งตัว เช่น `petal_length` มาคำนวณระยะห่าง\n",
    "\n",
    "**กระบวนการทำงานของ KNN 1D**:\n",
    "1. เลือกฟีเจอร์เดียวจากข้อมูล เช่น `petal_length`\n",
    "2. วัดระยะห่าง (เช่น |x - xi| หรือ Euclidean)\n",
    "3. เลือก k ตัวอย่างที่ใกล้ที่สุด (k = 3)\n",
    "4. โหวตว่า label ของจุดใหม่ควรเป็นคลาสใด\n",
    "\n",
    "แม้ว่าจะง่ายต่อการแสดงผลด้วยภาพ แต่ KNN 1D มักมีความแม่นยำน้อยกว่า เพราะข้อมูลอาจซ้อนกันระหว่างคลาส"
   ]
  },
  {
   "cell_type": "code",
   "execution_count": 9,
   "id": "eaab46cf",
   "metadata": {},
   "outputs": [
    {
     "data": {
      "application/vnd.jupyter.widget-view+json": {
       "model_id": "1de05480c2704b548e490b15d4ac302f",
       "version_major": 2,
       "version_minor": 0
      },
      "text/plain": [
       "interactive(children=(Dropdown(description='Feature:', index=2, options=('sepal_length', 'sepal_width', 'petal…"
      ]
     },
     "metadata": {},
     "output_type": "display_data"
    }
   ],
   "source": [
    "import matplotlib.pyplot as plt\n",
    "import numpy as np\n",
    "from sklearn.neighbors import KNeighborsClassifier\n",
    "import ipywidgets as widgets\n",
    "from IPython.display import display\n",
    "\n",
    "# ฟีเจอร์ทั้งหมดในชุดข้อมูล\n",
    "feature_options = list(X.columns)\n",
    "\n",
    "# สร้าง widgets\n",
    "feature_dropdown = widgets.Dropdown(\n",
    "    options=feature_options,\n",
    "    value='petal_length',\n",
    "    description='Feature:',\n",
    ")\n",
    "\n",
    "k_slider = widgets.SelectionSlider(\n",
    "    options=[k for k in range(1, 100, 2)],\n",
    "    value=1,\n",
    "    description='k:',\n",
    "    continuous_update=False\n",
    ")\n",
    "\n",
    "def plot_knn_1d(feature_name, k):\n",
    "    X_1d = X[[feature_name]].values\n",
    "    x_new = X_test[[feature_name]].values\n",
    "    y_true = y_test\n",
    "\n",
    "    model_1d = KNeighborsClassifier(n_neighbors=k)\n",
    "    model_1d.fit(X_1d, y)\n",
    "    y_pred = model_1d.predict(x_new)\n",
    "\n",
    "    correct = y_pred == y_true\n",
    "    colors = ['green' if c else 'red' for c in correct]\n",
    "    accuracy = correct.sum() / len(correct) * 100\n",
    "\n",
    "    fig, ax = plt.subplots(figsize=(13, 3))\n",
    "\n",
    "    # Training data by class\n",
    "    ax.scatter(X_1d[y == 0], np.zeros_like(X_1d[y == 0]), c='purple', s=50, alpha=0.5, label='Iris-setosa')\n",
    "    ax.scatter(X_1d[y == 1], np.zeros_like(X_1d[y == 1]), c='green',  s=50, alpha=0.5, label='Iris-versicolor')\n",
    "    ax.scatter(X_1d[y == 2], np.zeros_like(X_1d[y == 2]), c='gold',   s=50, alpha=0.5, label='Iris-virginica')\n",
    "\n",
    "    # X_test จุดใหม่\n",
    "    ax.scatter(x_new[:, 0], np.zeros_like(x_new[:, 0]), c=colors, marker='x', s=80, label='X_test (✓ = green, ✗ = red)')\n",
    "\n",
    "    ax.set_yticks([])\n",
    "    ax.set_xlabel(feature_name.replace('_', ' ').title())\n",
    "    ax.set_title(f'KNN (1D) with k = {k} on Feature: {feature_name}')\n",
    "    ax.grid(True)\n",
    "\n",
    "    # ✅ Legend ด้านล่างซ้าย\n",
    "    ax.legend(loc='lower left', bbox_to_anchor=(0, -0.35), fontsize=10, frameon=True)\n",
    "\n",
    "    # ✅ Accuracy ด้านล่างขวา\n",
    "    plt.text(0.98, -0.42, f\"Accuracy: {accuracy:.2f}%\", transform=ax.transAxes, fontsize=12, ha='right')\n",
    "\n",
    "    plt.tight_layout()\n",
    "    plt.show()\n",
    "\n",
    "# แสดง widgets และกราฟแบบ interactive\n",
    "widgets.interact(plot_knn_1d, feature_name=feature_dropdown, k=k_slider);"
   ]
  },
  {
   "cell_type": "markdown",
   "id": "e3c1016c",
   "metadata": {},
   "source": [
    "### 📊 การใช้ข้อมูลจริงทดลองใน 2D\n",
    "การวาดภาพนี้เลือกใช้ 2 จาก 4 ฟีเจอร์ เพื่อให้สามารถ plot เป็นกราฟ 2D ได้:\n",
    "\n",
    "- ตัวอย่างในโค้ดนี้ใช้ `petal_length` (ความยาวกลีบดอกด้านใน) และ `petal_width` (ความกว้างกลีบดอกด้านใน)\n",
    "- คุณสามารถเปลี่ยนไปใช้ฟีเจอร์อื่น ๆ เช่น `sepal_length`, `sepal_width` ได้ใน interactive version ด้านล่าง\n",
    "\n",
    "> การเลือกฟีเจอร์มีผลต่อการแยกกลุ่มในกราฟ เพราะบางฟีเจอร์ช่วยแยกคลาสได้ชัดเจนกว่าฟีเจอร์อื่น"
   ]
  },
  {
   "cell_type": "markdown",
   "id": "b1f2aea4",
   "metadata": {},
   "source": [
    "เราจะใช้ **matplotlib** ในการแสดงข้อมูล 2 มิติ (โดยเลือก 2 ฟีเจอร์) เพื่อให้เห็นว่า KNN ทำนายคลาสของจุดใหม่อย่างไร\n",
    "- ใช้ฟีเจอร์: `petal length` กับ `petal width` ซึ่งแยก class ได้ดี\n",
    "- วาดจุดใหม่ที่ต้องการทำนาย และแสดงเพื่อนบ้านที่ใกล้ที่สุด\n",
    "- แสดงผลลัพธ์ว่า KNN เลือกคลาสใด"
   ]
  },
  {
   "cell_type": "code",
   "execution_count": 10,
   "id": "e17bf93b",
   "metadata": {},
   "outputs": [
    {
     "data": {
      "application/vnd.jupyter.widget-view+json": {
       "model_id": "dd1f2626cbc44755b95a15178984d012",
       "version_major": 2,
       "version_minor": 0
      },
      "text/plain": [
       "interactive(children=(Dropdown(description='Feature X:', index=2, options=('sepal_length', 'sepal_width', 'pet…"
      ]
     },
     "metadata": {},
     "output_type": "display_data"
    }
   ],
   "source": [
    "import matplotlib.pyplot as plt\n",
    "import numpy as np\n",
    "import ipywidgets as widgets\n",
    "from IPython.display import display\n",
    "from sklearn.neighbors import KNeighborsClassifier, NearestNeighbors\n",
    "\n",
    "# ฟีเจอร์ทั้งหมด\n",
    "feature_options = list(X.columns)\n",
    "\n",
    "# Dropdown สำหรับเลือกฟีเจอร์ 2 ตัว\n",
    "feature1_dropdown = widgets.Dropdown(options=feature_options, value='petal_length', description='Feature X:')\n",
    "feature2_dropdown = widgets.Dropdown(options=feature_options, value='petal_width', description='Feature Y:')\n",
    "\n",
    "# Slider สำหรับเลือกค่า k\n",
    "k_slider = widgets.SelectionSlider(\n",
    "    options=[k for k in range(1, 100, 2)],\n",
    "    value=1,\n",
    "    description='k:',\n",
    "    continuous_update=False\n",
    ")\n",
    "\n",
    "# ฟังก์ชันวาดกราฟ\n",
    "def plot_knn_2d(feature_x, feature_y, k):\n",
    "    if feature_x == feature_y:\n",
    "        print(\"กรุณาเลือกฟีเจอร์ที่ไม่ซ้ำกัน\")\n",
    "        return\n",
    "\n",
    "    # เตรียมข้อมูล\n",
    "    X_2d = X_train[[feature_x, feature_y]].values\n",
    "    y_2d = y_train\n",
    "    X_test_2d = X_test[[feature_x, feature_y]].values\n",
    "    y_true = y_test\n",
    "\n",
    "    model = KNeighborsClassifier(n_neighbors=k)\n",
    "    model.fit(X_2d, y_2d)\n",
    "    y_pred = model.predict(X_test_2d)\n",
    "    accuracy = (y_pred == y_true).sum() / len(y_true) * 100\n",
    "\n",
    "    fig, ax = plt.subplots(figsize=(8, 6))\n",
    "\n",
    "    # Training data\n",
    "    ax.scatter(X_2d[y_2d == 0, 0], X_2d[y_2d == 0, 1], c='purple', s=50, alpha=0.6, label='Iris-setosa')\n",
    "    ax.scatter(X_2d[y_2d == 1, 0], X_2d[y_2d == 1, 1], c='green',  s=50, alpha=0.6, label='Iris-versicolor')\n",
    "    ax.scatter(X_2d[y_2d == 2, 0], X_2d[y_2d == 2, 1], c='gold',   s=50, alpha=0.6, label='Iris-virginica')\n",
    "\n",
    "    # plot จุดจาก X_test และเชื่อมเพื่อนบ้าน\n",
    "    for new_point in X_test_2d:\n",
    "        nbrs = NearestNeighbors(n_neighbors=k)\n",
    "        nbrs.fit(X_2d)\n",
    "        distances, indices = nbrs.kneighbors([new_point])\n",
    "\n",
    "        ax.scatter(new_point[0], new_point[1], c='black', marker='X', s=100)\n",
    "\n",
    "        for idx in indices[0]:\n",
    "            neighbor = X_2d[idx]\n",
    "            ax.plot([new_point[0], neighbor[0]], [new_point[1], neighbor[1]], 'k--', alpha=0.3)\n",
    "\n",
    "    ax.set_xlabel(feature_x.replace('_', ' ').title())\n",
    "    ax.set_ylabel(feature_y.replace('_', ' ').title())\n",
    "    ax.set_title(f'KNN (2D) Visualization with k = {k}')\n",
    "    ax.grid(True)\n",
    "\n",
    "    # ✅ Legend ด้านล่างซ้าย + accuracy อยู่ในกรอบด้วย\n",
    "    legend_text = f\"Accuracy: {accuracy:.2f}%\"\n",
    "    ax.legend(loc='lower right', fontsize=10, frameon=True, title=f\"Accuracy: {accuracy:.2f}%\", title_fontsize=10)\n",
    "\n",
    "    plt.tight_layout()\n",
    "    plt.show()\n",
    "\n",
    "# แสดง widget ใหม่\n",
    "widgets.interact(plot_knn_2d, feature_x=feature1_dropdown, feature_y=feature2_dropdown, k=k_slider);\n"
   ]
  },
  {
   "cell_type": "markdown",
   "id": "8a8253c0",
   "metadata": {},
   "source": [
    "### 🧊 การใช้ข้อมูลจริงทดลองใน 3D\n",
    "\n",
    "- จุดใหม่ที่ต้องการทำนายจะแสดงเป็นเครื่องหมาย X สีดำ\n",
    "- ใช้ `matplotlib` และ `Axes3D` ในการแสดงผล"
   ]
  },
  {
   "cell_type": "code",
   "execution_count": 11,
   "id": "8bb123c9",
   "metadata": {},
   "outputs": [
    {
     "data": {
      "application/vnd.jupyter.widget-view+json": {
       "model_id": "916b6f2e7986461db7f4d63ac4c8c263",
       "version_major": 2,
       "version_minor": 0
      },
      "text/plain": [
       "interactive(children=(Dropdown(description='Feature X:', index=2, options=('sepal_length', 'sepal_width', 'pet…"
      ]
     },
     "metadata": {},
     "output_type": "display_data"
    }
   ],
   "source": [
    "import plotly.graph_objs as go\n",
    "import numpy as np\n",
    "from sklearn.neighbors import NearestNeighbors, KNeighborsClassifier\n",
    "import ipywidgets as widgets\n",
    "from IPython.display import display\n",
    "\n",
    "# ต้องมี X_train, X_test, y_train, y_test และ feature_options ก่อนหน้านี้\n",
    "# ถ้ายังไม่มี ให้แน่ใจว่า import และแบ่ง dataset แล้วเรียบร้อย\n",
    "\n",
    "# UI dropdowns\n",
    "feature1_dropdown = widgets.Dropdown(options=feature_options, value='petal_length', description='Feature X:')\n",
    "feature2_dropdown = widgets.Dropdown(options=feature_options, value='petal_width', description='Feature Y:')\n",
    "feature3_dropdown = widgets.Dropdown(options=feature_options, value='sepal_length', description='Feature Z:')\n",
    "k_slider = widgets.SelectionSlider(options=list(range(1, 16, 2)), value=3, description='k:')\n",
    "\n",
    "# สีตาม class\n",
    "class_color = {0: 'purple', 1: 'green', 2: 'gold'}\n",
    "\n",
    "def plot_knn_3d_plotly(feature_x, feature_y, feature_z, k):\n",
    "    if len({feature_x, feature_y, feature_z}) < 3:\n",
    "        print(\"กรุณาเลือกฟีเจอร์ที่ไม่ซ้ำกันทั้ง 3 แกน\")\n",
    "        return\n",
    "\n",
    "    X_train_3d = X_train[[feature_x, feature_y, feature_z]].values\n",
    "    X_test_3d = X_test[[feature_x, feature_y, feature_z]].values\n",
    "    y_train_ = y_train\n",
    "    y_test_ = y_test\n",
    "\n",
    "    # Train model\n",
    "    model = KNeighborsClassifier(n_neighbors=k)\n",
    "    model.fit(X_train_3d, y_train_)\n",
    "    y_pred = model.predict(X_test_3d)\n",
    "    accuracy = (y_pred == y_test_).sum() / len(y_test_) * 100\n",
    "\n",
    "    # สร้างกราฟ\n",
    "    traces = []\n",
    "\n",
    "    # 🔹 จุด Training set (ตาม class)\n",
    "    for cls in np.unique(y_train_):\n",
    "        cls_points = X_train_3d[y_train_ == cls]\n",
    "        traces.append(go.Scatter3d(\n",
    "            x=cls_points[:, 0], y=cls_points[:, 1], z=cls_points[:, 2],\n",
    "            mode='markers',\n",
    "            marker=dict(size=5, color=class_color[cls]),\n",
    "            name=f'Class {cls} (train)'\n",
    "        ))\n",
    "\n",
    "    # 🔸 จุด Test set\n",
    "    traces.append(go.Scatter3d(\n",
    "        x=X_test_3d[:, 0], y=X_test_3d[:, 1], z=X_test_3d[:, 2],\n",
    "        mode='markers',\n",
    "        marker=dict(size=6, color='black', symbol='x'),\n",
    "        name='X_test'\n",
    "    ))\n",
    "\n",
    "    # 🔻 เส้นปะแดงเชื่อมเพื่อนบ้าน\n",
    "    nbrs = NearestNeighbors(n_neighbors=k)\n",
    "    nbrs.fit(X_train_3d)\n",
    "\n",
    "    for pt in X_test_3d:\n",
    "        distances, indices = nbrs.kneighbors([pt])\n",
    "        for idx in indices[0]:\n",
    "            neighbor = X_train_3d[idx]\n",
    "            traces.append(go.Scatter3d(\n",
    "                x=[pt[0], neighbor[0]],\n",
    "                y=[pt[1], neighbor[1]],\n",
    "                z=[pt[2], neighbor[2]],\n",
    "                mode='lines',\n",
    "                line=dict(color='red', width=4, dash='dash'),\n",
    "                showlegend=False\n",
    "            ))\n",
    "\n",
    "    # Layout\n",
    "    layout = go.Layout(\n",
    "        scene=dict(\n",
    "            xaxis_title=feature_x,\n",
    "            yaxis_title=feature_y,\n",
    "            zaxis_title=feature_z\n",
    "        ),\n",
    "        margin=dict(l=0, r=0, b=0, t=40),\n",
    "        title=f\"KNN 3D Visualization (k={k}) | Accuracy: {accuracy:.2f}%\",\n",
    "        width=1200,   # ✅ ความกว้างมากขึ้น\n",
    "        height=500,   # ✅ ความสูงมากขึ้น\n",
    "        showlegend=True\n",
    "    )\n",
    "\n",
    "    fig = go.Figure(data=traces, layout=layout)\n",
    "    fig.show()\n",
    "\n",
    "# 🔧 เรียก UI interactive\n",
    "widgets.interact(\n",
    "    plot_knn_3d_plotly,\n",
    "    feature_x=feature1_dropdown,\n",
    "    feature_y=feature2_dropdown,\n",
    "    feature_z=feature3_dropdown,\n",
    "    k=k_slider\n",
    ");"
   ]
  },
  {
   "cell_type": "markdown",
   "id": "165054ea",
   "metadata": {},
   "source": [
    "## 🧮 การใช้ข้อมูลจริงทดลองใน 4D\n",
    "ในที่นี้เราจะอธิบายการทำงานของ KNN เมื่อใช้ฟีเจอร์ทั้ง 4 ตัว ผ่านการคำนวณแบบเมทริกซ์\n",
    "\n",
    "**ข้อมูล training** (บางตัวอย่าง):\n",
    "```\n",
    "X_train = [\n",
    " [5.1, 3.5, 1.4, 0.2],  → Setosa\n",
    " [6.7, 3.0, 5.2, 2.3],  → Virginica\n",
    " [5.9, 3.2, 4.8, 1.8]   → Virginica\n",
    "]\n",
    "```\n",
    "**ข้อมูลใหม่:**\n",
    "```\n",
    "x_new = [6.0, 2.9, 4.5, 1.5]\n",
    "```\n",
    "\n",
    "---\n",
    "\n",
    "**สูตร Euclidean Distance:**\n",
    "$$\n",
    "\\text{distance}(x, x_i) = \\sqrt{\\sum_{j=1}^n (x_j - x_{ij})^2}\n",
    "$$\n",
    "\n",
    "---\n",
    "\n",
    "### 🔍 **ตารางการคำนวณระยะห่าง:**\n",
    "\n",
    "| Training Index | วิธีคำนวณระยะห่างแบบละเอียด          | Label     | Distance to `x_new`  |\n",
    "|----------------|----------------------------------|-----------|----------------------|\n",
    "| 0              | $\\sqrt{(6.0-5.1)^2+(2.9-3.5)^2+(4.5-1.4)^2+(1.5-0.2)^2}$            | Setosa    | 3.99                 |\n",
    "| 1              | $\\sqrt{(6.0-6.7)^2+(2.9-3.0)^2+(4.5-5.2)^2+(1.5-2.3)^2}$            | Virginica | 1.28                 |\n",
    "| 2              | $\\sqrt{(6.0-5.9)^2+(2.9-3.2)^2+(4.5-4.8)^2+(1.5-1.8)^2}$            | Virginica | 0.45                 |\n",
    "\n",
    "### 📌 **ผลการทำนาย (k = 3):**\n",
    "- เพื่อนบ้านที่ใกล้ที่สุด: Index 2, 1, 0\n",
    "- Labels = `[2, 2, 0]`\n",
    "- Mode = `2` → 🔮 **ทำนายว่าเป็น Virginica**\n",
    "\n",
    "---\n",
    "\n",
    "### ✅ สรุป:\n",
    "> ด้วยการคำนวณระยะห่างในข้อมูล 4 มิติ จุดใหม่ `[6.0, 2.9, 4.5, 1.5]`  \n",
    "> มีเพื่อนบ้านใกล้สุด 3 ตัว ซึ่ง 2 ใน 3 เป็น `Virginica`  \n",
    "> โมเดล KNN จึงทำนายว่าดอกไม้ดอกนี้คือ: ✅ **Virginica**"
   ]
  },
  {
   "cell_type": "code",
   "execution_count": 12,
   "id": "348f127f",
   "metadata": {},
   "outputs": [
    {
     "data": {
      "application/vnd.jupyter.widget-view+json": {
       "model_id": "4616f3e1047c430290e9e73b8d30dcf6",
       "version_major": 2,
       "version_minor": 0
      },
      "text/plain": [
       "interactive(children=(Dropdown(description='X Axis:', options=('sepal_length', 'sepal_width', 'petal_length', …"
      ]
     },
     "metadata": {},
     "output_type": "display_data"
    }
   ],
   "source": [
    "import matplotlib.pyplot as plt\n",
    "import ipywidgets as widgets\n",
    "from IPython.display import display\n",
    "from sklearn.neighbors import KNeighborsClassifier\n",
    "import numpy as np\n",
    "import pandas as pd\n",
    "\n",
    "# UI dropdowns\n",
    "feature_dropdowns = [widgets.Dropdown(options=feature_options, description=label)\n",
    "                     for label in ['X Axis:', 'Y Axis:', 'Size:', 'Color:']]\n",
    "\n",
    "k_slider = widgets.SelectionSlider(\n",
    "    options=list(range(1, 100, 2)), value=3, description='k:', continuous_update=False\n",
    ")\n",
    "\n",
    "def plot_knn_4d(f1, f2, f3, f4, k):\n",
    "    if len({f1, f2, f3, f4}) < 4:\n",
    "        print(\"กรุณาเลือกฟีเจอร์ไม่ซ้ำกันทั้ง 4 ตัว\")\n",
    "        return\n",
    "\n",
    "    # 🔹 Train KNN\n",
    "    X_train_knn = X_train[[f1, f2, f3, f4]].values\n",
    "    X_test_knn = X_test[[f1, f2, f3, f4]].values\n",
    "    model = KNeighborsClassifier(n_neighbors=k)\n",
    "    model.fit(X_train_knn, y_train)\n",
    "    y_pred = model.predict(X_test_knn)\n",
    "    acc = (y_pred == y_test).mean() * 100\n",
    "\n",
    "    # 🔸 Prepare DataFrame\n",
    "    df_plot = X_test.copy()\n",
    "    df_plot['size'] = df_plot[f3]\n",
    "    df_plot['color'] = df_plot[f4]\n",
    "    df_plot['true_label'] = y_test\n",
    "    df_plot['pred_label'] = y_pred\n",
    "    df_plot['correct'] = df_plot['true_label'] == df_plot['pred_label']\n",
    "\n",
    "    class_names = {0: 'Setosa', 1: 'Versicolor', 2: 'Virginica'}\n",
    "    class_colors = ['purple', 'green', 'gold']\n",
    "\n",
    "    plt.figure(figsize=(10, 7))\n",
    "\n",
    "    # 🔹 Plot ทายถูก (marker = o)\n",
    "    for cls in sorted(df_plot['true_label'].unique()):\n",
    "        df_cls = df_plot[(df_plot['true_label'] == cls) & (df_plot['correct'] == True)]\n",
    "        plt.scatter(\n",
    "            df_cls[f1], df_cls[f2],\n",
    "            s=df_cls['size'] * 30,\n",
    "            c=class_colors[cls],\n",
    "            marker='o', alpha=0.8, edgecolors='black',\n",
    "            label=f\"✔ Class {cls} ({class_names.get(cls)})\"\n",
    "        )\n",
    "\n",
    "    # 🔻 Plot ทายผิด (marker = x)\n",
    "    for cls in sorted(df_plot['true_label'].unique()):\n",
    "        df_cls = df_plot[(df_plot['true_label'] == cls) & (df_plot['correct'] == False)]\n",
    "        if not df_cls.empty:\n",
    "            plt.scatter(\n",
    "                df_cls[f1], df_cls[f2],\n",
    "                s=df_cls['size'] * 30,\n",
    "                c=class_colors[cls],\n",
    "                marker='x', alpha=0.9, linewidths=2,\n",
    "                label=f\"✘ Class {cls} ({class_names.get(cls)})\"\n",
    "            )\n",
    "\n",
    "    # 🔧 Styling\n",
    "    plt.xlabel(f1.replace('_', ' ').title())\n",
    "    plt.ylabel(f2.replace('_', ' ').title())\n",
    "    plt.title(f\"KNN 4D Bubble Matrix (k={k}) | Accuracy: {acc:.2f}%\\n\"\n",
    "              f\"X = {f1}, Y = {f2}, Size = {f3}, Color = Class, Shape = Prediction Correctness\")\n",
    "    plt.grid(True)\n",
    "    plt.legend(loc='upper right', title=\"Legend\")\n",
    "    plt.show()\n",
    "\n",
    "# interactive widget\n",
    "widgets.interact(\n",
    "    plot_knn_4d,\n",
    "    f1=feature_dropdowns[0],\n",
    "    f2=feature_dropdowns[1],\n",
    "    f3=feature_dropdowns[2],\n",
    "    f4=feature_dropdowns[3],\n",
    "    k=k_slider\n",
    ");"
   ]
  }
 ],
 "metadata": {
  "kernelspec": {
   "display_name": ".venv",
   "language": "python",
   "name": "python3"
  },
  "language_info": {
   "codemirror_mode": {
    "name": "ipython",
    "version": 3
   },
   "file_extension": ".py",
   "mimetype": "text/x-python",
   "name": "python",
   "nbconvert_exporter": "python",
   "pygments_lexer": "ipython3",
   "version": "3.13.2"
  }
 },
 "nbformat": 4,
 "nbformat_minor": 5
}
