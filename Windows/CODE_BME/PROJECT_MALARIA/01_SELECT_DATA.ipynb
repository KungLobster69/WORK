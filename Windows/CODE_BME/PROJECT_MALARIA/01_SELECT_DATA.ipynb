{
 "cells": [
  {
   "cell_type": "code",
   "execution_count": 1,
   "metadata": {},
   "outputs": [],
   "source": [
    "from absl import logging\n",
    "import tensorflow as tf\n",
    "from tensorflow.keras import Model\n",
    "from tensorflow.keras.layers import Add,Concatenate,Conv2D,Input,Lambda,LeakyReLU,MaxPool2D,UpSampling2D,ZeroPadding2D,BatchNormalization\n",
    "from tensorflow.keras.regularizers import l2\n",
    "from tensorflow.keras.losses import binary_crossentropy, sparse_categorical_crossentropy\n",
    "from tensorflow.keras.callbacks import ReduceLROnPlateau,EarlyStopping,ModelCheckpoint,TensorBoard\n",
    "import seaborn as sns\n",
    "import matplotlib.pyplot as plt\n",
    "import tensorflow as tf\n",
    "import numpy as np\n",
    "from PIL import Image, ImageDraw, ImageFont\n",
    "from IPython.display import display\n",
    "from seaborn import color_palette\n",
    "import cv2\n",
    "import pandas as pd\n",
    "from tqdm import tqdm\n",
    "import os\n",
    "import tensorflow as tf\n",
    "import time\n",
    "from tqdm import tqdm\n",
    "import datetime\n",
    "# from my_yolo import *"
   ]
  },
  {
   "cell_type": "code",
   "execution_count": 2,
   "metadata": {},
   "outputs": [],
   "source": [
    "images = os.listdir(r\"C:\\Users\\BMEI CMU\\Documents\\GitHub\\WORK\\Windows\\CODE_BME\\PROJECT_MALARIA\\malaria\\images\") # read the images data where all images are present\n",
    "train = pd.read_json(r\"C:\\Users\\BMEI CMU\\Documents\\GitHub\\WORK\\Windows\\CODE_BME\\PROJECT_MALARIA\\malaria\\training.json\") # read the train json file where info about all images\n",
    "# are given including bounding box information.\n",
    "test = pd.read_json(r\"C:\\Users\\BMEI CMU\\Documents\\GitHub\\WORK\\Windows\\CODE_BME\\PROJECT_MALARIA\\malaria\\test.json\") # read the test json file."
   ]
  },
  {
   "cell_type": "code",
   "execution_count": 3,
   "metadata": {},
   "outputs": [
    {
     "name": "stdout",
     "output_type": "stream",
     "text": [
      "Train image length is ->  1208\n",
      "Train image : ['8d02117d-6c71-4e47-b50a-6cc8d5eb1d55.png', '10be6380-cbbb-4886-8b9e-ff56b1710576.png', '6b14c855-8561-417c-97a4-63fa552842fd.png', '13099edb-35d9-438f-b093-2cf2ebf9d255.png', '2559636b-f01a-4414-93da-210c3b12d153.png']\n",
      "Test image length is ->  120\n",
      "Test image : ['41be1bd3-0d31-4881-bf1f-3ccdfa21ff12.jpg', '64985a1e-16bb-4016-a01c-c21a5b86e572.jpg', 'c70894fa-50e8-4eed-a5a8-159a20153a49.jpg', 'abb72ce2-4193-4dd3-a34c-61c2ee22ccff.jpg', '8db76867-671a-4488-a7b6-991e4dd2e05f.jpg']\n"
     ]
    }
   ],
   "source": [
    "# here we have store train and test image in different list\n",
    "train_image = [] # train images stored here\n",
    "test_image = [] # test images stored here\n",
    "for df in train['image']:\n",
    "    train_image.append(df['pathname'].split('/')[-1])\n",
    "for df in test['image']:\n",
    "    test_image.append(df['pathname'].split('/')[-1])\n",
    "print(\"Train image length is -> \",len(train_image))\n",
    "print(\"Train image :\",train_image[:5])\n",
    "print(\"Test image length is -> \",len(test_image))\n",
    "print(\"Test image :\",test_image[:5])\n",
    "\n",
    "class_dict = {'red blood cell':0,'trophozoite': 1, 'schizont': 2, 'difficult': 3, 'ring': 4,\n",
    "              'leukocyte': 5, 'gametocyte': 6}\n",
    "\n",
    "#class_dict = {'uninfected': 0, 'infected': 1}\n",
    "# we have defined the dictionary for labels or classes."
   ]
  },
  {
   "cell_type": "code",
   "execution_count": 4,
   "metadata": {},
   "outputs": [
    {
     "name": "stdout",
     "output_type": "stream",
     "text": [
      "This malaria image data contains rows 86035 and columns 6\n"
     ]
    }
   ],
   "source": [
    "img_info = [] # containg information of bounding box\n",
    "for row in range(train.shape[0]):\n",
    "    path = 'C:\\\\Users\\\\BMEI CMU\\\\Documents\\\\GitHub\\\\WORK\\\\Windows\\\\CODE_BME\\\\PROJECT_MALARIA\\\\malaria' + train.iloc[row]['image']['pathname']\n",
    "    for info in train.iloc[row]['objects']:\n",
    "        category = info['category'] #  category here refer to label \n",
    "        bounding_box = info['bounding_box'] # containing image info like r_min,r_max,c_min,c_max\n",
    "        box_dim = bounding_box['maximum']['r'],bounding_box['maximum']['c'],bounding_box['minimum']['r'],bounding_box['minimum']['c'],category,path\n",
    "        img_info.append(box_dim)\n",
    "for row in range(test.shape[0]):\n",
    "    path = 'C:\\\\Users\\\\BMEI CMU\\\\Documents\\\\GitHub\\\\WORK\\\\Windows\\\\CODE_BME\\\\PROJECT_MALARIA\\\\malaria' + test.iloc[row]['image']['pathname']\n",
    "    for info in test.iloc[row]['objects']:\n",
    "        category = info['category'] #  category here refer to label \n",
    "        bounding_box = info['bounding_box'] # containing image info like r_min,r_max,c_min,c_max\n",
    "        box_dim = bounding_box['maximum']['r'],bounding_box['maximum']['c'],bounding_box['minimum']['r'],bounding_box['minimum']['c'],category,path\n",
    "        img_info.append(box_dim)\n",
    "# storing each images info in train_img_info list\n",
    "\n",
    "import csv\n",
    "headers = [ 'max_r', 'max_c', 'min_r','min_c', 'category','img_path']\n",
    "with open('all_data.csv', 'w') as f:\n",
    "        wr = csv.writer(f, quoting=csv.QUOTE_ALL)\n",
    "        wr.writerow(headers) \n",
    "        wr.writerows(img_info)\n",
    "# the above code snippet is taking each data and writing it into train csv file.\n",
    "\n",
    "\n",
    "# after seperating out each cell data in images we have got 80113 cells info.\n",
    "# here max_r,min_r,max_c,min_c are dimension for each cell which will help us out while cropping that cell in an image.\n",
    "# so each image contain various malaria cells including all 6 types of cells.\n",
    "# As we will see in further analysis that RBC has outnumbered other cell categories \n",
    "\n",
    "df = pd.read_csv(\"all_data.csv\")\n",
    "\n",
    "print(\"This malaria image data contains rows {} and columns {}\".format(df.shape[0],df.shape[1]))\n",
    "df['label'] = df['category'].map(class_dict) \n",
    "\n",
    "data = df"
   ]
  }
 ],
 "metadata": {
  "kernelspec": {
   "display_name": ".venv",
   "language": "python",
   "name": "python3"
  },
  "language_info": {
   "codemirror_mode": {
    "name": "ipython",
    "version": 3
   },
   "file_extension": ".py",
   "mimetype": "text/x-python",
   "name": "python",
   "nbconvert_exporter": "python",
   "pygments_lexer": "ipython3",
   "version": "3.12.7"
  }
 },
 "nbformat": 4,
 "nbformat_minor": 2
}
