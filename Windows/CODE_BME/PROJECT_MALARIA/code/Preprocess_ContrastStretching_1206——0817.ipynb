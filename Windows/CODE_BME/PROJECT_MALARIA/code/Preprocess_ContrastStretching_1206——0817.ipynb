{
 "cells": [
  {
   "cell_type": "code",
   "execution_count": 2,
   "id": "98154577",
   "metadata": {},
   "outputs": [
    {
     "data": {
      "text/plain": [
       "\"    \\n    # process image            \\n    img = constrast_enhance(f)\\n    # save image\\n    cv2.imwrite('/contrast/{0}'.format(file_name),img)\\n    \""
      ]
     },
     "execution_count": 2,
     "metadata": {},
     "output_type": "execute_result"
    }
   ],
   "source": [
    "import os\n",
    "import cv2\n",
    "\n",
    "\n",
    "def constrast_enhance(f):\n",
    "    img=cv2.imread(f,cv2.IMREAD_COLOR)\n",
    "    for i in range(img.shape[0]):\n",
    "        for j in range(img.shape[1]):\n",
    "            b,g,r = img[i][j]\n",
    "            \n",
    "            # range-01(<100)\n",
    "            if b<100:\n",
    "                b=0.8*b\n",
    "            if g<100:\n",
    "                g=0.8*g\n",
    "            if r<100:\n",
    "                r=0.8*r\n",
    "            # range-02（100-200）\n",
    "            if 100<=b<200:\n",
    "                b=1.3*b\n",
    "            if 100<=g<200:\n",
    "                g=1.3*g\n",
    "            if 100<=r<200:\n",
    "                r=1.3*r\n",
    "            # range-03（200-255）\n",
    "            if 200<=b<=255:\n",
    "                b=1.5*b            \n",
    "            if 200<=g<=255:\n",
    "                g=1.5*g            \n",
    "            if 200<=r<=255:\n",
    "                r=1.5*r\n",
    "            if b>255:\n",
    "                b=255\n",
    "            if g>255:\n",
    "                g=255\n",
    "            if r>255:\n",
    "                r=255\n",
    "            img[i][j] = (int(b),int(g),int(r))\n",
    "        \n",
    "    return img\n",
    "\n",
    "\n",
    "img_list = []\n",
    "\n",
    "path='test_con/'\n",
    "for f in os.listdir(path):\n",
    "    file_name = f\n",
    "    f = os.path.join(path,f)\n",
    "    img_list.append(f)\n",
    "    \n",
    "    \n",
    "'''    \n",
    "    # process image            \n",
    "    img = constrast_enhance(f)\n",
    "    # save image\n",
    "    cv2.imwrite('/contrast/{0}'.format(file_name),img)\n",
    "    '''"
   ]
  },
  {
   "cell_type": "code",
   "execution_count": 2,
   "id": "13ac97c9",
   "metadata": {},
   "outputs": [
    {
     "name": "stdout",
     "output_type": "stream",
     "text": [
      "Looking in indexes: http://mirrors.tencentyun.com/pypi/simple\n",
      "Requirement already satisfied: tqdm in /root/anaconda3/envs/env_yolo_test01_py38/lib/python3.8/site-packages (4.66.1)\n",
      "\u001b[33mWARNING: Running pip as the 'root' user can result in broken permissions and conflicting behaviour with the system package manager. It is recommended to use a virtual environment instead: https://pip.pypa.io/warnings/venv\u001b[0m\u001b[33m\n",
      "\u001b[0m"
     ]
    }
   ],
   "source": [
    "! pip install tqdm"
   ]
  },
  {
   "cell_type": "code",
   "execution_count": 8,
   "id": "c28aac55",
   "metadata": {},
   "outputs": [
    {
     "name": "stderr",
     "output_type": "stream",
     "text": [
      "  1%|█▎                                                                                                                      | 1/96 [00:58<1:33:23, 58.98s/it]\n"
     ]
    },
    {
     "ename": "KeyboardInterrupt",
     "evalue": "",
     "output_type": "error",
     "traceback": [
      "\u001b[0;31m---------------------------------------------------------------------------\u001b[0m",
      "\u001b[0;31mKeyboardInterrupt\u001b[0m                         Traceback (most recent call last)",
      "Cell \u001b[0;32mIn[8], line 6\u001b[0m\n\u001b[1;32m      1\u001b[0m \u001b[38;5;28;01mfrom\u001b[39;00m \u001b[38;5;21;01mtqdm\u001b[39;00m \u001b[38;5;28;01mimport\u001b[39;00m \u001b[38;5;241m*\u001b[39m\n\u001b[1;32m      4\u001b[0m \u001b[38;5;28;01mfor\u001b[39;00m f \u001b[38;5;129;01min\u001b[39;00m tqdm(img_list):\n\u001b[1;32m      5\u001b[0m     \u001b[38;5;66;03m# process image            \u001b[39;00m\n\u001b[0;32m----> 6\u001b[0m     img \u001b[38;5;241m=\u001b[39m \u001b[43mconstrast_enhance\u001b[49m\u001b[43m(\u001b[49m\u001b[43mf\u001b[49m\u001b[43m)\u001b[49m\n\u001b[1;32m      7\u001b[0m     \u001b[38;5;66;03m# save image\u001b[39;00m\n\u001b[1;32m      8\u001b[0m     cv2\u001b[38;5;241m.\u001b[39mimwrite(\u001b[38;5;124m'\u001b[39m\u001b[38;5;124mcontrast/\u001b[39m\u001b[38;5;132;01m{0}\u001b[39;00m\u001b[38;5;124m'\u001b[39m\u001b[38;5;241m.\u001b[39mformat(file_name),img)\n",
      "Cell \u001b[0;32mIn[5], line 36\u001b[0m, in \u001b[0;36mconstrast_enhance\u001b[0;34m(f)\u001b[0m\n\u001b[1;32m     34\u001b[0m \u001b[38;5;28;01mif\u001b[39;00m g\u001b[38;5;241m>\u001b[39m\u001b[38;5;241m255\u001b[39m:\n\u001b[1;32m     35\u001b[0m     g\u001b[38;5;241m=\u001b[39m\u001b[38;5;241m255\u001b[39m\n\u001b[0;32m---> 36\u001b[0m \u001b[38;5;28;01mif\u001b[39;00m \u001b[43mr\u001b[49m\u001b[38;5;241;43m>\u001b[39;49m\u001b[38;5;241;43m255\u001b[39;49m:\n\u001b[1;32m     37\u001b[0m     r\u001b[38;5;241m=\u001b[39m\u001b[38;5;241m255\u001b[39m\n\u001b[1;32m     38\u001b[0m img[i][j] \u001b[38;5;241m=\u001b[39m (\u001b[38;5;28mint\u001b[39m(b),\u001b[38;5;28mint\u001b[39m(g),\u001b[38;5;28mint\u001b[39m(r))\n",
      "\u001b[0;31mKeyboardInterrupt\u001b[0m: "
     ]
    }
   ],
   "source": [
    "'''from tqdm import *\n",
    "\n",
    "\n",
    "for f in tqdm(img_list):\n",
    "    # process image            \n",
    "    img = constrast_enhance(f)\n",
    "    # save image\n",
    "    cv2.imwrite('contrast/{0}'.format(file_name),img)\n",
    "'''"
   ]
  },
  {
   "cell_type": "code",
   "execution_count": null,
   "id": "3f157593",
   "metadata": {},
   "outputs": [],
   "source": []
  },
  {
   "cell_type": "code",
   "execution_count": null,
   "id": "aee317b1",
   "metadata": {},
   "outputs": [],
   "source": []
  },
  {
   "cell_type": "code",
   "execution_count": null,
   "id": "3833a982",
   "metadata": {},
   "outputs": [],
   "source": []
  },
  {
   "cell_type": "code",
   "execution_count": 3,
   "id": "f3bb4f4f",
   "metadata": {},
   "outputs": [
    {
     "name": "stderr",
     "output_type": "stream",
     "text": [
      "  0%|                                                                                                                                   | 0/3 [00:00<?, ?it/s]"
     ]
    },
    {
     "name": "stdout",
     "output_type": "stream",
     "text": [
      "completed:  test_con/1b814efc-7bf9-40ae-8e13-49dc2c04732f.jpg\n"
     ]
    },
    {
     "name": "stderr",
     "output_type": "stream",
     "text": [
      "\r",
      " 20%|████████████████████████▌                                                                                                  | 1/5 [00:41<02:45, 41.46s/it]"
     ]
    },
    {
     "name": "stdout",
     "output_type": "stream",
     "text": [
      "completed:  test_con/0346611b-ea43-45bd-9f16-c6e8086273d2.jpg\n"
     ]
    },
    {
     "name": "stderr",
     "output_type": "stream",
     "text": [
      "\r",
      " 33%|█████████████████████████████████████████                                                                                  | 1/3 [00:41<01:22, 41.48s/it]"
     ]
    },
    {
     "name": "stdout",
     "output_type": "stream",
     "text": [
      "completed:  test_con/15625643-d964-4b14-9839-c126384ae35b.jpg\n"
     ]
    },
    {
     "name": "stderr",
     "output_type": "stream",
     "text": [
      "\r",
      " 20%|████████████████████████▌                                                                                                  | 1/5 [00:41<02:46, 41.73s/it]"
     ]
    },
    {
     "name": "stdout",
     "output_type": "stream",
     "text": [
      "completed:  test_con/010961af-b38c-49de-aca0-e3732d73d414.jpg\n"
     ]
    },
    {
     "name": "stderr",
     "output_type": "stream",
     "text": [
      "\r",
      " 60%|█████████████████████████████████████████████████████████████████████████▊                                                 | 3/5 [01:22<00:51, 25.93s/it]"
     ]
    },
    {
     "name": "stdout",
     "output_type": "stream",
     "text": [
      "completed:  test_con/0a3b53c7-e7ab-4135-80aa-fd2079d727d6.jpg\n"
     ]
    },
    {
     "name": "stderr",
     "output_type": "stream",
     "text": [
      "\r",
      " 40%|█████████████████████████████████████████████████▏                                                                         | 2/5 [01:23<02:04, 41.57s/it]"
     ]
    },
    {
     "name": "stdout",
     "output_type": "stream",
     "text": [
      "completed:  test_con/0897f682-5301-49fc-a8d5-9df7762040bb.jpg\n"
     ]
    },
    {
     "name": "stderr",
     "output_type": "stream",
     "text": [
      "\r",
      " 67%|██████████████████████████████████████████████████████████████████████████████████                                         | 2/3 [01:23<00:41, 41.64s/it]"
     ]
    },
    {
     "name": "stdout",
     "output_type": "stream",
     "text": [
      "completed:  test_con/15a5849d-8bc7-4e01-938b-c1f55067787d.jpg\n"
     ]
    },
    {
     "name": "stderr",
     "output_type": "stream",
     "text": [
      "\r",
      " 80%|██████████████████████████████████████████████████████████████████████████████████████████████████▍                        | 4/5 [02:04<00:31, 31.38s/it]"
     ]
    },
    {
     "name": "stdout",
     "output_type": "stream",
     "text": [
      "completed:  test_con/03be08c8-2cf3-4de6-8ac6-5f7817a6a643.jpg\n"
     ]
    },
    {
     "name": "stderr",
     "output_type": "stream",
     "text": [
      "\r",
      " 60%|█████████████████████████████████████████████████████████████████████████▊                                                 | 3/5 [02:04<01:23, 41.65s/it]"
     ]
    },
    {
     "name": "stdout",
     "output_type": "stream",
     "text": [
      "completed:  test_con/06bbcd42-3ba8-4476-8804-8455f56dd928.jpg\n"
     ]
    },
    {
     "name": "stderr",
     "output_type": "stream",
     "text": [
      "100%|███████████████████████████████████████████████████████████████████████████████████████████████████████████████████████████| 3/3 [02:05<00:00, 41.68s/it]\n"
     ]
    },
    {
     "name": "stdout",
     "output_type": "stream",
     "text": [
      "end\n",
      "completed:  test_con/087602a2-288b-4a4d-b01a-524f0d799d89.jpg\n"
     ]
    },
    {
     "name": "stderr",
     "output_type": "stream",
     "text": [
      "100%|███████████████████████████████████████████████████████████████████████████████████████████████████████████████████████████| 5/5 [02:46<00:00, 33.27s/it]\n"
     ]
    },
    {
     "name": "stdout",
     "output_type": "stream",
     "text": [
      "completed:  test_con/0864c569-2ad7-48ed-b12a-e40aa5b93756.jpg\n"
     ]
    },
    {
     "name": "stderr",
     "output_type": "stream",
     "text": [
      "\r",
      " 80%|██████████████████████████████████████████████████████████████████████████████████████████████████▍                        | 4/5 [02:46<00:41, 41.80s/it]"
     ]
    },
    {
     "name": "stdout",
     "output_type": "stream",
     "text": [
      "completed:  test_con/0e0bc36f-6fb2-4763-b0a1-b4c67b2d2d2a.jpg\n"
     ]
    },
    {
     "name": "stderr",
     "output_type": "stream",
     "text": [
      "100%|███████████████████████████████████████████████████████████████████████████████████████████████████████████████████████████| 5/5 [03:28<00:00, 41.67s/it]\n"
     ]
    }
   ],
   "source": [
    "from multiprocessing import Process\n",
    "import time,os\n",
    "from tqdm import *\n",
    "\n",
    "\n",
    "\n",
    "def worker(fnames):\n",
    "    for f in tqdm(fnames):\n",
    "        try:\n",
    "            # process image            \n",
    "            img = constrast_enhance(f)\n",
    "            # save image\n",
    "            file_name = os.path.basename(f)\n",
    "            cv2.imwrite('contrast/{0}'.format(file_name),img)\n",
    "            print('completed: ', f)\n",
    "        except:\n",
    "            pass\n",
    "\n",
    "p_list=[]\n",
    "CPU_NUM  =  3\n",
    "k = len(img_list)//CPU_NUM+1\n",
    "\n",
    "img_list_chunks = [img_list[x:x+k] for x in range(0, len(img_list), k)]\n",
    "\n",
    "\n",
    "for i in range(CPU_NUM):\n",
    "    p = Process(target=worker, args=(img_list_chunks[i],))\n",
    "    p_list.append(p)\n",
    "    p.start()\n",
    "for i in p_list:\n",
    "    p.join()\n",
    "print('end')\n"
   ]
  },
  {
   "cell_type": "code",
   "execution_count": null,
   "id": "49b8be53",
   "metadata": {},
   "outputs": [],
   "source": []
  },
  {
   "cell_type": "code",
   "execution_count": null,
   "id": "28ffef62",
   "metadata": {},
   "outputs": [],
   "source": []
  },
  {
   "cell_type": "code",
   "execution_count": 7,
   "id": "0f0e2d8c",
   "metadata": {},
   "outputs": [
    {
     "name": "stdout",
     "output_type": "stream",
     "text": [
      "96\n"
     ]
    },
    {
     "name": "stderr",
     "output_type": "stream",
     "text": [
      "[ WARN:0@669.937] global loadsave.cpp:248 findDecoder imread_('test_con/b6fe541f-3be2-41a8-8124-757fc1ad875e.jpg'): can't open/read file: check file path/integrity\n"
     ]
    }
   ],
   "source": [
    "s = 0\n",
    "for chunk in img_list_chunks:\n",
    "    s += len(chunk)\n",
    "    \n",
    "print(s)"
   ]
  },
  {
   "cell_type": "code",
   "execution_count": null,
   "id": "e484bceb",
   "metadata": {},
   "outputs": [],
   "source": []
  },
  {
   "cell_type": "code",
   "execution_count": null,
   "id": "8daf3b31",
   "metadata": {},
   "outputs": [],
   "source": []
  },
  {
   "cell_type": "code",
   "execution_count": null,
   "id": "c477605d",
   "metadata": {},
   "outputs": [],
   "source": []
  },
  {
   "cell_type": "code",
   "execution_count": null,
   "id": "97072b28",
   "metadata": {},
   "outputs": [],
   "source": []
  },
  {
   "cell_type": "code",
   "execution_count": null,
   "id": "55e6fc89",
   "metadata": {},
   "outputs": [],
   "source": [
    "           ''' b,g,r = img[i][j]# get bgr\n",
    "            if 0<b<100,b=0.9 \n",
    "            100<b<200 b=1.4\n",
    "            200<b<255 b=5/55\n",
    "            b,g,r = 255-b,255-g,255-r# calculate bgr\n",
    "            img[i][j] = (b,g,r)# set bgr'''"
   ]
  },
  {
   "cell_type": "code",
   "execution_count": 15,
   "id": "69b4efdd",
   "metadata": {},
   "outputs": [],
   "source": [
    "img_orig=cv2.imread('output_test/constrast_enhance_image/997eabd9-55bf-4683-83c4-4cee4673a4ef-orig.png',cv2.IMREAD_COLOR)\n",
    "img_dst=cv2.imread('output_test/constrast_enhance_image/997eabd9-55bf-4683-83c4-4cee4673a4ef-dst.png',cv2.IMREAD_COLOR)\n",
    "\n",
    "for i in range(img_orig.shape[0]):\n",
    "    for j in range(img_orig.shape[1]):\n",
    "        b1,g1,r1 = img_orig[i][j]\n",
    "        b2,g2,r2 = img_dst[i][j]\n",
    "        if b1!=b2 or g1!=g2 or r1!=r2:\n",
    "            print('original: {0}, dst: {}'.format())"
   ]
  }
 ],
 "metadata": {
  "kernelspec": {
   "display_name": "Python 3 (ipykernel)",
   "language": "python",
   "name": "python3"
  },
  "language_info": {
   "codemirror_mode": {
    "name": "ipython",
    "version": 3
   },
   "file_extension": ".py",
   "mimetype": "text/x-python",
   "name": "python",
   "nbconvert_exporter": "python",
   "pygments_lexer": "ipython3",
   "version": "3.8.17"
  }
 },
 "nbformat": 4,
 "nbformat_minor": 5
}
