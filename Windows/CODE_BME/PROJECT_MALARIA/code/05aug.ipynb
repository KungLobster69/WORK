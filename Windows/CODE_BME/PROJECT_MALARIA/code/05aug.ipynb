{
 "cells": [
  {
   "cell_type": "code",
   "execution_count": 2,
   "id": "b1e10c3e",
   "metadata": {},
   "outputs": [
    {
     "name": "stdout",
     "output_type": "stream",
     "text": [
      "Looking in indexes: http://mirrors.tencentyun.com/pypi/simple\n",
      "Collecting protobuf==3.20\n",
      "  Downloading http://mirrors.tencentyun.com/pypi/packages/88/88/cd55f87e896b82a3aba8e6c0affc077de51f7321cf730622b17ef7b0f69c/protobuf-3.20.0-cp38-cp38-manylinux_2_5_x86_64.manylinux1_x86_64.whl (1.0 MB)\n",
      "\u001b[2K     \u001b[90m━━━━━━━━━━━━━━━━━━━━━━━━━━━━━━━━━━━━━━━━\u001b[0m \u001b[32m1.0/1.0 MB\u001b[0m \u001b[31m1.7 MB/s\u001b[0m eta \u001b[36m0:00:00\u001b[0m00:01\u001b[0m00:01\u001b[0m0m\n",
      "\u001b[?25hInstalling collected packages: protobuf\n",
      "  Attempting uninstall: protobuf\n",
      "    Found existing installation: protobuf 4.24.3\n",
      "    Uninstalling protobuf-4.24.3:\n",
      "      Successfully uninstalled protobuf-4.24.3\n",
      "Successfully installed protobuf-3.20.0\n",
      "\u001b[33mWARNING: Running pip as the 'root' user can result in broken permissions and conflicting behaviour with the system package manager. It is recommended to use a virtual environment instead: https://pip.pypa.io/warnings/venv\u001b[0m\u001b[33m\n",
      "\u001b[0mNote: you may need to restart the kernel to use updated packages.\n"
     ]
    }
   ],
   "source": [
    "pip install protobuf==3.20"
   ]
  },
  {
   "cell_type": "code",
   "execution_count": 2,
   "id": "d573de1d",
   "metadata": {},
   "outputs": [
    {
     "name": "stdout",
     "output_type": "stream",
     "text": [
      "Looking in indexes: http://mirrors.tencentyun.com/pypi/simple\n",
      "Collecting numpy==1.18.5\n",
      "  Using cached http://mirrors.tencentyun.com/pypi/packages/01/c6/87592f924246da1e58673cf708a2748754517c5cf050726238d6cfbd8df4/numpy-1.18.5-cp38-cp38-manylinux1_x86_64.whl (20.6 MB)\n",
      "Installing collected packages: numpy\n",
      "  Attempting uninstall: numpy\n",
      "    Found existing installation: numpy 1.19.0\n",
      "    Uninstalling numpy-1.19.0:\n",
      "      Successfully uninstalled numpy-1.19.0\n",
      "\u001b[31mERROR: pip's dependency resolver does not currently take into account all the packages that are installed. This behaviour is the source of the following dependency conflicts.\n",
      "matplotlib 3.7.3 requires numpy<2,>=1.20, but you have numpy 1.18.5 which is incompatible.\n",
      "numba 0.57.1 requires numpy<1.25,>=1.21, but you have numpy 1.18.5 which is incompatible.\n",
      "pandas 2.0.3 requires numpy>=1.20.3; python_version < \"3.10\", but you have numpy 1.18.5 which is incompatible.\n",
      "scikit-image 0.21.0 requires numpy>=1.21.1, but you have numpy 1.18.5 which is incompatible.\n",
      "scikit-image 0.21.0 requires scipy>=1.8, but you have scipy 1.4.1 which is incompatible.\n",
      "scikit-learn 1.3.0 requires scipy>=1.5.0, but you have scipy 1.4.1 which is incompatible.\u001b[0m\u001b[31m\n",
      "\u001b[0mSuccessfully installed numpy-1.18.5\n",
      "\u001b[33mWARNING: Running pip as the 'root' user can result in broken permissions and conflicting behaviour with the system package manager. It is recommended to use a virtual environment instead: https://pip.pypa.io/warnings/venv\u001b[0m\u001b[33m\n",
      "\u001b[0m"
     ]
    }
   ],
   "source": [
    "! pip install numpy==1.18.5"
   ]
  },
  {
   "cell_type": "markdown",
   "id": "13158c9d",
   "metadata": {},
   "source": [
    "# 0. aug test"
   ]
  },
  {
   "cell_type": "code",
   "execution_count": 92,
   "id": "fe77152b",
   "metadata": {},
   "outputs": [],
   "source": [
    "from keras.preprocessing.image import ImageDataGenerator, load_img, img_to_array\n",
    "import os\n",
    "\n",
    "\n",
    "def augment_one_image(img_file_path, dst_dir, num):\n",
    "    image_data_gen =  ImageDataGenerator(\n",
    "        rotation_range=150,\n",
    "        width_shift_range=0.1,\n",
    "        height_shift_range=0.1,\n",
    "        zoom_range = 0.1,\n",
    "        shear_range=0,\n",
    "        horizontal_flip=True\n",
    "    )\n",
    "\n",
    "    p = img_file_path\n",
    "    img = load_img( p )\n",
    "\n",
    "    img_array = img_to_array(img)\n",
    "    img_array = img_array.reshape( (1, img_array.shape[0], img_array.shape[1], img_array.shape[2]) )\n",
    "\n",
    "    i = 0\n",
    "    prefix='aug__'+os.path.basename(p).replace('.png','')\n",
    "    for batch in image_data_gen.flow(img_array, batch_size=1,save_to_dir=dst_dir, save_prefix=prefix, save_format='png'):\n",
    "        i = i+1\n",
    "        if i>=num:\n",
    "            break\n"
   ]
  },
  {
   "cell_type": "code",
   "execution_count": null,
   "id": "ac009e30",
   "metadata": {},
   "outputs": [],
   "source": []
  },
  {
   "cell_type": "code",
   "execution_count": null,
   "id": "77e0c024",
   "metadata": {},
   "outputs": [],
   "source": []
  },
  {
   "cell_type": "code",
   "execution_count": null,
   "id": "b5eac88c",
   "metadata": {},
   "outputs": [],
   "source": []
  },
  {
   "cell_type": "markdown",
   "id": "e8a0ab1a",
   "metadata": {},
   "source": [
    "# 1. no-padding-resize"
   ]
  },
  {
   "cell_type": "code",
   "execution_count": 93,
   "id": "bfd25384",
   "metadata": {},
   "outputs": [],
   "source": [
    "import os\n",
    "\n",
    "dist = {}\n",
    "src = 'cell_data20/'\n",
    "for d in os.listdir(src):\n",
    "    y = d.split('___')[2].replace('.png', '')\n",
    "    if y not in dist:\n",
    "        dist[y] = 0\n",
    "    dist[y] += 1"
   ]
  },
  {
   "cell_type": "code",
   "execution_count": 94,
   "id": "0a3444f6",
   "metadata": {},
   "outputs": [
    {
     "data": {
      "text/plain": [
       "{'red_blood_cell': 2407,\n",
       " 'schizont': 10,\n",
       " 'trophozoite': 23,\n",
       " 'gametocyte': 7,\n",
       " 'ring': 1}"
      ]
     },
     "execution_count": 94,
     "metadata": {},
     "output_type": "execute_result"
    }
   ],
   "source": [
    "dist"
   ]
  },
  {
   "cell_type": "code",
   "execution_count": 95,
   "id": "8d46b2ed",
   "metadata": {},
   "outputs": [
    {
     "name": "stderr",
     "output_type": "stream",
     "text": [
      "100%|█████████████████████████████████████| 2448/2448 [00:00<00:00, 8966.88it/s]\n"
     ]
    }
   ],
   "source": [
    "from shutil import copyfile\n",
    "from tqdm import *\n",
    "\n",
    "\n",
    "dst = 'cell_data23/'\n",
    "\n",
    "for d in tqdm(os.listdir(src)):\n",
    "    fp_src = os.path.join(src, d)\n",
    "    fp_dst = os.path.join(dst, d)\n",
    "    y = d.split('___')[2].replace('.png', '')\n",
    "    if y=='red_blood_cell':\n",
    "        copyfile(fp_src,fp_dst)"
   ]
  },
  {
   "cell_type": "code",
   "execution_count": 96,
   "id": "e9f2f3de",
   "metadata": {},
   "outputs": [
    {
     "name": "stderr",
     "output_type": "stream",
     "text": [
      "100%|███████████████████████████████████████| 2448/2448 [04:59<00:00,  8.17it/s]\n"
     ]
    }
   ],
   "source": [
    "# one process, too slow\n",
    "from shutil import copyfile\n",
    "from tqdm import *\n",
    "\n",
    "\n",
    "dst = 'cell_data23/'\n",
    "\n",
    "for d in tqdm(os.listdir(src)):\n",
    "    fp_src = os.path.join(src, d)\n",
    "    fp_dst = os.path.join(dst, d)\n",
    "    y = d.split('___')[2].replace('.png', '')\n",
    "    if y=='red_blood_cell' or y=='difficult':\n",
    "        continue\n",
    "    else:\n",
    "        num_now = dist[y]\n",
    "        num = dist['red_blood_cell']//num_now\n",
    "        augment_one_image(fp_src, dst, num)"
   ]
  },
  {
   "cell_type": "code",
   "execution_count": 97,
   "id": "b3939170",
   "metadata": {},
   "outputs": [
    {
     "data": {
      "text/plain": [
       "{'red': 2407,\n",
       " 'schizont': 2374,\n",
       " 'gametocyte': 2364,\n",
       " 'trophozoite': 2381,\n",
       " 'ring': 2130}"
      ]
     },
     "execution_count": 97,
     "metadata": {},
     "output_type": "execute_result"
    }
   ],
   "source": [
    "# check aug result\n",
    "import os\n",
    "\n",
    "dist = {}\n",
    "src = 'cell_data23/'\n",
    "for d in os.listdir(src):\n",
    "    y = d.split('___')[2].replace('.png', '').split('_')[0]\n",
    "    if y not in dist:\n",
    "        dist[y] = 0\n",
    "    dist[y] += 1\n",
    "    \n",
    "dist"
   ]
  },
  {
   "cell_type": "code",
   "execution_count": null,
   "id": "5fd85e34",
   "metadata": {},
   "outputs": [],
   "source": []
  },
  {
   "cell_type": "code",
   "execution_count": null,
   "id": "11d18e6d",
   "metadata": {},
   "outputs": [],
   "source": []
  },
  {
   "cell_type": "code",
   "execution_count": null,
   "id": "57ad9b63",
   "metadata": {},
   "outputs": [],
   "source": []
  },
  {
   "cell_type": "code",
   "execution_count": null,
   "id": "dc53e561",
   "metadata": {},
   "outputs": [],
   "source": []
  },
  {
   "cell_type": "code",
   "execution_count": null,
   "id": "26174541",
   "metadata": {},
   "outputs": [],
   "source": []
  },
  {
   "cell_type": "code",
   "execution_count": null,
   "id": "ab2e178b",
   "metadata": {},
   "outputs": [],
   "source": []
  },
  {
   "cell_type": "code",
   "execution_count": 24,
   "id": "facd9f30",
   "metadata": {},
   "outputs": [
    {
     "name": "stderr",
     "output_type": "stream",
     "text": [
      "100%|█████████████████████████████████████████████████████████████████████████████████████████████████████████████████| 2918/2918 [00:00<00:00, 330078.46it/s]\n"
     ]
    }
   ],
   "source": [
    "# multiple processes\n",
    "from shutil import copyfile\n",
    "from tqdm import *\n",
    "\n",
    "\n",
    "dst = 'cell_data7/'\n",
    "task_para_list = []\n",
    "\n",
    "\n",
    "for d in tqdm(os.listdir(src)):\n",
    "    fp_src = os.path.join(src, d)\n",
    "    y = d.split('___')[2].replace('.png', '')\n",
    "    if y=='red_blood_cell' or y=='difficult':\n",
    "        continue\n",
    "    else:\n",
    "        num_now = dist[y]\n",
    "        num = dist['red_blood_cell']//num_now\n",
    "        task_para_list.append( (fp_src, dst, num) )"
   ]
  },
  {
   "cell_type": "code",
   "execution_count": 22,
   "id": "572b0959",
   "metadata": {},
   "outputs": [
    {
     "data": {
      "text/plain": [
       "61"
      ]
     },
     "execution_count": 22,
     "metadata": {},
     "output_type": "execute_result"
    }
   ],
   "source": [
    "len(task_para_list)"
   ]
  },
  {
   "cell_type": "code",
   "execution_count": 23,
   "id": "60bb41c8",
   "metadata": {},
   "outputs": [],
   "source": [
    "import time\n",
    "from multiprocessing import Process\n",
    "import os\n",
    "\n",
    "\n",
    "thnum = 8\n",
    "\n",
    "def runs(sub_task_para_list):\n",
    "    for xxx in sub_task_para_list:\n",
    "        fp_src, dst, num = xxx\n",
    "        augment_one_image(fp_src, dst, num)\n",
    "        \n",
    "n = len(task_para_list)//thnum\n",
    "for i in range(thnum):\n",
    "    p = Process(target=runs, args=(task_para_list[i*n:(i+1)*n],))  # target进程执行的任务, args传参数（元祖）\n",
    "    p.start() "
   ]
  },
  {
   "cell_type": "code",
   "execution_count": 42,
   "id": "769c7a80",
   "metadata": {},
   "outputs": [
    {
     "data": {
      "text/plain": [
       "{'ring': 2610, 'trophozoite': 2778, 'schizont': 2816, 'gametocyte': 2100}"
      ]
     },
     "execution_count": 42,
     "metadata": {},
     "output_type": "execute_result"
    }
   ],
   "source": [
    "# check aug result\n",
    "import os\n",
    "\n",
    "dist = {}\n",
    "src = 'cell_data6/'\n",
    "for d in os.listdir(src):\n",
    "    y = d.split('___')[2].replace('.png', '').split('_')[0]\n",
    "    if y not in dist:\n",
    "        dist[y] = 0\n",
    "    dist[y] += 1\n",
    "    \n",
    "dist"
   ]
  },
  {
   "cell_type": "code",
   "execution_count": null,
   "id": "2fcefdba",
   "metadata": {},
   "outputs": [],
   "source": []
  },
  {
   "cell_type": "code",
   "execution_count": null,
   "id": "e3d315fb",
   "metadata": {},
   "outputs": [],
   "source": []
  },
  {
   "cell_type": "code",
   "execution_count": null,
   "id": "eca993f3",
   "metadata": {},
   "outputs": [],
   "source": []
  },
  {
   "cell_type": "code",
   "execution_count": null,
   "id": "c7457c39",
   "metadata": {},
   "outputs": [],
   "source": []
  }
 ],
 "metadata": {
  "kernelspec": {
   "display_name": "Python 3 (ipykernel)",
   "language": "python",
   "name": "python3"
  },
  "language_info": {
   "codemirror_mode": {
    "name": "ipython",
    "version": 3
   },
   "file_extension": ".py",
   "mimetype": "text/x-python",
   "name": "python",
   "nbconvert_exporter": "python",
   "pygments_lexer": "ipython3",
   "version": "3.8.19"
  }
 },
 "nbformat": 4,
 "nbformat_minor": 5
}
