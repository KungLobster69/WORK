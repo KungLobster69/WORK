{
 "cells": [
  {
   "cell_type": "code",
   "execution_count": null,
   "id": "0f55deff",
   "metadata": {},
   "outputs": [],
   "source": []
  },
  {
   "cell_type": "markdown",
   "id": "3d2fcc59",
   "metadata": {},
   "source": [
    "# 1. statistic"
   ]
  },
  {
   "cell_type": "code",
   "execution_count": 3,
   "id": "1ecf0e35",
   "metadata": {},
   "outputs": [
    {
     "name": "stdout",
     "output_type": "stream",
     "text": [
      "(116, 115, 3)\n"
     ]
    }
   ],
   "source": [
    "import cv2,os\n",
    "import numpy as np\n",
    "\n",
    "p = '../malaria_small/cell_data/d7581cb0-7a12-471d-a3d8-68dcea362213___10___red_blood_cell.png'\n",
    "# read image\n",
    "img = cv2.imread(p, cv2.IMREAD_COLOR)# IMREAD_GRAYSCALE, IMREAD_COLOR\n",
    "print(img.shape)\n",
    "\n"
   ]
  },
  {
   "cell_type": "code",
   "execution_count": 11,
   "id": "c8ece83f",
   "metadata": {},
   "outputs": [
    {
     "name": "stderr",
     "output_type": "stream",
     "text": [
      "100%|████████████████████████████████████████████████████████████████████████████████████████████████████████████████████| 5765/5765 [00:09<00:00, 584.74it/s]\n"
     ]
    }
   ],
   "source": [
    "from tqdm import *\n",
    "\n",
    "width_list = []\n",
    "height_list = []\n",
    "\n",
    "p1 = '../malaria_small/cell_data/'\n",
    "for p2 in tqdm(os.listdir(p1)):\n",
    "    p3 = os.path.join(p1,p2)\n",
    "    img = cv2.imread(p3, cv2.IMREAD_COLOR)# IMREAD_GRAYSCALE, IMREAD_COLOR\n",
    "    w = img.shape[0]\n",
    "    h = img.shape[1]\n",
    "    width_list.append(w)\n",
    "    height_list.append(h)"
   ]
  },
  {
   "cell_type": "code",
   "execution_count": 12,
   "id": "6fbb9d98",
   "metadata": {},
   "outputs": [
    {
     "data": {
      "text/plain": [
       "{'whiskers': [<matplotlib.lines.Line2D at 0x7f14f0e5d1c0>,\n",
       "  <matplotlib.lines.Line2D at 0x7f14f0e5d550>],\n",
       " 'caps': [<matplotlib.lines.Line2D at 0x7f14f0e5d8e0>,\n",
       "  <matplotlib.lines.Line2D at 0x7f14f0e5dc70>],\n",
       " 'boxes': [<matplotlib.lines.Line2D at 0x7f14f0eccdf0>],\n",
       " 'medians': [<matplotlib.lines.Line2D at 0x7f14f0e69040>],\n",
       " 'fliers': [<matplotlib.lines.Line2D at 0x7f14f0e693d0>],\n",
       " 'means': []}"
      ]
     },
     "execution_count": 12,
     "metadata": {},
     "output_type": "execute_result"
    },
    {
     "data": {
      "image/png": "[encoded data removed]",
      "text/plain": [
       "<Figure size 432x288 with 2 Axes>"
      ]
     },
     "metadata": {
      "needs_background": "light"
     },
     "output_type": "display_data"
    }
   ],
   "source": [
    "import matplotlib.pyplot as plt\n",
    "\n",
    "plt.subplot(121)\n",
    "plt.boxplot(width_list)\n",
    "\n",
    "plt.subplot(122)\n",
    "plt.boxplot(height_list)\n"
   ]
  },
  {
   "cell_type": "markdown",
   "id": "15f66066",
   "metadata": {},
   "source": [
    "# 2. resize"
   ]
  },
  {
   "cell_type": "code",
   "execution_count": 19,
   "id": "9bbdedf5",
   "metadata": {},
   "outputs": [
    {
     "name": "stderr",
     "output_type": "stream",
     "text": [
      "100%|████████████████████████████████████████████████████████████████████████████████████████████████████████████████████| 5765/5765 [00:20<00:00, 278.95it/s]\n"
     ]
    }
   ],
   "source": [
    "p1 = '../malaria_small/cell_data/'\n",
    "for p2 in tqdm(os.listdir(p1)):\n",
    "    p3 = os.path.join(p1,p2)\n",
    "    img = cv2.imread(p3, cv2.IMREAD_COLOR)# IMREAD_GRAYSCALE, IMREAD_COLOdim = (width, height)\n",
    "    # resize image\n",
    "    dim = (120,120)\n",
    "    resized = cv2.resize(img, dim, interpolation = cv2.INTER_LANCZOS4)\n",
    "    filename_dst = p3.replace(\"cell_data\",\"cell_data_resize\")\n",
    "    cv2.imwrite( filename_dst, resized )"
   ]
  },
  {
   "cell_type": "code",
   "execution_count": null,
   "id": "1189bab1",
   "metadata": {},
   "outputs": [],
   "source": []
  },
  {
   "cell_type": "markdown",
   "id": "e79963d0",
   "metadata": {},
   "source": [
    "# 3. dataset"
   ]
  },
  {
   "cell_type": "code",
   "execution_count": 25,
   "id": "292fe9c8",
   "metadata": {},
   "outputs": [
    {
     "name": "stderr",
     "output_type": "stream",
     "text": [
      "100%|█████████████████████████████████████████████████████████████████████████████████████████████████████████████████| 5765/5765 [00:00<00:00, 408104.01it/s]"
     ]
    },
    {
     "name": "stdout",
     "output_type": "stream",
     "text": [
      "{'red_blood_cell': 5541, 'difficult': 38, 'trophozoite': 107, 'gametocyte': 18, 'ring': 36, 'leukocyte': 7, 'schizont': 18}\n"
     ]
    },
    {
     "name": "stderr",
     "output_type": "stream",
     "text": [
      "\n"
     ]
    }
   ],
   "source": [
    "p1 = '../malaria_small/cell_data_resize/'\n",
    "label_to_count = {}\n",
    "for p2 in tqdm(os.listdir(p1)):\n",
    "    p3 = os.path.join(p1,p2)\n",
    "    label = p3.split('___')[2].split('.')[0]\n",
    "    if label not in label_to_count:\n",
    "        label_to_count[label] = 0\n",
    "    label_to_count[label]+=1\n",
    "    \n",
    "print(label_to_count)"
   ]
  },
  {
   "cell_type": "code",
   "execution_count": null,
   "id": "ac01de95",
   "metadata": {},
   "outputs": [
    {
     "name": "stderr",
     "output_type": "stream",
     "text": [
      " 34%|███████████████████████████████████████▌                                                                            | 1964/5765 [00:03<00:06, 545.58it/s]"
     ]
    }
   ],
   "source": [
    "import joblib as jl\n",
    "import numpy as np\n",
    "\n",
    "category_to_int = {'red_blood_cell': 0, 'difficult': 1, 'schizont': 2, 'ring': 3, 'trophozoite': 4, 'gametocyte': 5, 'leukocyte': 6}\n",
    "\n",
    "\n",
    "x_data = []\n",
    "y_data = []\n",
    "\n",
    "p1 = '../malaria_small/cell_data_resize/'\n",
    "for p2 in tqdm(os.listdir(p1)):\n",
    "    p3 = os.path.join(p1,p2)\n",
    "    img = cv2.imread(p3, cv2.IMREAD_COLOR)# IMREAD_GRAYSCALE, IMREAD_COLOdim = (width, height)\n",
    "    label = p3.split('___')[2].split('.')[0]\n",
    "    y = category_to_int[label]\n",
    "    x_data.append(img)\n",
    "    y_data.append(y)\n",
    "    \n",
    "    \n",
    "x_data = np.array(x_data)\n",
    "y_data = np.array(y_data)\n",
    "\n",
    "print(x_data.shape, y_data.shape)"
   ]
  },
  {
   "cell_type": "code",
   "execution_count": null,
   "id": "8e3eb032",
   "metadata": {},
   "outputs": [],
   "source": []
  },
  {
   "cell_type": "code",
   "execution_count": null,
   "id": "14ff948e",
   "metadata": {},
   "outputs": [],
   "source": []
  }
 ],
 "metadata": {
  "kernelspec": {
   "display_name": "Python 3 (ipykernel)",
   "language": "python",
   "name": "python3"
  },
  "language_info": {
   "codemirror_mode": {
    "name": "ipython",
    "version": 3
   },
   "file_extension": ".py",
   "mimetype": "text/x-python",
   "name": "python",
   "nbconvert_exporter": "python",
   "pygments_lexer": "ipython3",
   "version": "3.8.11"
  }
 },
 "nbformat": 4,
 "nbformat_minor": 5
}
