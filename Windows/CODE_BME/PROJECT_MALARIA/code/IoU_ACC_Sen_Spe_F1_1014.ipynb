{
 "cells": [
  {
   "cell_type": "markdown",
   "id": "e5e2035a",
   "metadata": {},
   "source": [
    "# steps\n",
    "\n",
    "1. run get_img_to_yolo_ouput.py.ipynb, get true values (image_to_cells_true.jl)\n",
    "2. run detect_server_1007/ev.py, get pred values (image_to_cells_pred.jl)\n",
    "3. iou\n",
    "4. acc"
   ]
  },
  {
   "cell_type": "markdown",
   "id": "93f83fdd",
   "metadata": {},
   "source": [
    "# 1. test"
   ]
  },
  {
   "cell_type": "code",
   "execution_count": 63,
   "id": "21d97e51",
   "metadata": {},
   "outputs": [],
   "source": [
    "import joblib as jl\n",
    "\n",
    "image_to_cells_true = jl.load('image_to_cells_true.jl')\n",
    "image_to_cells_pred = jl.load('image_to_cells_pred.jl')"
   ]
  },
  {
   "cell_type": "code",
   "execution_count": 64,
   "id": "c7756655",
   "metadata": {},
   "outputs": [
    {
     "data": {
      "text/plain": [
       "(dict, 1328, dict, 10)"
      ]
     },
     "execution_count": 64,
     "metadata": {},
     "output_type": "execute_result"
    }
   ],
   "source": [
    "type(image_to_cells_true),len(image_to_cells_true),type(image_to_cells_pred),len(image_to_cells_pred)"
   ]
  },
  {
   "cell_type": "code",
   "execution_count": 65,
   "id": "919dc2d8",
   "metadata": {},
   "outputs": [
    {
     "data": {
      "text/plain": [
       "([(457, 233, 580, 354),\n",
       "  (473, 370, 603, 490),\n",
       "  (1009, 317, 1130, 439),\n",
       "  (1153, 370, 1271, 483),\n",
       "  (365, 634, 479, 749)],\n",
       " 312)"
      ]
     },
     "execution_count": 65,
     "metadata": {},
     "output_type": "execute_result"
    }
   ],
   "source": [
    "image_to_cells_pred['0dcca702-a4ef-4fb3-a940-9c0c140b21c7.png'][:5],len(image_to_cells_pred['0dcca702-a4ef-4fb3-a940-9c0c140b21c7.png'])"
   ]
  },
  {
   "cell_type": "code",
   "execution_count": 66,
   "id": "9ffbc6bd",
   "metadata": {},
   "outputs": [
    {
     "data": {
      "text/plain": [
       "([(455.0, 230.0, 582.0, 352.0),\n",
       "  (587.0, 818.0, 709.0, 930.0),\n",
       "  (1006.0, 315.0, 1128.0, 439.0),\n",
       "  (869.0, 334.0, 994.0, 454.0),\n",
       "  (364.0, 633.0, 479.0, 751.0)],\n",
       " 92)"
      ]
     },
     "execution_count": 66,
     "metadata": {},
     "output_type": "execute_result"
    }
   ],
   "source": [
    "image_to_cells_true['0dcca702-a4ef-4fb3-a940-9c0c140b21c7.png'][:5],len(image_to_cells_true['0dcca702-a4ef-4fb3-a940-9c0c140b21c7.png'])"
   ]
  },
  {
   "cell_type": "markdown",
   "id": "3f947f67",
   "metadata": {},
   "source": [
    "# 2. calculation iou"
   ]
  },
  {
   "cell_type": "code",
   "execution_count": 67,
   "id": "2e31aa38",
   "metadata": {},
   "outputs": [],
   "source": [
    "def get_iou(c1, c2):\n",
    "    x1_min,y1_min,x1_max,y1_max = c1\n",
    "    x2_min,y2_min,x2_max,y2_max = c2\n",
    "    left_column_max = max(x1_min,x2_min)\n",
    "    right_column_min = min(x1_max,x2_max)\n",
    "    up_row_max = max(y1_min,y2_min)\n",
    "    down_row_min = min(y1_max,y2_max)\n",
    "    if left_column_max>=right_column_min or up_row_max>=down_row_min:\n",
    "        return 0\n",
    "        \n",
    "    area_cross = (right_column_min-left_column_max)*(down_row_min-up_row_max)\n",
    "    area_s1 = (x1_max-x1_min)*(y1_max-y1_min)\n",
    "    area_s2= (x2_max-x2_min)*(y2_max-y2_min)\n",
    "    return area_cross/(area_s1+area_s2-area_cross)"
   ]
  },
  {
   "cell_type": "code",
   "execution_count": 68,
   "id": "ad8b7b43",
   "metadata": {},
   "outputs": [
    {
     "name": "stdout",
     "output_type": "stream",
     "text": [
      "0\n",
      "0.14285714285714285\n"
     ]
    }
   ],
   "source": [
    "# test\n",
    "r1=(2,3,10,12)\n",
    "r2=(12,5,20,24)\n",
    "\n",
    "print(get_iou(r1,r2))\n",
    "\n",
    "r1=(2,2,4,4)\n",
    "r2=(3,3,5,5)\n",
    "print(get_iou(r1,r2))\n",
    "\n"
   ]
  },
  {
   "cell_type": "markdown",
   "id": "dde995ba",
   "metadata": {},
   "source": [
    "# 3. iteration each pred"
   ]
  },
  {
   "cell_type": "code",
   "execution_count": 69,
   "id": "51839c5d",
   "metadata": {},
   "outputs": [],
   "source": [
    "import joblib as jl\n",
    "\n",
    "def get_correct_pred_cell_count(image_name):\n",
    "    image_to_cells_true = jl.load('image_to_cells_true.jl')\n",
    "    image_to_cells_pred = jl.load('image_to_cells_pred.jl')\n",
    "    cells_pred = image_to_cells_pred[image_name]\n",
    "    cells_true = image_to_cells_true[image_name]\n",
    "    \n",
    "    dup_true_cells = []\n",
    "    correct_pred_count = 0\n",
    "    for cell_pred in cells_pred:\n",
    "        for cell_true in cells_true:\n",
    "            iou = get_iou(cell_pred, cell_true)\n",
    "            if iou>0.8 and cell_true not in dup_true_cells:\n",
    "                correct_pred_count+=1\n",
    "                dup_true_cells.append(cell_true)\n",
    "                break\n",
    "    return correct_pred_count"
   ]
  },
  {
   "cell_type": "code",
   "execution_count": 70,
   "id": "afe1835f",
   "metadata": {},
   "outputs": [
    {
     "data": {
      "text/plain": [
       "79"
      ]
     },
     "execution_count": 70,
     "metadata": {},
     "output_type": "execute_result"
    }
   ],
   "source": [
    "get_correct_pred_cell_count('0dcca702-a4ef-4fb3-a940-9c0c140b21c7.png')"
   ]
  },
  {
   "cell_type": "code",
   "execution_count": 71,
   "id": "be8f3401",
   "metadata": {},
   "outputs": [
    {
     "name": "stdout",
     "output_type": "stream",
     "text": [
      "processing 065af549-320a-4862-b92a-8ef750d7b5fb.png\n",
      "processing 0dcca702-a4ef-4fb3-a940-9c0c140b21c7.png\n",
      "processing 10be6380-cbbb-4886-8b9e-ff56b1710576.png\n",
      "processing 13099edb-35d9-438f-b093-2cf2ebf9d255.png\n",
      "processing 2559636b-f01a-4414-93da-210c3b12d153.png\n",
      "processing 67acd5bc-4658-4c6e-a9b9-cd8ea3a03418.png\n",
      "processing 6b14c855-8561-417c-97a4-63fa552842fd.png\n",
      "processing 7c66d2fd-68ee-4628-b860-9d7ad25b2a80.png\n",
      "processing 84c88143-940d-4b62-bbd2-7acc4cadcb6b.png\n",
      "processing 8d02117d-6c71-4e47-b50a-6cc8d5eb1d55.png\n"
     ]
    }
   ],
   "source": [
    "image_to_cells_pred = jl.load('image_to_cells_pred.jl')\n",
    "all_cell_num_pred = 0\n",
    "all_cell_num_pred_correct = 0\n",
    "for image_name in image_to_cells_pred:\n",
    "    print('processing {0}'.format(image_name))\n",
    "    cell_num_pred = len(image_to_cells_pred[image_name])\n",
    "    cell_num_pred_correct = get_correct_pred_cell_count(image_name)\n",
    "    all_cell_num_pred+=cell_num_pred\n",
    "    all_cell_num_pred_correct+=cell_num_pred_correct\n",
    "acc = all_cell_num_pred_correct/all_cell_num_pred"
   ]
  },
  {
   "cell_type": "code",
   "execution_count": 72,
   "id": "27ca8216",
   "metadata": {},
   "outputs": [
    {
     "name": "stdout",
     "output_type": "stream",
     "text": [
      "0.25422138836772984\n"
     ]
    }
   ],
   "source": [
    "print(acc)"
   ]
  },
  {
   "cell_type": "code",
   "execution_count": null,
   "id": "4f5ff8b0",
   "metadata": {},
   "outputs": [],
   "source": []
  }
 ],
 "metadata": {
  "kernelspec": {
   "display_name": "Python 3 (ipykernel)",
   "language": "python",
   "name": "python3"
  },
  "language_info": {
   "codemirror_mode": {
    "name": "ipython",
    "version": 3
   },
   "file_extension": ".py",
   "mimetype": "text/x-python",
   "name": "python",
   "nbconvert_exporter": "python",
   "pygments_lexer": "ipython3",
   "version": "3.8.11"
  }
 },
 "nbformat": 4,
 "nbformat_minor": 5
}
