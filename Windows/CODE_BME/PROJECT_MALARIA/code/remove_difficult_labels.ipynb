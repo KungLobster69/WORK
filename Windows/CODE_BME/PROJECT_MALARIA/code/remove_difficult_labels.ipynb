{
 "cells": [
  {
   "cell_type": "code",
   "execution_count": null,
   "id": "2c87e3ad",
   "metadata": {},
   "outputs": [],
   "source": []
  },
  {
   "cell_type": "code",
   "execution_count": 3,
   "id": "fc86d3a0",
   "metadata": {},
   "outputs": [],
   "source": [
    "import json\n",
    "import os\n",
    "\n",
    "json_test = None\n",
    "tmp = []\n",
    "with open('malaria/test1.json', 'r') as fr:\n",
    "    json_test = json.load(fr)\n",
    "    for dat in json_test:\n",
    "        image = dat['image']\n",
    "        objects = dat['objects']\n",
    "        t = {}\n",
    "        t['image'] = image\n",
    "        objs = []\n",
    "        for o in objects:\n",
    "            if o['category']!='difficult':\n",
    "                objs.append(o)\n",
    "        t['objects'] = objs\n",
    "        tmp.append(t)\n",
    "        \n",
    "with open ('malaria/test.json','w') as f:\n",
    "    json.dump(tmp,f)\n"
   ]
  },
  {
   "cell_type": "code",
   "execution_count": 4,
   "id": "a14f3256",
   "metadata": {},
   "outputs": [],
   "source": [
    "json_train = None\n",
    "tmp = []\n",
    "with open('malaria/training1.json', 'r') as fr:\n",
    "    json_train = json.load(fr)\n",
    "    for dat in json_train:\n",
    "        image = dat['image']\n",
    "        objects = dat['objects']\n",
    "        t = {}\n",
    "        t['image'] = image\n",
    "        objs = []\n",
    "        for o in objects:\n",
    "            if o['category']!='difficult':\n",
    "                objs.append(o)\n",
    "        t['objects'] = objs\n",
    "        tmp.append(t)\n",
    "        \n",
    "with open ('malaria/training.json','w') as f:\n",
    "    json.dump(tmp,f)\n"
   ]
  },
  {
   "cell_type": "code",
   "execution_count": null,
   "id": "d21f5eff",
   "metadata": {},
   "outputs": [],
   "source": []
  }
 ],
 "metadata": {
  "kernelspec": {
   "display_name": "Python 3 (ipykernel)",
   "language": "python",
   "name": "python3"
  },
  "language_info": {
   "codemirror_mode": {
    "name": "ipython",
    "version": 3
   },
   "file_extension": ".py",
   "mimetype": "text/x-python",
   "name": "python",
   "nbconvert_exporter": "python",
   "pygments_lexer": "ipython3",
   "version": "3.8.12"
  }
 },
 "nbformat": 4,
 "nbformat_minor": 5
}
