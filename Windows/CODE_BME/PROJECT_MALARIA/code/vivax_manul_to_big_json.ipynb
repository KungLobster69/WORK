{
 "cells": [
  {
   "cell_type": "code",
   "execution_count": null,
   "id": "095655fa",
   "metadata": {},
   "outputs": [],
   "source": []
  },
  {
   "cell_type": "markdown",
   "id": "34477f03",
   "metadata": {},
   "source": [
    "# 1. check valid json format"
   ]
  },
  {
   "cell_type": "code",
   "execution_count": 3,
   "id": "54e03b3d",
   "metadata": {},
   "outputs": [],
   "source": [
    "import os,json\n",
    "\n",
    "f = 'test.json'\n",
    "with open(f, 'r') as fr:\n",
    "    d = json.load(fr)"
   ]
  },
  {
   "cell_type": "code",
   "execution_count": 6,
   "id": "685779dc",
   "metadata": {},
   "outputs": [
    {
     "data": {
      "text/plain": [
       "(120, ['image', 'objects'])"
      ]
     },
     "execution_count": 6,
     "metadata": {},
     "output_type": "execute_result"
    }
   ],
   "source": [
    "len(d), [k for k in d[0]]"
   ]
  },
  {
   "cell_type": "code",
   "execution_count": 7,
   "id": "edb7d6bc",
   "metadata": {},
   "outputs": [
    {
     "data": {
      "text/plain": [
       "{'checksum': 'eea3bfd6a929bcb06f9786667cd3fbb2',\n",
       " 'pathname': '/images/41be1bd3-0d31-4881-bf1f-3ccdfa21ff12.jpg',\n",
       " 'shape': {'r': 1383, 'c': 1944, 'channels': 3}}"
      ]
     },
     "execution_count": 7,
     "metadata": {},
     "output_type": "execute_result"
    }
   ],
   "source": [
    "d[0]['image']"
   ]
  },
  {
   "cell_type": "code",
   "execution_count": 8,
   "id": "ed46623c",
   "metadata": {},
   "outputs": [
    {
     "data": {
      "text/plain": [
       "67"
      ]
     },
     "execution_count": 8,
     "metadata": {},
     "output_type": "execute_result"
    }
   ],
   "source": [
    "len(d[0]['objects'])"
   ]
  },
  {
   "cell_type": "code",
   "execution_count": 9,
   "id": "5fe295a4",
   "metadata": {},
   "outputs": [
    {
     "data": {
      "text/plain": [
       "{'bounding_box': {'minimum': {'r': 576, 'c': 1744},\n",
       "  'maximum': {'r': 708, 'c': 1883}},\n",
       " 'category': 'red blood cell'}"
      ]
     },
     "execution_count": 9,
     "metadata": {},
     "output_type": "execute_result"
    }
   ],
   "source": [
    "d[0]['objects'][0]"
   ]
  },
  {
   "cell_type": "code",
   "execution_count": 14,
   "id": "8bc7a135",
   "metadata": {},
   "outputs": [
    {
     "data": {
      "text/plain": [
       "(1383, 1944, 3)"
      ]
     },
     "execution_count": 14,
     "metadata": {},
     "output_type": "execute_result"
    }
   ],
   "source": [
    "import cv2\n",
    "\n",
    "image = cv2.imread('微信图片_20230813195112.jpg')\n",
    "image.shape"
   ]
  },
  {
   "cell_type": "code",
   "execution_count": 26,
   "id": "fca9b6aa",
   "metadata": {},
   "outputs": [
    {
     "data": {
      "text/plain": [
       "{'difficult',\n",
       " 'gametocyte',\n",
       " 'leukocyte',\n",
       " 'red blood cell',\n",
       " 'ring',\n",
       " 'schizont',\n",
       " 'trophozoite'}"
      ]
     },
     "execution_count": 26,
     "metadata": {},
     "output_type": "execute_result"
    }
   ],
   "source": [
    "# check categories\n",
    "\n",
    "import os,json\n",
    "\n",
    "set_category = set([])\n",
    "\n",
    "f = 'test.json'\n",
    "with open(f, 'r') as fr:\n",
    "    d = json.load(fr)\n",
    "for dd in d:\n",
    "    for ddd in dd['objects']:\n",
    "        c = ddd['category']\n",
    "        set_category.add(c)\n",
    "        \n",
    "\n",
    "f = 'training.json'\n",
    "with open(f, 'r') as fr:\n",
    "    d = json.load(fr)\n",
    "for dd in d:\n",
    "    for ddd in dd['objects']:\n",
    "        c = ddd['category']\n",
    "        set_category.add(c)\n",
    "\n",
    "        \n",
    "        \n",
    "set_category\n"
   ]
  },
  {
   "cell_type": "code",
   "execution_count": null,
   "id": "c09ab5df",
   "metadata": {},
   "outputs": [],
   "source": []
  },
  {
   "cell_type": "markdown",
   "id": "9939ca77",
   "metadata": {},
   "source": [
    "# 2. all manually small json files to one big json"
   ]
  },
  {
   "cell_type": "code",
   "execution_count": 11,
   "id": "518bb156",
   "metadata": {},
   "outputs": [
    {
     "name": "stdout",
     "output_type": "stream",
     "text": [
      "6e9ed25930b509a32bf95b09f47041a7\n"
     ]
    }
   ],
   "source": [
    "import hashlib\n",
    " \n",
    "filename = 'vivax/img/1703121298-0001-G_R.jpg'\n",
    "with open(filename,\"rb\") as f:\n",
    "    bytes = f.read() # read file as bytes\n",
    "    readable_hash = hashlib.md5(bytes).hexdigest();\n",
    "    print(readable_hash)\n"
   ]
  },
  {
   "cell_type": "code",
   "execution_count": 15,
   "id": "5c57b913",
   "metadata": {},
   "outputs": [
    {
     "name": "stdout",
     "output_type": "stream",
     "text": [
      "6e9ed25930b509a32bf95b09f47041a7\n",
      "1383 1944 3\n"
     ]
    }
   ],
   "source": [
    "import hashlib\n",
    "import cv2\n",
    "\n",
    " \n",
    "def get_md5(filename):\n",
    "    result = None\n",
    "    try:\n",
    "        with open(filename,\"rb\") as f:\n",
    "            bytess = f.read() # read file as bytes\n",
    "            readable_hash = hashlib.md5(bytess).hexdigest();\n",
    "            result = readable_hash\n",
    "    except:\n",
    "        pass\n",
    "    return result\n",
    "\n",
    "\n",
    "def get_shape(filename):\n",
    "    image = cv2.imread(filename)\n",
    "    r,c,channels = image.shape\n",
    "    return r,c,channels\n",
    "\n",
    "\n",
    "m = get_md5(  'vivax/img/1703121298-0001-G_R.jpg'  )\n",
    "r,c,channels = get_shape('微信图片_20230813195112.jpg')\n",
    "print(m)\n",
    "print(r,c,channels)"
   ]
  },
  {
   "cell_type": "code",
   "execution_count": 39,
   "id": "3a9dca52",
   "metadata": {},
   "outputs": [
    {
     "name": "stdout",
     "output_type": "stream",
     "text": [
      "get small json files : 40\n"
     ]
    }
   ],
   "source": [
    "import os\n",
    "import json\n",
    "\n",
    "\n",
    "manual_name_to_category = {\n",
    "    'RBC':'red blood cell',\n",
    "    'Gametocyte':'gametocyte',\n",
    "    'Ring':'ring',\n",
    "    'Schizont':'schizont',\n",
    "    'Trophozoite':'trophozoite'\n",
    "}\n",
    "\n",
    "\n",
    "m_json_list = []\n",
    "f1 = 'vivax/img/'\n",
    "for f2 in os.listdir(f1):\n",
    "    f3 = os.path.join(f1,f2)\n",
    "    if f3.endswith('.json'):\n",
    "        m_json_list.append(f3)\n",
    "print('get small json files : {0}'.format(len( m_json_list )))\n",
    "\n",
    "result = []\n",
    "\n",
    "for f in m_json_list:\n",
    "    with open(f, 'r') as fr:\n",
    "        d = json.load(fr)\n",
    "        tmp = {}\n",
    "        tmp['image'] = {}\n",
    "        img_f = f.replace('.json', '.jpg')\n",
    "        tmp['image']['checksum'] = get_md5(img_f)\n",
    "        tmp['image']['pathname'] = img_f\n",
    "        r,c,channels = get_shape(img_f)\n",
    "        tmp['image']['shape'] = {'r': r, 'c': c, 'channels': channels}\n",
    "        \n",
    "        tmp['objects'] = []\n",
    "        for dd in d['shapes']:\n",
    "            label = dd['label']\n",
    "            r1,c1 = dd['points'][0]\n",
    "            r2,c2 = dd['points'][1]\n",
    "            r1 = int(r1)\n",
    "            c1 = int(c1)\n",
    "            r2 = int(r2)\n",
    "            c2 = int(c2)\n",
    "            tmp2 = {}\n",
    "            tmp2['bounding_box'] = {}\n",
    "            tmp2['bounding_box']['minimum'] = {'r': r1, 'c': c1}\n",
    "            tmp2['bounding_box']['maximum'] = {'r': r2, 'c': c2}\n",
    "            tmp2['category'] = manual_name_to_category[label]\n",
    "            tmp['objects'].append(tmp2)\n",
    "        \n",
    "    result.append(tmp)"
   ]
  },
  {
   "cell_type": "code",
   "execution_count": 40,
   "id": "274c4ea7",
   "metadata": {},
   "outputs": [
    {
     "data": {
      "text/plain": [
       "40"
      ]
     },
     "execution_count": 40,
     "metadata": {},
     "output_type": "execute_result"
    }
   ],
   "source": [
    "len(result)"
   ]
  },
  {
   "cell_type": "code",
   "execution_count": 41,
   "id": "1645b78e",
   "metadata": {},
   "outputs": [],
   "source": [
    "import json\n",
    "\n",
    "# Serializing json\n",
    "json_object = json.dumps(result)\n",
    "\n",
    "# Writing to sample.json\n",
    "with open(\"test_vivax.json\", \"w\") as outfile:\n",
    "    outfile.write(json_object)"
   ]
  },
  {
   "cell_type": "code",
   "execution_count": null,
   "id": "1cc2d7ec",
   "metadata": {},
   "outputs": [],
   "source": []
  },
  {
   "cell_type": "code",
   "execution_count": 46,
   "id": "26fb10a7",
   "metadata": {},
   "outputs": [],
   "source": [
    "for d in result:\n",
    "    objects = d['objects']\n",
    "    for obj in objects:\n",
    "        if 'bounding_box' not in obj:\n",
    "            print('error', obj)"
   ]
  },
  {
   "cell_type": "code",
   "execution_count": null,
   "id": "08003aa7",
   "metadata": {},
   "outputs": [],
   "source": []
  },
  {
   "cell_type": "code",
   "execution_count": null,
   "id": "0005410c",
   "metadata": {},
   "outputs": [],
   "source": []
  },
  {
   "cell_type": "code",
   "execution_count": null,
   "id": "e815d651",
   "metadata": {},
   "outputs": [],
   "source": []
  },
  {
   "cell_type": "code",
   "execution_count": null,
   "id": "34fc7dbc",
   "metadata": {},
   "outputs": [],
   "source": []
  }
 ],
 "metadata": {
  "kernelspec": {
   "display_name": "Python 3 (ipykernel)",
   "language": "python",
   "name": "python3"
  },
  "language_info": {
   "codemirror_mode": {
    "name": "ipython",
    "version": 3
   },
   "file_extension": ".py",
   "mimetype": "text/x-python",
   "name": "python",
   "nbconvert_exporter": "python",
   "pygments_lexer": "ipython3",
   "version": "3.8.17"
  }
 },
 "nbformat": 4,
 "nbformat_minor": 5
}
