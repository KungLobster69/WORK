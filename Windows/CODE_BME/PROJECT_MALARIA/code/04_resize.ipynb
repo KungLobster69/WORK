{
 "cells": [
  {
   "cell_type": "markdown",
   "id": "bdd76d03",
   "metadata": {},
   "source": [
    "# 1. statistic"
   ]
  },
  {
   "cell_type": "code",
   "execution_count": 1,
   "id": "732d7bf7",
   "metadata": {},
   "outputs": [
    {
     "name": "stdout",
     "output_type": "stream",
     "text": [
      "(1944, 2592, 3)\n"
     ]
    }
   ],
   "source": [
    "import cv2,os\n",
    "import numpy as np\n",
    "\n",
    "p = 'vivax/img/1703121298-0001-G_R.jpg'\n",
    "# read image\n",
    "img = cv2.imread(p, cv2.IMREAD_COLOR)# IMREAD_GRAYSCALE, IMREAD_COLOR\n",
    "print(img.shape)\n"
   ]
  },
  {
   "cell_type": "code",
   "execution_count": 5,
   "id": "3062eb67",
   "metadata": {},
   "outputs": [
    {
     "name": "stderr",
     "output_type": "stream",
     "text": [
      "100%|███████████████████████████████████████████████████████████████████████████████████████████████████████████████████| 2638/2638 [00:01<00:00, 1596.50it/s]\n"
     ]
    }
   ],
   "source": [
    "from tqdm import *\n",
    "\n",
    "width_list = []\n",
    "height_list = []\n",
    "\n",
    "p1 = 'cell_data8/'\n",
    "for p2 in tqdm(os.listdir(p1)):\n",
    "    p3 = os.path.join(p1,p2)\n",
    "    img = cv2.imread(p3, cv2.IMREAD_COLOR)# IMREAD_GRAYSCALE, IMREAD_COLOR\n",
    "    w = img.shape[0]\n",
    "    h = img.shape[1]\n",
    "    width_list.append(w)\n",
    "    height_list.append(h)"
   ]
  },
  {
   "cell_type": "code",
   "execution_count": 6,
   "id": "1d628700",
   "metadata": {},
   "outputs": [
    {
     "data": {
      "text/plain": [
       "{'whiskers': [<matplotlib.lines.Line2D at 0x7f127b4504f0>,\n",
       "  <matplotlib.lines.Line2D at 0x7f127b450790>],\n",
       " 'caps': [<matplotlib.lines.Line2D at 0x7f127b450a30>,\n",
       "  <matplotlib.lines.Line2D at 0x7f127b450cd0>],\n",
       " 'boxes': [<matplotlib.lines.Line2D at 0x7f127b450250>],\n",
       " 'medians': [<matplotlib.lines.Line2D at 0x7f127b450f70>],\n",
       " 'fliers': [<matplotlib.lines.Line2D at 0x7f127b461250>],\n",
       " 'means': []}"
      ]
     },
     "execution_count": 6,
     "metadata": {},
     "output_type": "execute_result"
    },
    {
     "data": {
      "image/png": "[encoded data removed]",
      "text/plain": [
       "<Figure size 640x480 with 2 Axes>"
      ]
     },
     "metadata": {},
     "output_type": "display_data"
    }
   ],
   "source": [
    "import matplotlib.pyplot as plt\n",
    "\n",
    "plt.subplot(121)\n",
    "plt.boxplot(width_list)\n",
    "\n",
    "plt.subplot(122)\n",
    "plt.boxplot(height_list)\n"
   ]
  },
  {
   "cell_type": "markdown",
   "id": "268da09c",
   "metadata": {},
   "source": [
    "# 4. resize"
   ]
  },
  {
   "cell_type": "code",
   "execution_count": 9,
   "id": "47f0da0c",
   "metadata": {},
   "outputs": [
    {
     "name": "stderr",
     "output_type": "stream",
     "text": [
      "100%|██████████████████████████████████████| 2448/2448 [00:10<00:00, 224.82it/s]\n"
     ]
    }
   ],
   "source": [
    "p1 = 'cell_data17/'\n",
    "for p2 in tqdm(os.listdir(p1)):\n",
    "    p3 = os.path.join(p1,p2)\n",
    "    img = cv2.imread(p3, cv2.IMREAD_COLOR)# IMREAD_GRAYSCALE, IMREAD_COLOdim = (width, height)\n",
    "    # resize image\n",
    "    dim = (200,200)\n",
    "    resized = cv2.resize(img, dim, interpolation = cv2.INTER_LANCZOS4)\n",
    "    filename_dst = p3.replace(\"cell_data17\",\"cell_data20\")\n",
    "    cv2.imwrite( filename_dst, resized )"
   ]
  },
  {
   "cell_type": "markdown",
   "id": "037feeda",
   "metadata": {},
   "source": [
    "# 3. dataset"
   ]
  }
 ],
 "metadata": {
  "kernelspec": {
   "display_name": "Python 3 (ipykernel)",
   "language": "python",
   "name": "python3"
  },
  "language_info": {
   "codemirror_mode": {
    "name": "ipython",
    "version": 3
   },
   "file_extension": ".py",
   "mimetype": "text/x-python",
   "name": "python",
   "nbconvert_exporter": "python",
   "pygments_lexer": "ipython3",
   "version": "3.8.18"
  }
 },
 "nbformat": 4,
 "nbformat_minor": 5
}
