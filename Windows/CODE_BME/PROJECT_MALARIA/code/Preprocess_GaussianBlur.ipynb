{
 "cells": [
  {
   "cell_type": "markdown",
   "id": "ba3a1b79",
   "metadata": {},
   "source": [
    "1. 把低质量图片上传结束\n",
    "2. 把所有原始图片，都做GaussianBlur，结果存储到另一个文件夹"
   ]
  },
  {
   "cell_type": "markdown",
   "id": "3befcd4f",
   "metadata": {},
   "source": [
    "import cv2\n",
    "img=cv2.imread('../../malaria_small/images/fe851c88-692d-4199-87e0-d19d9c4eb591.png',cv2.IMREAD_COLOR)\n",
    "gray = cv2.cvtColor(img,cv2.COLOR_BGR2GRAY)\n",
    "kernel=np.ones((2,2),np.uint8)\n",
    "erosion=cv2.erode(gray,kernel,iterations=5)\n",
    "dilation=cv2.dilate(erosion,kernel,iterations=5)\n",
    "ret, thresh = cv2.threshold(dilation, 150, 255, cv2.THRESH_BINARY)\n",
    "img_clean= cv2.GaussianBlur(thresh,(3,3),0)"
   ]
  },
  {
   "cell_type": "code",
   "execution_count": 8,
   "id": "a5dc785f",
   "metadata": {},
   "outputs": [],
   "source": [
    "cv2.GaussianBlur?"
   ]
  },
  {
   "cell_type": "code",
   "execution_count": 1,
   "id": "4f64bb89",
   "metadata": {},
   "outputs": [
    {
     "name": "stdout",
     "output_type": "stream",
     "text": [
      "../../image_low_quality/997eabd9-55bf-4683-83c4-4cee4673a4ef.png\n",
      "../../image_low_quality/c94a5851-b846-4fde-8c89-05bec3a8ac53.png\n",
      "../../image_low_quality/d9ecacb0-14c7-4862-930b-18bb51d5f392.jpg\n",
      "../../image_low_quality/0e0bc36f-6fb2-4763-b0a1-b4c67b2d2d2a.jpg\n",
      "../../image_low_quality/674b0fd3-f247-4b7f-97f7-3e6c57c9ba9e.png\n",
      "../../image_low_quality/2a02cec2-a09b-483a-ad38-14359a763fa4.png\n",
      "../../image_low_quality/4da8f6c5-5f85-4280-92d0-1ba008e8c404.jpg\n",
      "../../image_low_quality/fb05b297-180a-4171-b633-09d5616d7534.png\n",
      "../../image_low_quality/c6ab535c-30e5-4b6b-8273-1ec8d78cdd13.png\n",
      "../../image_low_quality/51f6463c-1622-4c0d-8482-b864e0ed2e74.jpg\n",
      "../../image_low_quality/9d155086-acf5-4c86-a9e1-94b587c46e87.png\n",
      "../../image_low_quality/0dcca702-a4ef-4fb3-a940-9c0c140b21c7.png\n",
      "../../image_low_quality/72732579-a812-4496-b2dd-ea1556924337.png\n",
      "../../image_low_quality/95bea542-6cd0-41c5-82c5-509af8c3b505.png\n",
      "../../image_low_quality/5c5b7965-1a44-44b8-aa43-660823e61821.png\n",
      "../../image_low_quality/f62d4fb6-df7c-446c-94a8-d5aede0b1e0c.png\n",
      "../../image_low_quality/5e974892-0ebe-4037-8427-ea8616d6d3b8.png\n",
      "../../image_low_quality/3af90874-59f3-4f0c-a7e6-cc889e80c605.png\n",
      "../../image_low_quality/7ef90770-6aeb-45eb-9744-49c5247dde30.png\n",
      "../../image_low_quality/1ecb0405-a6e9-4485-819e-2fbbf2b718aa.png\n",
      "../../image_low_quality/b9ccf7ca-953f-4832-9575-5e70b2a8c224.png\n"
     ]
    }
   ],
   "source": [
    "import os\n",
    "import cv2\n",
    "path='../../image_low_quality/'\n",
    "for f in os.listdir(path):\n",
    "    file_name = f\n",
    "    f = os.path.join(path,f)\n",
    "    print(f)\n",
    "    # read image\n",
    "    img=cv2.imread(f,cv2.IMREAD_COLOR)\n",
    "    # clean noise\n",
    "    img2 = cv2.GaussianBlur(img,(11,11),0)\n",
    "    # save image\n",
    "    cv2.imwrite('output_test/noise_remove_gaussian_image/{0}'.format(file_name),img2)"
   ]
  },
  {
   "cell_type": "code",
   "execution_count": null,
   "id": "039e5ffb",
   "metadata": {},
   "outputs": [],
   "source": []
  },
  {
   "cell_type": "code",
   "execution_count": null,
   "id": "d0d58f42",
   "metadata": {},
   "outputs": [],
   "source": []
  }
 ],
 "metadata": {
  "kernelspec": {
   "display_name": "Python 3 (ipykernel)",
   "language": "python",
   "name": "python3"
  },
  "language_info": {
   "codemirror_mode": {
    "name": "ipython",
    "version": 3
   },
   "file_extension": ".py",
   "mimetype": "text/x-python",
   "name": "python",
   "nbconvert_exporter": "python",
   "pygments_lexer": "ipython3",
   "version": "3.8.11"
  }
 },
 "nbformat": 4,
 "nbformat_minor": 5
}
