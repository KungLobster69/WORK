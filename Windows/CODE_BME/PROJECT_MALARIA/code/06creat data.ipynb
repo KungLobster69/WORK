{
 "cells": [
  {
   "cell_type": "markdown",
   "id": "3269508f",
   "metadata": {},
   "source": [
    "# 1. resize"
   ]
  },
  {
   "cell_type": "code",
   "execution_count": 49,
   "id": "e5f231f4",
   "metadata": {},
   "outputs": [],
   "source": [
    "import cv2\n",
    "import numpy as np\n",
    "from tqdm import *\n",
    "import os"
   ]
  },
  {
   "cell_type": "code",
   "execution_count": 50,
   "id": "d40fe912",
   "metadata": {},
   "outputs": [
    {
     "name": "stderr",
     "output_type": "stream",
     "text": [
      "100%|████████████████████████████████████| 11656/11656 [00:22<00:00, 517.09it/s]\n"
     ]
    },
    {
     "name": "stdout",
     "output_type": "stream",
     "text": [
      "(11656, 200, 200, 3) (11656,)\n"
     ]
    }
   ],
   "source": [
    "import joblib as jl\n",
    "import numpy as np\n",
    "\n",
    "category_to_int = {'red_blood_cell': 0, 'schizont': 2, 'ring': 3, 'trophozoite': 4, 'gametocyte': 5, }\n",
    "\n",
    "\n",
    "x_data = []\n",
    "y_data = []\n",
    "\n",
    "p1 = 'cell_data23/'\n",
    "for p2 in tqdm(os.listdir(p1)):\n",
    "    p3 = os.path.join(p1,p2)\n",
    "    img = cv2.imread(p3, cv2.IMREAD_COLOR)# IMREAD_GRAYSCALE, IMREAD_COLOdim = (width, height)\n",
    "    label = p3.split('___')[2].split('.')[0].split('_')[0]\n",
    "    if label=='red':\n",
    "        label='red_blood_cell'\n",
    "    y = category_to_int[label]\n",
    "    x_data.append(img)\n",
    "    y_data.append(y)\n",
    "    \n",
    "    \n",
    "x_data = np.array(x_data)\n",
    "y_data = np.array(y_data)\n",
    "\n",
    "print(x_data.shape, y_data.shape)"
   ]
  },
  {
   "cell_type": "code",
   "execution_count": 51,
   "id": "ab7ba9b3",
   "metadata": {},
   "outputs": [
    {
     "data": {
      "text/plain": [
       "(200, 200, 3)"
      ]
     },
     "execution_count": 51,
     "metadata": {},
     "output_type": "execute_result"
    }
   ],
   "source": [
    "x_data[1].shape"
   ]
  },
  {
   "cell_type": "code",
   "execution_count": 52,
   "id": "d4d65e4d",
   "metadata": {},
   "outputs": [
    {
     "data": {
      "text/plain": [
       "['y_data.jl.z']"
      ]
     },
     "execution_count": 52,
     "metadata": {},
     "output_type": "execute_result"
    }
   ],
   "source": [
    "jl.dump(x_data, 'x_data.jl.z')\n",
    "jl.dump(y_data, 'y_data.jl.z')\n"
   ]
  },
  {
   "cell_type": "code",
   "execution_count": null,
   "id": "51904f25",
   "metadata": {},
   "outputs": [],
   "source": []
  },
  {
   "cell_type": "code",
   "execution_count": null,
   "id": "0b9986ef",
   "metadata": {},
   "outputs": [],
   "source": []
  },
  {
   "cell_type": "code",
   "execution_count": null,
   "id": "b55fa1c6",
   "metadata": {},
   "outputs": [],
   "source": []
  },
  {
   "cell_type": "code",
   "execution_count": null,
   "id": "3ddd21cb",
   "metadata": {},
   "outputs": [],
   "source": []
  },
  {
   "cell_type": "code",
   "execution_count": null,
   "id": "8fa87bd0",
   "metadata": {},
   "outputs": [],
   "source": []
  }
 ],
 "metadata": {
  "kernelspec": {
   "display_name": "Python 3 (ipykernel)",
   "language": "python",
   "name": "python3"
  },
  "language_info": {
   "codemirror_mode": {
    "name": "ipython",
    "version": 3
   },
   "file_extension": ".py",
   "mimetype": "text/x-python",
   "name": "python",
   "nbconvert_exporter": "python",
   "pygments_lexer": "ipython3",
   "version": "3.8.18"
  }
 },
 "nbformat": 4,
 "nbformat_minor": 5
}
