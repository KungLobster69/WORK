{
 "cells": [
  {
   "cell_type": "markdown",
   "id": "3b757c9f",
   "metadata": {},
   "source": [
    "# 1. histgram equalization"
   ]
  },
  {
   "cell_type": "code",
   "execution_count": 4,
   "id": "e591f9b7",
   "metadata": {},
   "outputs": [],
   "source": [
    "import cv2\n",
    "import numpy as np\n",
    "from tqdm import *\n",
    "import os\n",
    "\n",
    "\n",
    "def hist_equ(img2):\n",
    "    img_r,img_g,img_b = cv2.split(img2)\n",
    "    img_hist_r = cv2.equalizeHist(img_r)\n",
    "    img_hist_g = cv2.equalizeHist(img_g)\n",
    "    img_hist_b = cv2.equalizeHist(img_b)\n",
    "    img3 = cv2.merge((img_hist_r,img_hist_g,img_hist_b))\n",
    "    return img3\n"
   ]
  },
  {
   "cell_type": "code",
   "execution_count": 6,
   "id": "afe2a8c1",
   "metadata": {},
   "outputs": [
    {
     "name": "stderr",
     "output_type": "stream",
     "text": [
      "100%|████████████████████████████████████████████████████████████████████████████████████████████████████████████████████| 5765/5765 [00:19<00:00, 301.67it/s]\n"
     ]
    }
   ],
   "source": [
    "p1 = '../malaria_small/cell_data_resize/'\n",
    "for p2 in tqdm(os.listdir(p1)):\n",
    "    p3 = os.path.join(p1,p2)\n",
    "    img = cv2.imread(p3, cv2.IMREAD_COLOR)# IMREAD_GRAYSCALE, IMREAD_COLOdim = (width, height)\n",
    "    img_histeq = hist_equ(img)# preprocess method\n",
    "    filename_dst = p3.replace(\"cell_data_resize\",\"cell_data_histeq\")\n",
    "    cv2.imwrite( filename_dst, img_histeq )"
   ]
  },
  {
   "cell_type": "markdown",
   "id": "df08ef49",
   "metadata": {},
   "source": [
    "# 2. "
   ]
  },
  {
   "cell_type": "code",
   "execution_count": null,
   "id": "59d814c4",
   "metadata": {},
   "outputs": [],
   "source": []
  },
  {
   "cell_type": "code",
   "execution_count": null,
   "id": "b6ec339a",
   "metadata": {},
   "outputs": [],
   "source": []
  },
  {
   "cell_type": "code",
   "execution_count": null,
   "id": "247b1e58",
   "metadata": {},
   "outputs": [],
   "source": []
  }
 ],
 "metadata": {
  "kernelspec": {
   "display_name": "Python 3 (ipykernel)",
   "language": "python",
   "name": "python3"
  },
  "language_info": {
   "codemirror_mode": {
    "name": "ipython",
    "version": 3
   },
   "file_extension": ".py",
   "mimetype": "text/x-python",
   "name": "python",
   "nbconvert_exporter": "python",
   "pygments_lexer": "ipython3",
   "version": "3.8.11"
  }
 },
 "nbformat": 4,
 "nbformat_minor": 5
}
