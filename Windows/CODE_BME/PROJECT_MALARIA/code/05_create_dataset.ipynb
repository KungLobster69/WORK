{
 "cells": [
  {
   "cell_type": "code",
   "execution_count": null,
   "id": "aaea24bc",
   "metadata": {},
   "outputs": [],
   "source": []
  },
  {
   "cell_type": "markdown",
   "id": "73ddee2d",
   "metadata": {},
   "source": [
    "# 1. resize"
   ]
  },
  {
   "cell_type": "code",
   "execution_count": 1,
   "id": "d74175a3",
   "metadata": {},
   "outputs": [],
   "source": [
    "import cv2\n",
    "import numpy as np\n",
    "from tqdm import *\n",
    "import os"
   ]
  },
  {
   "cell_type": "code",
   "execution_count": 2,
   "id": "2b99fc98",
   "metadata": {},
   "outputs": [
    {
     "name": "stderr",
     "output_type": "stream",
     "text": [
      "100%|████████████████████████████████████████████████████████████████████████████████████████████████████████████████████| 5765/5765 [00:11<00:00, 500.86it/s]\n"
     ]
    },
    {
     "ename": "MemoryError",
     "evalue": "Unable to allocate 238. MiB for an array with shape (5765, 120, 120, 3) and data type uint8",
     "output_type": "error",
     "traceback": [
      "\u001b[0;31m---------------------------------------------------------------------------\u001b[0m",
      "\u001b[0;31mMemoryError\u001b[0m                               Traceback (most recent call last)",
      "\u001b[0;32m/tmp/ipykernel_13049/573565884.py\u001b[0m in \u001b[0;36m<module>\u001b[0;34m\u001b[0m\n\u001b[1;32m     18\u001b[0m \u001b[0;34m\u001b[0m\u001b[0m\n\u001b[1;32m     19\u001b[0m \u001b[0;34m\u001b[0m\u001b[0m\n\u001b[0;32m---> 20\u001b[0;31m \u001b[0mx_data\u001b[0m \u001b[0;34m=\u001b[0m \u001b[0mnp\u001b[0m\u001b[0;34m.\u001b[0m\u001b[0marray\u001b[0m\u001b[0;34m(\u001b[0m\u001b[0mx_data\u001b[0m\u001b[0;34m)\u001b[0m\u001b[0;34m\u001b[0m\u001b[0;34m\u001b[0m\u001b[0m\n\u001b[0m\u001b[1;32m     21\u001b[0m \u001b[0my_data\u001b[0m \u001b[0;34m=\u001b[0m \u001b[0mnp\u001b[0m\u001b[0;34m.\u001b[0m\u001b[0marray\u001b[0m\u001b[0;34m(\u001b[0m\u001b[0my_data\u001b[0m\u001b[0;34m)\u001b[0m\u001b[0;34m\u001b[0m\u001b[0;34m\u001b[0m\u001b[0m\n\u001b[1;32m     22\u001b[0m \u001b[0;34m\u001b[0m\u001b[0m\n",
      "\u001b[0;31mMemoryError\u001b[0m: Unable to allocate 238. MiB for an array with shape (5765, 120, 120, 3) and data type uint8"
     ]
    }
   ],
   "source": [
    "import joblib as jl\n",
    "import numpy as np\n",
    "\n",
    "category_to_int = {'red_blood_cell': 0, 'difficult': 1, 'schizont': 2, 'ring': 3, 'trophozoite': 4, 'gametocyte': 5, 'leukocyte': 6}\n",
    "\n",
    "\n",
    "x_data = []\n",
    "y_data = []\n",
    "\n",
    "p1 = '../malaria_small/cell_data_resize/'\n",
    "for p2 in tqdm(os.listdir(p1)):\n",
    "    p3 = os.path.join(p1,p2)\n",
    "    img = cv2.imread(p3, cv2.IMREAD_COLOR)# IMREAD_GRAYSCALE, IMREAD_COLOdim = (width, height)\n",
    "    label = p3.split('___')[2].split('.')[0]\n",
    "    y = category_to_int[label]\n",
    "    x_data.append(img)\n",
    "    y_data.append(y)\n",
    "    \n",
    "    \n",
    "x_data = np.array(x_data)\n",
    "y_data = np.array(y_data)\n",
    "\n",
    "print(x_data.shape, y_data.shape)"
   ]
  },
  {
   "cell_type": "code",
   "execution_count": null,
   "id": "c6c4947e",
   "metadata": {},
   "outputs": [],
   "source": [
    "jl.dump(x_data, '../malaria_small/dataset/resize/x_data.jl.z')\n",
    "jl.dump(y_data, '../malaria_small/dataset/resize/y_data.jl.z')\n"
   ]
  },
  {
   "cell_type": "code",
   "execution_count": null,
   "id": "3ea9a9ae",
   "metadata": {},
   "outputs": [],
   "source": []
  },
  {
   "cell_type": "code",
   "execution_count": null,
   "id": "b10a9c1b",
   "metadata": {},
   "outputs": [],
   "source": []
  }
 ],
 "metadata": {
  "kernelspec": {
   "display_name": "Python 3 (ipykernel)",
   "language": "python",
   "name": "python3"
  },
  "language_info": {
   "codemirror_mode": {
    "name": "ipython",
    "version": 3
   },
   "file_extension": ".py",
   "mimetype": "text/x-python",
   "name": "python",
   "nbconvert_exporter": "python",
   "pygments_lexer": "ipython3",
   "version": "3.8.11"
  }
 },
 "nbformat": 4,
 "nbformat_minor": 5
}
