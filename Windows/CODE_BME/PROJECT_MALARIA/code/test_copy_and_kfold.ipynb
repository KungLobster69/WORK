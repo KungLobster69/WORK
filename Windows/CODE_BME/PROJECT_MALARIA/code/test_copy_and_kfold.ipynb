{
 "cells": [
  {
   "cell_type": "code",
   "execution_count": null,
   "id": "4b12e494",
   "metadata": {},
   "outputs": [],
   "source": []
  },
  {
   "cell_type": "code",
   "execution_count": 1,
   "id": "a96770ca",
   "metadata": {},
   "outputs": [],
   "source": [
    "import os\n",
    "\n",
    "p_img_train = 'convertor/fold3/images/train2017/'\n",
    "p_img_val = 'convertor/fold3/images/val2017/'\n",
    "p_label_train = 'convertor/fold3/labels/train2017/'\n",
    "p_label_val = 'convertor/fold3/labels/val2017/'\n",
    "\n",
    "\n",
    "q_img_train = 'convertor/fold4/images/train2017/'\n",
    "q_img_val = 'convertor/fold4/images/val2017/'\n",
    "q_label_train = 'convertor/fold4/labels/train2017/'\n",
    "q_label_val = 'convertor/fold4/labels/val2017/'\n",
    "\n",
    "\n",
    "\n",
    "def diff(p1,p2):\n",
    "    slist_1 = []\n",
    "    slist_2 = []\n",
    "    for x in os.listdir(p1):\n",
    "        slist_1.append(x)\n",
    "    for x in os.listdir(p2):\n",
    "        slist_2.append(x)\n",
    "    y = {}\n",
    "    y['len1'] = len(slist_1)\n",
    "    y['len2'] = len(slist_2)\n",
    "    y['diff'] = len(  set(slist_1)-set(slist_2)  )\n",
    "    return y"
   ]
  },
  {
   "cell_type": "code",
   "execution_count": 2,
   "id": "be8e8d30",
   "metadata": {},
   "outputs": [
    {
     "data": {
      "text/plain": [
       "{'len1': 1088, 'len2': 1088, 'diff': 120}"
      ]
     },
     "execution_count": 2,
     "metadata": {},
     "output_type": "execute_result"
    }
   ],
   "source": [
    "diff(p_img_train, q_img_train)"
   ]
  },
  {
   "cell_type": "code",
   "execution_count": 3,
   "id": "e46873c2",
   "metadata": {},
   "outputs": [
    {
     "data": {
      "text/plain": [
       "{'len1': 120, 'len2': 120, 'diff': 120}"
      ]
     },
     "execution_count": 3,
     "metadata": {},
     "output_type": "execute_result"
    }
   ],
   "source": [
    "diff(p_img_val, q_img_val)"
   ]
  },
  {
   "cell_type": "code",
   "execution_count": 4,
   "id": "7b83f17f",
   "metadata": {},
   "outputs": [
    {
     "data": {
      "text/plain": [
       "{'len1': 1088, 'len2': 1088, 'diff': 120}"
      ]
     },
     "execution_count": 4,
     "metadata": {},
     "output_type": "execute_result"
    }
   ],
   "source": [
    "diff(p_label_train,q_label_train)"
   ]
  },
  {
   "cell_type": "code",
   "execution_count": 5,
   "id": "bf923fda",
   "metadata": {},
   "outputs": [
    {
     "data": {
      "text/plain": [
       "{'len1': 120, 'len2': 120, 'diff': 120}"
      ]
     },
     "execution_count": 5,
     "metadata": {},
     "output_type": "execute_result"
    }
   ],
   "source": [
    "diff(p_label_val,q_label_val)"
   ]
  },
  {
   "cell_type": "code",
   "execution_count": null,
   "id": "d085ee51",
   "metadata": {},
   "outputs": [],
   "source": []
  },
  {
   "cell_type": "code",
   "execution_count": null,
   "id": "8847654b",
   "metadata": {},
   "outputs": [],
   "source": []
  },
  {
   "cell_type": "code",
   "execution_count": 24,
   "id": "e2c135d0",
   "metadata": {},
   "outputs": [
    {
     "name": "stdout",
     "output_type": "stream",
     "text": [
      "fid_to_image_path=1208\n",
      "fid_to_label_path=1208\n",
      "fold1, sub_fid_list_for_train = 1088\n",
      "fold1, sub_fid_list_for_test = 120\n",
      "fold2, sub_fid_list_for_train = 1088\n",
      "fold2, sub_fid_list_for_test = 120\n",
      "fold3, sub_fid_list_for_train = 1088\n",
      "fold3, sub_fid_list_for_test = 120\n",
      "fold4, sub_fid_list_for_train = 1088\n",
      "fold4, sub_fid_list_for_test = 120\n",
      "fold5, sub_fid_list_for_train = 1088\n",
      "fold5, sub_fid_list_for_test = 120\n",
      "fold6, sub_fid_list_for_train = 1088\n",
      "fold6, sub_fid_list_for_test = 120\n",
      "fold7, sub_fid_list_for_train = 1088\n",
      "fold7, sub_fid_list_for_test = 120\n",
      "fold8, sub_fid_list_for_train = 1088\n",
      "fold8, sub_fid_list_for_test = 120\n",
      "fold9, sub_fid_list_for_train = 1088\n",
      "fold9, sub_fid_list_for_test = 120\n",
      "fold10, sub_fid_list_for_train = 1080\n",
      "fold10, sub_fid_list_for_test = 128\n"
     ]
    }
   ],
   "source": [
    "import os\n",
    "import json\n",
    "import sys\n",
    "import yaml\n",
    "import shutil\n",
    "\n",
    "K = 10\n",
    "\n",
    "# manually delete convertor/folder1~10 firstly (rm -rf convertor/folder1)\n",
    "\n",
    "# read images and labels\n",
    "fid_to_image_path = {}\n",
    "fid_to_label_path = {}\n",
    "p1 = 'convertor/fold0/images/train2017'\n",
    "for f in os.listdir(p1):\n",
    "    fid = f.split('.')[0]\n",
    "    image_path = os.path.join(p1,f)\n",
    "    fid_to_image_path[fid] = image_path\n",
    "p2 = 'convertor/fold0/images/val2017'\n",
    "for f in os.listdir(p2):\n",
    "    fid = f.split('.')[0]\n",
    "    image_path = os.path.join(p2,f)\n",
    "    fid_to_image_path[fid] = image_path\n",
    "p3 = 'convertor/fold0/labels/train2017'\n",
    "for f in os.listdir(p3):\n",
    "    fid = f.split('.')[0]\n",
    "    label_path = os.path.join(p3,f)\n",
    "    fid_to_label_path[fid] = label_path\n",
    "p4 = 'convertor/fold0/labels/val2017'\n",
    "for f in os.listdir(p4):\n",
    "    fid = f.split('.')[0]\n",
    "    label_path = os.path.join(p4,f)\n",
    "    fid_to_label_path[fid] = label_path\n",
    "print(  'fid_to_image_path={0}'.format(len(fid_to_image_path)    ))\n",
    "print(  'fid_to_label_path={0}'.format(len(fid_to_label_path)    ))\n",
    "fid_list = []\n",
    "for k in fid_to_image_path:\n",
    "    fid_list.append( k )\n",
    "batch = len(fid_list)//K    \n",
    "p1 = 'convertor/'\n",
    "\n",
    "ddd = []\n",
    "for i in range(K):\n",
    "    if i<K-1:\n",
    "        sub_fid_list_for_train = fid_list[(i+1)*batch:]\n",
    "        if i>0:\n",
    "            sub_fid_list_for_train = fid_list[:i*batch]+sub_fid_list_for_train\n",
    "        sub_fid_list_for_test = fid_list[i*batch:(i+1)*batch]\n",
    "    else:\n",
    "        sub_fid_list_for_train = fid_list[:i*batch]\n",
    "        sub_fid_list_for_test = fid_list[i*batch:]\n",
    "    j = i+1\n",
    "    print('fold{0}, sub_fid_list_for_train = {1}'.format(j, len(sub_fid_list_for_train)))\n",
    "    print('fold{0}, sub_fid_list_for_test = {1}'.format(j, len(sub_fid_list_for_test)))\n",
    "    d = {}\n",
    "    d['sub_fid_list_for_train'] = sub_fid_list_for_train\n",
    "    d['sub_fid_list_for_test'] = sub_fid_list_for_test\n",
    "    ddd.append(d)\n",
    "    "
   ]
  },
  {
   "cell_type": "code",
   "execution_count": 15,
   "id": "09e55885",
   "metadata": {},
   "outputs": [
    {
     "data": {
      "text/plain": [
       "{'002f20ad-2ace-499c-9335-c9080bc3e6b5',\n",
       " '036404d1-b9fc-497b-bbe1-f4d9c5ac3ce0',\n",
       " '0546d843-d778-4aca-b8b5-bfe23d7c87da',\n",
       " '05ac7b2a-6a77-4464-926b-8570f7c01693',\n",
       " '06a3effb-996c-4767-afd2-6aa3b697cb4e',\n",
       " '093a831a-bf71-4333-bc06-942ae70cb164',\n",
       " '0ac747cd-ff32-49bf-bc1a-3e9b7702ce9c',\n",
       " '0da07970-3146-479c-8a07-f61ed32814a9',\n",
       " '0dcbf2c9-f959-4703-a72b-f6a81e66c2ea',\n",
       " '0f0c949e-018a-4f3f-ab02-3704f49c7754',\n",
       " '1345dc89-a3d9-4b71-8a75-b3bff01ba518',\n",
       " '1893e0c5-88e9-4644-bd59-3e47bc53a88c',\n",
       " '1a27ebe9-93a1-4898-af69-f276057d4012',\n",
       " '2240b991-48f6-4c59-9b62-5a8b5e541fae',\n",
       " '22a464ef-c3da-4d56-b37e-e22e95d945e7',\n",
       " '2374ae5b-c2df-4db5-afea-c54180aa22e3',\n",
       " '2559636b-f01a-4414-93da-210c3b12d153',\n",
       " '2596eb32-1323-41e9-8c0f-64819abcfc73',\n",
       " '25cfca07-2101-484f-b312-a927395f2651',\n",
       " '266180ed-77a3-4284-8292-50a49fc47fce',\n",
       " '29dc8176-dfe1-40e0-8247-2dc3c530057e',\n",
       " '2ac343e4-c889-47c1-8fe2-461b626def76',\n",
       " '2bd15b6e-fe2d-49f3-b394-940d024d1f91',\n",
       " '2f68686f-1fe8-46e7-ad92-a08e3523ea79',\n",
       " '3090a362-1f3d-49e9-a76e-ce76ff9c2276',\n",
       " '30ad83f1-a9b3-4a07-aea6-6c06b71e9ace',\n",
       " '38c69905-8a4f-451a-8d0a-b855dc88dd16',\n",
       " '3a8f468f-f9de-46a8-a7c8-f2be239fa207',\n",
       " '3e33ee12-ef02-4287-8318-7ad3b284a617',\n",
       " '468c261d-f5d8-423f-883e-48af2bbbc5d1',\n",
       " '4a49841f-216c-4815-8140-b8762c4f6603',\n",
       " '4b3a49bc-8536-4760-9553-440a6f64db37',\n",
       " '4c13e22e-dfd1-4fa1-b373-be9d0c272c0f',\n",
       " '550cf4ce-b641-44a3-8487-3e16d4049187',\n",
       " '555c6ea2-c76c-4e71-af57-855d940c2b37',\n",
       " '56551792-4aa1-4301-9f8f-8bfebcd20050',\n",
       " '5955289d-19e5-45ef-a012-c8ea08ef45e2',\n",
       " '59dc7da9-35d1-421e-a61b-1e9637bfbfa1',\n",
       " '5a105b89-c592-4d78-b208-7db6c6572752',\n",
       " '5bf91ff9-80df-49c0-9c3e-599357d95530',\n",
       " '5c99cd97-39f6-4809-9528-9d380cc16b16',\n",
       " '5cac6ddf-c8c6-45de-bce0-a1db64b14fb5',\n",
       " '5f2b32bd-fdca-4d6f-b13a-ee9f83626c8d',\n",
       " '6231d81d-9e84-4a5a-8cb8-47c6a37a0176',\n",
       " '63055d1b-5221-4c80-8b39-37ac069a1b5c',\n",
       " '63d36d2c-43a9-49ac-9504-028b4968c860',\n",
       " '64113b22-03b1-4ab8-89ab-b2f32154fbbd',\n",
       " '674b0fd3-f247-4b7f-97f7-3e6c57c9ba9e',\n",
       " '67abb826-9b70-4459-8764-da76ecf35bfe',\n",
       " '686ed568-d5f8-475e-81ad-edab9dd473a0',\n",
       " '69b5b3de-ec64-4e5d-bcc2-44f495e06e76',\n",
       " '6b2ff7ca-c5b3-415c-9481-7b14efc6d7ef',\n",
       " '6ba5d0b8-cdc7-4266-9d78-db76faa312e9',\n",
       " '6f67a66b-56ec-4c36-ae7c-f250d3b86a23',\n",
       " '7029feb3-9ffe-46e4-9883-6a9df84f7b62',\n",
       " '755e5bf8-e8e1-492b-a32f-f7d87cccaa40',\n",
       " '787abd97-dd37-4212-8b43-61696eb3abc0',\n",
       " '79f2fbab-169d-4062-820d-3dfd12f062c8',\n",
       " '7bde7de1-889b-4218-b0e1-e2c04f6a7986',\n",
       " '84d7545e-c3a8-4b1f-9a39-36aab78c8699',\n",
       " '877d5e7f-19b6-40e7-81bd-c92f25e72503',\n",
       " '89b3d781-2f81-4d23-bed4-84da064df7f3',\n",
       " '8dace03a-10c4-4d59-bcd9-a2c314c5df33',\n",
       " '8e4bdd0d-1c72-4836-ae3e-05e2e50e4983',\n",
       " '90a82250-1f68-48c9-9af9-15f18bf8c974',\n",
       " '9691c57a-ccf8-47f9-a8e9-9a324974585b',\n",
       " '99e979d4-ee97-4d7f-9da6-00bead40db4d',\n",
       " 'a11ed7d0-12f6-468f-abad-5cba7d968123',\n",
       " 'a15e0fa8-2620-4f66-896e-175115c9dc3d',\n",
       " 'a23f5539-bfe6-4885-9a0e-dba972475ea9',\n",
       " 'a63ce82f-f3d1-4818-9035-d3d230e5f686',\n",
       " 'a6fe423a-5204-4378-bcfa-d6d298a3e9aa',\n",
       " 'a74b6d6a-7e04-40ac-9292-d62f13f7ded3',\n",
       " 'a8cb75ba-3f2f-40d8-8bc7-c79ebd1b9603',\n",
       " 'ab27173b-6e30-4957-bd68-29194328fd39',\n",
       " 'b523daee-317b-461d-bdc1-07b4add4d488',\n",
       " 'b85fc640-de49-4f7e-afc0-978ff020f2e2',\n",
       " 'bb795ddf-ce72-42d5-9006-124db4d5cf1c',\n",
       " 'bbecf1a8-a728-4c83-87f8-4dfbac0a1e03',\n",
       " 'c0c3041f-78cd-46de-8e36-0a7dad0c04c4',\n",
       " 'c3209548-7f7c-4afd-b47c-b42a72b1ebf7',\n",
       " 'c3215597-a032-46be-9058-d6de1e5191d7',\n",
       " 'c4c7ed75-dbdf-4bb6-b6ba-718903cf7264',\n",
       " 'c52f8cc8-afd7-441c-9f1f-18b6e16d79cf',\n",
       " 'c54fcef1-0c51-4426-9a93-15ec5f2bf58a',\n",
       " 'c6d97845-8ad2-4ab7-b385-66613628df5b',\n",
       " 'c742ee2c-6814-46cd-af56-ae87bb9972f4',\n",
       " 'ca5e6a15-ba65-48ea-8913-2d986e71bf3a',\n",
       " 'ca734448-0d52-42fa-b41c-17b2939e58ae',\n",
       " 'ca9626bc-21a4-46f4-ba94-e7ee7a4cf735',\n",
       " 'cc275c45-7511-4070-84af-10b8ffebda53',\n",
       " 'cecbf663-0751-4e7f-b298-770c88afc2c1',\n",
       " 'd4fef0c5-6597-48b6-97e9-32ed504488e6',\n",
       " 'd6352a03-ef81-421d-915e-226499555d20',\n",
       " 'd67398c5-8b0e-463f-a04e-8583c820786c',\n",
       " 'd67655e6-0a80-4a86-b552-1f5e85788377',\n",
       " 'd7c7eb2c-2acd-4f86-8a5a-09ab3dd02d16',\n",
       " 'db249e5a-4142-432c-8288-bacd10d7273d',\n",
       " 'de5d19b7-e670-4ac7-843b-7ce7bcebdf45',\n",
       " 'df3d98b9-3dd7-4107-8d4a-ae1b7f247793',\n",
       " 'e13f2327-fbf4-4d84-a8c1-09cb1e449c8c',\n",
       " 'e234ce8b-4ec4-4d93-9068-d7854d77ddf4',\n",
       " 'e3ade58d-086c-47fa-9120-76beacb45395',\n",
       " 'e3c1442a-717f-41dd-bf97-81e1233ac9fa',\n",
       " 'e474a20b-2769-48f1-a520-4f6ef5a0dbf5',\n",
       " 'e61e6af2-7f8b-47b0-bbe7-acb2ed0299ab',\n",
       " 'e63e1607-f344-43d6-a0d8-e10cf2e5054a',\n",
       " 'ea6b012a-3425-4bfc-a61d-88563aa2a264',\n",
       " 'ecd68ba2-48af-4866-826a-7cd1c147c055',\n",
       " 'ed0d8763-e734-4506-b61b-53fc32a8d8c9',\n",
       " 'f09acb0c-b270-4e91-99f8-410adfa7f34a',\n",
       " 'f68ae8e9-e760-4106-88e0-4bdef2785f06',\n",
       " 'f7231477-f2c1-439a-9c8b-204de07686a4',\n",
       " 'f77d7469-d083-4c2d-a4ea-5a9ff162e3e2',\n",
       " 'f8242b97-b8d5-48b5-b808-0b0f75a5de97',\n",
       " 'fa4f8d1a-cb3a-4722-a566-6c7072f30606',\n",
       " 'faead1c7-bb2c-4adf-bfce-9ff36cd2cf6a',\n",
       " 'fbc1f360-4382-48bb-a32e-3f5f2f9dbe57',\n",
       " 'fed6ba05-36a5-45dc-a4e1-9baa7de2c622',\n",
       " 'ff1b23d0-3cef-459b-b81f-39bfcdb6526f'}"
      ]
     },
     "execution_count": 15,
     "metadata": {},
     "output_type": "execute_result"
    }
   ],
   "source": [
    "set(ddd[0]['sub_fid_list_for_train']) - set(ddd[5]['sub_fid_list_for_train']) "
   ]
  },
  {
   "cell_type": "code",
   "execution_count": 23,
   "id": "b6390f0c",
   "metadata": {},
   "outputs": [
    {
     "data": {
      "text/plain": [
       "'convertor/fold0/images/train2017/2240b991-48f6-4c59-9b62-5a8b5e541fae.png'"
      ]
     },
     "execution_count": 23,
     "metadata": {},
     "output_type": "execute_result"
    }
   ],
   "source": [
    "fid_to_image_path['2240b991-48f6-4c59-9b62-5a8b5e541fae']"
   ]
  },
  {
   "cell_type": "code",
   "execution_count": 25,
   "id": "c7452405",
   "metadata": {},
   "outputs": [
    {
     "name": "stdout",
     "output_type": "stream",
     "text": [
      "aaakkkccc\n",
      "aaabbbccc\n"
     ]
    }
   ],
   "source": [
    "src = 'aaabbbccc'\n",
    "dst = src.replace('bbb','kkk')\n",
    "print(dst)\n",
    "print(src)"
   ]
  }
 ],
 "metadata": {
  "kernelspec": {
   "display_name": "Python 3 (ipykernel)",
   "language": "python",
   "name": "python3"
  },
  "language_info": {
   "codemirror_mode": {
    "name": "ipython",
    "version": 3
   },
   "file_extension": ".py",
   "mimetype": "text/x-python",
   "name": "python",
   "nbconvert_exporter": "python",
   "pygments_lexer": "ipython3",
   "version": "3.8.13"
  }
 },
 "nbformat": 4,
 "nbformat_minor": 5
}
