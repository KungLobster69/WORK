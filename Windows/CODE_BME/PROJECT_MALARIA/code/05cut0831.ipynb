{
 "cells": [
  {
   "cell_type": "code",
   "execution_count": 1,
   "id": "33aeb451",
   "metadata": {},
   "outputs": [],
   "source": [
    " import json\n",
    "import cv2\n",
    "import os\n",
    "from tqdm import *\n",
    "\n",
    "\n",
    "row_th = 200\n",
    "col_th = 200\n"
   ]
  },
  {
   "cell_type": "code",
   "execution_count": 2,
   "id": "1152f5b0",
   "metadata": {},
   "outputs": [],
   "source": [
    "# 1. load json\n",
    "json_train = 'test_vivax.json'\n",
    "with open(json_train, 'r') as fr:\n",
    "    json_data_train = json.load(fr)\n",
    "    \n",
    " \n"
   ]
  },
  {
   "cell_type": "code",
   "execution_count": 4,
   "id": "2bf7e0f3",
   "metadata": {},
   "outputs": [
    {
     "name": "stderr",
     "output_type": "stream",
     "text": [
      "100%|██████████████████████████████████████████████████████████████████████████████████| 40/40 [00:08<00:00,  4.52it/s]"
     ]
    },
    {
     "name": "stdout",
     "output_type": "stream",
     "text": [
      "{'red blood cell': 2132, 'gametocyte': 7, 'ring': 37, 'schizont': 11, 'trophozoite': 5}\n"
     ]
    },
    {
     "name": "stderr",
     "output_type": "stream",
     "text": [
      "\n"
     ]
    }
   ],
   "source": [
    "category_to_count = {}\n",
    "image_path_root = 'img/'\n",
    "dst = 'crop/'\n",
    "for image_name in tqdm( os.listdir(image_path_root) ):\n",
    "    image_path_real = os.path.join(image_path_root, image_name)\n",
    "    img = cv2.imread(image_path_real, cv2.IMREAD_COLOR)# IMREAD_GRAYSCALE, IMREAD_COLOR\n",
    "\n",
    "    # training data\n",
    "    for d in json_data_train:\n",
    "        if image_name in d['image']['pathname']:\n",
    "            json1 = d\n",
    "            if 'objects' in json1:\n",
    "                cnt = 0\n",
    "                for cell in json1['objects']:\n",
    "                    cnt+=1\n",
    "                    x1 = cell['bounding_box']['minimum']['r']\n",
    "                    x2 = cell['bounding_box']['maximum']['r']\n",
    "                    y1 = cell['bounding_box']['minimum']['c']\n",
    "                    y2 = cell['bounding_box']['maximum']['c']\n",
    "                    \n",
    "                    x_delta = (row_th-(x2-x1))//2\n",
    "                    y_delta = (col_th-(y2-y1))//2\n",
    "                    x1_new = x1-x_delta\n",
    "                    x2_new = x2+x_delta\n",
    "                    y1_new = y1-y_delta\n",
    "                    y2_new = y2+y_delta\n",
    "                    while x2_new-x1_new<row_th:\n",
    "                        x2_new += 1\n",
    "                    while y2_new-y1_new<col_th:\n",
    "                        y2_new += 1\n",
    "\n",
    "                    is_skip = False\n",
    "                    if x1_new<0 or x2_new>img.shape[0] or y1_new<0 or y2_new>img.shape[1]:\n",
    "                        is_skip = True\n",
    "                    \n",
    "                    if is_skip==False:\n",
    "                        label = cell['category']\n",
    "                        #print('cell, label={0}, position={1},{2},{3},{4}'.format(label,x1,x2,y1,y2))\n",
    "                        filename = os.path.join(dst, image_name.split('.')[0]+'___'+str(cnt)+'___'+label.replace(' ', '_')+'.png')\n",
    "\n",
    "                        subimg = img[x1_new:x2_new, y1_new:y2_new]\n",
    "                        cv2.imwrite(filename, subimg)\n",
    "                        if label not in category_to_count:\n",
    "                            category_to_count[label] = 0\n",
    "                        category_to_count[label]+=1\n",
    "\n",
    "                    \n",
    "print(category_to_count)                    \n"
   ]
  },
  {
   "cell_type": "code",
   "execution_count": null,
   "id": "cd04501d",
   "metadata": {},
   "outputs": [],
   "source": []
  },
  {
   "cell_type": "code",
   "execution_count": null,
   "id": "f1f428f0",
   "metadata": {},
   "outputs": [],
   "source": []
  },
  {
   "cell_type": "code",
   "execution_count": null,
   "id": "e0e6481b",
   "metadata": {},
   "outputs": [],
   "source": []
  },
  {
   "cell_type": "code",
   "execution_count": null,
   "id": "954bf9ec",
   "metadata": {},
   "outputs": [],
   "source": []
  },
  {
   "cell_type": "code",
   "execution_count": null,
   "id": "4beb637b",
   "metadata": {},
   "outputs": [],
   "source": [
    "test_vivax.json"
   ]
  },
  {
   "cell_type": "code",
   "execution_count": null,
   "id": "9cab8779",
   "metadata": {},
   "outputs": [],
   "source": []
  },
  {
   "cell_type": "code",
   "execution_count": null,
   "id": "c02dbdb0",
   "metadata": {},
   "outputs": [],
   "source": []
  },
  {
   "cell_type": "code",
   "execution_count": null,
   "id": "1dae8de6",
   "metadata": {},
   "outputs": [],
   "source": []
  },
  {
   "cell_type": "code",
   "execution_count": null,
   "id": "b6c9778c",
   "metadata": {},
   "outputs": [],
   "source": []
  }
 ],
 "metadata": {
  "kernelspec": {
   "display_name": "Python 3 (ipykernel)",
   "language": "python",
   "name": "python3"
  },
  "language_info": {
   "codemirror_mode": {
    "name": "ipython",
    "version": 3
   },
   "file_extension": ".py",
   "mimetype": "text/x-python",
   "name": "python",
   "nbconvert_exporter": "python",
   "pygments_lexer": "ipython3",
   "version": "3.8.12"
  }
 },
 "nbformat": 4,
 "nbformat_minor": 5
}
