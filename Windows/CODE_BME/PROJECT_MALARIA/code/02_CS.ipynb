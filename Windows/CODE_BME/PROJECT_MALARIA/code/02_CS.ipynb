{
 "cells": [
  {
   "cell_type": "code",
   "execution_count": 7,
   "id": "98154577",
   "metadata": {},
   "outputs": [
    {
     "name": "stdout",
     "output_type": "stream",
     "text": [
      "sample2/93f40356-5676-45d3-8e83-8028708c93ba.png\n"
     ]
    }
   ],
   "source": [
    "import os\n",
    "import cv2\n",
    "\n",
    "\n",
    "def constrast_enhance(f):\n",
    "    img=cv2.imread(f,cv2.IMREAD_COLOR)\n",
    "    for i in range(img.shape[0]):\n",
    "        for j in range(img.shape[1]):\n",
    "            b,g,r = img[i][j]\n",
    "            \n",
    "            # range-01(<100)\n",
    "            if b<100:\n",
    "                b=0.8*b\n",
    "            if g<100:\n",
    "                g=0.8*g\n",
    "            if r<100:\n",
    "                r=0.8*r\n",
    "            # range-02（100-200）\n",
    "            if 100<=b<200:\n",
    "                b=1.3*b\n",
    "            if 100<=g<200:\n",
    "                g=1.3*g\n",
    "            if 100<=r<200:\n",
    "                r=1.3*r\n",
    "            # range-03（200-255）\n",
    "            if 200<=b<=255:\n",
    "                b=1.5*b            \n",
    "            if 200<=g<=255:\n",
    "                g=1.5*g            \n",
    "            if 200<=r<=255:\n",
    "                r=1.5*r\n",
    "            if b>255:\n",
    "                b=255\n",
    "            if g>255:\n",
    "                g=255\n",
    "            if r>255:\n",
    "                r=255\n",
    "            img[i][j] = (int(b),int(g),int(r))\n",
    "        \n",
    "    return img\n",
    "\n",
    "\n",
    "path='sample2/'\n",
    "for f in os.listdir(path):\n",
    "    file_name = f\n",
    "    f = os.path.join(path,f)\n",
    "    print(f)\n",
    "    # process image            \n",
    "    img = constrast_enhance(f)\n",
    "    # save image\n",
    "    cv2.imwrite('sample3/{0}'.format(file_name),img)"
   ]
  },
  {
   "cell_type": "code",
   "execution_count": null,
   "id": "55e6fc89",
   "metadata": {},
   "outputs": [],
   "source": [
    "           ''' b,g,r = img[i][j]# get bgr\n",
    "            if 0<b<100,b=0.9 \n",
    "            100<b<200 b=1.4\n",
    "            200<b<255 b=5/55\n",
    "            b,g,r = 255-b,255-g,255-r# calculate bgr\n",
    "            img[i][j] = (b,g,r)# set bgr'''"
   ]
  },
  {
   "cell_type": "code",
   "execution_count": 15,
   "id": "69b4efdd",
   "metadata": {},
   "outputs": [],
   "source": [
    "img_orig=cv2.imread('output_test/constrast_enhance_image/997eabd9-55bf-4683-83c4-4cee4673a4ef-orig.png',cv2.IMREAD_COLOR)\n",
    "img_dst=cv2.imread('output_test/constrast_enhance_image/997eabd9-55bf-4683-83c4-4cee4673a4ef-dst.png',cv2.IMREAD_COLOR)\n",
    "\n",
    "for i in range(img_orig.shape[0]):\n",
    "    for j in range(img_orig.shape[1]):\n",
    "        b1,g1,r1 = img_orig[i][j]\n",
    "        b2,g2,r2 = img_dst[i][j]\n",
    "        if b1!=b2 or g1!=g2 or r1!=r2:\n",
    "            print('original: {0}, dst: {}'.format())"
   ]
  }
 ],
 "metadata": {
  "kernelspec": {
   "display_name": "Python 3 (ipykernel)",
   "language": "python",
   "name": "python3"
  },
  "language_info": {
   "codemirror_mode": {
    "name": "ipython",
    "version": 3
   },
   "file_extension": ".py",
   "mimetype": "text/x-python",
   "name": "python",
   "nbconvert_exporter": "python",
   "pygments_lexer": "ipython3",
   "version": "3.8.12"
  }
 },
 "nbformat": 4,
 "nbformat_minor": 5
}
