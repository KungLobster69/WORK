{
 "cells": [
  {
   "cell_type": "markdown",
   "id": "c39431f0",
   "metadata": {},
   "source": [
    "# 1. load data"
   ]
  },
  {
   "cell_type": "code",
   "execution_count": 5,
   "id": "084b979f",
   "metadata": {},
   "outputs": [],
   "source": [
    "from keras.utils import to_categorical\n"
   ]
  },
  {
   "cell_type": "code",
   "execution_count": 6,
   "id": "30f907bb",
   "metadata": {},
   "outputs": [
    {
     "name": "stdout",
     "output_type": "stream",
     "text": [
      "(12625,) (12625,)\n"
     ]
    }
   ],
   "source": [
    "import joblib as jl\n",
    "\n",
    "x_data = jl.load('x_data.jl.z')\n",
    "y_data = jl.load('y_data.jl.z')\n",
    "print(x_data.shape, y_data.shape)"
   ]
  },
  {
   "cell_type": "code",
   "execution_count": 7,
   "id": "6978ae0d",
   "metadata": {},
   "outputs": [
    {
     "name": "stdout",
     "output_type": "stream",
     "text": [
      "{2: 2302, 3: 2584, 5: 2557, 0: 2606, 4: 2576}\n"
     ]
    }
   ],
   "source": [
    "label_to_count = {}\n",
    "for y in y_data:\n",
    "    if y not in label_to_count:\n",
    "        label_to_count[y]=0\n",
    "    label_to_count[y]+=1\n",
    "    \n",
    "print(label_to_count)    "
   ]
  },
  {
   "cell_type": "code",
   "execution_count": 10,
   "id": "d297afa4",
   "metadata": {},
   "outputs": [
    {
     "name": "stdout",
     "output_type": "stream",
     "text": [
      "{2: 2302, 3: 2584, 5: 2557, 0: 2606, 4: 2576}\n"
     ]
    }
   ],
   "source": [
    "# for test\n",
    "##x_data2 = x_data[:40000]\n",
    "##y_data2 = y_data[:40000]\n",
    "\n",
    "# for true run \n",
    "x_data2 = x_data[:]\n",
    "y_data2 = y_data[:]\n",
    "\n",
    "label_to_count = {}\n",
    "for y in y_data2:\n",
    "    if y not in label_to_count:\n",
    "        label_to_count[y]=0\n",
    "    label_to_count[y]+=1\n",
    "    \n",
    "print(label_to_count)    \n",
    "\n",
    "\n",
    "x_data = x_data2\n",
    "y_data = y_data2"
   ]
  },
  {
   "cell_type": "code",
   "execution_count": null,
   "id": "5a3ec3e5",
   "metadata": {},
   "outputs": [],
   "source": []
  },
  {
   "cell_type": "code",
   "execution_count": null,
   "id": "b32385ae",
   "metadata": {},
   "outputs": [],
   "source": [
    "from keras.utils import to_categorical\n",
    "import numpy as np\n",
    "x_data = np.array(x_data, dtype=np.float32)\n",
    "\n",
    "x_data = x_data/255\n",
    "y_data = to_categorical(y_data, 6)"
   ]
  },
  {
   "cell_type": "code",
   "execution_count": null,
   "id": "a3c71dac",
   "metadata": {},
   "outputs": [],
   "source": []
  },
  {
   "cell_type": "code",
   "execution_count": null,
   "id": "b096bae7",
   "metadata": {},
   "outputs": [],
   "source": []
  },
  {
   "cell_type": "markdown",
   "id": "6feef1f8",
   "metadata": {},
   "source": [
    "# 2. train test split"
   ]
  },
  {
   "cell_type": "code",
   "execution_count": null,
   "id": "18ed025e",
   "metadata": {},
   "outputs": [],
   "source": [
    "from sklearn.model_selection import train_test_split\n",
    "\n",
    "#x_data = x_data.reshape( (x_data.shape[0],x_data.shape[1]*x_data.shape[2]*x_data.shape[3]) )\n",
    "\n",
    "\n",
    "x_train,x_test,y_train,y_test = train_test_split(x_data, y_data, test_size=0.2, random_state=666)\n",
    "print(x_train.shape,x_test.shape,y_train.shape,y_test.shape)"
   ]
  },
  {
   "cell_type": "code",
   "execution_count": null,
   "id": "b2dfb725",
   "metadata": {},
   "outputs": [],
   "source": [
    "del x_data"
   ]
  },
  {
   "cell_type": "markdown",
   "id": "553f02cf",
   "metadata": {},
   "source": [
    "# 3. CNN: LeNet-5"
   ]
  },
  {
   "cell_type": "code",
   "execution_count": null,
   "id": "c8ca9eda",
   "metadata": {},
   "outputs": [],
   "source": [
    "from keras import layers\n",
    "from keras import models\n",
    "\n",
    "\n",
    "model = models.Sequential()\n",
    "model.add(layers.Conv2D(6, (5,5), activation='tanh', input_shape=(200, 200, 3)))\n",
    "model.add(layers.MaxPooling2D(2,2))\n",
    "model.add(layers.Conv2D(6, (5,5), activation='tanh'))\n",
    "model.add(layers.MaxPooling2D(2,2))\n",
    "model.add(layers.Conv2D(6, (5,5), activation='tanh'))\n",
    "model.add(layers.Flatten())\n",
    "model.add(layers.Dense(84, activation='tanh'))\n",
    "model.add(layers.Dense(6, activation='softmax'))\n",
    "\n",
    "model.compile(optimizer='adam', loss='categorical_crossentropy', metrics=['accuracy'])"
   ]
  },
  {
   "cell_type": "code",
   "execution_count": null,
   "id": "9d61d833",
   "metadata": {},
   "outputs": [],
   "source": [
    "model.summary()"
   ]
  },
  {
   "cell_type": "code",
   "execution_count": null,
   "id": "c9955565",
   "metadata": {},
   "outputs": [],
   "source": [
    "history = model.fit(x_train,y_train,validation_data=(x_test,y_test), epochs=50, batch_size=512)"
   ]
  },
  {
   "cell_type": "markdown",
   "id": "bd2faa7d",
   "metadata": {},
   "source": [
    "# 4. classification_report"
   ]
  },
  {
   "cell_type": "code",
   "execution_count": null,
   "id": "dde74bd0",
   "metadata": {
    "scrolled": false
   },
   "outputs": [],
   "source": [
    "from sklearn.metrics import classification_report\n",
    "\n",
    "\n",
    "y_pred1 = model.predict(x_test)\n",
    "y_true = []\n",
    "y_pred = []\n",
    "for y in y_pred1:\n",
    "    y_pred.append(np.argmax(y))\n",
    "\n",
    "for y in y_test:\n",
    "    y_true.append(np.argmax(y))\n",
    "\n",
    "    \n",
    "print( classification_report (y_true, y_pred, \n",
    "                              target_names=['red_blood_cell', 'schizont', 'ring', 'trophozoite', 'gametocyte']\n",
    "\n",
    "                             ) )"
   ]
  },
  {
   "cell_type": "code",
   "execution_count": null,
   "id": "4d4dab0c",
   "metadata": {},
   "outputs": [],
   "source": []
  },
  {
   "cell_type": "code",
   "execution_count": null,
   "id": "e9009618",
   "metadata": {},
   "outputs": [],
   "source": []
  },
  {
   "cell_type": "code",
   "execution_count": null,
   "id": "d50eb765",
   "metadata": {},
   "outputs": [],
   "source": []
  },
  {
   "cell_type": "code",
   "execution_count": null,
   "id": "94a18b0d",
   "metadata": {},
   "outputs": [],
   "source": []
  },
  {
   "cell_type": "code",
   "execution_count": null,
   "id": "b99bf908",
   "metadata": {},
   "outputs": [],
   "source": []
  },
  {
   "cell_type": "code",
   "execution_count": null,
   "id": "de03510e",
   "metadata": {},
   "outputs": [],
   "source": []
  },
  {
   "cell_type": "code",
   "execution_count": null,
   "id": "919821f6",
   "metadata": {},
   "outputs": [],
   "source": []
  },
  {
   "cell_type": "code",
   "execution_count": null,
   "id": "65a196aa",
   "metadata": {},
   "outputs": [],
   "source": []
  },
  {
   "cell_type": "code",
   "execution_count": null,
   "id": "c6e6fb2c",
   "metadata": {},
   "outputs": [],
   "source": []
  },
  {
   "cell_type": "code",
   "execution_count": 12,
   "id": "50e8d448",
   "metadata": {},
   "outputs": [
    {
     "data": {
      "text/plain": [
       "'\\nred_blood_cell       0.99      0.98      0.99     16720\\n      schizont       0.93      0.94      0.93     15804\\n          ring       0.91      0.92      0.91     16418\\n   trophozoite       0.84      0.80      0.82     16176\\n    gametocyte       0.92      0.97      0.94     16001\\n     leukocyte       1.00      0.99      0.99     15785\\n\\n      accuracy                           0.93     96904\\n     macro avg       0.93      0.93      0.93     96904\\n  weighted avg       0.93      0.93      0.93     96904\\n'"
      ]
     },
     "execution_count": 12,
     "metadata": {},
     "output_type": "execute_result"
    }
   ],
   "source": [
    "''' PREVIOUS\n",
    "red_blood_cell       0.99      0.98      0.99     16720\n",
    "      schizont       0.93      0.94      0.93     15804\n",
    "          ring       0.91      0.92      0.91     16418\n",
    "   trophozoite       0.84      0.80      0.82     16176\n",
    "    gametocyte       0.92      0.97      0.94     16001\n",
    "     leukocyte       1.00      0.99      0.99     15785\n",
    "\n",
    "      accuracy                           0.93     96904\n",
    "     macro avg       0.93      0.93      0.93     96904\n",
    "  weighted avg       0.93      0.93      0.93     96904\n",
    "'''"
   ]
  },
  {
   "cell_type": "markdown",
   "id": "4496ed07",
   "metadata": {},
   "source": [
    "# 5. plot acc"
   ]
  },
  {
   "cell_type": "code",
   "execution_count": 13,
   "id": "40ea69f0",
   "metadata": {},
   "outputs": [
    {
     "data": {
      "text/plain": [
       "{'loss': [0.7494551539421082,\n",
       "  0.5184573531150818,\n",
       "  0.4265047013759613,\n",
       "  0.3698621690273285,\n",
       "  0.33502575755119324,\n",
       "  0.3139370381832123,\n",
       "  0.29395169019699097,\n",
       "  0.2829805016517639,\n",
       "  0.2737594544887543,\n",
       "  0.26271045207977295,\n",
       "  0.25459763407707214,\n",
       "  0.2480441778898239,\n",
       "  0.24577657878398895,\n",
       "  0.2373037040233612,\n",
       "  0.2385813444852829,\n",
       "  0.22874686121940613,\n",
       "  0.22688449919223785,\n",
       "  0.2239214926958084,\n",
       "  0.21964243054389954,\n",
       "  0.2165002077817917,\n",
       "  0.2157164216041565,\n",
       "  0.21091793477535248,\n",
       "  0.2093970626592636,\n",
       "  0.2058572620153427,\n",
       "  0.20585563778877258,\n",
       "  0.20380111038684845,\n",
       "  0.20236465334892273,\n",
       "  0.1986486315727234,\n",
       "  0.1973591297864914,\n",
       "  0.19601020216941833,\n",
       "  0.1976885050535202,\n",
       "  0.1935153603553772,\n",
       "  0.1940283179283142,\n",
       "  0.19076134264469147,\n",
       "  0.18942643702030182,\n",
       "  0.18764691054821014,\n",
       "  0.1869579255580902,\n",
       "  0.18617522716522217,\n",
       "  0.1831730306148529,\n",
       "  0.18417854607105255,\n",
       "  0.18335388600826263,\n",
       "  0.18423201143741608,\n",
       "  0.18193848431110382,\n",
       "  0.1809035837650299,\n",
       "  0.17908543348312378,\n",
       "  0.17496700584888458,\n",
       "  0.17473894357681274,\n",
       "  0.1760970801115036,\n",
       "  0.17598433792591095,\n",
       "  0.17345011234283447],\n",
       " 'accuracy': [0.7092840075492859,\n",
       "  0.8019540309906006,\n",
       "  0.8372728228569031,\n",
       "  0.8593155145645142,\n",
       "  0.8732134103775024,\n",
       "  0.8810408115386963,\n",
       "  0.8883058428764343,\n",
       "  0.8924078941345215,\n",
       "  0.896012008190155,\n",
       "  0.8998509049415588,\n",
       "  0.9029545187950134,\n",
       "  0.9052325487136841,\n",
       "  0.9059678316116333,\n",
       "  0.9090791940689087,\n",
       "  0.9088108539581299,\n",
       "  0.9124253392219543,\n",
       "  0.9132999181747437,\n",
       "  0.9144324660301208,\n",
       "  0.9162564873695374,\n",
       "  0.9172058701515198,\n",
       "  0.9177656769752502,\n",
       "  0.9190608263015747,\n",
       "  0.9201340675354004,\n",
       "  0.9213440418243408,\n",
       "  0.9212588667869568,\n",
       "  0.9219529032707214,\n",
       "  0.9226030111312866,\n",
       "  0.9240374565124512,\n",
       "  0.9246359467506409,\n",
       "  0.9254615306854248,\n",
       "  0.9244399070739746,\n",
       "  0.9262019991874695,\n",
       "  0.9258536696434021,\n",
       "  0.9269527196884155,\n",
       "  0.927393913269043,\n",
       "  0.9286580681800842,\n",
       "  0.9285135865211487,\n",
       "  0.9287663698196411,\n",
       "  0.9301982522010803,\n",
       "  0.9296022653579712,\n",
       "  0.9301543831825256,\n",
       "  0.9300099015235901,\n",
       "  0.930789053440094,\n",
       "  0.9305826425552368,\n",
       "  0.9315862059593201,\n",
       "  0.9336320757865906,\n",
       "  0.9337894320487976,\n",
       "  0.9329664707183838,\n",
       "  0.9328091144561768,\n",
       "  0.9341300129890442],\n",
       " 'val_loss': [0.6041448712348938,\n",
       "  0.4853472113609314,\n",
       "  0.37201884388923645,\n",
       "  0.3461173176765442,\n",
       "  0.3107481598854065,\n",
       "  0.36351725459098816,\n",
       "  0.31745645403862,\n",
       "  0.3025442361831665,\n",
       "  0.295417457818985,\n",
       "  0.2568598985671997,\n",
       "  0.28832975029945374,\n",
       "  0.23959855735301971,\n",
       "  0.2645558714866638,\n",
       "  0.25493037700653076,\n",
       "  0.24050085246562958,\n",
       "  0.22908569872379303,\n",
       "  0.2139746993780136,\n",
       "  0.25122788548469543,\n",
       "  0.2386636584997177,\n",
       "  0.27497217059135437,\n",
       "  0.2354961335659027,\n",
       "  0.23038871586322784,\n",
       "  0.21025560796260834,\n",
       "  0.2986869513988495,\n",
       "  0.21144242584705353,\n",
       "  0.3008671700954437,\n",
       "  0.20507732033729553,\n",
       "  0.21037627756595612,\n",
       "  0.265211284160614,\n",
       "  0.20658458769321442,\n",
       "  0.21641306579113007,\n",
       "  0.27929845452308655,\n",
       "  0.1903190016746521,\n",
       "  0.24939338862895966,\n",
       "  0.22631841897964478,\n",
       "  0.21076911687850952,\n",
       "  0.2506716251373291,\n",
       "  0.39116987586021423,\n",
       "  0.20412202179431915,\n",
       "  0.1861276477575302,\n",
       "  0.19908320903778076,\n",
       "  0.2244500070810318,\n",
       "  0.1824694275856018,\n",
       "  0.2767946124076843,\n",
       "  0.337856650352478,\n",
       "  0.18338190019130707,\n",
       "  0.19644546508789062,\n",
       "  0.18337075412273407,\n",
       "  0.22158010303974152,\n",
       "  0.17852076888084412],\n",
       " 'val_accuracy': [0.7665731310844421,\n",
       "  0.8114113211631775,\n",
       "  0.860913872718811,\n",
       "  0.8724717497825623,\n",
       "  0.8841224312782288,\n",
       "  0.8590667247772217,\n",
       "  0.879581868648529,\n",
       "  0.8805931806564331,\n",
       "  0.885144054889679,\n",
       "  0.9032754302024841,\n",
       "  0.8893337845802307,\n",
       "  0.9091472029685974,\n",
       "  0.8975274562835693,\n",
       "  0.90068519115448,\n",
       "  0.9052154421806335,\n",
       "  0.911293625831604,\n",
       "  0.9185379147529602,\n",
       "  0.9014901518821716,\n",
       "  0.9071142673492432,\n",
       "  0.8928321003913879,\n",
       "  0.910210132598877,\n",
       "  0.912036657333374,\n",
       "  0.9201168417930603,\n",
       "  0.8883224725723267,\n",
       "  0.9194047451019287,\n",
       "  0.8851337432861328,\n",
       "  0.9216131567955017,\n",
       "  0.9193118810653687,\n",
       "  0.8962271809577942,\n",
       "  0.920447051525116,\n",
       "  0.9162882566452026,\n",
       "  0.894287109375,\n",
       "  0.9276397228240967,\n",
       "  0.9037810564041138,\n",
       "  0.9141521453857422,\n",
       "  0.9194769859313965,\n",
       "  0.9036985039710999,\n",
       "  0.8480042219161987,\n",
       "  0.922273576259613,\n",
       "  0.9294662475585938,\n",
       "  0.9255139231681824,\n",
       "  0.9131098985671997,\n",
       "  0.9300751090049744,\n",
       "  0.8907166123390198,\n",
       "  0.8779926300048828,\n",
       "  0.9304672479629517,\n",
       "  0.9244303703308105,\n",
       "  0.9296829700469971,\n",
       "  0.9154317378997803,\n",
       "  0.932417631149292]}"
      ]
     },
     "execution_count": 13,
     "metadata": {},
     "output_type": "execute_result"
    }
   ],
   "source": [
    "history.history"
   ]
  },
  {
   "cell_type": "code",
   "execution_count": 14,
   "id": "2f023b22",
   "metadata": {},
   "outputs": [
    {
     "data": {
      "image/png": "[encoded data removed]",
      "text/plain": [
       "<Figure size 640x480 with 1 Axes>"
      ]
     },
     "metadata": {},
     "output_type": "display_data"
    }
   ],
   "source": [
    "import numpy as np\n",
    "import matplotlib.pyplot as plt\n",
    "\n",
    "\n",
    "x = history.epoch\n",
    "y_acc_train = history.history['accuracy']\n",
    "y_acc_test = history.history['val_accuracy']\n",
    "\n",
    "plt.plot(x, y_acc_train, color='g', label='acc_train')\n",
    "plt.plot(x, y_acc_test, color='b', label='acc_test')\n",
    "plt.legend(loc='best')\n",
    "\n",
    "\n",
    "plt.show()"
   ]
  },
  {
   "cell_type": "code",
   "execution_count": null,
   "id": "bb65653a",
   "metadata": {},
   "outputs": [],
   "source": []
  },
  {
   "cell_type": "markdown",
   "id": "fa4f8a40",
   "metadata": {},
   "source": [
    "# 6. data re-org\n",
    "\n",
    "* 各个类别占比均衡的数据集\n"
   ]
  },
  {
   "cell_type": "code",
   "execution_count": null,
   "id": "e9999264",
   "metadata": {},
   "outputs": [],
   "source": []
  },
  {
   "cell_type": "code",
   "execution_count": null,
   "id": "afb46d54",
   "metadata": {},
   "outputs": [],
   "source": []
  },
  {
   "cell_type": "code",
   "execution_count": null,
   "id": "2742325d",
   "metadata": {},
   "outputs": [],
   "source": []
  }
 ],
 "metadata": {
  "kernelspec": {
   "display_name": "Python 3 (ipykernel)",
   "language": "python",
   "name": "python3"
  },
  "language_info": {
   "codemirror_mode": {
    "name": "ipython",
    "version": 3
   },
   "file_extension": ".py",
   "mimetype": "text/x-python",
   "name": "python",
   "nbconvert_exporter": "python",
   "pygments_lexer": "ipython3",
   "version": "3.8.18"
  }
 },
 "nbformat": 4,
 "nbformat_minor": 5
}
