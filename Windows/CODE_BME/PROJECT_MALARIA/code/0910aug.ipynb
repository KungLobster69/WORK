{
 "cells": [
  {
   "cell_type": "code",
   "execution_count": null,
   "id": "b1e10c3e",
   "metadata": {},
   "outputs": [],
   "source": []
  },
  {
   "cell_type": "code",
   "execution_count": 2,
   "id": "d573de1d",
   "metadata": {},
   "outputs": [
    {
     "name": "stdout",
     "output_type": "stream",
     "text": [
      "Looking in indexes: http://mirrors.tencentyun.com/pypi/simple\n",
      "Collecting numpy==1.18.5\n",
      "  Downloading http://mirrors.tencentyun.com/pypi/packages/01/c6/87592f924246da1e58673cf708a2748754517c5cf050726238d6cfbd8df4/numpy-1.18.5-cp38-cp38-manylinux1_x86_64.whl (20.6 MB)\n",
      "\u001b[2K     \u001b[90m━━━━━━━━━━━━━━━━━━━━━━━━━━━━━━━━━━━━━━━━\u001b[0m \u001b[32m20.6/20.6 MB\u001b[0m \u001b[31m9.8 MB/s\u001b[0m eta \u001b[36m0:00:00\u001b[0m:00:01\u001b[0m00:01\u001b[0m\n",
      "\u001b[?25hInstalling collected packages: numpy\n",
      "  Attempting uninstall: numpy\n",
      "    Found existing installation: numpy 1.24.3\n",
      "    Uninstalling numpy-1.24.3:\n",
      "      Successfully uninstalled numpy-1.24.3\n",
      "\u001b[31mERROR: pip's dependency resolver does not currently take into account all the packages that are installed. This behaviour is the source of the following dependency conflicts.\n",
      "matplotlib 3.7.2 requires numpy>=1.20, but you have numpy 1.18.5 which is incompatible.\n",
      "numba 0.57.1 requires numpy<1.25,>=1.21, but you have numpy 1.18.5 which is incompatible.\n",
      "pandas 2.0.3 requires numpy>=1.20.3; python_version < \"3.10\", but you have numpy 1.18.5 which is incompatible.\n",
      "scikit-image 0.21.0 requires numpy>=1.21.1, but you have numpy 1.18.5 which is incompatible.\n",
      "scipy 1.10.1 requires numpy<1.27.0,>=1.19.5, but you have numpy 1.18.5 which is incompatible.\n",
      "tensorflow 2.4.1 requires absl-py~=0.10, but you have absl-py 1.4.0 which is incompatible.\n",
      "tensorflow 2.4.1 requires flatbuffers~=1.12.0, but you have flatbuffers 2.0 which is incompatible.\n",
      "tensorflow 2.4.1 requires gast==0.3.3, but you have gast 0.4.0 which is incompatible.\n",
      "tensorflow 2.4.1 requires grpcio~=1.32.0, but you have grpcio 1.48.2 which is incompatible.\n",
      "tensorflow 2.4.1 requires numpy~=1.19.2, but you have numpy 1.18.5 which is incompatible.\n",
      "tensorflow 2.4.1 requires six~=1.15.0, but you have six 1.16.0 which is incompatible.\n",
      "tensorflow 2.4.1 requires tensorflow-estimator<2.5.0,>=2.4.0, but you have tensorflow-estimator 2.6.0 which is incompatible.\n",
      "tensorflow 2.4.1 requires termcolor~=1.1.0, but you have termcolor 2.1.0 which is incompatible.\n",
      "tensorflow 2.4.1 requires typing-extensions~=3.7.4, but you have typing-extensions 4.7.1 which is incompatible.\n",
      "tensorflow 2.4.1 requires wrapt~=1.12.1, but you have wrapt 1.14.1 which is incompatible.\u001b[0m\u001b[31m\n",
      "\u001b[0mSuccessfully installed numpy-1.18.5\n",
      "\u001b[33mWARNING: Running pip as the 'root' user can result in broken permissions and conflicting behaviour with the system package manager. It is recommended to use a virtual environment instead: https://pip.pypa.io/warnings/venv\u001b[0m\u001b[33m\n",
      "\u001b[0m"
     ]
    }
   ],
   "source": [
    "! pip install numpy==1.18.5"
   ]
  },
  {
   "cell_type": "markdown",
   "id": "13158c9d",
   "metadata": {},
   "source": [
    "# 0. aug test"
   ]
  },
  {
   "cell_type": "code",
   "execution_count": 1,
   "id": "a8ecf3d1",
   "metadata": {},
   "outputs": [
    {
     "name": "stderr",
     "output_type": "stream",
     "text": [
      "2023-09-10 09:29:02.732077: I tensorflow/stream_executor/platform/default/dso_loader.cc:49] Successfully opened dynamic library libcudart.so.10.1\n",
      "/root/anaconda3/envs/env_yolo_test01_py38/lib/python3.8/site-packages/scipy/__init__.py:143: UserWarning: A NumPy version >=1.19.5 and <1.27.0 is required for this version of SciPy (detected version 1.18.5)\n",
      "  warnings.warn(f\"A NumPy version >={np_minversion} and <{np_maxversion}\"\n"
     ]
    }
   ],
   "source": [
    "from keras.preprocessing.image import ImageDataGenerator, load_img, img_to_array\n",
    "import os\n",
    "\n",
    "image_data_gen =  ImageDataGenerator(\n",
    "    rotation_range=150,\n",
    "    width_shift_range=0.1,\n",
    "    height_shift_range=0.1,\n",
    "    zoom_range = 0.1,\n",
    "    shear_range=0,\n",
    "    horizontal_flip=True\n",
    ")\n",
    "\n",
    "p = 'cell_data/1703121298-0001-G_R___10___red_blood_cell.png'\n",
    "img = load_img( p )\n",
    "\n",
    "img_array = img_to_array(img)\n",
    "img_array = img_array.reshape( (1, img_array.shape[0], img_array.shape[1], img_array.shape[2]) )\n",
    "\n",
    "i = 0\n",
    "prefix='aug__'+os.path.basename(p).replace('.png','')\n",
    "for batch in image_data_gen.flow(img_array, batch_size=1,save_to_dir='test_aug', save_prefix=prefix, save_format='png'):\n",
    "    i = i+1\n",
    "    if i>=50:\n",
    "        break\n"
   ]
  },
  {
   "cell_type": "code",
   "execution_count": 2,
   "id": "fe77152b",
   "metadata": {},
   "outputs": [],
   "source": [
    "from keras.preprocessing.image import ImageDataGenerator, load_img, img_to_array\n",
    "import os\n",
    "\n",
    "\n",
    "def augment_one_image(img_file_path, dst_dir, num):\n",
    "    image_data_gen =  ImageDataGenerator(\n",
    "        rotation_range=150,\n",
    "        width_shift_range=0.1,\n",
    "        height_shift_range=0.1,\n",
    "        zoom_range = 0.1,\n",
    "        shear_range=0,\n",
    "        horizontal_flip=True\n",
    "    )\n",
    "\n",
    "    p = img_file_path\n",
    "    img = load_img( p )\n",
    "\n",
    "    img_array = img_to_array(img)\n",
    "    img_array = img_array.reshape( (1, img_array.shape[0], img_array.shape[1], img_array.shape[2]) )\n",
    "\n",
    "    i = 0\n",
    "    prefix='aug__'+os.path.basename(p).replace('.png','')\n",
    "    for batch in image_data_gen.flow(img_array, batch_size=1,save_to_dir=dst_dir, save_prefix=prefix, save_format='png'):\n",
    "        i = i+1\n",
    "        if i>=num:\n",
    "            break\n"
   ]
  },
  {
   "cell_type": "code",
   "execution_count": null,
   "id": "ac009e30",
   "metadata": {},
   "outputs": [],
   "source": []
  },
  {
   "cell_type": "code",
   "execution_count": null,
   "id": "77e0c024",
   "metadata": {},
   "outputs": [],
   "source": []
  },
  {
   "cell_type": "code",
   "execution_count": null,
   "id": "b5eac88c",
   "metadata": {},
   "outputs": [],
   "source": []
  },
  {
   "cell_type": "markdown",
   "id": "e8a0ab1a",
   "metadata": {},
   "source": [
    "# 1. no-padding-resize"
   ]
  },
  {
   "cell_type": "code",
   "execution_count": 3,
   "id": "bfd25384",
   "metadata": {},
   "outputs": [],
   "source": [
    "import os\n",
    "\n",
    "dist = {}\n",
    "src = 'cell_data_resize//'\n",
    "for d in os.listdir(src):\n",
    "    y = d.split('___')[2].replace('.png', '')\n",
    "    if y not in dist:\n",
    "        dist[y] = 0\n",
    "    dist[y] += 1"
   ]
  },
  {
   "cell_type": "code",
   "execution_count": 4,
   "id": "0a3444f6",
   "metadata": {},
   "outputs": [
    {
     "data": {
      "text/plain": [
       "{'red_blood_cell': 2580,\n",
       " 'ring': 39,\n",
       " 'gametocyte': 8,\n",
       " 'schizont': 11,\n",
       " 'trophozoite': 5}"
      ]
     },
     "execution_count": 4,
     "metadata": {},
     "output_type": "execute_result"
    }
   ],
   "source": [
    "dist"
   ]
  },
  {
   "cell_type": "code",
   "execution_count": null,
   "id": "8d46b2ed",
   "metadata": {},
   "outputs": [],
   "source": []
  },
  {
   "cell_type": "code",
   "execution_count": 5,
   "id": "9f403539",
   "metadata": {},
   "outputs": [
    {
     "name": "stderr",
     "output_type": "stream",
     "text": [
      "100%|██████████████████████████████████████████████████████████████████████████████████████████████████████████████████| 2643/2643 [00:00<00:00, 10263.79it/s]\n"
     ]
    }
   ],
   "source": [
    "from shutil import copyfile\n",
    "from tqdm import *\n",
    "\n",
    "\n",
    "dst = 'cell_data_resize_aug/'\n",
    "\n",
    "for d in tqdm(os.listdir(src)):\n",
    "    fp_src = os.path.join(src, d)\n",
    "    fp_dst = os.path.join(dst, d)\n",
    "    y = d.split('___')[2].replace('.png', '')\n",
    "    if y=='red_blood_cell':\n",
    "        copyfile(fp_src,fp_dst)\n"
   ]
  },
  {
   "cell_type": "code",
   "execution_count": 6,
   "id": "e9f2f3de",
   "metadata": {},
   "outputs": [
    {
     "name": "stderr",
     "output_type": "stream",
     "text": [
      "100%|█████████████████████████████████████████████████████████████████████████████████████████████████████████████████████| 2643/2643 [02:27<00:00, 17.92it/s]\n"
     ]
    }
   ],
   "source": [
    "# one process, too slow\n",
    "from shutil import copyfile\n",
    "from tqdm import *\n",
    "\n",
    "\n",
    "dst = 'cell_data_resize_aug/'\n",
    "\n",
    "for d in tqdm(os.listdir(src)):\n",
    "    fp_src = os.path.join(src, d)\n",
    "    fp_dst = os.path.join(dst, d)\n",
    "    y = d.split('___')[2].replace('.png', '')\n",
    "    if y=='red_blood_cell' or y=='difficult':\n",
    "        continue\n",
    "    else:\n",
    "        num_now = dist[y]\n",
    "        num = dist['red_blood_cell']//num_now\n",
    "        augment_one_image(fp_src, dst, num)"
   ]
  },
  {
   "cell_type": "code",
   "execution_count": 10,
   "id": "b3939170",
   "metadata": {},
   "outputs": [
    {
     "data": {
      "text/plain": [
       "{'gametocyte': 2530,\n",
       " 'trophozoite': 2526,\n",
       " 'ring': 2564,\n",
       " 'schizont': 2541,\n",
       " 'red': 2580}"
      ]
     },
     "execution_count": 10,
     "metadata": {},
     "output_type": "execute_result"
    }
   ],
   "source": [
    "# check aug result\n",
    "import os\n",
    "\n",
    "dist = {}\n",
    "src = 'cell_data_resize_aug/'\n",
    "for d in os.listdir(src):\n",
    "    y = d.split('___')[2].replace('.png', '').split('_')[0]\n",
    "    if y not in dist:\n",
    "        dist[y] = 0\n",
    "    dist[y] += 1\n",
    "    \n",
    "dist"
   ]
  },
  {
   "cell_type": "code",
   "execution_count": null,
   "id": "5fd85e34",
   "metadata": {},
   "outputs": [],
   "source": []
  },
  {
   "cell_type": "code",
   "execution_count": null,
   "id": "11d18e6d",
   "metadata": {},
   "outputs": [],
   "source": []
  },
  {
   "cell_type": "code",
   "execution_count": null,
   "id": "57ad9b63",
   "metadata": {},
   "outputs": [],
   "source": []
  },
  {
   "cell_type": "code",
   "execution_count": null,
   "id": "dc53e561",
   "metadata": {},
   "outputs": [],
   "source": []
  },
  {
   "cell_type": "code",
   "execution_count": null,
   "id": "26174541",
   "metadata": {},
   "outputs": [],
   "source": []
  },
  {
   "cell_type": "code",
   "execution_count": null,
   "id": "ab2e178b",
   "metadata": {},
   "outputs": [],
   "source": []
  },
  {
   "cell_type": "code",
   "execution_count": 4,
   "id": "facd9f30",
   "metadata": {},
   "outputs": [
    {
     "name": "stderr",
     "output_type": "stream",
     "text": [
      "100%|███████████████████████████████████████████████████████████████████████████████████████████████████████████████| 86035/86035 [00:00<00:00, 661092.98it/s]\n"
     ]
    }
   ],
   "source": [
    "# multiple processes\n",
    "from shutil import copyfile\n",
    "from tqdm import *\n",
    "\n",
    "\n",
    "dst = '04_cell_data_resize_aug/'\n",
    "task_para_list = []\n",
    "\n",
    "\n",
    "for d in tqdm(os.listdir(src)):\n",
    "    fp_src = os.path.join(src, d)\n",
    "    y = d.split('___')[2].replace('.png', '')\n",
    "    if y=='red_blood_cell' or y=='difficult':\n",
    "        continue\n",
    "    else:\n",
    "        num_now = dist[y]\n",
    "        num = dist['red_blood_cell']//num_now\n",
    "        task_para_list.append( (fp_src, dst, num) )"
   ]
  },
  {
   "cell_type": "code",
   "execution_count": 5,
   "id": "572b0959",
   "metadata": {},
   "outputs": [
    {
     "data": {
      "text/plain": [
       "2555"
      ]
     },
     "execution_count": 5,
     "metadata": {},
     "output_type": "execute_result"
    }
   ],
   "source": [
    "len(task_para_list)"
   ]
  },
  {
   "cell_type": "code",
   "execution_count": 12,
   "id": "60bb41c8",
   "metadata": {},
   "outputs": [],
   "source": [
    "import time\n",
    "from multiprocessing import Process\n",
    "import os\n",
    "\n",
    "\n",
    "thnum = 40\n",
    "\n",
    "def runs(sub_task_para_list):\n",
    "    for xxx in sub_task_para_list:\n",
    "        fp_src, dst, num = xxx\n",
    "        augment_one_image(fp_src, dst, num)\n",
    "        \n",
    "n = len(task_para_list)//thnum\n",
    "for i in range(thnum):\n",
    "    p = Process(target=runs, args=(task_para_list[i*n:(i+1)*n],))  # target进程执行的任务, args传参数（元祖）\n",
    "    p.start() "
   ]
  },
  {
   "cell_type": "code",
   "execution_count": null,
   "id": "769c7a80",
   "metadata": {},
   "outputs": [],
   "source": []
  },
  {
   "cell_type": "code",
   "execution_count": 39,
   "id": "19590d30",
   "metadata": {},
   "outputs": [
    {
     "name": "stdout",
     "output_type": "stream",
     "text": [
      "484516\n",
      "{'red_blood_cell': 83034, 'leukocyte': 78846, 'schizont': 79470, 'gametocyte': 80317, 'ring': 82045, 'trophozoite': 80804}\n"
     ]
    }
   ],
   "source": [
    "import os\n",
    "dst = '04_cell_data_resize_aug/'\n",
    "\n",
    "category_list = ['red_blood_cell', 'ring', 'trophozoite', 'gametocyte', 'leukocyte', 'difficult', 'schizont']\n",
    "count = 0\n",
    "for d in os.listdir(dst):\n",
    "    count += 1\n",
    "print(count)\n",
    "\n",
    "dist = {}\n",
    "for d in os.listdir(dst):\n",
    "    for k in category_list:\n",
    "        if k in d:\n",
    "            if k not in dist:\n",
    "                dist[k] = 0\n",
    "            dist[k] += 1\n",
    "print(dist)"
   ]
  },
  {
   "cell_type": "code",
   "execution_count": 34,
   "id": "f886de67",
   "metadata": {},
   "outputs": [
    {
     "ename": "FileNotFoundError",
     "evalue": "[Errno 2] No such file or directory: '02_cell_data_cut_no_padding/'",
     "output_type": "error",
     "traceback": [
      "\u001b[0;31m---------------------------------------------------------------------------\u001b[0m",
      "\u001b[0;31mFileNotFoundError\u001b[0m                         Traceback (most recent call last)",
      "Cell \u001b[0;32mIn [34], line 6\u001b[0m\n\u001b[1;32m      4\u001b[0m category_list \u001b[38;5;241m=\u001b[39m [\u001b[38;5;124m'\u001b[39m\u001b[38;5;124mred_blood_cell\u001b[39m\u001b[38;5;124m'\u001b[39m, \u001b[38;5;124m'\u001b[39m\u001b[38;5;124mring\u001b[39m\u001b[38;5;124m'\u001b[39m, \u001b[38;5;124m'\u001b[39m\u001b[38;5;124mtrophozoite\u001b[39m\u001b[38;5;124m'\u001b[39m, \u001b[38;5;124m'\u001b[39m\u001b[38;5;124mgametocyte\u001b[39m\u001b[38;5;124m'\u001b[39m, \u001b[38;5;124m'\u001b[39m\u001b[38;5;124mleukocyte\u001b[39m\u001b[38;5;124m'\u001b[39m, \u001b[38;5;124m'\u001b[39m\u001b[38;5;124mdifficult\u001b[39m\u001b[38;5;124m'\u001b[39m, \u001b[38;5;124m'\u001b[39m\u001b[38;5;124mschizont\u001b[39m\u001b[38;5;124m'\u001b[39m]\n\u001b[1;32m      5\u001b[0m count \u001b[38;5;241m=\u001b[39m \u001b[38;5;241m0\u001b[39m\n\u001b[0;32m----> 6\u001b[0m \u001b[38;5;28;01mfor\u001b[39;00m d \u001b[38;5;129;01min\u001b[39;00m \u001b[43mos\u001b[49m\u001b[38;5;241;43m.\u001b[39;49m\u001b[43mlistdir\u001b[49m\u001b[43m(\u001b[49m\u001b[43mdst\u001b[49m\u001b[43m)\u001b[49m:\n\u001b[1;32m      7\u001b[0m     count \u001b[38;5;241m+\u001b[39m\u001b[38;5;241m=\u001b[39m \u001b[38;5;241m1\u001b[39m\n\u001b[1;32m      8\u001b[0m \u001b[38;5;28mprint\u001b[39m(count)\n",
      "\u001b[0;31mFileNotFoundError\u001b[0m: [Errno 2] No such file or directory: '02_cell_data_cut_no_padding/'"
     ]
    }
   ],
   "source": [
    "import os\n",
    "dst = '02_cell_data_cut_no_padding/'\n",
    "\n",
    "category_list = ['red_blood_cell', 'ring', 'trophozoite', 'gametocyte', 'leukocyte', 'difficult', 'schizont']\n",
    "count = 0\n",
    "for d in os.listdir(dst):\n",
    "    count += 1\n",
    "print(count)\n",
    "\n",
    "dist = {}\n",
    "for d in os.listdir(dst):\n",
    "    for k in category_list:\n",
    "        if k in d:\n",
    "            if k not in dist:\n",
    "                dist[k] = 0\n",
    "            dist[k] += 1\n",
    "print(dist)"
   ]
  },
  {
   "cell_type": "code",
   "execution_count": null,
   "id": "2fcefdba",
   "metadata": {},
   "outputs": [],
   "source": []
  },
  {
   "cell_type": "code",
   "execution_count": null,
   "id": "e3d315fb",
   "metadata": {},
   "outputs": [],
   "source": []
  },
  {
   "cell_type": "code",
   "execution_count": null,
   "id": "eca993f3",
   "metadata": {},
   "outputs": [],
   "source": []
  },
  {
   "cell_type": "code",
   "execution_count": null,
   "id": "c7457c39",
   "metadata": {},
   "outputs": [],
   "source": []
  }
 ],
 "metadata": {
  "kernelspec": {
   "display_name": "Python 3 (ipykernel)",
   "language": "python",
   "name": "python3"
  },
  "language_info": {
   "codemirror_mode": {
    "name": "ipython",
    "version": 3
   },
   "file_extension": ".py",
   "mimetype": "text/x-python",
   "name": "python",
   "nbconvert_exporter": "python",
   "pygments_lexer": "ipython3",
   "version": "3.8.17"
  }
 },
 "nbformat": 4,
 "nbformat_minor": 5
}
