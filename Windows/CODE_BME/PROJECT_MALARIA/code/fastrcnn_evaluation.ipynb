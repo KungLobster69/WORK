{
 "cells": [
  {
   "cell_type": "markdown",
   "id": "a44c77c6",
   "metadata": {},
   "source": [
    "# 1. background"
   ]
  },
  {
   "cell_type": "markdown",
   "id": "32828da7",
   "metadata": {},
   "source": [
    "* 获取到了“预测值”：weights/test_df_fastrcnn.jl\n",
    "* 获取到了“真实值”：weights/valid_df_fastrcnn.jl\n"
   ]
  },
  {
   "cell_type": "markdown",
   "id": "9cf30f9d",
   "metadata": {},
   "source": [
    "# 2. load data"
   ]
  },
  {
   "cell_type": "code",
   "execution_count": 97,
   "id": "1cc3e942",
   "metadata": {},
   "outputs": [
    {
     "name": "stdout",
     "output_type": "stream",
     "text": [
      "df_pred (9926, 9)\n",
      "df_true (10426, 10)\n"
     ]
    }
   ],
   "source": [
    "import pandas as pd\n",
    "import os\n",
    "\n",
    "d = '1'\n",
    "\n",
    "df_pred = pd.read_excel(  os.path.join(d, 'test_df_fastrcnn.jl.xlsx')  )\n",
    "df_true = pd.read_excel(  os.path.join(d, 'valid_df_fastrcnn.jl.xlsx')  )\n",
    "\n",
    "print('df_pred',df_pred.shape)\n",
    "print('df_true',df_true.shape)"
   ]
  },
  {
   "cell_type": "code",
   "execution_count": 98,
   "id": "da545c8c",
   "metadata": {},
   "outputs": [
    {
     "data": {
      "text/html": [
       "<div>\n",
       "<style scoped>\n",
       "    .dataframe tbody tr th:only-of-type {\n",
       "        vertical-align: middle;\n",
       "    }\n",
       "\n",
       "    .dataframe tbody tr th {\n",
       "        vertical-align: top;\n",
       "    }\n",
       "\n",
       "    .dataframe thead th {\n",
       "        text-align: right;\n",
       "    }\n",
       "</style>\n",
       "<table border=\"1\" class=\"dataframe\">\n",
       "  <thead>\n",
       "    <tr style=\"text-align: right;\">\n",
       "      <th></th>\n",
       "      <th>Unnamed: 0</th>\n",
       "      <th>score</th>\n",
       "      <th>x_min</th>\n",
       "      <th>y_min</th>\n",
       "      <th>x_max</th>\n",
       "      <th>y_max</th>\n",
       "      <th>label</th>\n",
       "      <th>pathname</th>\n",
       "      <th>category</th>\n",
       "    </tr>\n",
       "  </thead>\n",
       "  <tbody>\n",
       "    <tr>\n",
       "      <th>0</th>\n",
       "      <td>0</td>\n",
       "      <td>0.998232</td>\n",
       "      <td>623</td>\n",
       "      <td>1013</td>\n",
       "      <td>739</td>\n",
       "      <td>1130</td>\n",
       "      <td>1</td>\n",
       "      <td>images/0dcca702-a4ef-4fb3-a940-9c0c140b21c7.png</td>\n",
       "      <td>red blood cell</td>\n",
       "    </tr>\n",
       "    <tr>\n",
       "      <th>1</th>\n",
       "      <td>1</td>\n",
       "      <td>0.998082</td>\n",
       "      <td>1447</td>\n",
       "      <td>716</td>\n",
       "      <td>1582</td>\n",
       "      <td>846</td>\n",
       "      <td>1</td>\n",
       "      <td>images/0dcca702-a4ef-4fb3-a940-9c0c140b21c7.png</td>\n",
       "      <td>red blood cell</td>\n",
       "    </tr>\n",
       "    <tr>\n",
       "      <th>2</th>\n",
       "      <td>2</td>\n",
       "      <td>0.997781</td>\n",
       "      <td>864</td>\n",
       "      <td>334</td>\n",
       "      <td>997</td>\n",
       "      <td>453</td>\n",
       "      <td>1</td>\n",
       "      <td>images/0dcca702-a4ef-4fb3-a940-9c0c140b21c7.png</td>\n",
       "      <td>red blood cell</td>\n",
       "    </tr>\n",
       "  </tbody>\n",
       "</table>\n",
       "</div>"
      ],
      "text/plain": [
       "   Unnamed: 0     score  x_min  y_min  x_max  y_max  label  \\\n",
       "0           0  0.998232    623   1013    739   1130      1   \n",
       "1           1  0.998082   1447    716   1582    846      1   \n",
       "2           2  0.997781    864    334    997    453      1   \n",
       "\n",
       "                                          pathname        category  \n",
       "0  images/0dcca702-a4ef-4fb3-a940-9c0c140b21c7.png  red blood cell  \n",
       "1  images/0dcca702-a4ef-4fb3-a940-9c0c140b21c7.png  red blood cell  \n",
       "2  images/0dcca702-a4ef-4fb3-a940-9c0c140b21c7.png  red blood cell  "
      ]
     },
     "execution_count": 98,
     "metadata": {},
     "output_type": "execute_result"
    }
   ],
   "source": [
    "df_pred.head(3)"
   ]
  },
  {
   "cell_type": "code",
   "execution_count": 99,
   "id": "788f9d6f",
   "metadata": {},
   "outputs": [
    {
     "name": "stdout",
     "output_type": "stream",
     "text": [
      "pred_image_to_loc len =  160\n"
     ]
    }
   ],
   "source": [
    "pred_image_to_loc = {}\n",
    "\n",
    "for index, row in df_pred.iterrows():\n",
    "    pathname = row['pathname']\n",
    "    image_name = pathname.replace('images/', '')\n",
    "    x_min = row['x_min']\n",
    "    y_min = row['y_min']\n",
    "    x_max = row['x_max']\n",
    "    y_max = row['y_max']\n",
    "    c = [x_min,y_min,x_max,y_max]\n",
    "    if image_name not in pred_image_to_loc:\n",
    "        pred_image_to_loc[image_name] = []\n",
    "    pred_image_to_loc[image_name].append(c)\n",
    "    \n",
    "print('pred_image_to_loc len = ', len(pred_image_to_loc) )"
   ]
  },
  {
   "cell_type": "code",
   "execution_count": 100,
   "id": "160e2117",
   "metadata": {},
   "outputs": [
    {
     "name": "stdout",
     "output_type": "stream",
     "text": [
      "true_image_to_loc len =  160\n"
     ]
    }
   ],
   "source": [
    "true_image_to_loc = {}\n",
    "\n",
    "for index, row in df_true.iterrows():\n",
    "    pathname = row['pathname']\n",
    "    image_name = pathname.replace('images/', '')\n",
    "    x_min = row['x_min']\n",
    "    y_min = row['y_min']\n",
    "    x_max = row['x_max']\n",
    "    y_max = row['y_max']\n",
    "    c = [x_min,y_min,x_max,y_max]\n",
    "    if image_name not in true_image_to_loc:\n",
    "        true_image_to_loc[image_name] = []\n",
    "    true_image_to_loc[image_name].append(c)\n",
    "    \n",
    "print('true_image_to_loc len = ', len(true_image_to_loc) )"
   ]
  },
  {
   "cell_type": "markdown",
   "id": "34bf846c",
   "metadata": {},
   "source": [
    "# 3. IOU"
   ]
  },
  {
   "cell_type": "code",
   "execution_count": 101,
   "id": "f93000c2",
   "metadata": {},
   "outputs": [],
   "source": [
    "def get_iou(c1, c2):\n",
    "    x1_min,y1_min,x1_max,y1_max = c1\n",
    "    x2_min,y2_min,x2_max,y2_max = c2\n",
    "    left_column_max = max(x1_min,x2_min)\n",
    "    right_column_min = min(x1_max,x2_max)\n",
    "    up_row_max = max(y1_min,y2_min)\n",
    "    down_row_min = min(y1_max,y2_max)\n",
    "    if left_column_max>=right_column_min or up_row_max>=down_row_min:\n",
    "        return 0\n",
    "        \n",
    "    area_cross = (right_column_min-left_column_max)*(down_row_min-up_row_max)\n",
    "    area_s1 = (x1_max-x1_min)*(y1_max-y1_min)\n",
    "    area_s2= (x2_max-x2_min)*(y2_max-y2_min)\n",
    "    return area_cross/(area_s1+area_s2-area_cross)"
   ]
  },
  {
   "cell_type": "code",
   "execution_count": 102,
   "id": "a5ba3a76",
   "metadata": {},
   "outputs": [],
   "source": [
    "def match_cells(pred_cells, true_cells):\n",
    "    pred_correct_index_list = []\n",
    "    for j in range(len(pred_cells)):\n",
    "        c1 = pred_cells[j]\n",
    "        iou_list = []\n",
    "        for i in range(len(true_cells)):\n",
    "            c2 = true_cells[i]\n",
    "            iou = get_iou(c1, c2)\n",
    "            iou_list.append(iou)\n",
    "        max_value_index = 0\n",
    "        max_value = iou_list[max_value_index]\n",
    "        for i in range(len(iou_list)):\n",
    "            v = iou_list[i]\n",
    "            if v>max_value:\n",
    "                max_value_index = i\n",
    "                max_value = iou_list[max_value_index]\n",
    "        if max_value>0.8:\n",
    "            pred_correct_index_list.append(max_value_index)\n",
    "        else:\n",
    "            pred_correct_index_list.append(-1)\n",
    "    return pred_correct_index_list            "
   ]
  },
  {
   "cell_type": "code",
   "execution_count": 103,
   "id": "09b1373b",
   "metadata": {},
   "outputs": [],
   "source": [
    "def get_pred_correct_count(pred_cell_list, true_cell_list):\n",
    "    pred_correct_index_list = match_cells(pred_cell_list, true_cell_list)\n",
    "    tmp = []\n",
    "    for x in pred_correct_index_list:\n",
    "        if x!=-1:\n",
    "            tmp.append(x)\n",
    "    tmp = list(set(tmp))\n",
    "    return len(tmp)"
   ]
  },
  {
   "cell_type": "code",
   "execution_count": 104,
   "id": "f49e3773",
   "metadata": {},
   "outputs": [
    {
     "name": "stdout",
     "output_type": "stream",
     "text": [
      "acc= 0.7823709955879532\n"
     ]
    }
   ],
   "source": [
    "def get_acc(pred_image_to_loc, true_image_to_loc):\n",
    "    true_sum = 0\n",
    "    acc_sum = 0\n",
    "    for image_name in pred_image_to_loc:\n",
    "        pred_cell_list = pred_image_to_loc[image_name]\n",
    "        true_cell_list = true_image_to_loc[image_name]\n",
    "        true_sum += len(true_cell_list)\n",
    "        correct_count = get_pred_correct_count(pred_cell_list, true_cell_list)\n",
    "        acc_sum += correct_count\n",
    "        #print('image_name={0}, true={1}, pred={2}'.format(image_name, len(true_cell_list), correct_count))\n",
    "    return acc_sum/true_sum\n",
    "acc = get_acc(pred_image_to_loc, true_image_to_loc)\n",
    "print('acc=',acc)"
   ]
  },
  {
   "cell_type": "code",
   "execution_count": null,
   "id": "f01dee28",
   "metadata": {},
   "outputs": [],
   "source": []
  },
  {
   "cell_type": "code",
   "execution_count": null,
   "id": "5e1d89e2",
   "metadata": {},
   "outputs": [],
   "source": []
  },
  {
   "cell_type": "code",
   "execution_count": null,
   "id": "cdfd8bf5",
   "metadata": {},
   "outputs": [],
   "source": []
  },
  {
   "cell_type": "code",
   "execution_count": null,
   "id": "3a321c28",
   "metadata": {},
   "outputs": [],
   "source": []
  },
  {
   "cell_type": "code",
   "execution_count": null,
   "id": "957f162c",
   "metadata": {},
   "outputs": [],
   "source": []
  },
  {
   "cell_type": "markdown",
   "id": "ef51f151",
   "metadata": {},
   "source": [
    "```\n",
    "test, acc\n",
    "weights_0405_epoch_1, 0.874640322271245\n",
    "weights_0405_epoch_2, 0.874640322271245\n",
    "weights_0405_epoch_5, 0.874640322271245\n",
    "weights_0405_epoch_20, 0.874640322271245\n",
    "```"
   ]
  },
  {
   "cell_type": "markdown",
   "id": "1826ad4c",
   "metadata": {},
   "source": [
    "test,acc\n",
    "weights_0503_epoch_1,  acc= 0.125071935545751\n",
    "weights_0503_epoch_3,  acc= 0.7567619413005947\n",
    "weights_0503_epoch_5,  acc= 0.7905236907730673\n",
    "weights_0503_epoch_10, acc= 0.7386341837713408\n"
   ]
  },
  {
   "cell_type": "code",
   "execution_count": 171,
   "id": "a73fff90",
   "metadata": {},
   "outputs": [
    {
     "ename": "SyntaxError",
     "evalue": "leading zeros in decimal integer literals are not permitted; use an 0o prefix for octal integers (1376448020.py, line 1)",
     "output_type": "error",
     "traceback": [
      "\u001b[0;36m  File \u001b[0;32m\"/tmp/ipykernel_2238/1376448020.py\"\u001b[0;36m, line \u001b[0;32m1\u001b[0m\n\u001b[0;31m    0529 k=10 epoch=1\u001b[0m\n\u001b[0m       ^\u001b[0m\n\u001b[0;31mSyntaxError\u001b[0m\u001b[0;31m:\u001b[0m leading zeros in decimal integer literals are not permitted; use an 0o prefix for octal integers\n"
     ]
    }
   ],
   "source": [
    "0529 k=10 epoch=1\n",
    "fold0:acc= 0.13994762874599942\n",
    "fold1:acc= 0.49254449254449256\n",
    "fold2:acc= 0.386871237133424\n",
    "fold3 acc= 0.2619369804755461\n",
    "fold4 acc= 0.373522000387672\n",
    "fold5 \n",
    "    "
   ]
  },
  {
   "cell_type": "code",
   "execution_count": null,
   "id": "26b7993c",
   "metadata": {},
   "outputs": [],
   "source": [
    "0529 k=5 epoch=1\n",
    "fold0 acc= 0.18285980437820215\n",
    "fold1 acc= 0.505237097695677"
   ]
  },
  {
   "cell_type": "code",
   "execution_count": null,
   "id": "66f9d9fe",
   "metadata": {},
   "outputs": [],
   "source": [
    "0529 k=10 epoch=3\n",
    "fold0:acc= 0.7373678595674522\n",
    "fold1:acc= 0.68003848003848"
   ]
  },
  {
   "cell_type": "code",
   "execution_count": null,
   "id": "8fe7c55b",
   "metadata": {},
   "outputs": [],
   "source": []
  },
  {
   "cell_type": "code",
   "execution_count": null,
   "id": "22effb03",
   "metadata": {},
   "outputs": [],
   "source": []
  },
  {
   "cell_type": "code",
   "execution_count": null,
   "id": "3fd2b9e9",
   "metadata": {},
   "outputs": [],
   "source": [
    "0525\n",
    "fold0 acc= 0.25599462881258395\n",
    "fold1 acc= 0.46873201611356224\n",
    "fold2 acc= 0.27479378476884714\n",
    "\n"
   ]
  },
  {
   "cell_type": "code",
   "execution_count": null,
   "id": "4a4699e5",
   "metadata": {},
   "outputs": [],
   "source": []
  }
 ],
 "metadata": {
  "kernelspec": {
   "display_name": "Python 3 (ipykernel)",
   "language": "python",
   "name": "python3"
  },
  "language_info": {
   "codemirror_mode": {
    "name": "ipython",
    "version": 3
   },
   "file_extension": ".py",
   "mimetype": "text/x-python",
   "name": "python",
   "nbconvert_exporter": "python",
   "pygments_lexer": "ipython3",
   "version": "3.8.11"
  }
 },
 "nbformat": 4,
 "nbformat_minor": 5
}
