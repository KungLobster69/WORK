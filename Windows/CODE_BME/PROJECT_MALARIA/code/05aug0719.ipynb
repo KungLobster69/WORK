{
 "cells": [
  {
   "cell_type": "markdown",
   "id": "13158c9d",
   "metadata": {},
   "source": [
    "# 0. aug test"
   ]
  },
  {
   "cell_type": "code",
   "execution_count": 1,
   "id": "fe77152b",
   "metadata": {},
   "outputs": [
    {
     "name": "stderr",
     "output_type": "stream",
     "text": [
      "2024-07-19 21:12:03.900489: I tensorflow/core/util/port.cc:110] oneDNN custom operations are on. You may see slightly different numerical results due to floating-point round-off errors from different computation orders. To turn them off, set the environment variable `TF_ENABLE_ONEDNN_OPTS=0`.\n",
      "2024-07-19 21:12:03.902766: I tensorflow/tsl/cuda/cudart_stub.cc:28] Could not find cuda drivers on your machine, GPU will not be used.\n",
      "2024-07-19 21:12:03.950838: I tensorflow/tsl/cuda/cudart_stub.cc:28] Could not find cuda drivers on your machine, GPU will not be used.\n",
      "2024-07-19 21:12:03.951952: I tensorflow/core/platform/cpu_feature_guard.cc:182] This TensorFlow binary is optimized to use available CPU instructions in performance-critical operations.\n",
      "To enable the following instructions: AVX2 AVX512F AVX512_VNNI FMA, in other operations, rebuild TensorFlow with the appropriate compiler flags.\n",
      "2024-07-19 21:12:04.795869: W tensorflow/compiler/tf2tensorrt/utils/py_utils.cc:38] TF-TRT Warning: Could not find TensorRT\n"
     ]
    }
   ],
   "source": [
    "from keras.preprocessing.image import ImageDataGenerator, load_img, img_to_array\n",
    "import os\n",
    "import tensorflow as tf\n",
    "from tensorflow.python.compiler.tensorrt import trt_convert as trt\n",
    "\n",
    "def augment_one_image(img_file_path, dst_dir, num):\n",
    "    image_data_gen =  ImageDataGenerator(\n",
    "        rotation_range=150,\n",
    "        width_shift_range=0.1,\n",
    "        height_shift_range=0.1,\n",
    "        zoom_range = 0.1,\n",
    "        shear_range=0,\n",
    "        horizontal_flip=True\n",
    "    )\n",
    "\n",
    "    p = img_file_path\n",
    "    img = load_img( p )\n",
    "\n",
    "    img_array = img_to_array(img)\n",
    "    img_array = img_array.reshape( (1, img_array.shape[0], img_array.shape[1], img_array.shape[2]) )\n",
    "\n",
    "    i = 0\n",
    "    prefix='aug__'+os.path.basename(p).replace('.png','')\n",
    "    for batch in image_data_gen.flow(img_array, batch_size=1,save_to_dir=dst_dir, save_prefix=prefix, save_format='png'):\n",
    "        i = i+1\n",
    "        if i>=num:\n",
    "            break\n"
   ]
  },
  {
   "cell_type": "code",
   "execution_count": null,
   "id": "b5eac88c",
   "metadata": {},
   "outputs": [],
   "source": []
  },
  {
   "cell_type": "markdown",
   "id": "e8a0ab1a",
   "metadata": {},
   "source": [
    "# 1. no-padding-resize"
   ]
  },
  {
   "cell_type": "code",
   "execution_count": 38,
   "id": "bfd25384",
   "metadata": {},
   "outputs": [],
   "source": [
    "import os\n",
    "\n",
    "dist = {}\n",
    "src = 'V4/'\n",
    "for d in os.listdir(src):\n",
    "    y = d.split('___')[2].replace('.png', '')\n",
    "    if y not in dist:\n",
    "        dist[y] = 0\n",
    "    dist[y] += 1"
   ]
  },
  {
   "cell_type": "code",
   "execution_count": 39,
   "id": "0a3444f6",
   "metadata": {},
   "outputs": [
    {
     "data": {
      "text/plain": [
       "{'red_blood_cell': 2910,\n",
       " 'gametocyte': 8,\n",
       " 'schizont': 11,\n",
       " 'ring': 39,\n",
       " 'trophozoite': 5}"
      ]
     },
     "execution_count": 39,
     "metadata": {},
     "output_type": "execute_result"
    }
   ],
   "source": [
    "dist"
   ]
  },
  {
   "cell_type": "code",
   "execution_count": 40,
   "id": "8d46b2ed",
   "metadata": {},
   "outputs": [
    {
     "name": "stderr",
     "output_type": "stream",
     "text": [
      "100%|██████████████████████████████████████████████████████████████████████████████████████████████████████████████████| 2973/2973 [00:00<00:00, 11451.30it/s]\n"
     ]
    }
   ],
   "source": [
    "from shutil import copyfile\n",
    "from tqdm import *\n",
    "\n",
    "\n",
    "dst = 'V7/'\n",
    "\n",
    "for d in tqdm(os.listdir(src)):\n",
    "    fp_src = os.path.join(src, d)\n",
    "    fp_dst = os.path.join(dst, d)\n",
    "    y = d.split('___')[2].replace('.png', '')\n",
    "    if y=='red_blood_cell':\n",
    "        copyfile(fp_src,fp_dst)"
   ]
  },
  {
   "cell_type": "code",
   "execution_count": 41,
   "id": "e9f2f3de",
   "metadata": {},
   "outputs": [
    {
     "name": "stderr",
     "output_type": "stream",
     "text": [
      "100%|█████████████████████████████████████████████████████████████████████████████████████████████████████████████████████| 2973/2973 [03:16<00:00, 15.14it/s]\n"
     ]
    }
   ],
   "source": [
    "# one process, too slow\n",
    "from shutil import copyfile\n",
    "from tqdm import *\n",
    "\n",
    "\n",
    "dst = 'V7/'\n",
    "\n",
    "for d in tqdm(os.listdir(src)):\n",
    "    fp_src = os.path.join(src, d)\n",
    "    fp_dst = os.path.join(dst, d)\n",
    "    y = d.split('___')[2].replace('.png', '')\n",
    "    if y=='red_blood_cell' or y=='difficult':\n",
    "        continue\n",
    "    else:\n",
    "        num_now = dist[y]\n",
    "        num = dist['red_blood_cell']//num_now\n",
    "        augment_one_image(fp_src, dst, num)"
   ]
  },
  {
   "cell_type": "code",
   "execution_count": 42,
   "id": "b3939170",
   "metadata": {},
   "outputs": [
    {
     "data": {
      "text/plain": [
       "{'red': 2910,\n",
       " 'trophozoite': 2816,\n",
       " 'gametocyte': 2844,\n",
       " 'schizont': 2854,\n",
       " 'ring': 2876}"
      ]
     },
     "execution_count": 42,
     "metadata": {},
     "output_type": "execute_result"
    }
   ],
   "source": [
    "# check aug result\n",
    "import os\n",
    "\n",
    "dist = {}\n",
    "src = 'V7/'\n",
    "for d in os.listdir(src):\n",
    "    y = d.split('___')[2].replace('.png', '').split('_')[0]\n",
    "    if y not in dist:\n",
    "        dist[y] = 0\n",
    "    dist[y] += 1\n",
    "    \n",
    "dist"
   ]
  },
  {
   "cell_type": "code",
   "execution_count": null,
   "id": "5fd85e34",
   "metadata": {},
   "outputs": [],
   "source": []
  },
  {
   "cell_type": "code",
   "execution_count": 6,
   "id": "60bb41c8",
   "metadata": {},
   "outputs": [
    {
     "ename": "NameError",
     "evalue": "name 'task_para_list' is not defined",
     "output_type": "error",
     "traceback": [
      "\u001b[0;31m---------------------------------------------------------------------------\u001b[0m",
      "\u001b[0;31mNameError\u001b[0m                                 Traceback (most recent call last)",
      "Cell \u001b[0;32mIn[6], line 13\u001b[0m\n\u001b[1;32m     10\u001b[0m         fp_src, dst, num \u001b[38;5;241m=\u001b[39m xxx\n\u001b[1;32m     11\u001b[0m         augment_one_image(fp_src, dst, num)\n\u001b[0;32m---> 13\u001b[0m n \u001b[38;5;241m=\u001b[39m \u001b[38;5;28mlen\u001b[39m(\u001b[43mtask_para_list\u001b[49m)\u001b[38;5;241m/\u001b[39m\u001b[38;5;241m/\u001b[39mthnum\n\u001b[1;32m     14\u001b[0m \u001b[38;5;28;01mfor\u001b[39;00m i \u001b[38;5;129;01min\u001b[39;00m \u001b[38;5;28mrange\u001b[39m(thnum):\n\u001b[1;32m     15\u001b[0m     p \u001b[38;5;241m=\u001b[39m Process(target\u001b[38;5;241m=\u001b[39mruns, args\u001b[38;5;241m=\u001b[39m(task_para_list[i\u001b[38;5;241m*\u001b[39mn:(i\u001b[38;5;241m+\u001b[39m\u001b[38;5;241m1\u001b[39m)\u001b[38;5;241m*\u001b[39mn],))  \u001b[38;5;66;03m# target进程执行的任务, args传参数（元祖）\u001b[39;00m\n",
      "\u001b[0;31mNameError\u001b[0m: name 'task_para_list' is not defined"
     ]
    }
   ],
   "source": [
    "import time\n",
    "from multiprocessing import Process\n",
    "import os\n",
    "\n",
    "\n",
    "thnum = 8\n",
    "\n",
    "def runs(sub_task_para_list):\n",
    "    for xxx in sub_task_para_list:\n",
    "        fp_src, dst, num = xxx\n",
    "        augment_one_image(fp_src, dst, num)\n",
    "        \n",
    "n = len(task_para_list)//thnum\n",
    "for i in range(thnum):\n",
    "    p = Process(target=runs, args=(task_para_list[i*n:(i+1)*n],))  # target进程执行的任务, args传参数（元祖）\n",
    "    p.start() "
   ]
  },
  {
   "cell_type": "code",
   "execution_count": null,
   "id": "2fcefdba",
   "metadata": {},
   "outputs": [],
   "source": []
  },
  {
   "cell_type": "code",
   "execution_count": null,
   "id": "e3d315fb",
   "metadata": {},
   "outputs": [],
   "source": []
  },
  {
   "cell_type": "code",
   "execution_count": null,
   "id": "eca993f3",
   "metadata": {},
   "outputs": [],
   "source": []
  },
  {
   "cell_type": "code",
   "execution_count": null,
   "id": "c7457c39",
   "metadata": {},
   "outputs": [],
   "source": []
  }
 ],
 "metadata": {
  "kernelspec": {
   "display_name": "Python 3 (ipykernel)",
   "language": "python",
   "name": "python3"
  },
  "language_info": {
   "codemirror_mode": {
    "name": "ipython",
    "version": 3
   },
   "file_extension": ".py",
   "mimetype": "text/x-python",
   "name": "python",
   "nbconvert_exporter": "python",
   "pygments_lexer": "ipython3",
   "version": "3.8.12"
  }
 },
 "nbformat": 4,
 "nbformat_minor": 5
}
