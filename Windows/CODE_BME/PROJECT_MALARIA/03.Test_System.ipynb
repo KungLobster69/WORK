{
 "cells": [
  {
   "cell_type": "code",
   "execution_count": null,
   "id": "49735ad9",
   "metadata": {},
   "outputs": [],
   "source": [
    "from ultralytics import YOLO\n",
    "import matplotlib.pyplot as plt\n",
    "import cv2\n",
    "import numpy as np\n",
    "\n",
    "# ฟังก์ชันแสดงภาพพร้อมคำอธิบาย\n",
    "def show_with_caption(image, caption):\n",
    "    plt.figure(figsize=(8, 6))\n",
    "    plt.imshow(cv2.cvtColor(image, cv2.COLOR_BGR2RGB))\n",
    "    plt.title(caption, fontsize=16)\n",
    "    plt.axis('off')\n",
    "    plt.show()\n",
    "\n",
    "# 🔹 STEP 1: โหลดโมเดล YOLOv8n สำเร็จรูป\n",
    "model = YOLO('yolov8n.pt')\n",
    "\n",
    "# 🔹 STEP 2: โหลดภาพสำหรับทดสอบ\n",
    "img_path = 'https://ultralytics.com/images/bus.jpg'\n",
    "results = model(img_path)\n",
    "\n",
    "# 🔹 STEP 3: แสดงภาพต้นฉบับ\n",
    "original_img = results[0].orig_img.copy()\n",
    "show_with_caption(original_img, 'ขั้นตอนที่ 1: ภาพต้นฉบับ')\n",
    "\n",
    "# 🔹 STEP 4: แสดงภาพที่มีผลลัพธ์ Detection\n",
    "# draw results on a copy of original image\n",
    "annotated_img = results[0].plot()\n",
    "show_with_caption(annotated_img, 'ขั้นตอนที่ 2: แสดงผลลัพธ์ที่ตรวจจับได้ด้วย YOLOv8n')\n",
    "\n",
    "# 🔹 STEP 5: แสดงกล่องผลลัพธ์ (bounding boxes) และ label\n",
    "for box in results[0].boxes:\n",
    "    cls_id = int(box.cls[0])\n",
    "    label = model.names[cls_id]\n",
    "    conf = box.conf[0]\n",
    "    print(f'ตรวจพบ: {label} ({conf:.2f})')\n",
    "\n",
    "# (เพิ่มเติม: บันทึกภาพ annotated ลงไฟล์ก็ได้)\n",
    "cv2.imwrite(\"output_detected.jpg\", annotated_img)\n"
   ]
  }
 ],
 "metadata": {
  "language_info": {
   "name": "python"
  }
 },
 "nbformat": 4,
 "nbformat_minor": 5
}
