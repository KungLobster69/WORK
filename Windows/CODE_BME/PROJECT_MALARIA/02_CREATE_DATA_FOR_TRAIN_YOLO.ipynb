{
 "cells": [
  {
   "cell_type": "code",
   "execution_count": null,
   "metadata": {},
   "outputs": [],
   "source": [
    "import pandas as pd\n",
    "from sklearn.model_selection import KFold\n",
    "import os\n",
    "\n",
    "train_image = os.listdir(r\"C:\\Users\\BMEI CMU\\Documents\\GitHub\\WORK\\Windows\\CODE_BME\\PROJECT_MALARIA\\YOLO\\train_images\")\n",
    "train_label = pd.read_csv(r\"C:\\Users\\BMEI CMU\\Documents\\GitHub\\WORK\\Windows\\CODE_BME\\PROJECT_MALARIA\\YOLO\\train.csv\")\n",
    "output_dir = r\"C:\\Users\\BMEI CMU\\Documents\\GitHub\\WORK\\Windows\\CODE_BME\\PROJECT_MALARIA\\YOLO\\TRAIN_YOLO\"\n",
    "\n",
    "# ตั้งค่า K-Fold Cross Validation (10 folds)\n",
    "kf = KFold(n_splits=10, shuffle=True, random_state=42)\n",
    "train_image_df = pd.DataFrame({\"filename\": train_image})\n",
    "\n",
    "# วนลูปเพื่อสร้าง train/test set และบันทึก CSV\n",
    "for fold, (train_idx, test_idx) in enumerate(kf.split(train_image_df)):\n",
    "    fold_dir = os.path.join(output_dir, f\"fold_{fold+1}\")\n",
    "    os.makedirs(fold_dir, exist_ok=True)\n",
    "\n",
    "    # แยก train และ test set\n",
    "    train_fold_df = train_image_df.iloc[train_idx].reset_index(drop=True)\n",
    "    test_fold_df = train_image_df.iloc[test_idx].reset_index(drop=True)\n",
    "\n",
    "    # บันทึกเป็น CSV\n",
    "    train_fold_df.to_csv(os.path.join(fold_dir, \"train_fold.csv\"), index=False)\n",
    "    test_fold_df.to_csv(os.path.join(fold_dir, \"test_fold.csv\"), index=False)\n",
    "    "
   ]
  }
 ],
 "metadata": {
  "kernelspec": {
   "display_name": ".venv",
   "language": "python",
   "name": "python3"
  },
  "language_info": {
   "codemirror_mode": {
    "name": "ipython",
    "version": 3
   },
   "file_extension": ".py",
   "mimetype": "text/x-python",
   "name": "python",
   "nbconvert_exporter": "python",
   "pygments_lexer": "ipython3",
   "version": "3.12.7"
  }
 },
 "nbformat": 4,
 "nbformat_minor": 2
}
