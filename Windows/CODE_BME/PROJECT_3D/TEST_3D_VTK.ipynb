{
 "cells": [
  {
   "cell_type": "code",
   "execution_count": null,
   "metadata": {},
   "outputs": [],
   "source": [
    "pip install vtk"
   ]
  },
  {
   "cell_type": "code",
   "execution_count": 1,
   "metadata": {},
   "outputs": [],
   "source": [
    "import vtk\n",
    "\n",
    "# สร้างทรงกลม\n",
    "sphere_source = vtk.vtkSphereSource()\n",
    "sphere_source.SetRadius(5.0)  # ตั้งรัศมี\n",
    "sphere_source.SetThetaResolution(50)  # ความละเอียดตามแนว theta\n",
    "sphere_source.SetPhiResolution(50)  # ความละเอียดตามแนว phi\n",
    "\n",
    "# Mapper: จัดการการแสดงผล\n",
    "mapper = vtk.vtkPolyDataMapper()\n",
    "mapper.SetInputConnection(sphere_source.GetOutputPort())\n",
    "\n",
    "# Actor: ออบเจกต์ที่ใช้แสดงผล\n",
    "actor = vtk.vtkActor()\n",
    "actor.SetMapper(mapper)\n",
    "\n",
    "# Renderer: ตัวจัดการการแสดงผล\n",
    "renderer = vtk.vtkRenderer()\n",
    "renderer.AddActor(actor)\n",
    "renderer.SetBackground(0.1, 0.2, 0.3)  # ตั้งสีพื้นหลัง\n",
    "\n",
    "# Render Window: หน้าต่างสำหรับแสดงผล\n",
    "render_window = vtk.vtkRenderWindow()\n",
    "render_window.AddRenderer(renderer)\n",
    "\n",
    "# Render Window Interactor: ตัวจัดการการโต้ตอบ\n",
    "render_window_interactor = vtk.vtkRenderWindowInteractor()\n",
    "render_window_interactor.SetRenderWindow(render_window)\n",
    "\n",
    "# เริ่มการแสดงผล\n",
    "render_window.Render()\n",
    "render_window_interactor.Start()"
   ]
  },
  {
   "cell_type": "code",
   "execution_count": 3,
   "metadata": {},
   "outputs": [],
   "source": [
    "import vtk\n",
    "\n",
    "# สร้าง Cube 1\n",
    "cube1 = vtk.vtkCubeSource()\n",
    "cube1.SetCenter(0, 0, 0)\n",
    "cube1.SetXLength(2)\n",
    "cube1.SetYLength(2)\n",
    "cube1.SetZLength(2)\n",
    "\n",
    "# สร้าง Cube 2\n",
    "cube2 = vtk.vtkCubeSource()\n",
    "cube2.SetCenter(1, 1, 1)\n",
    "cube2.SetXLength(2)\n",
    "cube2.SetYLength(2)\n",
    "cube2.SetZLength(2)\n",
    "\n",
    "# Boolean Union\n",
    "boolean = vtk.vtkBooleanOperationPolyDataFilter()\n",
    "boolean.SetOperationToUnion()\n",
    "boolean.SetInputConnection(0, cube1.GetOutputPort())\n",
    "boolean.SetInputConnection(1, cube2.GetOutputPort())\n",
    "\n",
    "# Mapper\n",
    "mapper = vtk.vtkPolyDataMapper()\n",
    "mapper.SetInputConnection(boolean.GetOutputPort())\n",
    "\n",
    "# Actor\n",
    "actor = vtk.vtkActor()\n",
    "actor.SetMapper(mapper)\n",
    "\n",
    "# Renderer\n",
    "renderer = vtk.vtkRenderer()\n",
    "renderer.AddActor(actor)\n",
    "renderer.SetBackground(0.2, 0.2, 0.2)\n",
    "\n",
    "# Render Window\n",
    "render_window = vtk.vtkRenderWindow()\n",
    "render_window.AddRenderer(renderer)\n",
    "\n",
    "# Interactor\n",
    "interactor = vtk.vtkRenderWindowInteractor()\n",
    "interactor.SetRenderWindow(render_window)\n",
    "\n",
    "# แสดงผล\n",
    "render_window.Render()\n",
    "interactor.Start()\n"
   ]
  }
 ],
 "metadata": {
  "kernelspec": {
   "display_name": ".venv",
   "language": "python",
   "name": "python3"
  },
  "language_info": {
   "codemirror_mode": {
    "name": "ipython",
    "version": 3
   },
   "file_extension": ".py",
   "mimetype": "text/x-python",
   "name": "python",
   "nbconvert_exporter": "python",
   "pygments_lexer": "ipython3",
   "version": "3.12.7"
  }
 },
 "nbformat": 4,
 "nbformat_minor": 2
}
