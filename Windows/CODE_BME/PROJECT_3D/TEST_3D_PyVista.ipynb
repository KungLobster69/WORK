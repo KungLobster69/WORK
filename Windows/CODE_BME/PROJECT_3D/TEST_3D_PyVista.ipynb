{
 "cells": [
  {
   "cell_type": "code",
   "execution_count": null,
   "metadata": {},
   "outputs": [],
   "source": [
    "import pyvista as pv\n",
    "\n",
    "# สร้าง Sphere และ Cube\n",
    "sphere = pv.Sphere(radius=1.0, center=(0, 0, 0))\n",
    "cube = pv.Cube(center=(0.5, 0, 0), x_length=1.0, y_length=1.0, z_length=1.0)\n",
    "\n",
    "# แปลงเป็น triangulated mesh\n",
    "sphere = sphere.triangulate()\n",
    "cube = cube.triangulate()\n",
    "\n",
    "# ลองทำ Boolean Union ใหม่\n",
    "combined_mesh = sphere.boolean_union(cube, tolerance=1e-3)\n",
    "\n",
    "# ตรวจสอบว่า combined_mesh มีข้อมูล\n",
    "if combined_mesh.n_points == 0:\n",
    "    print(\"ผลลัพธ์จาก Boolean Union ไม่มีข้อมูล (Empty Mesh)\")\n",
    "else:\n",
    "    print(f\"Boolean Union สำเร็จ: {combined_mesh.n_points} จุด\")\n",
    "\n",
    "# แสดงผล\n",
    "plotter = pv.Plotter()\n",
    "plotter.add_mesh(combined_mesh, color=\"lightblue\", show_edges=True)\n",
    "plotter.show()"
   ]
  },
  {
   "cell_type": "code",
   "execution_count": null,
   "metadata": {},
   "outputs": [],
   "source": [
    "from pyvista import examples\n",
    "mesh = examples.download_st_helens()\n",
    "warped = mesh.warp_by_scalar('Elevation')\n",
    "surf = warped.extract_surface().triangulate()\n",
    "surf = surf.decimate_pro(0.75)  # reduce the density of the mesh by 75%\n",
    "surf.plot(cmap='gist_earth')"
   ]
  },
  {
   "cell_type": "code",
   "execution_count": null,
   "metadata": {},
   "outputs": [],
   "source": [
    "from pyvista import examples\n",
    "mesh = examples.download_notch_stress()\n",
    "mesh.plot(scalars='Nodal Stress', component=0, cmap='turbo', cpos='xy')"
   ]
  },
  {
   "cell_type": "code",
   "execution_count": null,
   "metadata": {},
   "outputs": [],
   "source": [
    "import numpy as np\n",
    "import pyvista\n",
    "\n",
    "rng = np.random.default_rng(seed=0)\n",
    "point_cloud = rng.random((100, 3))\n",
    "pdata = pyvista.PolyData(point_cloud)\n",
    "pdata['orig_sphere'] = np.arange(100)\n",
    "\n",
    "# create many spheres from the point cloud\n",
    "sphere = pyvista.Sphere(radius=0.02, phi_resolution=10, theta_resolution=10)\n",
    "pc = pdata.glyph(scale=False, geom=sphere, orient=False)\n",
    "pc.plot(cmap='Reds')"
   ]
  },
  {
   "cell_type": "code",
   "execution_count": null,
   "metadata": {},
   "outputs": [],
   "source": [
    "import numpy as np\n",
    "import pyvista\n",
    "\n",
    "# Make the xyz points\n",
    "theta = np.linspace(-10 * np.pi, 10 * np.pi, 100)\n",
    "z = np.linspace(-2, 2, 100)\n",
    "r = z**2 + 1\n",
    "x = r * np.sin(theta)\n",
    "y = r * np.cos(theta)\n",
    "points = np.column_stack((x, y, z))\n",
    "\n",
    "spline = pyvista.Spline(points, 500).tube(radius=0.1)\n",
    "spline.plot(scalars='arc_length', show_scalar_bar=False)"
   ]
  },
  {
   "cell_type": "code",
   "execution_count": null,
   "metadata": {},
   "outputs": [],
   "source": [
    "import pyvista\n",
    "import numpy as np\n",
    "\n",
    "def make_cube():\n",
    "    x = np.linspace(-0.5, 0.5, 25)\n",
    "    grid = pyvista.StructuredGrid(*np.meshgrid(x, x, x))\n",
    "    surf = grid.extract_surface().triangulate()\n",
    "    surf.flip_normals()\n",
    "    return surf\n",
    "\n",
    "# Create example PolyData meshes for boolean operations\n",
    "sphere = pyvista.Sphere(radius=0.65, center=(0, 0, 0))\n",
    "cube = make_cube()\n",
    "\n",
    "# Perform a boolean difference\n",
    "boolean = cube.boolean_difference(sphere)\n",
    "boolean.plot(color='darkgrey', smooth_shading=True, split_sharp_edges=True)"
   ]
  },
  {
   "cell_type": "code",
   "execution_count": null,
   "metadata": {},
   "outputs": [],
   "source": [
    "from pyvista import examples\n",
    "grid = examples.load_hydrogen_orbital(3, 2, -2)\n",
    "grid.plot(volume=True, opacity=[1, 0, 1], cmap='magma')"
   ]
  }
 ],
 "metadata": {
  "kernelspec": {
   "display_name": ".venv",
   "language": "python",
   "name": "python3"
  },
  "language_info": {
   "codemirror_mode": {
    "name": "ipython",
    "version": 3
   },
   "file_extension": ".py",
   "mimetype": "text/x-python",
   "name": "python",
   "nbconvert_exporter": "python",
   "pygments_lexer": "ipython3",
   "version": "3.12.7"
  }
 },
 "nbformat": 4,
 "nbformat_minor": 2
}
