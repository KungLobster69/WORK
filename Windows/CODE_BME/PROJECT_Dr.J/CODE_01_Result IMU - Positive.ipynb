{
 "cells": [
  {
   "cell_type": "code",
   "execution_count": null,
   "id": "4b56410e",
   "metadata": {},
   "outputs": [],
   "source": [
    "pip install pandas openpyxl xlsxwriter"
   ]
  },
  {
   "cell_type": "code",
   "execution_count": 1,
   "id": "8d7b77d8",
   "metadata": {},
   "outputs": [
    {
     "name": "stdout",
     "output_type": "stream",
     "text": [
      "✅ ทำเสร็จแล้ว! ไฟล์ Result IMU_Positive.xlsx เปลี่ยนค่าลบเป็นบวก และรูป/สี/ฟอร์แมต อยู่ครบ!\n"
     ]
    }
   ],
   "source": [
    "from openpyxl import load_workbook\n",
    "\n",
    "# กำหนดชื่อไฟล์\n",
    "file_path = 'Result IMU_Positive.xlsx'\n",
    "\n",
    "# โหลด workbook\n",
    "wb = load_workbook(file_path)\n",
    "\n",
    "# วนลูปทุกชีท\n",
    "for sheetname in wb.sheetnames:\n",
    "    ws = wb[sheetname]\n",
    "    for row in ws.iter_rows():\n",
    "        for cell in row:\n",
    "            # ถ้าเซลล์มีค่า และเป็นตัวเลข (int หรือ float)\n",
    "            if isinstance(cell.value, (int, float)):\n",
    "                cell.value = abs(cell.value)  # เปลี่ยนให้เป็นค่าบวก\n",
    "\n",
    "# เซฟทับไฟล์เดิม\n",
    "wb.save(file_path)\n",
    "\n",
    "print(f'✅ ทำเสร็จแล้ว! ไฟล์ {file_path} เปลี่ยนค่าลบเป็นบวก และรูป/สี/ฟอร์แมต อยู่ครบ!')"
   ]
  }
 ],
 "metadata": {
  "kernelspec": {
   "display_name": ".venv",
   "language": "python",
   "name": "python3"
  },
  "language_info": {
   "codemirror_mode": {
    "name": "ipython",
    "version": 3
   },
   "file_extension": ".py",
   "mimetype": "text/x-python",
   "name": "python",
   "nbconvert_exporter": "python",
   "pygments_lexer": "ipython3",
   "version": "3.13.2"
  }
 },
 "nbformat": 4,
 "nbformat_minor": 5
}
