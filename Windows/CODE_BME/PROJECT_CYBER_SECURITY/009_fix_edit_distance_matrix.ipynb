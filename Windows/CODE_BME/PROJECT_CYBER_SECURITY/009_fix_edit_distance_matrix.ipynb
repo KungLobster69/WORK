{
 "cells": [
  {
   "cell_type": "code",
   "execution_count": null,
   "id": "6a4c1d95",
   "metadata": {},
   "outputs": [
    {
     "name": "stdout",
     "output_type": "stream",
     "text": [
      "✅ แก้ไข matrix สำเร็จ! ขนาด: (200, 920)\n",
      "📁 ไฟล์บันทึกไว้ที่: C:\\Users\\BMEi\\Documents\\GitHub\\WORK\\Windows\\CODE_BME\\PROJECT_CYBER_SECURITY\\RESULT\\09.fix_edit_distance_matrix\\EDIT_DISTANCE_MATRIX_FINAL_FIXED.csv\n"
     ]
    }
   ],
   "source": [
    "import pandas as pd\n",
    "import numpy as np\n",
    "import os\n",
    "\n",
    "# 📥 โหลดไฟล์ CSV เดิมจาก path ที่คุณระบุ\n",
    "csv_path = r\"C:\\Users\\BMEi\\Documents\\GitHub\\WORK\\Windows\\CODE_BME\\PROJECT_CYBER_SECURITY\\RESULT\\08.EDIT_DISTANCE_TEST_DATA\\EDIT_DISTANCE_MATRIX_FINAL.csv\"\n",
    "df = pd.read_csv(csv_path, header=None)\n",
    "\n",
    "# 🔧 จำนวนพาร์ทที่ใช้แบ่ง test data (เปลี่ยนเลขนี้ตามโค้ดหลักที่คุณใช้)\n",
    "num_parts = 4\n",
    "rows_per_train = num_parts\n",
    "num_trains = df.shape[0] // rows_per_train\n",
    "\n",
    "# 🔄 รวมทุก N แถวเป็นแถวเดียว (แนวนอน) ต่อ train sample\n",
    "merged_rows = []\n",
    "for i in range(num_trains):\n",
    "    part_rows = df.iloc[i * rows_per_train:(i + 1) * rows_per_train].values\n",
    "    merged_row = np.concatenate(part_rows, axis=None)\n",
    "    merged_rows.append(merged_row)\n",
    "\n",
    "# 🧾 สร้าง DataFrame ใหม่\n",
    "fixed_df = pd.DataFrame(merged_rows)\n",
    "\n",
    "# 📁 Path สำหรับบันทึกไฟล์ใหม่ (ในโฟลเดอร์ RESULT)\n",
    "output_dir = r\"C:\\Users\\BMEi\\Documents\\GitHub\\WORK\\Windows\\CODE_BME\\PROJECT_CYBER_SECURITY\\RESULT\\09.\"\n",
    "os.makedirs(output_dir, exist_ok=True)\n",
    "fixed_csv_path = os.path.join(output_dir, \"EDIT_DISTANCE_MATRIX_FINAL_FIXED.csv\")\n",
    "\n",
    "# 💾 บันทึกไฟล์ที่รวมแล้ว\n",
    "fixed_df.to_csv(fixed_csv_path, index=False, header=False)\n",
    "\n",
    "print(f\"✅ แก้ไข matrix สำเร็จ! ขนาด: {fixed_df.shape}\")\n",
    "print(f\"📁 ไฟล์บันทึกไว้ที่: {fixed_csv_path}\")\n"
   ]
  }
 ],
 "metadata": {
  "kernelspec": {
   "display_name": ".venv",
   "language": "python",
   "name": "python3"
  },
  "language_info": {
   "codemirror_mode": {
    "name": "ipython",
    "version": 3
   },
   "file_extension": ".py",
   "mimetype": "text/x-python",
   "name": "python",
   "nbconvert_exporter": "python",
   "pygments_lexer": "ipython3",
   "version": "3.10.11"
  }
 },
 "nbformat": 4,
 "nbformat_minor": 5
}
