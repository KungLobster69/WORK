{
 "cells": [
  {
   "cell_type": "code",
   "execution_count": null,
   "metadata": {},
   "outputs": [],
   "source": [
    "import os\n",
    "import glob\n",
    "import pandas as pd \n",
    "import random\n",
    "import Levenshtein\n",
    "import numpy as np\n",
    "from scipy.io import savemat\n",
    "\n",
    "# กำหนด paths\n",
    "path_benign = \"C:\\\\Users\\\\BMEI CMU\\\\Documents\\\\DikeASCII_DATASET\\\\Benign\"\n",
    "path_malware = \"C:\\\\Users\\\\BMEI CMU\\\\Documents\\\\DikeASCII_DATASET\\\\Malware\"\n",
    "\n",
    "# ฟังก์ชันในการอ่านไฟล์ .txt และแทนที่ช่องว่างด้วย '0' และรวมข้อมูลเป็นแถวเดียว พร้อมเพิ่มคอลัมน์เลข\n",
    "def read_and_replace_spaces_as_rows(folder_path, label):\n",
    "    # ค้นหาไฟล์ .txt ทั้งหมดในโฟลเดอร์และเลือกเฉพาะไฟล์ที่ต้องการ\n",
    "    file_paths = glob.glob(os.path.join(folder_path, \"*.txt\"))[:100]\n",
    "    modified_data_rows = []\n",
    "    \n",
    "    for file_path in file_paths:\n",
    "        # อ่านเนื้อหาจากไฟล์แต่ละบรรทัดและรวมบรรทัดทั้งหมดไว้ในแถวเดียว\n",
    "        with open(file_path, 'r', encoding='utf-8') as file:\n",
    "            data = file.read().replace('\\n', '')  # รวมบรรทัดทั้งหมดเป็นแถวเดียว\n",
    "        \n",
    "        # แทนที่ช่องว่างด้วย '0' ในแถวเดียว\n",
    "        modified_data = ''.join(['0' if char == ' ' else char for char in data])\n",
    "        \n",
    "        # เพิ่มข้อมูลเป็น dictionary พร้อม label เพื่อแสดงเป็นคอลัมน์\n",
    "        modified_data_rows.append({\"data\": modified_data, \"label\": label})\n",
    "\n",
    "    return modified_data_rows\n",
    "\n",
    "# อ่านและแทนที่ช่องว่างในไฟล์จากโฟลเดอร์ benign และ malware พร้อม label\n",
    "benign_data = read_and_replace_spaces_as_rows(path_benign, 0)\n",
    "malware_data = read_and_replace_spaces_as_rows(path_malware, 1)\n",
    "\n",
    "# แปลงข้อมูลเป็น DataFrame แยกกัน\n",
    "benign_df = pd.DataFrame(benign_data)\n",
    "malware_df = pd.DataFrame(malware_data)"
   ]
  },
  {
   "cell_type": "code",
   "execution_count": 2,
   "metadata": {},
   "outputs": [],
   "source": [
    "# กำหนดจำนวนแถวที่จะสุ่ม\n",
    "num_samples_benign = 10\n",
    "num_samples_malware = 10\n",
    "\n",
    "# สุ่มเลือกแถวจาก benign_data พร้อมเก็บ index ของแถวที่เลือก\n",
    "benign_sample_indices = random.sample(range(len(benign_df)), num_samples_benign)\n",
    "benign_sampled_data = benign_df.iloc[benign_sample_indices].reset_index(drop=True)\n",
    "\n",
    "# สุ่มเลือกแถวจาก malware_data พร้อมเก็บ index ของแถวที่เลือก\n",
    "malware_sample_indices = random.sample(range(len(malware_df)), num_samples_malware)\n",
    "malware_sampled_data = malware_df.iloc[malware_sample_indices].reset_index(drop=True)\n"
   ]
  },
  {
   "cell_type": "code",
   "execution_count": 3,
   "metadata": {},
   "outputs": [],
   "source": [
    "# สร้าง DataFrame สำหรับ benign และ malware ที่เหลือเป็น TEST โดยใช้ดัชนีที่ไม่ได้ถูกสุ่มมา\n",
    "benign_test_df = benign_df.drop(benign_sample_indices).reset_index(drop=True)\n",
    "malware_test_df = malware_df.drop(malware_sample_indices).reset_index(drop=True)\n",
    "\n",
    "# รวม TRAIN และ TEST สำหรับ benign และ malware\n",
    "train_df = pd.concat([benign_sampled_data, malware_sampled_data], ignore_index=True)\n",
    "test_df = pd.concat([benign_test_df, malware_test_df], ignore_index=True)"
   ]
  },
  {
   "cell_type": "code",
   "execution_count": null,
   "metadata": {},
   "outputs": [
    {
     "ename": "KeyboardInterrupt",
     "evalue": "",
     "output_type": "error",
     "traceback": [
      "\u001b[1;31m---------------------------------------------------------------------------\u001b[0m",
      "\u001b[1;31mKeyboardInterrupt\u001b[0m                         Traceback (most recent call last)",
      "Cell \u001b[1;32mIn[4], line 8\u001b[0m\n\u001b[0;32m      6\u001b[0m \u001b[38;5;28;01mfor\u001b[39;00m j \u001b[38;5;129;01min\u001b[39;00m \u001b[38;5;28mrange\u001b[39m(n):\n\u001b[0;32m      7\u001b[0m     \u001b[38;5;28;01mif\u001b[39;00m i \u001b[38;5;241m!=\u001b[39m j:  \u001b[38;5;66;03m# ตรวจสอบว่าตำแหน่งไม่ซ้ำกัน\u001b[39;00m\n\u001b[1;32m----> 8\u001b[0m         \u001b[43medit_distance_matrix\u001b[49m\u001b[38;5;241;43m.\u001b[39;49m\u001b[43miloc\u001b[49m[i, j] \u001b[38;5;241m=\u001b[39m Levenshtein\u001b[38;5;241m.\u001b[39mdistance(train_df[\u001b[38;5;124m'\u001b[39m\u001b[38;5;124mdata\u001b[39m\u001b[38;5;124m'\u001b[39m][i], train_df[\u001b[38;5;124m'\u001b[39m\u001b[38;5;124mdata\u001b[39m\u001b[38;5;124m'\u001b[39m][j])\n\u001b[0;32m      9\u001b[0m     \u001b[38;5;28;01melse\u001b[39;00m:\n\u001b[0;32m     10\u001b[0m         edit_distance_matrix\u001b[38;5;241m.\u001b[39miloc[i, j] \u001b[38;5;241m=\u001b[39m \u001b[38;5;241m0\u001b[39m  \u001b[38;5;66;03m# ค่าเดียวกัน ให้เป็น 0\u001b[39;00m\n",
      "File \u001b[1;32mc:\\Users\\BMEI CMU\\Documents\\GitHub\\WORK\\Windows\\CODE_BME\\PROJECT_CYBER_SECURITY\\.venv\\Lib\\site-packages\\pandas\\core\\indexing.py:161\u001b[0m, in \u001b[0;36mIndexingMixin.iloc\u001b[1;34m(self)\u001b[0m\n\u001b[0;32m    156\u001b[0m \u001b[38;5;28;01mclass\u001b[39;00m \u001b[38;5;21;01mIndexingMixin\u001b[39;00m:\n\u001b[0;32m    157\u001b[0m \u001b[38;5;250m    \u001b[39m\u001b[38;5;124;03m\"\"\"\u001b[39;00m\n\u001b[0;32m    158\u001b[0m \u001b[38;5;124;03m    Mixin for adding .loc/.iloc/.at/.iat to Dataframes and Series.\u001b[39;00m\n\u001b[0;32m    159\u001b[0m \u001b[38;5;124;03m    \"\"\"\u001b[39;00m\n\u001b[1;32m--> 161\u001b[0m     \u001b[38;5;129m@property\u001b[39m\n\u001b[0;32m    162\u001b[0m     \u001b[38;5;28;01mdef\u001b[39;00m \u001b[38;5;21miloc\u001b[39m(\u001b[38;5;28mself\u001b[39m) \u001b[38;5;241m-\u001b[39m\u001b[38;5;241m>\u001b[39m _iLocIndexer:\n\u001b[0;32m    163\u001b[0m \u001b[38;5;250m        \u001b[39m\u001b[38;5;124;03m\"\"\"\u001b[39;00m\n\u001b[0;32m    164\u001b[0m \u001b[38;5;124;03m        Purely integer-location based indexing for selection by position.\u001b[39;00m\n\u001b[0;32m    165\u001b[0m \n\u001b[1;32m   (...)\u001b[0m\n\u001b[0;32m    301\u001b[0m \u001b[38;5;124;03m        2  1000  3000\u001b[39;00m\n\u001b[0;32m    302\u001b[0m \u001b[38;5;124;03m        \"\"\"\u001b[39;00m\n\u001b[0;32m    303\u001b[0m         \u001b[38;5;28;01mreturn\u001b[39;00m _iLocIndexer(\u001b[38;5;124m\"\u001b[39m\u001b[38;5;124miloc\u001b[39m\u001b[38;5;124m\"\u001b[39m, \u001b[38;5;28mself\u001b[39m)\n",
      "\u001b[1;31mKeyboardInterrupt\u001b[0m: "
     ]
    }
   ],
   "source": [
    "# สมมติว่า train_df มีอยู่แล้ว\n",
    "# สร้างตารางเปล่าสำหรับเก็บผลลัพธ์ Edit Distance\n",
    "n = len(train_df)\n",
    "edit_distance_matrix = pd.DataFrame(index=range(n), columns=range(n))\n",
    "\n",
    "# คำนวณ Edit Distance แบบ nxn\n",
    "for i in range(n):\n",
    "    for j in range(n):\n",
    "        if i != j:\n",
    "            edit_distance_matrix.iloc[i, j] = Levenshtein.distance(train_df['data'][i], train_df['data'][j])\n",
    "        else:\n",
    "            edit_distance_matrix.iloc[i, j] = 0  # ค่าเดียวกัน ให้เป็น 0\n",
    "\n",
    "# แปลง DataFrame เป็น numpy array\n",
    "edit_distance_array = edit_distance_matrix.to_numpy()\n",
    "\n",
    "# กำหนด path สำหรับบันทึก\n",
    "output_path = r\"C:\\Users\\BMEI CMU\\Desktop\\RESULT\\edit_distance_matrix.mat\"\n",
    "\n",
    "# บันทึกเป็นไฟล์ .mat\n",
    "savemat(output_path, {'edit_distance_matrix': edit_distance_array})\n",
    "\n",
    "print(f\"Edit Distance Matrix saved as .mat at {output_path}\")\n"
   ]
  }
 ],
 "metadata": {
  "kernelspec": {
   "display_name": ".venv",
   "language": "python",
   "name": "python3"
  },
  "language_info": {
   "codemirror_mode": {
    "name": "ipython",
    "version": 3
   },
   "file_extension": ".py",
   "mimetype": "text/x-python",
   "name": "python",
   "nbconvert_exporter": "python",
   "pygments_lexer": "ipython3",
   "version": "3.13.0"
  }
 },
 "nbformat": 4,
 "nbformat_minor": 2
}
