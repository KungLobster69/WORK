{
 "cells": [
  {
   "cell_type": "code",
   "execution_count": 1,
   "metadata": {},
   "outputs": [
    {
     "name": "stdout",
     "output_type": "stream",
     "text": [
      "Edit Distance ระหว่าง 'kitten' และ 'sitting' คือ 3\n"
     ]
    }
   ],
   "source": [
    "def edit_distance_optimized(s1, s2):\n",
    "    m, n = len(s1), len(s2)\n",
    "    \n",
    "    # สร้างแถวก่อนหน้า (previous row) และแถวปัจจุบัน (current row)\n",
    "    previous_row = list(range(n + 1))\n",
    "    current_row = [0] * (n + 1)\n",
    "    \n",
    "    for i in range(1, m + 1):\n",
    "        current_row[0] = i  # ค่าเริ่มต้นในแถวแรก\n",
    "        for j in range(1, n + 1):\n",
    "            # คำนวณ cost\n",
    "            cost = 0 if s1[i - 1] == s2[j - 1] else 1\n",
    "            # ใช้ค่าจากแถวก่อนหน้า (previous_row) และแถวปัจจุบัน (current_row)\n",
    "            current_row[j] = min(\n",
    "                current_row[j - 1] + 1,  # การแทรก (insertion)\n",
    "                previous_row[j] + 1,     # การลบ (deletion)\n",
    "                previous_row[j - 1] + cost  # การแทนที่ (substitution)\n",
    "            )\n",
    "        # สลับแถว: current_row กลายเป็น previous_row\n",
    "        previous_row, current_row = current_row, previous_row\n",
    "\n",
    "    return previous_row[-1]  # ค่า edit distance สุดท้าย\n",
    "\n",
    "# ตัวอย่างการใช้งาน\n",
    "string1 = \"kitten\"\n",
    "string2 = \"sitting\"\n",
    "result = edit_distance_optimized(string1, string2)\n",
    "print(f\"Edit Distance ระหว่าง '{string1}' และ '{string2}' คือ {result}\")"
   ]
  }
 ],
 "metadata": {
  "kernelspec": {
   "display_name": "Python 3",
   "language": "python",
   "name": "python3"
  },
  "language_info": {
   "codemirror_mode": {
    "name": "ipython",
    "version": 3
   },
   "file_extension": ".py",
   "mimetype": "text/x-python",
   "name": "python",
   "nbconvert_exporter": "python",
   "pygments_lexer": "ipython3",
   "version": "3.13.0"
  }
 },
 "nbformat": 4,
 "nbformat_minor": 2
}
