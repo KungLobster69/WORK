{
 "cells": [
  {
   "cell_type": "code",
   "execution_count": 1,
   "metadata": {},
   "outputs": [],
   "source": [
    "import os\n",
    "import pandas as pd\n",
    "from tqdm import tqdm\n",
    "import json"
   ]
  },
  {
   "cell_type": "code",
   "execution_count": 2,
   "metadata": {},
   "outputs": [],
   "source": [
    "# Define the folder path containing multiple files\n",
    "combined_train_data_folder = r\"C:\\Users\\KUNG_LOBSTER69\\Documents\\GitHub\\WORK\\Windows\\CODE_BME\\PROJECT_CYBER_SECURITY\\RESULT\\04.COMBINED_TRAIN_DATA\"\n",
    "\n",
    "# Load all JSON files in the folder into a dictionary\n",
    "def load_json_files_as_dict(folder_path):\n",
    "    data_dict = {}\n",
    "    for file_name in os.listdir(folder_path):\n",
    "        if file_name.endswith(\".json\"):  # ตรวจสอบเฉพาะไฟล์ที่มีนามสกุล .json\n",
    "            file_path = os.path.join(folder_path, file_name)\n",
    "            data_dict[file_name] = pd.read_json(file_path)\n",
    "    return data_dict\n",
    "\n",
    "# Load data into a dictionary\n",
    "combined_train_data_dict = load_json_files_as_dict(combined_train_data_folder)"
   ]
  },
  {
   "cell_type": "code",
   "execution_count": null,
   "metadata": {},
   "outputs": [],
   "source": [
    "# Check the loaded data\n",
    "print(\"Loaded files and their DataFrame sizes:\")\n",
    "for file_name, df in combined_train_data_dict.items():\n",
    "    print(f\"{file_name}: {df.shape}\")"
   ]
  },
  {
   "cell_type": "code",
   "execution_count": 4,
   "metadata": {},
   "outputs": [],
   "source": [
    "def edit_distance_optimized(s1, s2):\n",
    "    m, n = len(s1), len(s2)\n",
    "    \n",
    "    # สร้างแถวก่อนหน้า (previous row) และแถวปัจจุบัน (current row)\n",
    "    previous_row = list(range(n + 1))\n",
    "    current_row = [0] * (n + 1)\n",
    "    \n",
    "    for i in range(1, m + 1):\n",
    "        current_row[0] = i  # ค่าเริ่มต้นในแถวแรก\n",
    "        for j in range(1, n + 1):\n",
    "            # คำนวณ cost\n",
    "            cost = 0 if s1[i - 1] == s2[j - 1] else 1\n",
    "            # ใช้ค่าจากแถวก่อนหน้า (previous_row) และแถวปัจจุบัน (current_row)\n",
    "            current_row[j] = min(\n",
    "                current_row[j - 1] + 1,  # การแทรก (insertion)\n",
    "                previous_row[j] + 1,     # การลบ (deletion)\n",
    "                previous_row[j - 1] + cost  # การแทนที่ (substitution)\n",
    "            )\n",
    "        # สลับแถว: current_row กลายเป็น previous_row\n",
    "        previous_row, current_row = current_row, previous_row\n",
    "\n",
    "    return previous_row[-1]  # ค่า edit distance สุดท้าย\n"
   ]
  },
  {
   "cell_type": "code",
   "execution_count": 5,
   "metadata": {},
   "outputs": [],
   "source": [
    "def calculate_edit_distances_with_progress(df1, df2):\n",
    "    results = []\n",
    "    total = len(df1) * len(df2)  # จำนวนการคำนวณทั้งหมด\n",
    "    progress = tqdm(total=total, desc=\"Calculating Edit Distance\", unit=\"calculation\")\n",
    "\n",
    "    for s1 in df1.iloc[:, 0]:  # ใช้คอลัมน์แรกของ df1\n",
    "        row_results = []\n",
    "        for s2 in df2.iloc[:, 0]:  # ใช้คอลัมน์แรกของ df2\n",
    "            row_results.append(edit_distance_optimized(s1, s2))\n",
    "            progress.update(1)  # อัปเดตความคืบหน้า\n",
    "        results.append(row_results)\n",
    "\n",
    "    progress.close()  # ปิด tqdm หลังคำนวณเสร็จ\n",
    "    return results"
   ]
  },
  {
   "cell_type": "code",
   "execution_count": 6,
   "metadata": {},
   "outputs": [],
   "source": [
    "def calculate_edit_distances_and_save(data_dict, test_df, output_folder):\n",
    "    os.makedirs(output_folder, exist_ok=True)  # สร้างโฟลเดอร์ถ้ายังไม่มี\n",
    "\n",
    "    for file_name, train_df in data_dict.items():\n",
    "        print(f\"Calculating Edit Distance for {file_name}...\")\n",
    "        \n",
    "        # เตรียมบันทึกผลลัพธ์\n",
    "        results = []\n",
    "        total = len(train_df) * len(test_df)\n",
    "        progress = tqdm(total=total, desc=f\"Processing {file_name}\", unit=\"calculation\")\n",
    "\n",
    "        # คำนวณ Edit Distance\n",
    "        for i, s1 in enumerate(train_df.iloc[:, 0]):  # ใช้คอลัมน์แรก\n",
    "            row_results = []\n",
    "            for j, s2 in enumerate(test_df.iloc[:, 0]):  # ใช้คอลัมน์แรก\n",
    "                distance = edit_distance_optimized(s1, s2)\n",
    "                row_results.append({\"train_index\": i, \"test_index\": j, \"edit_distance\": distance})\n",
    "                progress.update(1)\n",
    "            results.append(row_results)\n",
    "\n",
    "        progress.close()\n",
    "\n",
    "        # บันทึกผลลัพธ์เป็นไฟล์ .json\n",
    "        output_file = os.path.join(output_folder, f\"{os.path.splitext(file_name)[0]}_distances.json\")\n",
    "        with open(output_file, \"w\", encoding=\"utf-8\") as f:\n",
    "            json.dump(results, f, ensure_ascii=False, indent=4)\n",
    "\n",
    "        print(f\"Saved results to {output_file}\")"
   ]
  },
  {
   "cell_type": "code",
   "execution_count": null,
   "metadata": {},
   "outputs": [],
   "source": [
    "# Example usage:\n",
    "benign_test_df = pd.read_json(r\"C:\\Users\\KUNG_LOBSTER69\\Documents\\GitHub\\WORK\\Windows\\CODE_BME\\PROJECT_CYBER_SECURITY\\RESULT\\01.TRAIN_TEST_SET\\benign_test.json\", lines=True)\n",
    "malware_test_df = pd.read_json(r\"C:\\Users\\KUNG_LOBSTER69\\Documents\\GitHub\\WORK\\Windows\\CODE_BME\\PROJECT_CYBER_SECURITY\\RESULT\\01.TRAIN_TEST_SET\\malware_test.json\", lines=True)\n",
    "\n",
    "# Path สำหรับ output folder\n",
    "output_folder = r\"C:\\Users\\KUNG_LOBSTER69\\Documents\\GitHub\\WORK\\Windows\\CODE_BME\\PROJECT_CYBER_SECURITY\\RESULT\\05.EDIT)DISTANCE_TRAIN_TEST\"\n",
    "\n",
    "# เรียกใช้ฟังก์ชัน\n",
    "calculate_edit_distances_and_save(combined_train_data_dict, benign_test_df, output_folder)\n",
    "calculate_edit_distances_and_save(combined_train_data_dict, malware_test_df, output_folder)"
   ]
  }
 ],
 "metadata": {
  "kernelspec": {
   "display_name": "Python 3",
   "language": "python",
   "name": "python3"
  },
  "language_info": {
   "codemirror_mode": {
    "name": "ipython",
    "version": 3
   },
   "file_extension": ".py",
   "mimetype": "text/x-python",
   "name": "python",
   "nbconvert_exporter": "python",
   "pygments_lexer": "ipython3",
   "version": "3.13.0"
  }
 },
 "nbformat": 4,
 "nbformat_minor": 2
}
