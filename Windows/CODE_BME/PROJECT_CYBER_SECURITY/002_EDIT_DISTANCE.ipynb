{
 "cells": [
  {
   "cell_type": "code",
   "execution_count": 1,
   "metadata": {},
   "outputs": [],
   "source": [
    "import pandas as pd\n",
    "import numpy as np\n",
    "from concurrent.futures import ThreadPoolExecutor\n",
    "from functools import lru_cache"
   ]
  },
  {
   "cell_type": "code",
   "execution_count": 2,
   "metadata": {},
   "outputs": [],
   "source": [
    "# ระบุพาธของไฟล์ JSON สำหรับ benign และ malware\n",
    "benign_train_path = r'C:\\Users\\BMEI CMU\\Documents\\GitHub\\WORK\\Windows\\CODE_BME\\PROJECT_CYBER_SECURITY\\RESULT\\01.TRAIN_TEST_SET\\benign_train.json'\n",
    "malware_train_path = r'C:\\Users\\BMEI CMU\\Documents\\GitHub\\WORK\\Windows\\CODE_BME\\PROJECT_CYBER_SECURITY\\RESULT\\01.TRAIN_TEST_SET\\malware_train.json'\n",
    "\n",
    "# โหลด JSON สำหรับ benign และ malware\n",
    "benign_train_df = pd.read_json(benign_train_path, lines=True)\n",
    "malware_train_df = pd.read_json(malware_train_path, lines=True)"
   ]
  },
  {
   "cell_type": "code",
   "execution_count": null,
   "metadata": {},
   "outputs": [],
   "source": [
    "# ระบุพาธของไฟล์ JSON สำหรับ benign และ malware\n",
    "benign_train_path = r'C:\\Users\\BMEI CMU\\Documents\\GitHub\\WORK\\Windows\\CODE_BME\\PROJECT_CYBER_SECURITY\\RESULT\\01.TRAIN_TEST_SET\\benign_train.json'\n",
    "malware_train_path = r'C:\\Users\\BMEI CMU\\Documents\\GitHub\\WORK\\Windows\\CODE_BME\\PROJECT_CYBER_SECURITY\\RESULT\\01.TRAIN_TEST_SET\\malware_train.json'\n",
    "\n",
    "# โหลดเฉพาะ 10 แถวจาก JSON สำหรับ benign และ malware\n",
    "benign_train_df = pd.read_json(benign_train_path, lines=True, nrows=2)\n",
    "malware_train_df = pd.read_json(malware_train_path, lines=True, nrows=2)"
   ]
  },
  {
   "cell_type": "code",
   "execution_count": null,
   "metadata": {},
   "outputs": [],
   "source": [
    "@lru_cache(maxsize=None)  # ใช้ memoization เพื่อบันทึกค่า Edit Distance ที่คำนวณแล้ว\n",
    "def optimized_edit_distance(str1, str2):\n",
    "    m, n = len(str1), len(str2)\n",
    "    previous_row = list(range(n + 1))\n",
    "    current_row = [0] * (n + 1)\n",
    "\n",
    "    for i in range(1, m + 1):\n",
    "        current_row[0] = i\n",
    "        for j in range(1, n + 1):\n",
    "            if str1[i - 1] == str2[j - 1]:\n",
    "                current_row[j] = previous_row[j - 1]\n",
    "            else:\n",
    "                current_row[j] = 1 + min(previous_row[j], current_row[j - 1], previous_row[j - 1])\n",
    "        previous_row, current_row = current_row, previous_row\n",
    "\n",
    "    return previous_row[n]\n",
    "\n",
    "def calculate_pairwise_distance(i, j, strings, distance_matrix, dataset_name):\n",
    "    # คำนวณระยะห่างและจัดเก็บใน matrix\n",
    "    print(f\"Calculating distance between items {i} and {j} in {dataset_name}\")\n",
    "    distance = optimized_edit_distance(strings[i], strings[j])\n",
    "    distance_matrix[i, j] = distance\n",
    "    distance_matrix[j, i] = distance\n",
    "    print(f\"Distance between items {i} and {j} in {dataset_name} Done !!!\")\n",
    "\n",
    "def calculate_distance_matrix(strings, save_path, dataset_name):\n",
    "    print(f\"Starting calculation for {dataset_name} dataset...\")\n",
    "    # สร้าง matrix เพื่อเก็บค่า edit distance\n",
    "    distance_matrix = np.zeros((len(strings), len(strings)))\n",
    "\n",
    "    # ใช้ ThreadPoolExecutor เพื่อคำนวณคู่สตริงพร้อมกัน\n",
    "    with ThreadPoolExecutor() as executor:\n",
    "        futures = []\n",
    "        for i in range(len(strings)):\n",
    "            for j in range(i + 1, len(strings)):\n",
    "                futures.append(executor.submit(calculate_pairwise_distance, i, j, strings, distance_matrix, dataset_name))\n",
    "\n",
    "        # รอให้ทุกคู่คำนวณเสร็จ\n",
    "        for future in futures:\n",
    "            future.result()\n",
    "\n",
    "    # บันทึก distance_matrix ลงในไฟล์\n",
    "    np.save(save_path, distance_matrix)\n",
    "    print(f\"{dataset_name} matrix saved successfully at {save_path}\")"
   ]
  },
  {
   "cell_type": "code",
   "execution_count": null,
   "metadata": {},
   "outputs": [],
   "source": [
    "# ดึงข้อมูลสตริงสำหรับ benign และ malware\n",
    "benign_strings = benign_train_df.iloc[:, 0].values \n",
    "malware_strings = malware_train_df.iloc[:, 0].values"
   ]
  },
  {
   "cell_type": "code",
   "execution_count": null,
   "metadata": {},
   "outputs": [],
   "source": [
    "# คำนวณและบันทึก distance_matrix สำหรับ benign\n",
    "benign_save_path = r'C:\\Users\\BMEI CMU\\Documents\\GitHub\\WORK\\Windows\\CODE_BME\\PROJECT_CYBER_SECURITY\\RESULT\\02.EDIT_DISTANCE_MATRIX\\benign_distance_matrix.npy'\n",
    "calculate_distance_matrix(benign_strings, benign_save_path, \"Benign\")\n",
    "\n",
    "# คำนวณและบันทึก distance_matrix สำหรับ malware\n",
    "malware_save_path = r'C:\\Users\\BMEI CMU\\Documents\\GitHub\\WORK\\Windows\\CODE_BME\\PROJECT_CYBER_SECURITY\\RESULT\\02.EDIT_DISTANCE_MATRIX\\malware_distance_matrix.npy'\n",
    "calculate_distance_matrix(malware_strings, malware_save_path, \"Malware\")"
   ]
  },
  {
   "cell_type": "code",
   "execution_count": null,
   "metadata": {},
   "outputs": [],
   "source": [
    "import numpy as np\n",
    "from concurrent.futures import ThreadPoolExecutor\n",
    "from functools import lru_cache\n",
    "\n",
    "@lru_cache(maxsize=None)  # ใช้ memoization เพื่อบันทึกค่า Edit Distance ที่คำนวณแล้ว\n",
    "def optimized_edit_distance(str1, str2):\n",
    "    m, n = len(str1), len(str2)\n",
    "    previous_row = list(range(n + 1))\n",
    "    current_row = [0] * (n + 1)\n",
    "\n",
    "    for i in range(1, m + 1):\n",
    "        current_row[0] = i\n",
    "        for j in range(1, n + 1):\n",
    "            if str1[i - 1] == str2[j - 1]:\n",
    "                current_row[j] = previous_row[j - 1]\n",
    "            else:\n",
    "                current_row[j] = 1 + min(previous_row[j], current_row[j - 1], previous_row[j - 1])\n",
    "        previous_row, current_row = current_row, previous_row\n",
    "\n",
    "    return previous_row[n]\n",
    "\n",
    "def calculate_pairwise_distance(i, j, strings, distance_matrix, dataset_name):\n",
    "    print(f\"Calculating distance between items {i} and {j} in {dataset_name}\")\n",
    "    distance = optimized_edit_distance(strings[i], strings[j])\n",
    "    distance_matrix[i, j] = distance\n",
    "    distance_matrix[j, i] = distance\n",
    "    print(f\"Distance between items {i} and {j} in {dataset_name} Done !!!\")\n",
    "\n",
    "def calculate_distance_matrix(strings, dataset_name=\"Test\"):\n",
    "    print(f\"Starting calculation for {dataset_name} dataset...\")\n",
    "    # สร้าง matrix เพื่อเก็บค่า edit distance\n",
    "    distance_matrix = np.zeros((len(strings), len(strings)))\n",
    "\n",
    "    # ใช้ ThreadPoolExecutor เพื่อคำนวณคู่สตริงพร้อมกัน\n",
    "    with ThreadPoolExecutor() as executor:\n",
    "        futures = []\n",
    "        for i in range(len(strings)):\n",
    "            for j in range(i + 1, len(strings)):\n",
    "                futures.append(executor.submit(calculate_pairwise_distance, i, j, strings, distance_matrix, dataset_name))\n",
    "\n",
    "        # รอให้ทุกคู่คำนวณเสร็จ\n",
    "        for future in futures:\n",
    "            future.result()\n",
    "\n",
    "    print(f\"Distance matrix for {dataset_name}:\")\n",
    "    print(distance_matrix)\n",
    "\n",
    "# ตัวอย่างสตริงง่าย ๆ เพื่อทดสอบ\n",
    "test_strings = [\"cat\", \"bat\", \"rat\", \"hat\"]\n",
    "calculate_distance_matrix(test_strings, \"Simple Test\")\n"
   ]
  }
 ],
 "metadata": {
  "kernelspec": {
   "display_name": ".venv",
   "language": "python",
   "name": "python3"
  },
  "language_info": {
   "codemirror_mode": {
    "name": "ipython",
    "version": 3
   },
   "file_extension": ".py",
   "mimetype": "text/x-python",
   "name": "python",
   "nbconvert_exporter": "python",
   "pygments_lexer": "ipython3",
   "version": "3.13.0"
  }
 },
 "nbformat": 4,
 "nbformat_minor": 2
}
