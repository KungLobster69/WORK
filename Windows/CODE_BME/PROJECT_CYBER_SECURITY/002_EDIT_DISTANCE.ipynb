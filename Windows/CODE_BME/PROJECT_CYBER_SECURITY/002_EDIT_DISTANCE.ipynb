{
 "cells": [
  {
   "cell_type": "code",
   "execution_count": null,
   "metadata": {},
   "outputs": [],
   "source": [
    "import pandas as pd\n",
    "import numpy as np\n",
    "import os\n",
    "from tqdm import tqdm\n",
    "from concurrent.futures import ThreadPoolExecutor\n",
    "from concurrent.futures import ProcessPoolExecutor\n",
    "from rapidfuzz.distance import Levenshtein\n",
    "from threading import Lock"
   ]
  },
  {
   "cell_type": "code",
   "execution_count": null,
   "metadata": {},
   "outputs": [],
   "source": [
    "# ระบุพาธของไฟล์ JSON สำหรับ benign และ malware\n",
    "benign_train_path = r'C:\\Users\\BMEI CMU\\Documents\\GitHub\\WORK\\Windows\\CODE_BME\\PROJECT_CYBER_SECURITY\\RESULT\\01.TRAIN_TEST_SET\\benign_train.json'\n",
    "malware_train_path = r'C:\\Users\\BMEI CMU\\Documents\\GitHub\\WORK\\Windows\\CODE_BME\\PROJECT_CYBER_SECURITY\\RESULT\\01.TRAIN_TEST_SET\\malware_train.json'"
   ]
  },
  {
   "cell_type": "code",
   "execution_count": null,
   "metadata": {},
   "outputs": [],
   "source": [
    "# โหลด JSON สำหรับ benign และ malware\n",
    "benign_train_df = pd.read_json(benign_train_path, lines=True)\n",
    "malware_train_df = pd.read_json(malware_train_path, lines=True)"
   ]
  },
  {
   "cell_type": "code",
   "execution_count": null,
   "metadata": {},
   "outputs": [],
   "source": [
    "# ดึงข้อมูลสตริงสำหรับ benign และ malware\n",
    "benign_strings = benign_train_df.iloc[:, 0].values\n",
    "malware_strings = malware_train_df.iloc[:, 0].values"
   ]
  },
  {
   "cell_type": "code",
   "execution_count": null,
   "metadata": {},
   "outputs": [],
   "source": [
    "# Utility functions สำหรับ save/load progress\n",
    "def save_progress(distance_matrix, current_progress, save_path, checkpoint_path):\n",
    "    np.save(save_path, distance_matrix)\n",
    "    np.savez(checkpoint_path, current_progress=current_progress)\n",
    "\n",
    "def load_progress(save_path, checkpoint_path):\n",
    "    if os.path.exists(save_path) and os.path.exists(checkpoint_path):\n",
    "        distance_matrix = np.load(save_path)\n",
    "        checkpoint_data = np.load(checkpoint_path)\n",
    "        if 'current_progress' in checkpoint_data:\n",
    "            return distance_matrix, int(checkpoint_data['current_progress'])\n",
    "    return None, 0"
   ]
  },
  {
   "cell_type": "code",
   "execution_count": null,
   "metadata": {},
   "outputs": [],
   "source": [
    "def calculate_pairwise_edit_distance_single(strings, save_path, checkpoint_path, dataset_name):\n",
    "    print(f\"Starting {dataset_name} Edit Distance calculation...\")\n",
    "\n",
    "    n = len(strings)\n",
    "    total_calculations = n * (n - 1) // 2\n",
    "    distance_matrix, current_progress = load_progress(save_path, checkpoint_path)\n",
    "    if distance_matrix is None:\n",
    "        distance_matrix = np.zeros((n, n))\n",
    "\n",
    "    save_interval = 100  # บันทึกผลทุกๆ n คู่ที่คำนวณเสร็จ\n",
    "\n",
    "    overall_progress = tqdm(total=total_calculations, unit=\"pair\", desc=f\"{dataset_name} Progress\", unit_scale=True, initial=current_progress)\n",
    "\n",
    "    try:\n",
    "        for i in range(n):\n",
    "            for j in range(i + 1, n):  # คำนวณเฉพาะครึ่งบนของเมทริกซ์\n",
    "                if distance_matrix[i, j] == 0:  # คำนวณเฉพาะที่ยังไม่ได้คำนวณ\n",
    "                    \n",
    "                    # แสดงคู่ที่กำลังคำนวณ\n",
    "                    print(f\"Calculating Edit Distance for pair: ({i}, {j})\")\n",
    "\n",
    "                    # คำนวณ Edit Distance\n",
    "                    distance_matrix[i, j] = distance_matrix[j, i] = Levenshtein.distance(strings[i], strings[j])\n",
    "                    \n",
    "                    # อัปเดตความคืบหน้ารวม\n",
    "                    current_progress += 1\n",
    "                    overall_progress.update(1)\n",
    "\n",
    "                    # บันทึกผลหลังจากคำนวณครบทุก save_interval\n",
    "                    if current_progress % save_interval == 0:\n",
    "                        save_progress(distance_matrix, current_progress, save_path, checkpoint_path)\n",
    "\n",
    "    finally:\n",
    "        # ปิด bar ความคืบหน้ารวมเมื่อเสร็จสิ้น\n",
    "        overall_progress.close()\n",
    "\n",
    "    # บันทึกผลลัพธ์ครั้งสุดท้าย\n",
    "    np.save(save_path, distance_matrix)\n",
    "    print(f\"{dataset_name} matrix saved successfully at {save_path}\")"
   ]
  },
  {
   "cell_type": "code",
   "execution_count": null,
   "metadata": {},
   "outputs": [],
   "source": [
    "# คำนวณและบันทึก distance_matrix สำหรับ benign\n",
    "benign_save_path = r'C:\\Users\\BMEI CMU\\Documents\\GitHub\\WORK\\Windows\\CODE_BME\\PROJECT_CYBER_SECURITY\\RESULT\\02.EDIT_DISTANCE_MATRIX\\benign_distance_matrix.npy'\n",
    "benign_checkpoint_path = r'C:\\Users\\BMEI CMU\\Documents\\GitHub\\WORK\\Windows\\CODE_BME\\PROJECT_CYBER_SECURITY\\RESULT\\02.EDIT_DISTANCE_MATRIX\\benign_checkpoint.npz'\n",
    "calculate_pairwise_edit_distance_parallel(benign_strings, benign_save_path, benign_checkpoint_path, \"Benign\")"
   ]
  },
  {
   "cell_type": "code",
   "execution_count": null,
   "metadata": {},
   "outputs": [],
   "source": [
    "# คำนวณและบันทึก distance_matrix สำหรับ malware\n",
    "malware_save_path = r'C:\\Users\\BMEI CMU\\Documents\\GitHub\\WORK\\Windows\\CODE_BME\\PROJECT_CYBER_SECURITY\\RESULT\\02.EDIT_DISTANCE_MATRIX\\malware_distance_matrix.npy'\n",
    "malware_checkpoint_path = r'C:\\Users\\BMEI CMU\\Documents\\GitHub\\WORK\\Windows\\CODE_BME\\PROJECT_CYBER_SECURITY\\RESULT\\02.EDIT_DISTANCE_MATRIX\\malware_checkpoint.npz'\n",
    "calculate_pairwise_edit_distance_single(malware_strings, malware_save_path, malware_checkpoint_path, \"Malware\")"
   ]
  },
  {
   "cell_type": "code",
   "execution_count": null,
   "metadata": {},
   "outputs": [],
   "source": [
    "# ระบุพาธของไฟล์ที่ต้องการอ่าน\n",
    "matrix_file_path = r'C:\\Users\\BMEI CMU\\Documents\\GitHub\\WORK\\Windows\\CODE_BME\\PROJECT_CYBER_SECURITY\\RESULT\\02.EDIT_DISTANCE_MATRIX\\benign_distance_matrix.npy'\n",
    "checkpoint_file_path = r'C:\\Users\\BMEI CMU\\Documents\\GitHub\\WORK\\Windows\\CODE_BME\\PROJECT_CYBER_SECURITY\\RESULT\\02.EDIT_DISTANCE_MATRIX\\benign_checkpoint.npz'\n",
    "\n",
    "try:\n",
    "    # อ่านไฟล์ .npy\n",
    "    distance_matrix = np.load(matrix_file_path)\n",
    "    print(\"Loaded distance matrix successfully!\")\n",
    "    print(\"Shape of the matrix:\", distance_matrix.shape)\n",
    "    print(\"Sample data from matrix:\")\n",
    "    print(distance_matrix[:5, :5])  # แสดงตัวอย่างข้อมูลบางส่วน\n",
    "\n",
    "    # อ่านไฟล์ .npz\n",
    "    with np.load(checkpoint_file_path) as checkpoint_data:\n",
    "        print(\"\\nLoaded checkpoint data successfully!\")\n",
    "        print(\"Keys in the checkpoint file:\", list(checkpoint_data.keys()))\n",
    "        \n",
    "        # อ่าน current_progress\n",
    "        if 'current_progress' in checkpoint_data:\n",
    "            current_progress = checkpoint_data['current_progress']\n",
    "            print(\"Current progress:\", current_progress)\n",
    "        else:\n",
    "            print(\"'current_progress' not found in the checkpoint file.\")\n",
    "\n",
    "except FileNotFoundError as e:\n",
    "    print(f\"Error: {e}\")\n",
    "except Exception as e:\n",
    "    print(f\"An error occurred: {e}\")\n"
   ]
  }
 ],
 "metadata": {
  "kernelspec": {
   "display_name": ".venv",
   "language": "python",
   "name": "python3"
  },
  "language_info": {
   "codemirror_mode": {
    "name": "ipython",
    "version": 3
   },
   "file_extension": ".py",
   "mimetype": "text/x-python",
   "name": "python",
   "nbconvert_exporter": "python",
   "pygments_lexer": "ipython3",
   "version": "3.13.0"
  }
 },
 "nbformat": 4,
 "nbformat_minor": 2
}
