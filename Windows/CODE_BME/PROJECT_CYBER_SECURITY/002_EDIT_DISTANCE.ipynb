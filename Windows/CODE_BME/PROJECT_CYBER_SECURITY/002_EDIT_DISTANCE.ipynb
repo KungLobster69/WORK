{
 "cells": [
  {
   "cell_type": "code",
   "execution_count": null,
   "metadata": {},
   "outputs": [],
   "source": [
    "import pandas as pd\n",
    "import numpy as np\n",
    "import os\n",
    "from tqdm import tqdm\n",
    "from concurrent.futures import ThreadPoolExecutor\n",
    "from functools import lru_cache"
   ]
  },
  {
   "cell_type": "code",
   "execution_count": null,
   "metadata": {},
   "outputs": [],
   "source": [
    "# ระบุพาธของไฟล์ JSON สำหรับ benign และ malware\n",
    "benign_train_path = r'C:\\Users\\BMEI CMU\\Documents\\GitHub\\WORK\\Windows\\CODE_BME\\PROJECT_CYBER_SECURITY\\RESULT\\01.TRAIN_TEST_SET\\benign_train.json'\n",
    "malware_train_path = r'C:\\Users\\BMEI CMU\\Documents\\GitHub\\WORK\\Windows\\CODE_BME\\PROJECT_CYBER_SECURITY\\RESULT\\01.TRAIN_TEST_SET\\malware_train.json'\n",
    "\n",
    "# โหลด JSON สำหรับ benign และ malware\n",
    "benign_train_df = pd.read_json(benign_train_path, lines=True)\n",
    "malware_train_df = pd.read_json(malware_train_path, lines=True)"
   ]
  },
  {
   "cell_type": "code",
   "execution_count": null,
   "metadata": {},
   "outputs": [],
   "source": [
    "# ระบุพาธของไฟล์ JSON สำหรับ benign และ malware\n",
    "benign_train_path = r'C:\\Users\\BMEI CMU\\Documents\\GitHub\\WORK\\Windows\\CODE_BME\\PROJECT_CYBER_SECURITY\\RESULT\\01.TRAIN_TEST_SET\\benign_train.json'\n",
    "malware_train_path = r'C:\\Users\\BMEI CMU\\Documents\\GitHub\\WORK\\Windows\\CODE_BME\\PROJECT_CYBER_SECURITY\\RESULT\\01.TRAIN_TEST_SET\\malware_train.json'\n",
    "\n",
    "# โหลดเฉพาะ 10 แถวจาก JSON สำหรับ benign และ malware\n",
    "benign_train_df = pd.read_json(benign_train_path, lines=True, nrows=2)\n",
    "malware_train_df = pd.read_json(malware_train_path, lines=True, nrows=2)"
   ]
  },
  {
   "cell_type": "code",
   "execution_count": null,
   "metadata": {},
   "outputs": [],
   "source": [
    "# ดึงข้อมูลสตริงสำหรับ benign และ malware\n",
    "benign_strings = benign_train_df.iloc[:, 0].values\n",
    "malware_strings = malware_train_df.iloc[:, 0].values"
   ]
  },
  {
   "cell_type": "code",
   "execution_count": null,
   "metadata": {},
   "outputs": [],
   "source": [
    "# ฟังก์ชันคำนวณ Edit Distance พร้อมการแคช และแสดงความคืบหน้าในแต่ละขั้นตอน\n",
    "@lru_cache(maxsize=None)\n",
    "def optimized_edit_distance(str1, str2, progress_bar=None):\n",
    "    m, n = len(str1), len(str2)\n",
    "    previous_row = list(range(n + 1))\n",
    "    for i in range(1, m + 1):\n",
    "        current_row = [i] + [0] * n\n",
    "        for j in range(1, n + 1):\n",
    "            if str1[i - 1] == str2[j - 1]:\n",
    "                current_row[j] = previous_row[j - 1]\n",
    "            else:\n",
    "                current_row[j] = 1 + min(previous_row[j], current_row[j - 1], previous_row[j - 1])\n",
    "\n",
    "            # อัพเดต progress bar ในแต่ละขั้นตอนของ Edit Distance\n",
    "            if progress_bar:\n",
    "                progress_bar.update(1)\n",
    "\n",
    "        previous_row = current_row\n",
    "    return previous_row[-1]\n",
    "\n",
    "def save_progress(distance_matrix, current_i, current_j, save_path, checkpoint_path):\n",
    "    np.save(save_path, distance_matrix)\n",
    "    np.savez(checkpoint_path, current_i=current_i, current_j=current_j)\n",
    "\n",
    "def load_progress(save_path, checkpoint_path):\n",
    "    if os.path.exists(save_path) and os.path.exists(checkpoint_path):\n",
    "        distance_matrix = np.load(save_path)\n",
    "        checkpoint_data = np.load(checkpoint_path)\n",
    "        if 'current_i' in checkpoint_data and 'current_j' in checkpoint_data:\n",
    "            return distance_matrix, int(checkpoint_data['current_i']), int(checkpoint_data['current_j'])\n",
    "    return None, 0, 0\n",
    "\n",
    "def calculate_distance_matrix_parallel(strings, save_path, checkpoint_path, dataset_name):\n",
    "    print(f\"Starting calculation for {dataset_name} dataset...\")\n",
    "\n",
    "    distance_matrix, start_i, start_j = load_progress(save_path, checkpoint_path)\n",
    "    if distance_matrix is None:\n",
    "        distance_matrix = np.zeros((len(strings), len(strings)))\n",
    "\n",
    "    total_calculations = len(strings) * (len(strings) - 1) // 2\n",
    "\n",
    "    with tqdm(total=total_calculations, unit=\"pair\", desc=\"Overall Progress\", position=0, leave=True) as overall_progress:\n",
    "        with ThreadPoolExecutor() as executor:\n",
    "            futures = []\n",
    "            for i in range(start_i, len(strings)):\n",
    "                for j in range(start_j if i == start_i else i + 1, len(strings)):\n",
    "                    if i != j:\n",
    "                        # สร้าง progress bar สำหรับ Edit Distance ภายในแต่ละคู่\n",
    "                        progress_bar = tqdm(total=len(strings[i]) * len(strings[j]), leave=False, desc=f\"Edit Distance ({i}, {j})\")\n",
    "                        futures.append((i, j, executor.submit(optimized_edit_distance, strings[i], strings[j], progress_bar)))\n",
    "                start_j = 0  # Reset start_j for the next row\n",
    "\n",
    "            for i, j, future in futures:\n",
    "                distance = future.result()\n",
    "                distance_matrix[i, j] = distance_matrix[j, i] = distance\n",
    "                save_progress(distance_matrix, i, j, save_path, checkpoint_path)  # Save progress\n",
    "                overall_progress.update(1)  # อัพเดต overall progress bar\n",
    "\n",
    "    np.save(save_path, distance_matrix)\n",
    "    print(f\"{dataset_name} matrix saved successfully at {save_path}\")"
   ]
  },
  {
   "cell_type": "code",
   "execution_count": null,
   "metadata": {},
   "outputs": [],
   "source": [
    "# คำนวณและบันทึก distance_matrix สำหรับ benign\n",
    "benign_save_path = r'C:\\Users\\BMEI CMU\\Documents\\GitHub\\WORK\\Windows\\CODE_BME\\PROJECT_CYBER_SECURITY\\RESULT\\02.EDIT_DISTANCE_MATRIX\\benign_distance_matrix.npy'\n",
    "benign_checkpoint_path = r'C:\\Users\\BMEI CMU\\Documents\\GitHub\\WORK\\Windows\\CODE_BME\\PROJECT_CYBER_SECURITY\\RESULT\\02.EDIT_DISTANCE_MATRIX\\benign_checkpoint.npz'\n",
    "calculate_distance_matrix_parallel(benign_strings, benign_save_path, benign_checkpoint_path, \"Benign\")\n",
    "\n",
    "# คำนวณและบันทึก distance_matrix สำหรับ malware\n",
    "malware_save_path = r'C:\\Users\\BMEI CMU\\Documents\\GitHub\\WORK\\Windows\\CODE_BME\\PROJECT_CYBER_SECURITY\\RESULT\\02.EDIT_DISTANCE_MATRIX\\malware_distance_matrix.npy'\n",
    "malware_checkpoint_path = r'C:\\Users\\BMEI CMU\\Documents\\GitHub\\WORK\\Windows\\CODE_BME\\PROJECT_CYBER_SECURITY\\RESULT\\02.EDIT_DISTANCE_MATRIX\\malware_checkpoint.npz'\n",
    "calculate_distance_matrix_parallel(malware_strings, malware_save_path, malware_checkpoint_path, \"Malware\")"
   ]
  }
 ],
 "metadata": {
  "kernelspec": {
   "display_name": ".venv",
   "language": "python",
   "name": "python3"
  },
  "language_info": {
   "codemirror_mode": {
    "name": "ipython",
    "version": 3
   },
   "file_extension": ".py",
   "mimetype": "text/x-python",
   "name": "python",
   "nbconvert_exporter": "python",
   "pygments_lexer": "ipython3",
   "version": "3.13.0"
  }
 },
 "nbformat": 4,
 "nbformat_minor": 2
}
