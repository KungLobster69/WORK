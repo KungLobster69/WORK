{
 "cells": [
  {
   "cell_type": "code",
   "execution_count": 1,
   "metadata": {},
   "outputs": [],
   "source": [
    "import pandas as pd\n",
    "import numpy as np\n",
    "from concurrent.futures import ThreadPoolExecutor\n",
    "from functools import lru_cache\n",
    "import os"
   ]
  },
  {
   "cell_type": "code",
   "execution_count": null,
   "metadata": {},
   "outputs": [],
   "source": [
    "# ระบุพาธของไฟล์ JSON สำหรับ benign และ malware\n",
    "benign_train_path = r'C:\\Users\\BMEI CMU\\Documents\\GitHub\\WORK\\Windows\\CODE_BME\\PROJECT_CYBER_SECURITY\\RESULT\\01.TRAIN_TEST_SET\\benign_train.json'\n",
    "malware_train_path = r'C:\\Users\\BMEI CMU\\Documents\\GitHub\\WORK\\Windows\\CODE_BME\\PROJECT_CYBER_SECURITY\\RESULT\\01.TRAIN_TEST_SET\\malware_train.json'\n",
    "\n",
    "# โหลด JSON สำหรับ benign และ malware\n",
    "benign_train_df = pd.read_json(benign_train_path, lines=True)\n",
    "malware_train_df = pd.read_json(malware_train_path, lines=True)"
   ]
  },
  {
   "cell_type": "code",
   "execution_count": 2,
   "metadata": {},
   "outputs": [],
   "source": [
    "# ระบุพาธของไฟล์ JSON สำหรับ benign และ malware\n",
    "benign_train_path = r'C:\\Users\\BMEI CMU\\Documents\\GitHub\\WORK\\Windows\\CODE_BME\\PROJECT_CYBER_SECURITY\\RESULT\\01.TRAIN_TEST_SET\\benign_train.json'\n",
    "malware_train_path = r'C:\\Users\\BMEI CMU\\Documents\\GitHub\\WORK\\Windows\\CODE_BME\\PROJECT_CYBER_SECURITY\\RESULT\\01.TRAIN_TEST_SET\\malware_train.json'\n",
    "\n",
    "# โหลดเฉพาะ 10 แถวจาก JSON สำหรับ benign และ malware\n",
    "benign_train_df = pd.read_json(benign_train_path, lines=True, nrows=2)\n",
    "malware_train_df = pd.read_json(malware_train_path, lines=True, nrows=2)"
   ]
  },
  {
   "cell_type": "code",
   "execution_count": null,
   "metadata": {},
   "outputs": [],
   "source": [
    "@lru_cache(maxsize=None)\n",
    "def optimized_edit_distance(str1, str2):\n",
    "    m, n = len(str1), len(str2)\n",
    "    previous_row = list(range(n + 1))\n",
    "    current_row = [0] * (n + 1)\n",
    "\n",
    "    for i in range(1, m + 1):\n",
    "        current_row[0] = i\n",
    "        for j in range(1, n + 1):\n",
    "            if str1[i - 1] == str2[j - 1]:\n",
    "                current_row[j] = previous_row[j - 1]\n",
    "            else:\n",
    "                current_row[j] = 1 + min(previous_row[j], current_row[j - 1], previous_row[j - 1])\n",
    "        previous_row, current_row = current_row, previous_row\n",
    "\n",
    "    return previous_row[n]\n",
    "\n",
    "def save_progress(distance_matrix, current_i, current_j, save_path, checkpoint_path):\n",
    "    # Save the current state of the matrix and parameters\n",
    "    np.save(save_path, distance_matrix)\n",
    "    np.savez(checkpoint_path, i=current_i, j=current_j)\n",
    "    print(f\"Progress saved: current pair ({current_i}, {current_j}) saved to {save_path} and {checkpoint_path}\")\n",
    "\n",
    "def load_progress(save_path, checkpoint_path):\n",
    "    # Load saved matrix and parameters if they exist\n",
    "    if os.path.exists(save_path) and os.path.exists(checkpoint_path):\n",
    "        distance_matrix = np.load(save_path)\n",
    "        checkpoint_data = np.load(checkpoint_path)\n",
    "        return distance_matrix, checkpoint_data['i'], checkpoint_data['j']\n",
    "    else:\n",
    "        return None, 0, 0\n",
    "\n",
    "def calculate_pairwise_distance(i, j, strings, distance_matrix, dataset_name, save_path, checkpoint_path):\n",
    "    # Save progress immediately when starting a new calculation\n",
    "    save_progress(distance_matrix, i, j, save_path, checkpoint_path)\n",
    "    \n",
    "    # คำนวณระยะห่างและจัดเก็บใน matrix\n",
    "    distance = optimized_edit_distance(strings[i], strings[j])\n",
    "    distance_matrix[i, j] = distance\n",
    "    distance_matrix[j, i] = distance\n",
    "    print(f\"Distance between items {i} and {j} in {dataset_name} Done !!!\")\n",
    "\n",
    "def calculate_distance_matrix(strings, save_path, checkpoint_path, dataset_name):\n",
    "    print(f\"Starting calculation for {dataset_name} dataset...\")\n",
    "\n",
    "    # Load or initialize distance matrix and checkpoints\n",
    "    distance_matrix, start_i, start_j = load_progress(save_path, checkpoint_path)\n",
    "    if distance_matrix is None:\n",
    "        distance_matrix = np.zeros((len(strings), len(strings)))\n",
    "\n",
    "    # ใช้ ThreadPoolExecutor เพื่อคำนวณคู่สตริงพร้อมกัน\n",
    "    with ThreadPoolExecutor() as executor:\n",
    "        futures = []\n",
    "        for i in range(start_i, len(strings)):\n",
    "            for j in range(start_j if i == start_i else 0, len(strings)):\n",
    "                futures.append(executor.submit(calculate_pairwise_distance, i, j, strings, distance_matrix, dataset_name, save_path, checkpoint_path))\n",
    "            start_j = 0  # Reset start_j after the first row\n",
    "\n",
    "        # รอให้ทุกคู่คำนวณเสร็จ\n",
    "        for future in futures:\n",
    "            future.result()\n",
    "\n",
    "    # บันทึก distance_matrix สุดท้ายลงในไฟล์\n",
    "    np.save(save_path, distance_matrix)\n",
    "    print(f\"{dataset_name} matrix saved successfully at {save_path}\")"
   ]
  },
  {
   "cell_type": "code",
   "execution_count": 4,
   "metadata": {},
   "outputs": [],
   "source": [
    "# ดึงข้อมูลสตริงสำหรับ benign และ malware\n",
    "benign_strings = benign_train_df.iloc[:, 0].values\n",
    "malware_strings = malware_train_df.iloc[:, 0].values"
   ]
  },
  {
   "cell_type": "code",
   "execution_count": null,
   "metadata": {},
   "outputs": [
    {
     "name": "stdout",
     "output_type": "stream",
     "text": [
      "Starting calculation for Benign dataset...\n"
     ]
    }
   ],
   "source": [
    "# คำนวณและบันทึก distance_matrix สำหรับ benign\n",
    "benign_save_path = r'C:\\Users\\BMEI CMU\\Documents\\GitHub\\WORK\\Windows\\CODE_BME\\PROJECT_CYBER_SECURITY\\RESULT\\02.EDIT_DISTANCE_MATRIX\\benign_distance_matrix.npy'\n",
    "benign_checkpoint_path = r'C:\\Users\\BMEI CMU\\Documents\\GitHub\\WORK\\Windows\\CODE_BME\\PROJECT_CYBER_SECURITY\\RESULT\\02.EDIT_DISTANCE_MATRIX\\benign_checkpoint.npz'\n",
    "calculate_distance_matrix(benign_strings, benign_save_path, benign_checkpoint_path, \"Benign\")\n",
    "\n",
    "# คำนวณและบันทึก distance_matrix สำหรับ malware\n",
    "malware_save_path = r'C:\\Users\\BMEI CMU\\Documents\\GitHub\\WORK\\Windows\\CODE_BME\\PROJECT_CYBER_SECURITY\\RESULT\\02.EDIT_DISTANCE_MATRIX\\malware_distance_matrix.npy'\n",
    "malware_checkpoint_path = r'C:\\Users\\BMEI CMU\\Documents\\GitHub\\WORK\\Windows\\CODE_BME\\PROJECT_CYBER_SECURITY\\RESULT\\02.EDIT_DISTANCE_MATRIX\\malware_checkpoint.npz'\n",
    "calculate_distance_matrix(malware_strings, malware_save_path, malware_checkpoint_path, \"Malware\")"
   ]
  }
 ],
 "metadata": {
  "kernelspec": {
   "display_name": ".venv",
   "language": "python",
   "name": "python3"
  },
  "language_info": {
   "codemirror_mode": {
    "name": "ipython",
    "version": 3
   },
   "file_extension": ".py",
   "mimetype": "text/x-python",
   "name": "python",
   "nbconvert_exporter": "python",
   "pygments_lexer": "ipython3",
   "version": "3.13.0"
  }
 },
 "nbformat": 4,
 "nbformat_minor": 2
}
