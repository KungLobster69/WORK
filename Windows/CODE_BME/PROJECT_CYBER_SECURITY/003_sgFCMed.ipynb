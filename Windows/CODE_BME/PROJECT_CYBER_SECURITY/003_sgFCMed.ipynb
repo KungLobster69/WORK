{
 "cells": [
  {
   "cell_type": "code",
   "execution_count": 1,
   "metadata": {},
   "outputs": [],
   "source": [
    "import json\n",
    "import numpy as np\n",
    "\n",
    "# Update the path for the benign_train.json file\n",
    "benign_train_path = r\"C:\\Users\\BMEI CMU\\Documents\\GitHub\\WORK\\Windows\\CODE_BME\\PROJECT_CYBER_SECURITY\\RESULT\\01.TRAIN_TEST_SET\\benign_train.json\"\n",
    "distance_matrix_path = r\"C:\\Users\\BMEI CMU\\Documents\\GitHub\\WORK\\Windows\\CODE_BME\\PROJECT_CYBER_SECURITY\\RESULT\\02.EDIT_DISTANCE_MATRIX\\benign_distance_matrix.npy\"\n",
    "\n",
    "benign_train = []\n",
    "with open(benign_train_path, 'r') as file:\n",
    "    for line in file:\n",
    "        benign_train.append(json.loads(line.strip()))\n",
    "\n",
    "distance_matrix = np.load(distance_matrix_path)"
   ]
  },
  {
   "cell_type": "code",
   "execution_count": 4,
   "metadata": {},
   "outputs": [],
   "source": [
    "def fuzzy_median_with_matrix(cluster_indices, memberships, distance_matrix):\n",
    "    \"\"\"Find the fuzzy median string using precomputed distance matrix.\"\"\"\n",
    "    best_index = None\n",
    "    min_sum_distance = float('inf')\n",
    "\n",
    "    for candidate_index in cluster_indices:\n",
    "        total_distance = sum(memberships[i] * distance_matrix[candidate_index, cluster_indices[i]]\n",
    "                             for i in range(len(cluster_indices)))\n",
    "        if total_distance < min_sum_distance:\n",
    "            min_sum_distance = total_distance\n",
    "            best_index = candidate_index\n",
    "\n",
    "    return best_index\n",
    "\n",
    "def sgFCMed_with_matrix(distance_matrix, num_clusters, fuzzifier, max_iter=100, tol=1e-4):\n",
    "    \"\"\"String Grammar Fuzzy C-Medians (sgFCMed) using precomputed distance matrix.\"\"\"\n",
    "    n = distance_matrix.shape[0]\n",
    "    memberships = np.random.dirichlet(np.ones(num_clusters), size=n)\n",
    "    prototypes = np.random.choice(n, size=num_clusters, replace=False)  # Use indices as prototypes\n",
    "\n",
    "    for iteration in range(max_iter):\n",
    "        # Update prototypes\n",
    "        new_prototypes = []\n",
    "        for i in range(num_clusters):\n",
    "            cluster_indices = list(range(n))  # All strings are candidates\n",
    "            cluster_memberships = memberships[:, i]\n",
    "            new_prototype = fuzzy_median_with_matrix(cluster_indices, cluster_memberships, distance_matrix)\n",
    "            new_prototypes.append(new_prototype)\n",
    "\n",
    "        # Check for convergence\n",
    "        if all(distance_matrix[prototypes[k], new_prototypes[k]] <= tol for k in range(num_clusters)):\n",
    "            break\n",
    "        prototypes = new_prototypes\n",
    "\n",
    "        # Update memberships\n",
    "        for i in range(n):\n",
    "            for j in range(num_clusters):\n",
    "                denom = sum((distance_matrix[i, prototypes[k]] ** (2 / (fuzzifier - 1))) for k in range(num_clusters))\n",
    "                memberships[i, j] = (distance_matrix[i, prototypes[j]] ** (2 / (fuzzifier - 1))) / denom\n",
    "\n",
    "    return prototypes, memberships\n"
   ]
  },
  {
   "cell_type": "code",
   "execution_count": null,
   "metadata": {},
   "outputs": [],
   "source": [
    "# Parameters\n",
    "num_clusters = 100  # จำนวนคลัสเตอร์\n",
    "fuzzifier = 2.0    # ค่า fuzziness parameter\n",
    "max_iter = 100     # จำนวนรอบการทำงานสูงสุด\n",
    "tol = 1e-4         # ค่าความคลาดเคลื่อนสำหรับ convergence\n",
    "\n",
    "# Run sgFCMed using the precomputed distance matrix\n",
    "prototypes, memberships = sgFCMed_with_matrix(\n",
    "    distance_matrix=distance_matrix,\n",
    "    num_clusters=num_clusters,\n",
    "    fuzzifier=fuzzifier,\n",
    "    max_iter=max_iter,\n",
    "    tol=tol\n",
    ")\n",
    "\n",
    "# Mapping prototype indices back to the strings\n",
    "prototype_strings = [benign_train[prototype] for prototype in prototypes]\n",
    "\n",
    "# Display the results\n",
    "print(\"Prototypes (Cluster Centers):\")\n",
    "for i, proto in enumerate(prototype_strings):\n",
    "    print(f\"Cluster {i + 1}: {proto}\")\n",
    "\n",
    "print(\"\\nMembership Matrix (first 5 rows):\")\n",
    "print(memberships[:5])  # แสดงเฉพาะ 5 แถวแรก\n"
   ]
  }
 ],
 "metadata": {
  "kernelspec": {
   "display_name": ".venv",
   "language": "python",
   "name": "python3"
  },
  "language_info": {
   "codemirror_mode": {
    "name": "ipython",
    "version": 3
   },
   "file_extension": ".py",
   "mimetype": "text/x-python",
   "name": "python",
   "nbconvert_exporter": "python",
   "pygments_lexer": "ipython3",
   "version": "3.13.0"
  }
 },
 "nbformat": 4,
 "nbformat_minor": 2
}
