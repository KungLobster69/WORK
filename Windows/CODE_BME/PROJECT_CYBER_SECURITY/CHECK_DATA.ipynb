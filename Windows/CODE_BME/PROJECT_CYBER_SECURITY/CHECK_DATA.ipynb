{
 "cells": [
  {
   "cell_type": "code",
   "execution_count": 1,
   "id": "5988a610",
   "metadata": {},
   "outputs": [
    {
     "name": "stdout",
     "output_type": "stream",
     "text": [
      "จำนวน row ในแต่ละไฟล์:\n",
      "- benign_test.json: 82 rows\n",
      "- benign_train.json: 1000 rows\n",
      "- malware_test.json: 838 rows\n",
      "- malware_train.json: 10000 rows\n"
     ]
    }
   ],
   "source": [
    "import json\n",
    "import os\n",
    "\n",
    "base_path = r'C:\\Users\\KUNG_LOBSTER69\\Documents\\GitHub\\WORK\\Windows\\CODE_BME\\PROJECT_CYBER_SECURITY\\RESULT\\01.TRAIN_TEST_SET'\n",
    "\n",
    "filenames = [\n",
    "    'benign_test.json',\n",
    "    'benign_train.json',\n",
    "    'malware_test.json',\n",
    "    'malware_train.json'\n",
    "]\n",
    "\n",
    "data = {}\n",
    "\n",
    "print(\"จำนวน row ในแต่ละไฟล์:\")\n",
    "for filename in filenames:\n",
    "    file_path = os.path.join(base_path, filename)\n",
    "    with open(file_path, 'r', encoding='utf-8') as f:\n",
    "        lines = f.readlines()\n",
    "        json_objects = [json.loads(line) for line in lines if line.strip()]\n",
    "        data[filename] = json_objects\n",
    "        print(f\"- {filename}: {len(json_objects)} rows\")\n"
   ]
  }
 ],
 "metadata": {
  "kernelspec": {
   "display_name": ".venv",
   "language": "python",
   "name": "python3"
  },
  "language_info": {
   "codemirror_mode": {
    "name": "ipython",
    "version": 3
   },
   "file_extension": ".py",
   "mimetype": "text/x-python",
   "name": "python",
   "nbconvert_exporter": "python",
   "pygments_lexer": "ipython3",
   "version": "3.13.2"
  }
 },
 "nbformat": 4,
 "nbformat_minor": 5
}
