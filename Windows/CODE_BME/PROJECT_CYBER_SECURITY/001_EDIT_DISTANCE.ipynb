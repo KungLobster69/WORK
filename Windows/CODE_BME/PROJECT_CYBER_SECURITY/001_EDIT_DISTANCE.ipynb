{
 "cells": [
  {
   "cell_type": "code",
   "execution_count": null,
   "metadata": {},
   "outputs": [],
   "source": [
    "def edit_distance_dp(str1, str2):\n",
    "    m, n = len(str1), len(str2)\n",
    "    dp = [[0] * (n + 1) for _ in range(m + 1)]\n",
    "\n",
    "    for i in range(m + 1):\n",
    "        for j in range(n + 1):\n",
    "            if i == 0:\n",
    "                dp[i][j] = j  # เพิ่มตัวอักษรใน str2\n",
    "            elif j == 0:\n",
    "                dp[i][j] = i  # ลบตัวอักษรใน str1\n",
    "            elif str1[i - 1] == str2[j - 1]:\n",
    "                dp[i][j] = dp[i - 1][j - 1]  # อักษรตรงกัน ไม่ต้องทำอะไร\n",
    "            else:\n",
    "                dp[i][j] = 1 + min(dp[i][j - 1],    # แทรกอักษร\n",
    "                                   dp[i - 1][j],    # ลบอักษร\n",
    "                                   dp[i - 1][j - 1]) # แก้ไขอักษร\n",
    "\n",
    "    return dp[m][n]\n",
    "\n",
    "# ตัวอย่างการใช้งาน\n",
    "str1 = \"kitten\"\n",
    "str2 = \"sitting\"\n",
    "distance = edit_distance_dp(str1, str2)\n",
    "\n",
    "print(f\"Edit Distance between '{str1}' and '{str2}': {distance}\")\n"
   ]
  }
 ],
 "metadata": {
  "kernelspec": {
   "display_name": ".venv",
   "language": "python",
   "name": "python3"
  },
  "language_info": {
   "codemirror_mode": {
    "name": "ipython",
    "version": 3
   },
   "file_extension": ".py",
   "mimetype": "text/x-python",
   "name": "python",
   "nbconvert_exporter": "python",
   "pygments_lexer": "ipython3",
   "version": "3.13.0"
  }
 },
 "nbformat": 4,
 "nbformat_minor": 2
}
