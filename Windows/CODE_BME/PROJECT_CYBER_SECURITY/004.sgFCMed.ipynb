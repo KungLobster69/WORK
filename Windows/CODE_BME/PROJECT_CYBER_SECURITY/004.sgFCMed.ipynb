{
 "cells": [
  {
   "cell_type": "code",
   "execution_count": 1,
   "metadata": {},
   "outputs": [],
   "source": [
    "import numpy as np\n",
    "import json\n",
    "from Levenshtein import distance as levenshtein_distance\n",
    "import pandas as pd"
   ]
  },
  {
   "cell_type": "code",
   "execution_count": 2,
   "metadata": {},
   "outputs": [],
   "source": [
    "# ฟังก์ชันสำหรับอ่าน JSON หลายบรรทัด\n",
    "def read_multiline_json(file_path):\n",
    "    \"\"\"\n",
    "    อ่านไฟล์ JSON ที่มีหลายบรรทัดและแปลงเป็น list ของ dictionary\n",
    "    \"\"\"\n",
    "    try:\n",
    "        with open(file_path, 'r') as file:\n",
    "            return [json.loads(line) for line in file]\n",
    "    except (FileNotFoundError, json.JSONDecodeError) as e:\n",
    "        print(f\"Error reading JSON file at {file_path}: {e}\")\n",
    "        return []"
   ]
  },
  {
   "cell_type": "code",
   "execution_count": null,
   "metadata": {},
   "outputs": [],
   "source": [
    "# Paths ของไฟล์\n",
    "benign_validation_train_path = r'C:\\Users\\KUNG_LOBSTER69\\Documents\\GitHub\\WORK\\Windows\\CODE_BME\\PROJECT_CYBER_SECURITY\\RESULT\\03.CROSS_VALIDATION_10_FOLD\\BENIGN_FOLDS\\fold_1\\benign_validation_train.json'\n",
    "benign_validation_train_matrix_path = r'C:\\Users\\KUNG_LOBSTER69\\Documents\\GitHub\\WORK\\Windows\\CODE_BME\\PROJECT_CYBER_SECURITY\\RESULT\\03.CROSS_VALIDATION_10_FOLD\\BENIGN_FOLDS\\fold_1\\benign_validation_train_matrix.json'\n",
    "\n",
    "# อ่านไฟล์ JSON\n",
    "validation_train_data = read_multiline_json(benign_validation_train_path)\n",
    "validation_train_data_df = pd.DataFrame(validation_train_data)\n",
    "strings = validation_train_data_df.iloc[:, 0].tolist()\n",
    "validation_train_matrix = pd.read_json(benign_validation_train_matrix_path)\n",
    "validation_train_matrix = validation_train_matrix.to_numpy()"
   ]
  }
 ],
 "metadata": {
  "kernelspec": {
   "display_name": "Python 3",
   "language": "python",
   "name": "python3"
  },
  "language_info": {
   "codemirror_mode": {
    "name": "ipython",
    "version": 3
   },
   "file_extension": ".py",
   "mimetype": "text/x-python",
   "name": "python",
   "nbconvert_exporter": "python",
   "pygments_lexer": "ipython3",
   "version": "3.13.0"
  }
 },
 "nbformat": 4,
 "nbformat_minor": 2
}
