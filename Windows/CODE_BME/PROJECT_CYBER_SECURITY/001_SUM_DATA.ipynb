{
 "cells": [
  {
   "cell_type": "code",
   "execution_count": 13,
   "metadata": {},
   "outputs": [
    {
     "name": "stdout",
     "output_type": "stream",
     "text": [
      "Data saved to C:\\Users\\BMEI CMU\\Documents\\DikeASCII_DATASET\\SUM_DATA\\DATA.json successfully!\n"
     ]
    }
   ],
   "source": [
    "import os\n",
    "import glob\n",
    "import json\n",
    "\n",
    "# กำหนด paths\n",
    "path_benign = \"C:\\\\Users\\\\BMEI CMU\\\\Documents\\\\DikeASCII_DATASET\\\\Benign\"\n",
    "path_malware = \"C:\\\\Users\\\\BMEI CMU\\\\Documents\\\\DikeASCII_DATASET\\\\Malware\"\n",
    "output_path = \"C:\\\\Users\\\\BMEI CMU\\\\Documents\\\\DikeASCII_DATASET\\\\SUM_DATA\\\\DATA.json\"\n",
    "\n",
    "# ฟังก์ชันในการอ่านไฟล์ .txt จำนวนสองไฟล์จากโฟลเดอร์ที่กำหนดและแทนที่ช่องว่างด้วย 0\n",
    "def read_and_replace_spaces_as_rows(folder_path):\n",
    "    # ค้นหาไฟล์ .txt ทั้งหมดในโฟลเดอร์และเลือกแค่สองไฟล์แรก\n",
    "    file_paths = glob.glob(os.path.join(folder_path, \"*.txt\"))\n",
    "    modified_data_rows = {}\n",
    "    whitespace_positions_rows = {}\n",
    "    \n",
    "    for file_path in file_paths:\n",
    "        # อ่านเนื้อหาจากไฟล์แต่ละบรรทัดและเก็บเป็นรายการ\n",
    "        with open(file_path, 'r', encoding='utf-8') as file:\n",
    "            data = file.readlines()\n",
    "        \n",
    "        # แทนที่ช่องว่างด้วย '0' ในแต่ละบรรทัด และเก็บแต่ละบรรทัดในรูปแบบเดิม\n",
    "        modified_data = [''.join(['0' if char == ' ' else char for char in line]) for line in data]\n",
    "        file_name = os.path.basename(file_path)\n",
    "        modified_data_rows[file_name] = modified_data  # เก็บเป็น row\n",
    "\n",
    "        # หาตำแหน่งของช่องว่างและเก็บไว้เป็น row\n",
    "        whitespace_positions = [\n",
    "            [index for index, char in enumerate(line) if char == ' '] for line in data\n",
    "        ]\n",
    "        whitespace_positions_rows[file_name] = whitespace_positions\n",
    "\n",
    "    return modified_data_rows, whitespace_positions_rows\n",
    "\n",
    "# อ่านและแทนที่ช่องว่างในสองไฟล์จากโฟลเดอร์ benign และ malware\n",
    "benign_modified_data, benign_whitespace_positions = read_and_replace_spaces_as_rows(path_benign)\n",
    "malware_modified_data, malware_whitespace_positions = read_and_replace_spaces_as_rows(path_malware)\n",
    "\n",
    "# สร้างโครงสร้างข้อมูลที่ต้องการบันทึกเป็น JSON\n",
    "data_to_save = {\n",
    "    \"benign\": {\n",
    "        \"modified_data\": benign_modified_data,\n",
    "        \"whitespace_positions\": benign_whitespace_positions\n",
    "    },\n",
    "    \"malware\": {\n",
    "        \"modified_data\": malware_modified_data,\n",
    "        \"whitespace_positions\": malware_whitespace_positions\n",
    "    }\n",
    "}\n",
    "\n",
    "# บันทึกข้อมูลลงไฟล์ .json ในเส้นทางที่กำหนด\n",
    "with open(output_path, \"w\", encoding=\"utf-8\") as json_file:\n",
    "    json.dump(data_to_save, json_file, ensure_ascii=False, indent=4)\n",
    "\n",
    "print(f\"Data saved to {output_path} successfully!\")\n"
   ]
  }
 ],
 "metadata": {
  "kernelspec": {
   "display_name": ".venv",
   "language": "python",
   "name": "python3"
  },
  "language_info": {
   "codemirror_mode": {
    "name": "ipython",
    "version": 3
   },
   "file_extension": ".py",
   "mimetype": "text/x-python",
   "name": "python",
   "nbconvert_exporter": "python",
   "pygments_lexer": "ipython3",
   "version": "3.13.0"
  }
 },
 "nbformat": 4,
 "nbformat_minor": 2
}
