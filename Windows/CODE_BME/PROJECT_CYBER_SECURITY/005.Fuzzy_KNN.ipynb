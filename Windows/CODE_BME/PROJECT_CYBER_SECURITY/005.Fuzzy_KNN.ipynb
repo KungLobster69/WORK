{
 "cells": [
  {
   "cell_type": "code",
   "execution_count": 1,
   "metadata": {},
   "outputs": [],
   "source": [
    "import numpy as np\n",
    "import json\n",
    "from Levenshtein import distance as levenshtein_distance\n",
    "import pandas as pd\n",
    "import os"
   ]
  },
  {
   "cell_type": "code",
   "execution_count": 2,
   "metadata": {},
   "outputs": [],
   "source": [
    "# ฟังก์ชันอ่าน JSON\n",
    "def read_multiline_json(file_path):\n",
    "    try:\n",
    "        with open(file_path, 'r') as file:\n",
    "            return [json.loads(line) for line in file]\n",
    "    except (FileNotFoundError, json.JSONDecodeError) as e:\n",
    "        print(f\"Error reading JSON file at {file_path}: {e}\")\n",
    "        return []"
   ]
  },
  {
   "cell_type": "code",
   "execution_count": 3,
   "metadata": {},
   "outputs": [],
   "source": [
    "# Paths ของโฟลเดอร์\n",
    "malware_base_path = r'C:\\Users\\BMEI CMU\\Documents\\GitHub\\WORK\\Windows\\CODE_BME\\PROJECT_CYBER_SECURITY\\RESULT\\04.sgFCMed\\malware'\n",
    "benign_base_path = r'C:\\Users\\BMEI CMU\\Documents\\GitHub\\WORK\\Windows\\CODE_BME\\PROJECT_CYBER_SECURITY\\RESULT\\04.sgFCMed\\benign'\n",
    "folds = [f\"fold_{i}\" for i in range(1, 5)]\n",
    "clusters = [f\"clusters_{i}\" for i in range(100, 400, 100)]\n",
    "for fold in folds:\n",
    "    malware_fold_path = os.path.join(malware_base_path, fold)\n",
    "    benign_fold_path = os.path.join(benign_base_path, fold)\n",
    "    for cluster_01 in clusters:\n",
    "        malware_cluster_path = os.path.join(malware_fold_path, cluster_01)\n",
    "        malware_prototypes_path = os.path.join(malware_cluster_path, 'prototypes.json')\n",
    "        malware_prototype_indices_path = os.path.join(malware_cluster_path, 'prototype_indices.json')\n",
    "\n",
    "        # ตรวจสอบว่าไฟล์มีอยู่หรือไม่\n",
    "        if not os.path.exists(malware_prototypes_path):\n",
    "            print(f\"File not found: {malware_prototypes_path}\")\n",
    "            continue\n",
    "\n",
    "        if not os.path.exists(malware_prototype_indices_path):\n",
    "            print(f\"File not found: {malware_prototype_indices_path}\")\n",
    "            continue\n",
    "\n",
    "        malware_prototypes = read_multiline_json(malware_prototypes_path)\n",
    "        malware_prototype_indices = read_multiline_json(malware_prototype_indices_path)\n",
    "\n",
    "        for cluster_02 in clusters:\n",
    "            benign_cluster_path = os.path.join(benign_fold_path, cluster_02)\n",
    "            benign_prototypes_path = os.path.join(benign_cluster_path, 'prototypes.json')\n",
    "            benign_prototype_indices_path = os.path.join(benign_cluster_path, 'prototype_indices.json')\n",
    "\n",
    "            # ตรวจสอบว่าไฟล์มีอยู่หรือไม่\n",
    "            if not os.path.exists(benign_prototypes_path):\n",
    "                print(f\"File not found: {benign_prototypes_path}\")\n",
    "                continue\n",
    "\n",
    "            if not os.path.exists(benign_prototype_indices_path):\n",
    "                print(f\"File not found: {benign_prototype_indices_path}\")\n",
    "                continue\n",
    "\n",
    "            benign_prototypes = read_multiline_json(benign_prototypes_path)\n",
    "            benign_prototype_indices = read_multiline_json(benign_prototype_indices_path)"
   ]
  }
 ],
 "metadata": {
  "kernelspec": {
   "display_name": ".venv",
   "language": "python",
   "name": "python3"
  },
  "language_info": {
   "codemirror_mode": {
    "name": "ipython",
    "version": 3
   },
   "file_extension": ".py",
   "mimetype": "text/x-python",
   "name": "python",
   "nbconvert_exporter": "python",
   "pygments_lexer": "ipython3",
   "version": "3.13.0"
  }
 },
 "nbformat": 4,
 "nbformat_minor": 2
}
