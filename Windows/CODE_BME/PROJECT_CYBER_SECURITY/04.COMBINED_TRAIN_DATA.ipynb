{
 "cells": [
  {
   "cell_type": "code",
   "execution_count": 1,
   "metadata": {},
   "outputs": [],
   "source": [
    "import pandas as pd\n",
    "import os\n",
    "from itertools import product"
   ]
  },
  {
   "cell_type": "code",
   "execution_count": 2,
   "metadata": {},
   "outputs": [],
   "source": [
    "# Define directories\n",
    "malware_dir = r\"C:\\Users\\KUNG_LOBSTER69\\Documents\\GitHub\\WORK\\Windows\\CODE_BME\\PROJECT_CYBER_SECURITY\\RESULT\\03.sgFCMed\\malware\"\n",
    "benign_dir = r\"C:\\Users\\KUNG_LOBSTER69\\Documents\\GitHub\\WORK\\Windows\\CODE_BME\\PROJECT_CYBER_SECURITY\\RESULT\\03.sgFCMed\\benign\"\n",
    "\n",
    "# Define save directory\n",
    "save_dir = r\"C:\\Users\\KUNG_LOBSTER69\\Documents\\GitHub\\WORK\\Windows\\CODE_BME\\PROJECT_CYBER_SECURITY\\RESULT\\04.COMBINED_TRAIN_DATA\"  # Replace with your desired path\n",
    "os.makedirs(save_dir, exist_ok=True)  # Create the directory if it doesn't exist\n",
    "\n",
    "# Function to load JSON files with specific naming pattern\n",
    "def load_json_files_separately(directory):\n",
    "    data_frames = {}  # Dictionary to store DataFrames\n",
    "    for filename in os.listdir(directory):\n",
    "        if filename.startswith(\"prototypes_\") and filename.endswith(\".json\"):  # Filter files\n",
    "            file_path = os.path.join(directory, filename)\n",
    "            try:\n",
    "                # Load the JSON file into a DataFrame\n",
    "                df = pd.read_json(file_path)\n",
    "                # Store DataFrame with filename (without extension) as key\n",
    "                data_frames[os.path.splitext(filename)[0]] = df\n",
    "            except Exception as e:\n",
    "                print(f\"Error loading {file_path}: {e}\")\n",
    "    return data_frames\n",
    "\n",
    "# Load data from both directories\n",
    "malware_data = load_json_files_separately(malware_dir)\n",
    "benign_data = load_json_files_separately(benign_dir)"
   ]
  },
  {
   "cell_type": "code",
   "execution_count": 3,
   "metadata": {},
   "outputs": [],
   "source": [
    "# Combine matching keys from malware_data and benign_data\n",
    "for malware_key, benign_key in product(malware_data.keys(), benign_data.keys()):\n",
    "    # Combine DataFrames with additional columns to identify the source and file pair\n",
    "    combined_df = pd.concat(\n",
    "        [\n",
    "            malware_data[malware_key].assign(Source=\"Malware\", Pair=f\"{malware_key}-{benign_key}\"),\n",
    "            benign_data[benign_key].assign(Source=\"Benign\", Pair=f\"{malware_key}-{benign_key}\")\n",
    "        ],\n",
    "        ignore_index=True\n",
    "    )\n",
    "    \n",
    "    # Extract the number part from keys\n",
    "    malware_number = malware_key.replace(\"prototypes_\", \"\")\n",
    "    benign_number = benign_key.replace(\"prototypes_\", \"\")\n",
    "    \n",
    "    # Create a descriptive filename\n",
    "    save_filename = f\"malware_{malware_number}-benign_{benign_number}.json\"\n",
    "    save_path = os.path.join(save_dir, save_filename)\n",
    "    \n",
    "    # Save the combined DataFrame as a JSON file\n",
    "    combined_df.to_json(save_path, orient='records')"
   ]
  }
 ],
 "metadata": {
  "kernelspec": {
   "display_name": "Python 3",
   "language": "python",
   "name": "python3"
  },
  "language_info": {
   "codemirror_mode": {
    "name": "ipython",
    "version": 3
   },
   "file_extension": ".py",
   "mimetype": "text/x-python",
   "name": "python",
   "nbconvert_exporter": "python",
   "pygments_lexer": "ipython3",
   "version": "3.13.0"
  }
 },
 "nbformat": 4,
 "nbformat_minor": 2
}
