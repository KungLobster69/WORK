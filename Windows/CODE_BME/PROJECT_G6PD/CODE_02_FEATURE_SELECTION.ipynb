{
 "cells": [
  {
   "cell_type": "code",
   "execution_count": 3,
   "metadata": {},
   "outputs": [],
   "source": [
    "import os\n",
    "import pandas as pd\n",
    "\n",
    "# ระบุ path ของโฟลเดอร์ที่เก็บไฟล์\n",
    "folder_path = r\"C:\\Users\\BMEI CMU\\Documents\\G6PD\\Result\\02_Preprocessing\"\n",
    "\n",
    "# สร้าง list เพื่อเก็บ DataFrame\n",
    "dataframes = []\n",
    "\n",
    "# วนลูปอ่านไฟล์ทั้งหมดในโฟลเดอร์\n",
    "for filename in os.listdir(folder_path):\n",
    "    if filename.startswith(\"YGH_5_min_train_\"): \n",
    "        if filename.endswith(\".csv\"): \n",
    "            file_path = os.path.join(folder_path, filename)\n",
    "            df = pd.read_csv(file_path)  # โหลดไฟล์ CSV\n",
    "            dataframes.append(df)  # เพิ่ม DataFrame ลงใน list"
   ]
  }
 ],
 "metadata": {
  "kernelspec": {
   "display_name": ".venv",
   "language": "python",
   "name": "python3"
  },
  "language_info": {
   "codemirror_mode": {
    "name": "ipython",
    "version": 3
   },
   "file_extension": ".py",
   "mimetype": "text/x-python",
   "name": "python",
   "nbconvert_exporter": "python",
   "pygments_lexer": "ipython3",
   "version": "3.12.7"
  }
 },
 "nbformat": 4,
 "nbformat_minor": 2
}
