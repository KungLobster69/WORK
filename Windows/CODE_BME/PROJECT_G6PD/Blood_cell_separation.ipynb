{
 "cells": [
  {
   "cell_type": "code",
   "execution_count": 9,
   "metadata": {},
   "outputs": [],
   "source": [
    "import cv2"
   ]
  },
  {
   "cell_type": "code",
   "execution_count": 10,
   "metadata": {},
   "outputs": [],
   "source": [
    "# อ่านภาพ\n",
    "image = cv2.imread('D:\\\\WORK\\\\Windows\\\\CODE_BME\\\\PROJECT_G6PD\\\\G6PD_DATA_SET\\\\1-5.png')\n",
    "gray = cv2.cvtColor(image, cv2.COLOR_BGR2GRAY)"
   ]
  },
  {
   "cell_type": "code",
   "execution_count": 11,
   "metadata": {},
   "outputs": [],
   "source": [
    "# ใช้ Threshold\n",
    "_, thresh = cv2.threshold(gray, 100, 255, cv2.THRESH_BINARY)"
   ]
  },
  {
   "cell_type": "code",
   "execution_count": 12,
   "metadata": {},
   "outputs": [],
   "source": [
    "# ค้นหา Contours\n",
    "contours, _ = cv2.findContours(thresh, cv2.RETR_EXTERNAL, cv2.CHAIN_APPROX_SIMPLE)"
   ]
  },
  {
   "cell_type": "code",
   "execution_count": 13,
   "metadata": {},
   "outputs": [],
   "source": [
    "# วนซ้ำตรวจสอบ Contours ที่เป็นวงกลม\n",
    "for contour in contours:\n",
    "    (x, y), radius = cv2.minEnclosingCircle(contour)\n",
    "    if radius > 10:  # กรองขนาดรัศมี\n",
    "        mask = np.zeros_like(image)\n",
    "        cv2.circle(mask, (int(x), int(y)), int(radius), (255, 255, 255), -1)\n",
    "        result = cv2.bitwise_and(image, mask)\n",
    "        cropped = result[int(y - radius):int(y + radius), int(x - radius):int(x + radius)]\n",
    "\n",
    "        # แสดงผล\n",
    "        cv2.imshow('Cropped Circle', cropped)\n",
    "        cv2.waitKey(0)\n",
    "\n",
    "cv2.destroyAllWindows()"
   ]
  }
 ],
 "metadata": {
  "kernelspec": {
   "display_name": ".venv",
   "language": "python",
   "name": "python3"
  },
  "language_info": {
   "codemirror_mode": {
    "name": "ipython",
    "version": 3
   },
   "file_extension": ".py",
   "mimetype": "text/x-python",
   "name": "python",
   "nbconvert_exporter": "python",
   "pygments_lexer": "ipython3",
   "version": "3.13.0"
  }
 },
 "nbformat": 4,
 "nbformat_minor": 2
}
