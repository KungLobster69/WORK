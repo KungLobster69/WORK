{
 "cells": [
  {
   "cell_type": "code",
   "execution_count": 1,
   "metadata": {},
   "outputs": [
    {
     "name": "stdout",
     "output_type": "stream",
     "text": [
      "DataFrames loaded successfully!\n",
      "LOOCV splits saved successfully in folder: C:\\Users\\BMEI CMU\\Documents\\G6PD\\Result\\02_Preprocessing\n"
     ]
    }
   ],
   "source": [
    "import pandas as pd\n",
    "import numpy as np\n",
    "import os\n",
    "\n",
    "# Adjust the function to create the LOOCV splits with sequential train-test separation\n",
    "def sequential_loocv_splits(data):\n",
    "    \"\"\"\n",
    "    Create LOOCV splits where each row is used as the test set sequentially,\n",
    "    and all other rows are used as the training set.\n",
    "    \n",
    "    Args:\n",
    "    - data (pd.DataFrame): Input DataFrame to split.\n",
    "    \n",
    "    Returns:\n",
    "    - List[dict]: Each dictionary contains 'train' and 'test' for one split.\n",
    "    \"\"\"\n",
    "    splits = []\n",
    "    for i in range(len(data)):\n",
    "        test = data.iloc[i:i+1].reset_index(drop=True)  # Current row as test\n",
    "        train = data.drop(index=i).reset_index(drop=True)  # Remaining rows as train\n",
    "        splits.append({\"train\": train, \"test\": test})\n",
    "    return splits\n",
    "\n",
    "# Function to save LOOCV splits as CSV files\n",
    "def save_loocv_as_csv(splits, prefix):\n",
    "    \"\"\"\n",
    "    Save LOOCV splits as CSV files for train and test sets.\n",
    "    \n",
    "    Args:\n",
    "    - splits (list): LOOCV splits containing train and test DataFrames.\n",
    "    - prefix (str): Prefix for the file names (e.g., 'Label_5_min').\n",
    "    \"\"\"\n",
    "    for idx, split in enumerate(splits):\n",
    "        # Save train\n",
    "        train_path = os.path.join(output_dir, f\"{prefix}_train_{idx+1}.csv\")\n",
    "        split[\"train\"].to_csv(train_path, index=False)\n",
    "        \n",
    "        # Save test\n",
    "        test_path = os.path.join(output_dir, f\"{prefix}_test_{idx+1}.csv\")\n",
    "        split[\"test\"].to_csv(test_path, index=False)\n",
    "\n",
    "# กำหนด paths ของไฟล์ Excel\n",
    "file_paths = {\n",
    "    \"Label_5_min\": r\"C:\\Users\\BMEI CMU\\Documents\\G6PD\\Result\\01_RAW_DATA\\Label_5_min.xlsx\",\n",
    "    \"Label_15_min\": r\"C:\\Users\\BMEI CMU\\Documents\\G6PD\\Result\\01_RAW_DATA\\Label_15_min.xlsx\",\n",
    "    \"YGH_5_min\": r\"C:\\Users\\BMEI CMU\\Documents\\G6PD\\Result\\01_RAW_DATA\\YGH_5_min.xlsx\",\n",
    "    \"YGH_15_min\": r\"C:\\Users\\BMEI CMU\\Documents\\G6PD\\Result\\01_RAW_DATA\\YGH_15_min.xlsx\"\n",
    "}\n",
    "\n",
    "# แยกแต่ละไฟล์เป็นตัวแปรเฉพาะ\n",
    "try:\n",
    "    Label_5_min_df = pd.read_excel(file_paths[\"Label_5_min\"], sheet_name='Sheet1', header=None)\n",
    "    Label_15_min_df = pd.read_excel(file_paths[\"Label_15_min\"], sheet_name='Sheet1', header=None)\n",
    "    YGH_5_min_df = pd.read_excel(file_paths[\"YGH_5_min\"], sheet_name='Sheet1', header=None)\n",
    "    YGH_15_min_df = pd.read_excel(file_paths[\"YGH_15_min\"], sheet_name='Sheet1', header=None)\n",
    "\n",
    "    print(\"DataFrames loaded successfully!\")\n",
    "except Exception as e:\n",
    "    print(f\"Error: {e}\")\n",
    "\n",
    "# Generate LOOCV splits\n",
    "Label_5_min_loocv = sequential_loocv_splits(Label_5_min_df)\n",
    "Label_15_min_loocv = sequential_loocv_splits(Label_15_min_df)\n",
    "YGH_5_min_loocv = sequential_loocv_splits(YGH_5_min_df)\n",
    "YGH_15_min_loocv = sequential_loocv_splits(YGH_15_min_df)\n",
    "\n",
    "# Create output directory for LOOCV splits\n",
    "output_dir = r\"C:\\Users\\BMEI CMU\\Documents\\G6PD\\Result\\02_Preprocessing\"\n",
    "os.makedirs(output_dir, exist_ok=True)\n",
    "\n",
    "# Save all LOOCV splits\n",
    "save_loocv_as_csv(Label_5_min_loocv, \"Label_5_min\")\n",
    "save_loocv_as_csv(Label_15_min_loocv, \"Label_15_min\")\n",
    "save_loocv_as_csv(YGH_5_min_loocv, \"YGH_5_min\")\n",
    "save_loocv_as_csv(YGH_15_min_loocv, \"YGH_15_min\")\n",
    "\n",
    "print(f\"LOOCV splits saved successfully in folder: {output_dir}\")\n"
   ]
  }
 ],
 "metadata": {
  "kernelspec": {
   "display_name": ".venv",
   "language": "python",
   "name": "python3"
  },
  "language_info": {
   "codemirror_mode": {
    "name": "ipython",
    "version": 3
   },
   "file_extension": ".py",
   "mimetype": "text/x-python",
   "name": "python",
   "nbconvert_exporter": "python",
   "pygments_lexer": "ipython3",
   "version": "3.12.7"
  }
 },
 "nbformat": 4,
 "nbformat_minor": 2
}
